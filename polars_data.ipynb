{
  "nbformat": 4,
  "nbformat_minor": 0,
  "metadata": {
    "colab": {
      "provenance": []
    },
    "kernelspec": {
      "name": "python3",
      "display_name": "Python 3"
    },
    "language_info": {
      "name": "python"
    }
  },
  "cells": [
    {
      "cell_type": "code",
      "execution_count": 8,
      "metadata": {
        "id": "AyI2bC1NzJwr"
      },
      "outputs": [],
      "source": [
        "import polars as pl"
      ]
    },
    {
      "cell_type": "code",
      "source": [
        "# Importando a biblioteca Polars e lendo o arquivo CSV\n",
        "df = pl.read_csv('data-superstore.csv')\n",
        "df.head()   # Visualizando as 5 primeiras linhas do dataset"
      ],
      "metadata": {
        "colab": {
          "base_uri": "https://localhost:8080/",
          "height": 307
        },
        "id": "I89uK6bwA5Il",
        "outputId": "b5f18d35-ad0f-4bdc-bbfc-6959d49aa931"
      },
      "execution_count": 15,
      "outputs": [
        {
          "output_type": "execute_result",
          "data": {
            "text/plain": [
              "shape: (5, 14)\n",
              "┌────────────┬─────────┬───────────┬───────────┬───┬───────────┬───────────┬───────────┬───────────┐\n",
              "│ Região     ┆ País    ┆ Tipo de   ┆ Canal de  ┆ … ┆ Custo     ┆ Receita   ┆ Custo     ┆ Lucro     │\n",
              "│ ---        ┆ ---     ┆ Item      ┆ Venda     ┆   ┆ Unitário  ┆ Total     ┆ Total     ┆ Total     │\n",
              "│ str        ┆ str     ┆ ---       ┆ ---       ┆   ┆ ---       ┆ ---       ┆ ---       ┆ ---       │\n",
              "│            ┆         ┆ str       ┆ str       ┆   ┆ f64       ┆ f64       ┆ f64       ┆ f64       │\n",
              "╞════════════╪═════════╪═══════════╪═══════════╪═══╪═══════════╪═══════════╪═══════════╪═══════════╡\n",
              "│ Australia  ┆ Palau   ┆ Office    ┆ Online    ┆ … ┆ 524.96    ┆ 1.5636e6  ┆ 1.2604e6  ┆ 303126.25 │\n",
              "│ and        ┆         ┆ Supplies  ┆           ┆   ┆           ┆           ┆           ┆           │\n",
              "│ Oceania    ┆         ┆           ┆           ┆   ┆           ┆           ┆           ┆           │\n",
              "│ Europe     ┆ Poland  ┆ Beverages ┆ Online    ┆ … ┆ 31.79     ┆ 443183.0  ┆ 296918.6  ┆ 146264.4  │\n",
              "│ North      ┆ Canada  ┆ Cereal    ┆ Online    ┆ … ┆ 117.11    ┆ 21187.1   ┆ 12062.33  ┆ 9124.77   │\n",
              "│ America    ┆         ┆           ┆           ┆   ┆           ┆           ┆           ┆           │\n",
              "│ Europe     ┆ Belarus ┆ Snacks    ┆ Online    ┆ … ┆ 97.44     ┆ 215748.12 ┆ 137780.16 ┆ 77967.96  │\n",
              "│ Middle     ┆ Oman    ┆ Cereal    ┆ Offline   ┆ … ┆ 117.11    ┆ 1445453.9 ┆ 822931.97 ┆ 622521.93 │\n",
              "│ East and   ┆         ┆           ┆           ┆   ┆           ┆           ┆           ┆           │\n",
              "│ North      ┆         ┆           ┆           ┆   ┆           ┆           ┆           ┆           │\n",
              "│ Africa     ┆         ┆           ┆           ┆   ┆           ┆           ┆           ┆           │\n",
              "└────────────┴─────────┴───────────┴───────────┴───┴───────────┴───────────┴───────────┴───────────┘"
            ],
            "text/html": [
              "<div><style>\n",
              ".dataframe > thead > tr,\n",
              ".dataframe > tbody > tr {\n",
              "  text-align: right;\n",
              "  white-space: pre-wrap;\n",
              "}\n",
              "</style>\n",
              "<small>shape: (5, 14)</small><table border=\"1\" class=\"dataframe\"><thead><tr><th>Região</th><th>País</th><th>Tipo de Item</th><th>Canal de Venda</th><th>Prioridade do Pedido</th><th>Data do Pedido</th><th>ID do Pedido</th><th>Data de Envio</th><th>Unidades Vendidas</th><th>Preço Unitário</th><th>Custo Unitário</th><th>Receita Total</th><th>Custo Total</th><th>Lucro Total</th></tr><tr><td>str</td><td>str</td><td>str</td><td>str</td><td>str</td><td>str</td><td>i64</td><td>str</td><td>f64</td><td>f64</td><td>f64</td><td>f64</td><td>f64</td><td>f64</td></tr></thead><tbody><tr><td>&quot;Australia and Oceania&quot;</td><td>&quot;Palau&quot;</td><td>&quot;Office Supplies&quot;</td><td>&quot;Online&quot;</td><td>&quot;H&quot;</td><td>&quot;3/6/2016&quot;</td><td>517073523</td><td>&quot;3/26/2016&quot;</td><td>2401.0</td><td>651.21</td><td>524.96</td><td>1.5636e6</td><td>1.2604e6</td><td>303126.25</td></tr><tr><td>&quot;Europe&quot;</td><td>&quot;Poland&quot;</td><td>&quot;Beverages&quot;</td><td>&quot;Online&quot;</td><td>&quot;L&quot;</td><td>&quot;4/18/2010&quot;</td><td>380507028</td><td>&quot;5/26/2010&quot;</td><td>9340.0</td><td>47.45</td><td>31.79</td><td>443183.0</td><td>296918.6</td><td>146264.4</td></tr><tr><td>&quot;North America&quot;</td><td>&quot;Canada&quot;</td><td>&quot;Cereal&quot;</td><td>&quot;Online&quot;</td><td>&quot;M&quot;</td><td>&quot;1/8/2015&quot;</td><td>504055583</td><td>&quot;1/31/2015&quot;</td><td>103.0</td><td>205.7</td><td>117.11</td><td>21187.1</td><td>12062.33</td><td>9124.77</td></tr><tr><td>&quot;Europe&quot;</td><td>&quot;Belarus&quot;</td><td>&quot;Snacks&quot;</td><td>&quot;Online&quot;</td><td>&quot;C&quot;</td><td>&quot;1/19/2014&quot;</td><td>954955518</td><td>&quot;2/27/2014&quot;</td><td>1414.0</td><td>152.58</td><td>97.44</td><td>215748.12</td><td>137780.16</td><td>77967.96</td></tr><tr><td>&quot;Middle East and North Africa&quot;</td><td>&quot;Oman&quot;</td><td>&quot;Cereal&quot;</td><td>&quot;Offline&quot;</td><td>&quot;H&quot;</td><td>&quot;4/26/2019&quot;</td><td>970755660</td><td>&quot;6/2/2019&quot;</td><td>7027.0</td><td>205.7</td><td>117.11</td><td>1445453.9</td><td>822931.97</td><td>622521.93</td></tr></tbody></table></div>"
            ]
          },
          "metadata": {},
          "execution_count": 15
        }
      ]
    },
    {
      "cell_type": "code",
      "source": [
        "# Verificando os tipos de dados de cada coluna\n",
        "df.dtypes"
      ],
      "metadata": {
        "colab": {
          "base_uri": "https://localhost:8080/"
        },
        "id": "OhOOezCmC4MW",
        "outputId": "92f81a7c-a933-4a2c-959b-428efdb37f29"
      },
      "execution_count": 16,
      "outputs": [
        {
          "output_type": "execute_result",
          "data": {
            "text/plain": [
              "[String,\n",
              " String,\n",
              " String,\n",
              " String,\n",
              " String,\n",
              " String,\n",
              " Int64,\n",
              " String,\n",
              " Float64,\n",
              " Float64,\n",
              " Float64,\n",
              " Float64,\n",
              " Float64,\n",
              " Float64]"
            ]
          },
          "metadata": {},
          "execution_count": 16
        }
      ]
    },
    {
      "cell_type": "code",
      "source": [
        "# Gerando estatísticas descritivas do dataset completo\n",
        "df.describe()"
      ],
      "metadata": {
        "colab": {
          "base_uri": "https://localhost:8080/",
          "height": 452
        },
        "id": "jdBmtS1MDDU8",
        "outputId": "36bb4d10-8087-4b9e-920d-eef9b69eebbe"
      },
      "execution_count": 17,
      "outputs": [
        {
          "output_type": "execute_result",
          "data": {
            "text/plain": [
              "shape: (9, 15)\n",
              "┌───────────┬───────────┬───────────┬───────────┬───┬───────────┬───────────┬───────────┬──────────┐\n",
              "│ statistic ┆ Região    ┆ País      ┆ Tipo de   ┆ … ┆ Custo     ┆ Receita   ┆ Custo     ┆ Lucro    │\n",
              "│ ---       ┆ ---       ┆ ---       ┆ Item      ┆   ┆ Unitário  ┆ Total     ┆ Total     ┆ Total    │\n",
              "│ str       ┆ str       ┆ str       ┆ ---       ┆   ┆ ---       ┆ ---       ┆ ---       ┆ ---      │\n",
              "│           ┆           ┆           ┆ str       ┆   ┆ f64       ┆ f64       ┆ f64       ┆ f64      │\n",
              "╞═══════════╪═══════════╪═══════════╪═══════════╪═══╪═══════════╪═══════════╪═══════════╪══════════╡\n",
              "│ count     ┆ 1428336   ┆ 1428336   ┆ 1428336   ┆ … ┆ 1.428335e ┆ 1.428335e ┆ 1.428335e ┆ 1.428335 │\n",
              "│           ┆           ┆           ┆           ┆   ┆ 6         ┆ 6         ┆ 6         ┆ e6       │\n",
              "│ null_coun ┆ 0         ┆ 0         ┆ 0         ┆ … ┆ 1.0       ┆ 1.0       ┆ 1.0       ┆ 1.0      │\n",
              "│ t         ┆           ┆           ┆           ┆   ┆           ┆           ┆           ┆          │\n",
              "│ mean      ┆ null      ┆ null      ┆ null      ┆ … ┆ 187.69152 ┆ 1.3306e6  ┆ 938120.52 ┆ 392515.3 │\n",
              "│           ┆           ┆           ┆           ┆   ┆ 4         ┆           ┆ 8168      ┆ 07078    │\n",
              "│ std       ┆ null      ┆ null      ┆ null      ┆ … ┆ 175.71122 ┆ 1.4695e6  ┆ 1.1498e6  ┆ 379039.6 │\n",
              "│           ┆           ┆           ┆           ┆   ┆ 7         ┆           ┆           ┆ 96178    │\n",
              "│ min       ┆ Asia      ┆ Afghanist ┆ Baby Food ┆ … ┆ 6.92      ┆ 9.33      ┆ 6.92      ┆ 2.41     │\n",
              "│           ┆           ┆ an        ┆           ┆   ┆           ┆           ┆           ┆          │\n",
              "│ 25%       ┆ null      ┆ null      ┆ null      ┆ … ┆ 56.67     ┆ 277622.0  ┆ 161792.85 ┆ 95031.36 │\n",
              "│ 50%       ┆ null      ┆ null      ┆ null      ┆ … ┆ 117.11    ┆ 785613.92 ┆ 467289.27 ┆ 281424.0 │\n",
              "│ 75%       ┆ null      ┆ null      ┆ null      ┆ … ┆ 364.69    ┆ 1822249.6 ┆ 1.1976e6  ┆ 565726.2 │\n",
              "│           ┆           ┆           ┆           ┆   ┆           ┆           ┆           ┆ 5        │\n",
              "│ max       ┆ Sub-Sahar ┆ Zimbabwe  ┆ Vegetable ┆ … ┆ 524.96    ┆ 6.6827e6  ┆ 5.2496e6  ┆ 1.7387e6 │\n",
              "│           ┆ an Africa ┆           ┆ s         ┆   ┆           ┆           ┆           ┆          │\n",
              "└───────────┴───────────┴───────────┴───────────┴───┴───────────┴───────────┴───────────┴──────────┘"
            ],
            "text/html": [
              "<div><style>\n",
              ".dataframe > thead > tr,\n",
              ".dataframe > tbody > tr {\n",
              "  text-align: right;\n",
              "  white-space: pre-wrap;\n",
              "}\n",
              "</style>\n",
              "<small>shape: (9, 15)</small><table border=\"1\" class=\"dataframe\"><thead><tr><th>statistic</th><th>Região</th><th>País</th><th>Tipo de Item</th><th>Canal de Venda</th><th>Prioridade do Pedido</th><th>Data do Pedido</th><th>ID do Pedido</th><th>Data de Envio</th><th>Unidades Vendidas</th><th>Preço Unitário</th><th>Custo Unitário</th><th>Receita Total</th><th>Custo Total</th><th>Lucro Total</th></tr><tr><td>str</td><td>str</td><td>str</td><td>str</td><td>str</td><td>str</td><td>str</td><td>f64</td><td>str</td><td>f64</td><td>f64</td><td>f64</td><td>f64</td><td>f64</td><td>f64</td></tr></thead><tbody><tr><td>&quot;count&quot;</td><td>&quot;1428336&quot;</td><td>&quot;1428336&quot;</td><td>&quot;1428336&quot;</td><td>&quot;1428336&quot;</td><td>&quot;1428336&quot;</td><td>&quot;1428336&quot;</td><td>1.428336e6</td><td>&quot;1428335&quot;</td><td>1.428335e6</td><td>1.428335e6</td><td>1.428335e6</td><td>1.428335e6</td><td>1.428335e6</td><td>1.428335e6</td></tr><tr><td>&quot;null_count&quot;</td><td>&quot;0&quot;</td><td>&quot;0&quot;</td><td>&quot;0&quot;</td><td>&quot;0&quot;</td><td>&quot;0&quot;</td><td>&quot;0&quot;</td><td>0.0</td><td>&quot;1&quot;</td><td>1.0</td><td>1.0</td><td>1.0</td><td>1.0</td><td>1.0</td><td>1.0</td></tr><tr><td>&quot;mean&quot;</td><td>null</td><td>null</td><td>null</td><td>null</td><td>null</td><td>null</td><td>5.4987e8</td><td>null</td><td>4998.747883</td><td>266.23243</td><td>187.691524</td><td>1.3306e6</td><td>938120.528168</td><td>392515.307078</td></tr><tr><td>&quot;std&quot;</td><td>null</td><td>null</td><td>null</td><td>null</td><td>null</td><td>null</td><td>2.5993e8</td><td>null</td><td>2886.931677</td><td>217.03234</td><td>175.711227</td><td>1.4695e6</td><td>1.1498e6</td><td>379039.696178</td></tr><tr><td>&quot;min&quot;</td><td>&quot;Asia&quot;</td><td>&quot;Afghanistan&quot;</td><td>&quot;Baby Food&quot;</td><td>&quot;Offline&quot;</td><td>&quot;C&quot;</td><td>&quot;1/1/2010&quot;</td><td>4.172897e6</td><td>&quot;1/1/2010&quot;</td><td>1.0</td><td>9.33</td><td>6.92</td><td>9.33</td><td>6.92</td><td>2.41</td></tr><tr><td>&quot;25%&quot;</td><td>null</td><td>null</td><td>null</td><td>null</td><td>null</td><td>null</td><td>3.24790465e8</td><td>null</td><td>2500.0</td><td>109.28</td><td>56.67</td><td>277622.0</td><td>161792.85</td><td>95031.36</td></tr><tr><td>&quot;50%&quot;</td><td>null</td><td>null</td><td>null</td><td>null</td><td>null</td><td>null</td><td>5.49325263e8</td><td>null</td><td>4997.0</td><td>205.7</td><td>117.11</td><td>785613.92</td><td>467289.27</td><td>281424.0</td></tr><tr><td>&quot;75%&quot;</td><td>null</td><td>null</td><td>null</td><td>null</td><td>null</td><td>null</td><td>7.75303733e8</td><td>null</td><td>7498.0</td><td>437.2</td><td>364.69</td><td>1822249.6</td><td>1.1976e6</td><td>565726.25</td></tr><tr><td>&quot;max&quot;</td><td>&quot;Sub-Saharan Africa&quot;</td><td>&quot;Zimbabwe&quot;</td><td>&quot;Vegetables&quot;</td><td>&quot;Online&quot;</td><td>&quot;M&quot;</td><td>&quot;9/9/2020&quot;</td><td>9.99999892e8</td><td>&quot;9/9/2020&quot;</td><td>10000.0</td><td>668.27</td><td>524.96</td><td>6.6827e6</td><td>5.2496e6</td><td>1.7387e6</td></tr></tbody></table></div>"
            ]
          },
          "metadata": {},
          "execution_count": 17
        }
      ]
    },
    {
      "cell_type": "code",
      "source": [
        "# Estatísticas descritivas apenas para colunas numéricas (Int64 e Float64)\n",
        "df.select(pl.col(pl.Int64, pl.Float64)).describe()"
      ],
      "metadata": {
        "colab": {
          "base_uri": "https://localhost:8080/",
          "height": 380
        },
        "id": "SG2uVRClDJxz",
        "outputId": "e07d9370-5c8e-4b6c-c5c3-2932fbb3d609"
      },
      "execution_count": 18,
      "outputs": [
        {
          "output_type": "execute_result",
          "data": {
            "text/plain": [
              "shape: (9, 8)\n",
              "┌────────────┬────────────┬────────────┬───────────┬───────────┬───────────┬───────────┬───────────┐\n",
              "│ statistic  ┆ ID do      ┆ Unidades   ┆ Preço     ┆ Custo     ┆ Receita   ┆ Custo     ┆ Lucro     │\n",
              "│ ---        ┆ Pedido     ┆ Vendidas   ┆ Unitário  ┆ Unitário  ┆ Total     ┆ Total     ┆ Total     │\n",
              "│ str        ┆ ---        ┆ ---        ┆ ---       ┆ ---       ┆ ---       ┆ ---       ┆ ---       │\n",
              "│            ┆ f64        ┆ f64        ┆ f64       ┆ f64       ┆ f64       ┆ f64       ┆ f64       │\n",
              "╞════════════╪════════════╪════════════╪═══════════╪═══════════╪═══════════╪═══════════╪═══════════╡\n",
              "│ count      ┆ 1.428336e6 ┆ 1.428335e6 ┆ 1.428335e ┆ 1.428335e ┆ 1.428335e ┆ 1.428335e ┆ 1.428335e │\n",
              "│            ┆            ┆            ┆ 6         ┆ 6         ┆ 6         ┆ 6         ┆ 6         │\n",
              "│ null_count ┆ 0.0        ┆ 1.0        ┆ 1.0       ┆ 1.0       ┆ 1.0       ┆ 1.0       ┆ 1.0       │\n",
              "│ mean       ┆ 5.4987e8   ┆ 4998.74788 ┆ 266.23243 ┆ 187.69152 ┆ 1.3306e6  ┆ 938120.52 ┆ 392515.30 │\n",
              "│            ┆            ┆ 3          ┆           ┆ 4         ┆           ┆ 8168      ┆ 7078      │\n",
              "│ std        ┆ 2.5993e8   ┆ 2886.93167 ┆ 217.03234 ┆ 175.71122 ┆ 1.4695e6  ┆ 1.1498e6  ┆ 379039.69 │\n",
              "│            ┆            ┆ 7          ┆           ┆ 7         ┆           ┆           ┆ 6178      │\n",
              "│ min        ┆ 4.172897e6 ┆ 1.0        ┆ 9.33      ┆ 6.92      ┆ 9.33      ┆ 6.92      ┆ 2.41      │\n",
              "│ 25%        ┆ 3.24790465 ┆ 2500.0     ┆ 109.28    ┆ 56.67     ┆ 277622.0  ┆ 161792.85 ┆ 95031.36  │\n",
              "│            ┆ e8         ┆            ┆           ┆           ┆           ┆           ┆           │\n",
              "│ 50%        ┆ 5.49325263 ┆ 4997.0     ┆ 205.7     ┆ 117.11    ┆ 785613.92 ┆ 467289.27 ┆ 281424.0  │\n",
              "│            ┆ e8         ┆            ┆           ┆           ┆           ┆           ┆           │\n",
              "│ 75%        ┆ 7.75303733 ┆ 7498.0     ┆ 437.2     ┆ 364.69    ┆ 1822249.6 ┆ 1.1976e6  ┆ 565726.25 │\n",
              "│            ┆ e8         ┆            ┆           ┆           ┆           ┆           ┆           │\n",
              "│ max        ┆ 9.99999892 ┆ 10000.0    ┆ 668.27    ┆ 524.96    ┆ 6.6827e6  ┆ 5.2496e6  ┆ 1.7387e6  │\n",
              "│            ┆ e8         ┆            ┆           ┆           ┆           ┆           ┆           │\n",
              "└────────────┴────────────┴────────────┴───────────┴───────────┴───────────┴───────────┴───────────┘"
            ],
            "text/html": [
              "<div><style>\n",
              ".dataframe > thead > tr,\n",
              ".dataframe > tbody > tr {\n",
              "  text-align: right;\n",
              "  white-space: pre-wrap;\n",
              "}\n",
              "</style>\n",
              "<small>shape: (9, 8)</small><table border=\"1\" class=\"dataframe\"><thead><tr><th>statistic</th><th>ID do Pedido</th><th>Unidades Vendidas</th><th>Preço Unitário</th><th>Custo Unitário</th><th>Receita Total</th><th>Custo Total</th><th>Lucro Total</th></tr><tr><td>str</td><td>f64</td><td>f64</td><td>f64</td><td>f64</td><td>f64</td><td>f64</td><td>f64</td></tr></thead><tbody><tr><td>&quot;count&quot;</td><td>1.428336e6</td><td>1.428335e6</td><td>1.428335e6</td><td>1.428335e6</td><td>1.428335e6</td><td>1.428335e6</td><td>1.428335e6</td></tr><tr><td>&quot;null_count&quot;</td><td>0.0</td><td>1.0</td><td>1.0</td><td>1.0</td><td>1.0</td><td>1.0</td><td>1.0</td></tr><tr><td>&quot;mean&quot;</td><td>5.4987e8</td><td>4998.747883</td><td>266.23243</td><td>187.691524</td><td>1.3306e6</td><td>938120.528168</td><td>392515.307078</td></tr><tr><td>&quot;std&quot;</td><td>2.5993e8</td><td>2886.931677</td><td>217.03234</td><td>175.711227</td><td>1.4695e6</td><td>1.1498e6</td><td>379039.696178</td></tr><tr><td>&quot;min&quot;</td><td>4.172897e6</td><td>1.0</td><td>9.33</td><td>6.92</td><td>9.33</td><td>6.92</td><td>2.41</td></tr><tr><td>&quot;25%&quot;</td><td>3.24790465e8</td><td>2500.0</td><td>109.28</td><td>56.67</td><td>277622.0</td><td>161792.85</td><td>95031.36</td></tr><tr><td>&quot;50%&quot;</td><td>5.49325263e8</td><td>4997.0</td><td>205.7</td><td>117.11</td><td>785613.92</td><td>467289.27</td><td>281424.0</td></tr><tr><td>&quot;75%&quot;</td><td>7.75303733e8</td><td>7498.0</td><td>437.2</td><td>364.69</td><td>1822249.6</td><td>1.1976e6</td><td>565726.25</td></tr><tr><td>&quot;max&quot;</td><td>9.99999892e8</td><td>10000.0</td><td>668.27</td><td>524.96</td><td>6.6827e6</td><td>5.2496e6</td><td>1.7387e6</td></tr></tbody></table></div>"
            ]
          },
          "metadata": {},
          "execution_count": 18
        }
      ]
    },
    {
      "cell_type": "code",
      "source": [
        "# Contando valores nulos em cada coluna\n",
        "df.null_count()"
      ],
      "metadata": {
        "colab": {
          "base_uri": "https://localhost:8080/",
          "height": 147
        },
        "id": "UOsztqcXDUbV",
        "outputId": "f9eb915d-1838-4e69-c6c3-24031687ac0f"
      },
      "execution_count": 19,
      "outputs": [
        {
          "output_type": "execute_result",
          "data": {
            "text/plain": [
              "shape: (1, 14)\n",
              "┌────────┬──────┬─────────┬──────────┬───┬──────────┬─────────┬─────────────┬─────────────┐\n",
              "│ Região ┆ País ┆ Tipo de ┆ Canal de ┆ … ┆ Custo    ┆ Receita ┆ Custo Total ┆ Lucro Total │\n",
              "│ ---    ┆ ---  ┆ Item    ┆ Venda    ┆   ┆ Unitário ┆ Total   ┆ ---         ┆ ---         │\n",
              "│ u32    ┆ u32  ┆ ---     ┆ ---      ┆   ┆ ---      ┆ ---     ┆ u32         ┆ u32         │\n",
              "│        ┆      ┆ u32     ┆ u32      ┆   ┆ u32      ┆ u32     ┆             ┆             │\n",
              "╞════════╪══════╪═════════╪══════════╪═══╪══════════╪═════════╪═════════════╪═════════════╡\n",
              "│ 0      ┆ 0    ┆ 0       ┆ 0        ┆ … ┆ 1        ┆ 1       ┆ 1           ┆ 1           │\n",
              "└────────┴──────┴─────────┴──────────┴───┴──────────┴─────────┴─────────────┴─────────────┘"
            ],
            "text/html": [
              "<div><style>\n",
              ".dataframe > thead > tr,\n",
              ".dataframe > tbody > tr {\n",
              "  text-align: right;\n",
              "  white-space: pre-wrap;\n",
              "}\n",
              "</style>\n",
              "<small>shape: (1, 14)</small><table border=\"1\" class=\"dataframe\"><thead><tr><th>Região</th><th>País</th><th>Tipo de Item</th><th>Canal de Venda</th><th>Prioridade do Pedido</th><th>Data do Pedido</th><th>ID do Pedido</th><th>Data de Envio</th><th>Unidades Vendidas</th><th>Preço Unitário</th><th>Custo Unitário</th><th>Receita Total</th><th>Custo Total</th><th>Lucro Total</th></tr><tr><td>u32</td><td>u32</td><td>u32</td><td>u32</td><td>u32</td><td>u32</td><td>u32</td><td>u32</td><td>u32</td><td>u32</td><td>u32</td><td>u32</td><td>u32</td><td>u32</td></tr></thead><tbody><tr><td>0</td><td>0</td><td>0</td><td>0</td><td>0</td><td>0</td><td>0</td><td>1</td><td>1</td><td>1</td><td>1</td><td>1</td><td>1</td><td>1</td></tr></tbody></table></div>"
            ]
          },
          "metadata": {},
          "execution_count": 19
        }
      ]
    },
    {
      "cell_type": "code",
      "source": [
        "# Contagem detalhada de NaN e nulls para todas as colunas\n",
        "nan_counts = {\n",
        "    col: (\n",
        "        # Contar NaN apenas para colunas float\n",
        "        (df[col].is_nan().sum() if df[col].dtype in (pl.Int64, pl.Float64) else 0)\n",
        "        # Contar null para todas as colunas\n",
        "        + df[col].is_null().sum()\n",
        "    )\n",
        "    for col in df.columns\n",
        "}"
      ],
      "metadata": {
        "id": "67hvPl4RDYuM"
      },
      "execution_count": 20,
      "outputs": []
    },
    {
      "cell_type": "code",
      "source": [
        "nan_counts"
      ],
      "metadata": {
        "colab": {
          "base_uri": "https://localhost:8080/"
        },
        "id": "xzHK_YnbEEhp",
        "outputId": "2059889e-dfe9-4978-9f03-ac4e8e989ccd"
      },
      "execution_count": 21,
      "outputs": [
        {
          "output_type": "execute_result",
          "data": {
            "text/plain": [
              "{'Região': 0,\n",
              " 'País': 0,\n",
              " 'Tipo de Item': 0,\n",
              " 'Canal de Venda': 0,\n",
              " 'Prioridade do Pedido': 0,\n",
              " 'Data do Pedido': 0,\n",
              " 'ID do Pedido': 0,\n",
              " 'Data de Envio': 1,\n",
              " 'Unidades Vendidas': 1,\n",
              " 'Preço Unitário': 1,\n",
              " 'Custo Unitário': 1,\n",
              " 'Receita Total': 1,\n",
              " 'Custo Total': 1,\n",
              " 'Lucro Total': 1}"
            ]
          },
          "metadata": {},
          "execution_count": 21
        }
      ]
    },
    {
      "cell_type": "code",
      "source": [
        "# Verificando valores únicos na coluna \"Região\"\n",
        "df['Região'].unique()"
      ],
      "metadata": {
        "colab": {
          "base_uri": "https://localhost:8080/",
          "height": 317
        },
        "id": "zq98ktEmEKBc",
        "outputId": "0ee20b0a-7849-4996-ba5d-3e50c377c343"
      },
      "execution_count": 22,
      "outputs": [
        {
          "output_type": "execute_result",
          "data": {
            "text/plain": [
              "shape: (7,)\n",
              "Series: 'Região' [str]\n",
              "[\n",
              "\t\"Asia\"\n",
              "\t\"Central America and the Caribb…\n",
              "\t\"Sub-Saharan Africa\"\n",
              "\t\"Middle East and North Africa\"\n",
              "\t\"Europe\"\n",
              "\t\"North America\"\n",
              "\t\"Australia and Oceania\"\n",
              "]"
            ],
            "text/html": [
              "<div><style>\n",
              ".dataframe > thead > tr,\n",
              ".dataframe > tbody > tr {\n",
              "  text-align: right;\n",
              "  white-space: pre-wrap;\n",
              "}\n",
              "</style>\n",
              "<small>shape: (7,)</small><table border=\"1\" class=\"dataframe\"><thead><tr><th>Região</th></tr><tr><td>str</td></tr></thead><tbody><tr><td>&quot;Asia&quot;</td></tr><tr><td>&quot;Central America and the Caribb…</td></tr><tr><td>&quot;Sub-Saharan Africa&quot;</td></tr><tr><td>&quot;Middle East and North Africa&quot;</td></tr><tr><td>&quot;Europe&quot;</td></tr><tr><td>&quot;North America&quot;</td></tr><tr><td>&quot;Australia and Oceania&quot;</td></tr></tbody></table></div>"
            ]
          },
          "metadata": {},
          "execution_count": 22
        }
      ]
    },
    {
      "cell_type": "code",
      "source": [
        "# Filtrando apenas as linhas das regiões \"Europe\" e \"Asia\"\n",
        "df_regions = df.filter((pl.col(\"Região\") == \"Eurupe\") | (pl.col(\"Região\") == \"Asia\"))"
      ],
      "metadata": {
        "id": "EY2fLG4xEO09"
      },
      "execution_count": 23,
      "outputs": []
    },
    {
      "cell_type": "code",
      "source": [
        "df_regions.shape"
      ],
      "metadata": {
        "colab": {
          "base_uri": "https://localhost:8080/"
        },
        "id": "j7eLuFR_EgD2",
        "outputId": "31244262-077a-4688-d3f5-2ff30dc56181"
      },
      "execution_count": 25,
      "outputs": [
        {
          "output_type": "execute_result",
          "data": {
            "text/plain": [
              "(208693, 14)"
            ]
          },
          "metadata": {},
          "execution_count": 25
        }
      ]
    },
    {
      "cell_type": "code",
      "source": [
        "# Visualizando as 5 primeiras linhas do dataset filtrado\n",
        "df_regions.head()"
      ],
      "metadata": {
        "colab": {
          "base_uri": "https://localhost:8080/",
          "height": 272
        },
        "id": "yJp6GMkzEmKc",
        "outputId": "be8c8dbd-e80f-4886-a1f4-c13d1b5f6f18"
      },
      "execution_count": 26,
      "outputs": [
        {
          "output_type": "execute_result",
          "data": {
            "text/plain": [
              "shape: (5, 14)\n",
              "┌────────┬────────────┬────────────┬───────────┬───┬───────────┬───────────┬───────────┬───────────┐\n",
              "│ Região ┆ País       ┆ Tipo de    ┆ Canal de  ┆ … ┆ Custo     ┆ Receita   ┆ Custo     ┆ Lucro     │\n",
              "│ ---    ┆ ---        ┆ Item       ┆ Venda     ┆   ┆ Unitário  ┆ Total     ┆ Total     ┆ Total     │\n",
              "│ str    ┆ str        ┆ ---        ┆ ---       ┆   ┆ ---       ┆ ---       ┆ ---       ┆ ---       │\n",
              "│        ┆            ┆ str        ┆ str       ┆   ┆ f64       ┆ f64       ┆ f64       ┆ f64       │\n",
              "╞════════╪════════════╪════════════╪═══════════╪═══╪═══════════╪═══════════╪═══════════╪═══════════╡\n",
              "│ Asia   ┆ Bangladesh ┆ Cereal     ┆ Offline   ┆ … ┆ 117.11    ┆ 661531.2  ┆ 376625.76 ┆ 284905.44 │\n",
              "│ Asia   ┆ Kyrgyzstan ┆ Snacks     ┆ Offline   ┆ … ┆ 97.44     ┆ 673793.28 ┆ 430295.04 ┆ 243498.24 │\n",
              "│ Asia   ┆ Bangladesh ┆ Fruits     ┆ Online    ┆ … ┆ 6.92      ┆ 5831.25   ┆ 4325.0    ┆ 1506.25   │\n",
              "│ Asia   ┆ Myanmar    ┆ Vegetables ┆ Offline   ┆ … ┆ 90.93     ┆ 576954.7  ┆ 340532.85 ┆ 236421.85 │\n",
              "│ Asia   ┆ Uzbekistan ┆ Baby Food  ┆ Online    ┆ … ┆ 159.42    ┆ 982828.0  ┆ 613767.0  ┆ 369061.0  │\n",
              "└────────┴────────────┴────────────┴───────────┴───┴───────────┴───────────┴───────────┴───────────┘"
            ],
            "text/html": [
              "<div><style>\n",
              ".dataframe > thead > tr,\n",
              ".dataframe > tbody > tr {\n",
              "  text-align: right;\n",
              "  white-space: pre-wrap;\n",
              "}\n",
              "</style>\n",
              "<small>shape: (5, 14)</small><table border=\"1\" class=\"dataframe\"><thead><tr><th>Região</th><th>País</th><th>Tipo de Item</th><th>Canal de Venda</th><th>Prioridade do Pedido</th><th>Data do Pedido</th><th>ID do Pedido</th><th>Data de Envio</th><th>Unidades Vendidas</th><th>Preço Unitário</th><th>Custo Unitário</th><th>Receita Total</th><th>Custo Total</th><th>Lucro Total</th></tr><tr><td>str</td><td>str</td><td>str</td><td>str</td><td>str</td><td>str</td><td>i64</td><td>str</td><td>f64</td><td>f64</td><td>f64</td><td>f64</td><td>f64</td><td>f64</td></tr></thead><tbody><tr><td>&quot;Asia&quot;</td><td>&quot;Bangladesh&quot;</td><td>&quot;Cereal&quot;</td><td>&quot;Offline&quot;</td><td>&quot;L&quot;</td><td>&quot;12/3/2013&quot;</td><td>132448184</td><td>&quot;1/15/2014&quot;</td><td>3216.0</td><td>205.7</td><td>117.11</td><td>661531.2</td><td>376625.76</td><td>284905.44</td></tr><tr><td>&quot;Asia&quot;</td><td>&quot;Kyrgyzstan&quot;</td><td>&quot;Snacks&quot;</td><td>&quot;Offline&quot;</td><td>&quot;H&quot;</td><td>&quot;11/22/2018&quot;</td><td>766909492</td><td>&quot;12/15/2018&quot;</td><td>4416.0</td><td>152.58</td><td>97.44</td><td>673793.28</td><td>430295.04</td><td>243498.24</td></tr><tr><td>&quot;Asia&quot;</td><td>&quot;Bangladesh&quot;</td><td>&quot;Fruits&quot;</td><td>&quot;Online&quot;</td><td>&quot;L&quot;</td><td>&quot;9/14/2019&quot;</td><td>467966783</td><td>&quot;9/27/2019&quot;</td><td>625.0</td><td>9.33</td><td>6.92</td><td>5831.25</td><td>4325.0</td><td>1506.25</td></tr><tr><td>&quot;Asia&quot;</td><td>&quot;Myanmar&quot;</td><td>&quot;Vegetables&quot;</td><td>&quot;Offline&quot;</td><td>&quot;H&quot;</td><td>&quot;3/28/2016&quot;</td><td>727876698</td><td>&quot;4/19/2016&quot;</td><td>3745.0</td><td>154.06</td><td>90.93</td><td>576954.7</td><td>340532.85</td><td>236421.85</td></tr><tr><td>&quot;Asia&quot;</td><td>&quot;Uzbekistan&quot;</td><td>&quot;Baby Food&quot;</td><td>&quot;Online&quot;</td><td>&quot;L&quot;</td><td>&quot;10/9/2010&quot;</td><td>498357284</td><td>&quot;10/12/2010&quot;</td><td>3850.0</td><td>255.28</td><td>159.42</td><td>982828.0</td><td>613767.0</td><td>369061.0</td></tr></tbody></table></div>"
            ]
          },
          "metadata": {},
          "execution_count": 26
        }
      ]
    },
    {
      "cell_type": "code",
      "source": [
        "# Filtrando agora apenas os dados do país \"Germany\"\n",
        "df = df.filter(df[\"País\"] == \"Germany\")\n",
        "df.head()"
      ],
      "metadata": {
        "colab": {
          "base_uri": "https://localhost:8080/",
          "height": 289
        },
        "id": "lQHQiWAtEo91",
        "outputId": "c56cce2b-b46e-405d-e8f4-aaf6028654b0"
      },
      "execution_count": 27,
      "outputs": [
        {
          "output_type": "execute_result",
          "data": {
            "text/plain": [
              "shape: (5, 14)\n",
              "┌────────┬─────────┬────────────┬────────────┬───┬────────────┬────────────┬───────────┬───────────┐\n",
              "│ Região ┆ País    ┆ Tipo de    ┆ Canal de   ┆ … ┆ Custo      ┆ Receita    ┆ Custo     ┆ Lucro     │\n",
              "│ ---    ┆ ---     ┆ Item       ┆ Venda      ┆   ┆ Unitário   ┆ Total      ┆ Total     ┆ Total     │\n",
              "│ str    ┆ str     ┆ ---        ┆ ---        ┆   ┆ ---        ┆ ---        ┆ ---       ┆ ---       │\n",
              "│        ┆         ┆ str        ┆ str        ┆   ┆ f64        ┆ f64        ┆ f64       ┆ f64       │\n",
              "╞════════╪═════════╪════════════╪════════════╪═══╪════════════╪════════════╪═══════════╪═══════════╡\n",
              "│ Europe ┆ Germany ┆ Personal   ┆ Offline    ┆ … ┆ 56.67      ┆ 631119.06  ┆ 437605.74 ┆ 193513.32 │\n",
              "│        ┆         ┆ Care       ┆            ┆   ┆            ┆            ┆           ┆           │\n",
              "│ Europe ┆ Germany ┆ Clothes    ┆ Online     ┆ … ┆ 35.84      ┆ 127092.64  ┆ 41681.92  ┆ 85410.72  │\n",
              "│ Europe ┆ Germany ┆ Meat       ┆ Online     ┆ … ┆ 364.69     ┆ 4.1919e6   ┆ 3.6236e6  ┆ 568339.2  │\n",
              "│ Europe ┆ Germany ┆ Cereal     ┆ Online     ┆ … ┆ 117.11     ┆ 1846980.3  ┆ 1.0515e6  ┆ 795449.61 │\n",
              "│ Europe ┆ Germany ┆ Baby Food  ┆ Offline    ┆ … ┆ 159.42     ┆ 527663.76  ┆ 329521.14 ┆ 198142.62 │\n",
              "└────────┴─────────┴────────────┴────────────┴───┴────────────┴────────────┴───────────┴───────────┘"
            ],
            "text/html": [
              "<div><style>\n",
              ".dataframe > thead > tr,\n",
              ".dataframe > tbody > tr {\n",
              "  text-align: right;\n",
              "  white-space: pre-wrap;\n",
              "}\n",
              "</style>\n",
              "<small>shape: (5, 14)</small><table border=\"1\" class=\"dataframe\"><thead><tr><th>Região</th><th>País</th><th>Tipo de Item</th><th>Canal de Venda</th><th>Prioridade do Pedido</th><th>Data do Pedido</th><th>ID do Pedido</th><th>Data de Envio</th><th>Unidades Vendidas</th><th>Preço Unitário</th><th>Custo Unitário</th><th>Receita Total</th><th>Custo Total</th><th>Lucro Total</th></tr><tr><td>str</td><td>str</td><td>str</td><td>str</td><td>str</td><td>str</td><td>i64</td><td>str</td><td>f64</td><td>f64</td><td>f64</td><td>f64</td><td>f64</td><td>f64</td></tr></thead><tbody><tr><td>&quot;Europe&quot;</td><td>&quot;Germany&quot;</td><td>&quot;Personal Care&quot;</td><td>&quot;Offline&quot;</td><td>&quot;H&quot;</td><td>&quot;12/25/2010&quot;</td><td>842548644</td><td>&quot;1/24/2011&quot;</td><td>7722.0</td><td>81.73</td><td>56.67</td><td>631119.06</td><td>437605.74</td><td>193513.32</td></tr><tr><td>&quot;Europe&quot;</td><td>&quot;Germany&quot;</td><td>&quot;Clothes&quot;</td><td>&quot;Online&quot;</td><td>&quot;L&quot;</td><td>&quot;7/1/2011&quot;</td><td>650888288</td><td>&quot;8/18/2011&quot;</td><td>1163.0</td><td>109.28</td><td>35.84</td><td>127092.64</td><td>41681.92</td><td>85410.72</td></tr><tr><td>&quot;Europe&quot;</td><td>&quot;Germany&quot;</td><td>&quot;Meat&quot;</td><td>&quot;Online&quot;</td><td>&quot;H&quot;</td><td>&quot;9/9/2013&quot;</td><td>444275796</td><td>&quot;10/3/2013&quot;</td><td>9936.0</td><td>421.89</td><td>364.69</td><td>4.1919e6</td><td>3.6236e6</td><td>568339.2</td></tr><tr><td>&quot;Europe&quot;</td><td>&quot;Germany&quot;</td><td>&quot;Cereal&quot;</td><td>&quot;Online&quot;</td><td>&quot;M&quot;</td><td>&quot;4/10/2011&quot;</td><td>847790753</td><td>&quot;5/22/2011&quot;</td><td>8979.0</td><td>205.7</td><td>117.11</td><td>1846980.3</td><td>1.0515e6</td><td>795449.61</td></tr><tr><td>&quot;Europe&quot;</td><td>&quot;Germany&quot;</td><td>&quot;Baby Food&quot;</td><td>&quot;Offline&quot;</td><td>&quot;H&quot;</td><td>&quot;6/2/2011&quot;</td><td>817252624</td><td>&quot;6/22/2011&quot;</td><td>2067.0</td><td>255.28</td><td>159.42</td><td>527663.76</td><td>329521.14</td><td>198142.62</td></tr></tbody></table></div>"
            ]
          },
          "metadata": {},
          "execution_count": 27
        }
      ]
    },
    {
      "cell_type": "code",
      "source": [],
      "metadata": {
        "id": "VvSH4mNJE64J"
      },
      "execution_count": null,
      "outputs": []
    }
  ]
}