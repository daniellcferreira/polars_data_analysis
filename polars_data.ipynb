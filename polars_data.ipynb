{
  "nbformat": 4,
  "nbformat_minor": 0,
  "metadata": {
    "colab": {
      "provenance": []
    },
    "kernelspec": {
      "name": "python3",
      "display_name": "Python 3"
    },
    "language_info": {
      "name": "python"
    }
  },
  "cells": [
    {
      "cell_type": "code",
      "execution_count": 1,
      "metadata": {
        "id": "AyI2bC1NzJwr"
      },
      "outputs": [],
      "source": [
        "import polars as pl"
      ]
    },
    {
      "cell_type": "code",
      "source": [
        "# Importando a biblioteca Polars e lendo o arquivo CSV\n",
        "df = pl.read_csv('data-superstore.csv')\n",
        "df.head()   # Visualizando as 5 primeiras linhas do dataset"
      ],
      "metadata": {
        "colab": {
          "base_uri": "https://localhost:8080/",
          "height": 307
        },
        "id": "I89uK6bwA5Il",
        "outputId": "58428be3-53ce-4210-9c09-cd5e802439b3"
      },
      "execution_count": 2,
      "outputs": [
        {
          "output_type": "execute_result",
          "data": {
            "text/plain": [
              "shape: (5, 14)\n",
              "┌────────────┬─────────┬───────────┬───────────┬───┬───────────┬───────────┬───────────┬───────────┐\n",
              "│ Região     ┆ País    ┆ Tipo de   ┆ Canal de  ┆ … ┆ Custo     ┆ Receita   ┆ Custo     ┆ Lucro     │\n",
              "│ ---        ┆ ---     ┆ Item      ┆ Venda     ┆   ┆ Unitário  ┆ Total     ┆ Total     ┆ Total     │\n",
              "│ str        ┆ str     ┆ ---       ┆ ---       ┆   ┆ ---       ┆ ---       ┆ ---       ┆ ---       │\n",
              "│            ┆         ┆ str       ┆ str       ┆   ┆ f64       ┆ f64       ┆ f64       ┆ f64       │\n",
              "╞════════════╪═════════╪═══════════╪═══════════╪═══╪═══════════╪═══════════╪═══════════╪═══════════╡\n",
              "│ Australia  ┆ Palau   ┆ Office    ┆ Online    ┆ … ┆ 524.96    ┆ 1.5636e6  ┆ 1.2604e6  ┆ 303126.25 │\n",
              "│ and        ┆         ┆ Supplies  ┆           ┆   ┆           ┆           ┆           ┆           │\n",
              "│ Oceania    ┆         ┆           ┆           ┆   ┆           ┆           ┆           ┆           │\n",
              "│ Europe     ┆ Poland  ┆ Beverages ┆ Online    ┆ … ┆ 31.79     ┆ 443183.0  ┆ 296918.6  ┆ 146264.4  │\n",
              "│ North      ┆ Canada  ┆ Cereal    ┆ Online    ┆ … ┆ 117.11    ┆ 21187.1   ┆ 12062.33  ┆ 9124.77   │\n",
              "│ America    ┆         ┆           ┆           ┆   ┆           ┆           ┆           ┆           │\n",
              "│ Europe     ┆ Belarus ┆ Snacks    ┆ Online    ┆ … ┆ 97.44     ┆ 215748.12 ┆ 137780.16 ┆ 77967.96  │\n",
              "│ Middle     ┆ Oman    ┆ Cereal    ┆ Offline   ┆ … ┆ 117.11    ┆ 1445453.9 ┆ 822931.97 ┆ 622521.93 │\n",
              "│ East and   ┆         ┆           ┆           ┆   ┆           ┆           ┆           ┆           │\n",
              "│ North      ┆         ┆           ┆           ┆   ┆           ┆           ┆           ┆           │\n",
              "│ Africa     ┆         ┆           ┆           ┆   ┆           ┆           ┆           ┆           │\n",
              "└────────────┴─────────┴───────────┴───────────┴───┴───────────┴───────────┴───────────┴───────────┘"
            ],
            "text/html": [
              "<div><style>\n",
              ".dataframe > thead > tr,\n",
              ".dataframe > tbody > tr {\n",
              "  text-align: right;\n",
              "  white-space: pre-wrap;\n",
              "}\n",
              "</style>\n",
              "<small>shape: (5, 14)</small><table border=\"1\" class=\"dataframe\"><thead><tr><th>Região</th><th>País</th><th>Tipo de Item</th><th>Canal de Venda</th><th>Prioridade do Pedido</th><th>Data do Pedido</th><th>ID do Pedido</th><th>Data de Envio</th><th>Unidades Vendidas</th><th>Preço Unitário</th><th>Custo Unitário</th><th>Receita Total</th><th>Custo Total</th><th>Lucro Total</th></tr><tr><td>str</td><td>str</td><td>str</td><td>str</td><td>str</td><td>str</td><td>i64</td><td>str</td><td>f64</td><td>f64</td><td>f64</td><td>f64</td><td>f64</td><td>f64</td></tr></thead><tbody><tr><td>&quot;Australia and Oceania&quot;</td><td>&quot;Palau&quot;</td><td>&quot;Office Supplies&quot;</td><td>&quot;Online&quot;</td><td>&quot;H&quot;</td><td>&quot;3/6/2016&quot;</td><td>517073523</td><td>&quot;3/26/2016&quot;</td><td>2401.0</td><td>651.21</td><td>524.96</td><td>1.5636e6</td><td>1.2604e6</td><td>303126.25</td></tr><tr><td>&quot;Europe&quot;</td><td>&quot;Poland&quot;</td><td>&quot;Beverages&quot;</td><td>&quot;Online&quot;</td><td>&quot;L&quot;</td><td>&quot;4/18/2010&quot;</td><td>380507028</td><td>&quot;5/26/2010&quot;</td><td>9340.0</td><td>47.45</td><td>31.79</td><td>443183.0</td><td>296918.6</td><td>146264.4</td></tr><tr><td>&quot;North America&quot;</td><td>&quot;Canada&quot;</td><td>&quot;Cereal&quot;</td><td>&quot;Online&quot;</td><td>&quot;M&quot;</td><td>&quot;1/8/2015&quot;</td><td>504055583</td><td>&quot;1/31/2015&quot;</td><td>103.0</td><td>205.7</td><td>117.11</td><td>21187.1</td><td>12062.33</td><td>9124.77</td></tr><tr><td>&quot;Europe&quot;</td><td>&quot;Belarus&quot;</td><td>&quot;Snacks&quot;</td><td>&quot;Online&quot;</td><td>&quot;C&quot;</td><td>&quot;1/19/2014&quot;</td><td>954955518</td><td>&quot;2/27/2014&quot;</td><td>1414.0</td><td>152.58</td><td>97.44</td><td>215748.12</td><td>137780.16</td><td>77967.96</td></tr><tr><td>&quot;Middle East and North Africa&quot;</td><td>&quot;Oman&quot;</td><td>&quot;Cereal&quot;</td><td>&quot;Offline&quot;</td><td>&quot;H&quot;</td><td>&quot;4/26/2019&quot;</td><td>970755660</td><td>&quot;6/2/2019&quot;</td><td>7027.0</td><td>205.7</td><td>117.11</td><td>1445453.9</td><td>822931.97</td><td>622521.93</td></tr></tbody></table></div>"
            ]
          },
          "metadata": {},
          "execution_count": 2
        }
      ]
    },
    {
      "cell_type": "code",
      "source": [
        "# Verificando os tipos de dados de cada coluna\n",
        "df.dtypes"
      ],
      "metadata": {
        "colab": {
          "base_uri": "https://localhost:8080/"
        },
        "id": "OhOOezCmC4MW",
        "outputId": "ff3d5086-1d98-4c40-c119-6c92fff0f2f4"
      },
      "execution_count": 3,
      "outputs": [
        {
          "output_type": "execute_result",
          "data": {
            "text/plain": [
              "[String,\n",
              " String,\n",
              " String,\n",
              " String,\n",
              " String,\n",
              " String,\n",
              " Int64,\n",
              " String,\n",
              " Float64,\n",
              " Float64,\n",
              " Float64,\n",
              " Float64,\n",
              " Float64,\n",
              " Float64]"
            ]
          },
          "metadata": {},
          "execution_count": 3
        }
      ]
    },
    {
      "cell_type": "code",
      "source": [
        "# Gerando estatísticas descritivas do dataset completo\n",
        "df.describe()"
      ],
      "metadata": {
        "colab": {
          "base_uri": "https://localhost:8080/",
          "height": 449
        },
        "id": "jdBmtS1MDDU8",
        "outputId": "8c8fcb3a-eef0-4ea2-c92c-20f35d4965c6"
      },
      "execution_count": 4,
      "outputs": [
        {
          "output_type": "execute_result",
          "data": {
            "text/plain": [
              "shape: (9, 15)\n",
              "┌───────────┬───────────┬───────────┬───────────┬───┬───────────┬───────────┬───────────┬──────────┐\n",
              "│ statistic ┆ Região    ┆ País      ┆ Tipo de   ┆ … ┆ Custo     ┆ Receita   ┆ Custo     ┆ Lucro    │\n",
              "│ ---       ┆ ---       ┆ ---       ┆ Item      ┆   ┆ Unitário  ┆ Total     ┆ Total     ┆ Total    │\n",
              "│ str       ┆ str       ┆ str       ┆ ---       ┆   ┆ ---       ┆ ---       ┆ ---       ┆ ---      │\n",
              "│           ┆           ┆           ┆ str       ┆   ┆ f64       ┆ f64       ┆ f64       ┆ f64      │\n",
              "╞═══════════╪═══════════╪═══════════╪═══════════╪═══╪═══════════╪═══════════╪═══════════╪══════════╡\n",
              "│ count     ┆ 50423     ┆ 50422     ┆ 50422     ┆ … ┆ 50422.0   ┆ 50422.0   ┆ 50422.0   ┆ 50422.0  │\n",
              "│ null_coun ┆ 0         ┆ 1         ┆ 1         ┆ … ┆ 1.0       ┆ 1.0       ┆ 1.0       ┆ 1.0      │\n",
              "│ t         ┆           ┆           ┆           ┆   ┆           ┆           ┆           ┆          │\n",
              "│ mean      ┆ null      ┆ null      ┆ null      ┆ … ┆ 187.24089 ┆ 1.3265e6  ┆ 935152.05 ┆ 391316.4 │\n",
              "│           ┆           ┆           ┆           ┆   ┆ 3         ┆           ┆ 7279      ┆ 66631    │\n",
              "│ std       ┆ null      ┆ null      ┆ null      ┆ … ┆ 175.27266 ┆ 1.4678e6  ┆ 1.1474e6  ┆ 379721.3 │\n",
              "│           ┆           ┆           ┆           ┆   ┆ 8         ┆           ┆           ┆ 52212    │\n",
              "│ min       ┆ Asia      ┆ Afghanist ┆ Baby Food ┆ … ┆ 6.92      ┆ 9.33      ┆ 6.92      ┆ 2.41     │\n",
              "│           ┆           ┆ an        ┆           ┆   ┆           ┆           ┆           ┆          │\n",
              "│ 25%       ┆ null      ┆ null      ┆ null      ┆ … ┆ 35.84     ┆ 273384.72 ┆ 160127.73 ┆ 92942.1  │\n",
              "│ 50%       ┆ null      ┆ null      ┆ null      ┆ … ┆ 117.11    ┆ 784473.52 ┆ 468535.38 ┆ 278365.8 │\n",
              "│           ┆           ┆           ┆           ┆   ┆           ┆           ┆           ┆ 7        │\n",
              "│ 75%       ┆ null      ┆ null      ┆ null      ┆ … ┆ 263.33    ┆ 1828055.9 ┆ 1.1958e6  ┆ 566794.8 │\n",
              "│ max       ┆ Sub-Sahar ┆ Zimbabwe  ┆ Vegetable ┆ … ┆ 524.96    ┆ 6.6820e6  ┆ 5.2496e6  ┆ 1.7377e6 │\n",
              "│           ┆ an Africa ┆           ┆ s         ┆   ┆           ┆           ┆           ┆          │\n",
              "└───────────┴───────────┴───────────┴───────────┴───┴───────────┴───────────┴───────────┴──────────┘"
            ],
            "text/html": [
              "<div><style>\n",
              ".dataframe > thead > tr,\n",
              ".dataframe > tbody > tr {\n",
              "  text-align: right;\n",
              "  white-space: pre-wrap;\n",
              "}\n",
              "</style>\n",
              "<small>shape: (9, 15)</small><table border=\"1\" class=\"dataframe\"><thead><tr><th>statistic</th><th>Região</th><th>País</th><th>Tipo de Item</th><th>Canal de Venda</th><th>Prioridade do Pedido</th><th>Data do Pedido</th><th>ID do Pedido</th><th>Data de Envio</th><th>Unidades Vendidas</th><th>Preço Unitário</th><th>Custo Unitário</th><th>Receita Total</th><th>Custo Total</th><th>Lucro Total</th></tr><tr><td>str</td><td>str</td><td>str</td><td>str</td><td>str</td><td>str</td><td>str</td><td>f64</td><td>str</td><td>f64</td><td>f64</td><td>f64</td><td>f64</td><td>f64</td><td>f64</td></tr></thead><tbody><tr><td>&quot;count&quot;</td><td>&quot;50423&quot;</td><td>&quot;50422&quot;</td><td>&quot;50422&quot;</td><td>&quot;50422&quot;</td><td>&quot;50422&quot;</td><td>&quot;50422&quot;</td><td>50422.0</td><td>&quot;50422&quot;</td><td>50422.0</td><td>50422.0</td><td>50422.0</td><td>50422.0</td><td>50422.0</td><td>50422.0</td></tr><tr><td>&quot;null_count&quot;</td><td>&quot;0&quot;</td><td>&quot;1&quot;</td><td>&quot;1&quot;</td><td>&quot;1&quot;</td><td>&quot;1&quot;</td><td>&quot;1&quot;</td><td>1.0</td><td>&quot;1&quot;</td><td>1.0</td><td>1.0</td><td>1.0</td><td>1.0</td><td>1.0</td><td>1.0</td></tr><tr><td>&quot;mean&quot;</td><td>null</td><td>null</td><td>null</td><td>null</td><td>null</td><td>null</td><td>5.5187e8</td><td>null</td><td>4984.645552</td><td>265.627887</td><td>187.240893</td><td>1.3265e6</td><td>935152.057279</td><td>391316.466631</td></tr><tr><td>&quot;std&quot;</td><td>null</td><td>null</td><td>null</td><td>null</td><td>null</td><td>null</td><td>2.6009e8</td><td>null</td><td>2883.673869</td><td>216.685146</td><td>175.272668</td><td>1.4678e6</td><td>1.1474e6</td><td>379721.352212</td></tr><tr><td>&quot;min&quot;</td><td>&quot;Asia&quot;</td><td>&quot;Afghanistan&quot;</td><td>&quot;Baby Food&quot;</td><td>&quot;Offline&quot;</td><td>&quot;C&quot;</td><td>&quot;1/1/2010&quot;</td><td>1.000265e8</td><td>&quot;1/1/2010&quot;</td><td>1.0</td><td>9.33</td><td>6.92</td><td>9.33</td><td>6.92</td><td>2.41</td></tr><tr><td>&quot;25%&quot;</td><td>null</td><td>null</td><td>null</td><td>null</td><td>null</td><td>null</td><td>3.2539128e8</td><td>null</td><td>2488.0</td><td>81.73</td><td>35.84</td><td>273384.72</td><td>160127.73</td><td>92942.1</td></tr><tr><td>&quot;50%&quot;</td><td>null</td><td>null</td><td>null</td><td>null</td><td>null</td><td>null</td><td>5.52760207e8</td><td>null</td><td>4974.0</td><td>205.7</td><td>117.11</td><td>784473.52</td><td>468535.38</td><td>278365.87</td></tr><tr><td>&quot;75%&quot;</td><td>null</td><td>null</td><td>null</td><td>null</td><td>null</td><td>null</td><td>7.78552854e8</td><td>null</td><td>7477.0</td><td>421.89</td><td>263.33</td><td>1828055.9</td><td>1.1958e6</td><td>566794.8</td></tr><tr><td>&quot;max&quot;</td><td>&quot;Sub-Saharan Africa&quot;</td><td>&quot;Zimbabwe&quot;</td><td>&quot;Vegetables&quot;</td><td>&quot;Online&quot;</td><td>&quot;M&quot;</td><td>&quot;9/9/2020&quot;</td><td>9.99993455e8</td><td>&quot;9/9/2020&quot;</td><td>10000.0</td><td>668.27</td><td>524.96</td><td>6.6820e6</td><td>5.2496e6</td><td>1.7377e6</td></tr></tbody></table></div>"
            ]
          },
          "metadata": {},
          "execution_count": 4
        }
      ]
    },
    {
      "cell_type": "code",
      "source": [
        "# Estatísticas descritivas apenas para colunas numéricas (Int64 e Float64)\n",
        "df.select(pl.col(pl.Int64, pl.Float64)).describe()"
      ],
      "metadata": {
        "colab": {
          "base_uri": "https://localhost:8080/",
          "height": 380
        },
        "id": "SG2uVRClDJxz",
        "outputId": "c9eda2df-f68b-46d6-e988-41b9391de5c4"
      },
      "execution_count": 5,
      "outputs": [
        {
          "output_type": "execute_result",
          "data": {
            "text/plain": [
              "shape: (9, 8)\n",
              "┌────────────┬────────────┬────────────┬───────────┬───────────┬───────────┬───────────┬───────────┐\n",
              "│ statistic  ┆ ID do      ┆ Unidades   ┆ Preço     ┆ Custo     ┆ Receita   ┆ Custo     ┆ Lucro     │\n",
              "│ ---        ┆ Pedido     ┆ Vendidas   ┆ Unitário  ┆ Unitário  ┆ Total     ┆ Total     ┆ Total     │\n",
              "│ str        ┆ ---        ┆ ---        ┆ ---       ┆ ---       ┆ ---       ┆ ---       ┆ ---       │\n",
              "│            ┆ f64        ┆ f64        ┆ f64       ┆ f64       ┆ f64       ┆ f64       ┆ f64       │\n",
              "╞════════════╪════════════╪════════════╪═══════════╪═══════════╪═══════════╪═══════════╪═══════════╡\n",
              "│ count      ┆ 50422.0    ┆ 50422.0    ┆ 50422.0   ┆ 50422.0   ┆ 50422.0   ┆ 50422.0   ┆ 50422.0   │\n",
              "│ null_count ┆ 1.0        ┆ 1.0        ┆ 1.0       ┆ 1.0       ┆ 1.0       ┆ 1.0       ┆ 1.0       │\n",
              "│ mean       ┆ 5.5187e8   ┆ 4984.64555 ┆ 265.62788 ┆ 187.24089 ┆ 1.3265e6  ┆ 935152.05 ┆ 391316.46 │\n",
              "│            ┆            ┆ 2          ┆ 7         ┆ 3         ┆           ┆ 7279      ┆ 6631      │\n",
              "│ std        ┆ 2.6009e8   ┆ 2883.67386 ┆ 216.68514 ┆ 175.27266 ┆ 1.4678e6  ┆ 1.1474e6  ┆ 379721.35 │\n",
              "│            ┆            ┆ 9          ┆ 6         ┆ 8         ┆           ┆           ┆ 2212      │\n",
              "│ min        ┆ 1.000265e8 ┆ 1.0        ┆ 9.33      ┆ 6.92      ┆ 9.33      ┆ 6.92      ┆ 2.41      │\n",
              "│ 25%        ┆ 3.2539128e ┆ 2488.0     ┆ 81.73     ┆ 35.84     ┆ 273384.72 ┆ 160127.73 ┆ 92942.1   │\n",
              "│            ┆ 8          ┆            ┆           ┆           ┆           ┆           ┆           │\n",
              "│ 50%        ┆ 5.52760207 ┆ 4974.0     ┆ 205.7     ┆ 117.11    ┆ 784473.52 ┆ 468535.38 ┆ 278365.87 │\n",
              "│            ┆ e8         ┆            ┆           ┆           ┆           ┆           ┆           │\n",
              "│ 75%        ┆ 7.78552854 ┆ 7477.0     ┆ 421.89    ┆ 263.33    ┆ 1828055.9 ┆ 1.1958e6  ┆ 566794.8  │\n",
              "│            ┆ e8         ┆            ┆           ┆           ┆           ┆           ┆           │\n",
              "│ max        ┆ 9.99993455 ┆ 10000.0    ┆ 668.27    ┆ 524.96    ┆ 6.6820e6  ┆ 5.2496e6  ┆ 1.7377e6  │\n",
              "│            ┆ e8         ┆            ┆           ┆           ┆           ┆           ┆           │\n",
              "└────────────┴────────────┴────────────┴───────────┴───────────┴───────────┴───────────┴───────────┘"
            ],
            "text/html": [
              "<div><style>\n",
              ".dataframe > thead > tr,\n",
              ".dataframe > tbody > tr {\n",
              "  text-align: right;\n",
              "  white-space: pre-wrap;\n",
              "}\n",
              "</style>\n",
              "<small>shape: (9, 8)</small><table border=\"1\" class=\"dataframe\"><thead><tr><th>statistic</th><th>ID do Pedido</th><th>Unidades Vendidas</th><th>Preço Unitário</th><th>Custo Unitário</th><th>Receita Total</th><th>Custo Total</th><th>Lucro Total</th></tr><tr><td>str</td><td>f64</td><td>f64</td><td>f64</td><td>f64</td><td>f64</td><td>f64</td><td>f64</td></tr></thead><tbody><tr><td>&quot;count&quot;</td><td>50422.0</td><td>50422.0</td><td>50422.0</td><td>50422.0</td><td>50422.0</td><td>50422.0</td><td>50422.0</td></tr><tr><td>&quot;null_count&quot;</td><td>1.0</td><td>1.0</td><td>1.0</td><td>1.0</td><td>1.0</td><td>1.0</td><td>1.0</td></tr><tr><td>&quot;mean&quot;</td><td>5.5187e8</td><td>4984.645552</td><td>265.627887</td><td>187.240893</td><td>1.3265e6</td><td>935152.057279</td><td>391316.466631</td></tr><tr><td>&quot;std&quot;</td><td>2.6009e8</td><td>2883.673869</td><td>216.685146</td><td>175.272668</td><td>1.4678e6</td><td>1.1474e6</td><td>379721.352212</td></tr><tr><td>&quot;min&quot;</td><td>1.000265e8</td><td>1.0</td><td>9.33</td><td>6.92</td><td>9.33</td><td>6.92</td><td>2.41</td></tr><tr><td>&quot;25%&quot;</td><td>3.2539128e8</td><td>2488.0</td><td>81.73</td><td>35.84</td><td>273384.72</td><td>160127.73</td><td>92942.1</td></tr><tr><td>&quot;50%&quot;</td><td>5.52760207e8</td><td>4974.0</td><td>205.7</td><td>117.11</td><td>784473.52</td><td>468535.38</td><td>278365.87</td></tr><tr><td>&quot;75%&quot;</td><td>7.78552854e8</td><td>7477.0</td><td>421.89</td><td>263.33</td><td>1828055.9</td><td>1.1958e6</td><td>566794.8</td></tr><tr><td>&quot;max&quot;</td><td>9.99993455e8</td><td>10000.0</td><td>668.27</td><td>524.96</td><td>6.6820e6</td><td>5.2496e6</td><td>1.7377e6</td></tr></tbody></table></div>"
            ]
          },
          "metadata": {},
          "execution_count": 5
        }
      ]
    },
    {
      "cell_type": "code",
      "source": [
        "# Contando valores nulos em cada coluna\n",
        "df.null_count()"
      ],
      "metadata": {
        "colab": {
          "base_uri": "https://localhost:8080/",
          "height": 147
        },
        "id": "UOsztqcXDUbV",
        "outputId": "12f4ca36-498b-49d8-f8cf-0ebb553c0b19"
      },
      "execution_count": 6,
      "outputs": [
        {
          "output_type": "execute_result",
          "data": {
            "text/plain": [
              "shape: (1, 14)\n",
              "┌────────┬──────┬─────────┬──────────┬───┬──────────┬─────────┬─────────────┬─────────────┐\n",
              "│ Região ┆ País ┆ Tipo de ┆ Canal de ┆ … ┆ Custo    ┆ Receita ┆ Custo Total ┆ Lucro Total │\n",
              "│ ---    ┆ ---  ┆ Item    ┆ Venda    ┆   ┆ Unitário ┆ Total   ┆ ---         ┆ ---         │\n",
              "│ u32    ┆ u32  ┆ ---     ┆ ---      ┆   ┆ ---      ┆ ---     ┆ u32         ┆ u32         │\n",
              "│        ┆      ┆ u32     ┆ u32      ┆   ┆ u32      ┆ u32     ┆             ┆             │\n",
              "╞════════╪══════╪═════════╪══════════╪═══╪══════════╪═════════╪═════════════╪═════════════╡\n",
              "│ 0      ┆ 1    ┆ 1       ┆ 1        ┆ … ┆ 1        ┆ 1       ┆ 1           ┆ 1           │\n",
              "└────────┴──────┴─────────┴──────────┴───┴──────────┴─────────┴─────────────┴─────────────┘"
            ],
            "text/html": [
              "<div><style>\n",
              ".dataframe > thead > tr,\n",
              ".dataframe > tbody > tr {\n",
              "  text-align: right;\n",
              "  white-space: pre-wrap;\n",
              "}\n",
              "</style>\n",
              "<small>shape: (1, 14)</small><table border=\"1\" class=\"dataframe\"><thead><tr><th>Região</th><th>País</th><th>Tipo de Item</th><th>Canal de Venda</th><th>Prioridade do Pedido</th><th>Data do Pedido</th><th>ID do Pedido</th><th>Data de Envio</th><th>Unidades Vendidas</th><th>Preço Unitário</th><th>Custo Unitário</th><th>Receita Total</th><th>Custo Total</th><th>Lucro Total</th></tr><tr><td>u32</td><td>u32</td><td>u32</td><td>u32</td><td>u32</td><td>u32</td><td>u32</td><td>u32</td><td>u32</td><td>u32</td><td>u32</td><td>u32</td><td>u32</td><td>u32</td></tr></thead><tbody><tr><td>0</td><td>1</td><td>1</td><td>1</td><td>1</td><td>1</td><td>1</td><td>1</td><td>1</td><td>1</td><td>1</td><td>1</td><td>1</td><td>1</td></tr></tbody></table></div>"
            ]
          },
          "metadata": {},
          "execution_count": 6
        }
      ]
    },
    {
      "cell_type": "code",
      "source": [
        "# Contagem detalhada de NaN e nulls para todas as colunas\n",
        "nan_counts = {\n",
        "    col: (\n",
        "        # Contar NaN apenas para colunas float\n",
        "        (df[col].is_nan().sum() if df[col].dtype in (pl.Int64, pl.Float64) else 0)\n",
        "        # Contar null para todas as colunas\n",
        "        + df[col].is_null().sum()\n",
        "    )\n",
        "    for col in df.columns\n",
        "}"
      ],
      "metadata": {
        "id": "67hvPl4RDYuM"
      },
      "execution_count": 7,
      "outputs": []
    },
    {
      "cell_type": "code",
      "source": [
        "nan_counts"
      ],
      "metadata": {
        "colab": {
          "base_uri": "https://localhost:8080/"
        },
        "id": "xzHK_YnbEEhp",
        "outputId": "f9445664-7f7b-42de-aae4-a09284ab7ba7"
      },
      "execution_count": 8,
      "outputs": [
        {
          "output_type": "execute_result",
          "data": {
            "text/plain": [
              "{'Região': 0,\n",
              " 'País': 1,\n",
              " 'Tipo de Item': 1,\n",
              " 'Canal de Venda': 1,\n",
              " 'Prioridade do Pedido': 1,\n",
              " 'Data do Pedido': 1,\n",
              " 'ID do Pedido': 1,\n",
              " 'Data de Envio': 1,\n",
              " 'Unidades Vendidas': 1,\n",
              " 'Preço Unitário': 1,\n",
              " 'Custo Unitário': 1,\n",
              " 'Receita Total': 1,\n",
              " 'Custo Total': 1,\n",
              " 'Lucro Total': 1}"
            ]
          },
          "metadata": {},
          "execution_count": 8
        }
      ]
    },
    {
      "cell_type": "code",
      "source": [
        "# Verificando valores únicos na coluna \"Região\"\n",
        "df['Região'].unique()"
      ],
      "metadata": {
        "colab": {
          "base_uri": "https://localhost:8080/",
          "height": 349
        },
        "id": "zq98ktEmEKBc",
        "outputId": "4833d876-a48c-4503-9f80-966fb6e5f5ce"
      },
      "execution_count": 9,
      "outputs": [
        {
          "output_type": "execute_result",
          "data": {
            "text/plain": [
              "shape: (8,)\n",
              "Series: 'Região' [str]\n",
              "[\n",
              "\t\"Sub-Saharan Africa\"\n",
              "\t\"Australia and Oce\"\n",
              "\t\"Middle East and North Africa\"\n",
              "\t\"Europe\"\n",
              "\t\"North America\"\n",
              "\t\"Asia\"\n",
              "\t\"Australia and Oceania\"\n",
              "\t\"Central America and the Caribb…\n",
              "]"
            ],
            "text/html": [
              "<div><style>\n",
              ".dataframe > thead > tr,\n",
              ".dataframe > tbody > tr {\n",
              "  text-align: right;\n",
              "  white-space: pre-wrap;\n",
              "}\n",
              "</style>\n",
              "<small>shape: (8,)</small><table border=\"1\" class=\"dataframe\"><thead><tr><th>Região</th></tr><tr><td>str</td></tr></thead><tbody><tr><td>&quot;Sub-Saharan Africa&quot;</td></tr><tr><td>&quot;Australia and Oce&quot;</td></tr><tr><td>&quot;Middle East and North Africa&quot;</td></tr><tr><td>&quot;Europe&quot;</td></tr><tr><td>&quot;North America&quot;</td></tr><tr><td>&quot;Asia&quot;</td></tr><tr><td>&quot;Australia and Oceania&quot;</td></tr><tr><td>&quot;Central America and the Caribb…</td></tr></tbody></table></div>"
            ]
          },
          "metadata": {},
          "execution_count": 9
        }
      ]
    },
    {
      "cell_type": "code",
      "source": [
        "# Filtrando apenas as linhas das regiões \"Europe\" e \"Asia\"\n",
        "df_regions = df.filter((pl.col(\"Região\") == \"Eurupe\") | (pl.col(\"Região\") == \"Asia\"))"
      ],
      "metadata": {
        "id": "EY2fLG4xEO09"
      },
      "execution_count": 10,
      "outputs": []
    },
    {
      "cell_type": "code",
      "source": [
        "df_regions.shape"
      ],
      "metadata": {
        "colab": {
          "base_uri": "https://localhost:8080/"
        },
        "id": "j7eLuFR_EgD2",
        "outputId": "5262e641-8644-49f7-8051-5c1f3a82dcfd"
      },
      "execution_count": 11,
      "outputs": [
        {
          "output_type": "execute_result",
          "data": {
            "text/plain": [
              "(7354, 14)"
            ]
          },
          "metadata": {},
          "execution_count": 11
        }
      ]
    },
    {
      "cell_type": "code",
      "source": [
        "# Visualizando as 5 primeiras linhas do dataset filtrado\n",
        "df_regions.head()"
      ],
      "metadata": {
        "colab": {
          "base_uri": "https://localhost:8080/",
          "height": 272
        },
        "id": "yJp6GMkzEmKc",
        "outputId": "8ca4c022-c212-417e-a26e-4104cdd407a1"
      },
      "execution_count": 12,
      "outputs": [
        {
          "output_type": "execute_result",
          "data": {
            "text/plain": [
              "shape: (5, 14)\n",
              "┌────────┬────────────┬────────────┬───────────┬───┬───────────┬───────────┬───────────┬───────────┐\n",
              "│ Região ┆ País       ┆ Tipo de    ┆ Canal de  ┆ … ┆ Custo     ┆ Receita   ┆ Custo     ┆ Lucro     │\n",
              "│ ---    ┆ ---        ┆ Item       ┆ Venda     ┆   ┆ Unitário  ┆ Total     ┆ Total     ┆ Total     │\n",
              "│ str    ┆ str        ┆ ---        ┆ ---       ┆   ┆ ---       ┆ ---       ┆ ---       ┆ ---       │\n",
              "│        ┆            ┆ str        ┆ str       ┆   ┆ f64       ┆ f64       ┆ f64       ┆ f64       │\n",
              "╞════════╪════════════╪════════════╪═══════════╪═══╪═══════════╪═══════════╪═══════════╪═══════════╡\n",
              "│ Asia   ┆ Bangladesh ┆ Cereal     ┆ Offline   ┆ … ┆ 117.11    ┆ 661531.2  ┆ 376625.76 ┆ 284905.44 │\n",
              "│ Asia   ┆ Kyrgyzstan ┆ Snacks     ┆ Offline   ┆ … ┆ 97.44     ┆ 673793.28 ┆ 430295.04 ┆ 243498.24 │\n",
              "│ Asia   ┆ Bangladesh ┆ Fruits     ┆ Online    ┆ … ┆ 6.92      ┆ 5831.25   ┆ 4325.0    ┆ 1506.25   │\n",
              "│ Asia   ┆ Myanmar    ┆ Vegetables ┆ Offline   ┆ … ┆ 90.93     ┆ 576954.7  ┆ 340532.85 ┆ 236421.85 │\n",
              "│ Asia   ┆ Uzbekistan ┆ Baby Food  ┆ Online    ┆ … ┆ 159.42    ┆ 982828.0  ┆ 613767.0  ┆ 369061.0  │\n",
              "└────────┴────────────┴────────────┴───────────┴───┴───────────┴───────────┴───────────┴───────────┘"
            ],
            "text/html": [
              "<div><style>\n",
              ".dataframe > thead > tr,\n",
              ".dataframe > tbody > tr {\n",
              "  text-align: right;\n",
              "  white-space: pre-wrap;\n",
              "}\n",
              "</style>\n",
              "<small>shape: (5, 14)</small><table border=\"1\" class=\"dataframe\"><thead><tr><th>Região</th><th>País</th><th>Tipo de Item</th><th>Canal de Venda</th><th>Prioridade do Pedido</th><th>Data do Pedido</th><th>ID do Pedido</th><th>Data de Envio</th><th>Unidades Vendidas</th><th>Preço Unitário</th><th>Custo Unitário</th><th>Receita Total</th><th>Custo Total</th><th>Lucro Total</th></tr><tr><td>str</td><td>str</td><td>str</td><td>str</td><td>str</td><td>str</td><td>i64</td><td>str</td><td>f64</td><td>f64</td><td>f64</td><td>f64</td><td>f64</td><td>f64</td></tr></thead><tbody><tr><td>&quot;Asia&quot;</td><td>&quot;Bangladesh&quot;</td><td>&quot;Cereal&quot;</td><td>&quot;Offline&quot;</td><td>&quot;L&quot;</td><td>&quot;12/3/2013&quot;</td><td>132448184</td><td>&quot;1/15/2014&quot;</td><td>3216.0</td><td>205.7</td><td>117.11</td><td>661531.2</td><td>376625.76</td><td>284905.44</td></tr><tr><td>&quot;Asia&quot;</td><td>&quot;Kyrgyzstan&quot;</td><td>&quot;Snacks&quot;</td><td>&quot;Offline&quot;</td><td>&quot;H&quot;</td><td>&quot;11/22/2018&quot;</td><td>766909492</td><td>&quot;12/15/2018&quot;</td><td>4416.0</td><td>152.58</td><td>97.44</td><td>673793.28</td><td>430295.04</td><td>243498.24</td></tr><tr><td>&quot;Asia&quot;</td><td>&quot;Bangladesh&quot;</td><td>&quot;Fruits&quot;</td><td>&quot;Online&quot;</td><td>&quot;L&quot;</td><td>&quot;9/14/2019&quot;</td><td>467966783</td><td>&quot;9/27/2019&quot;</td><td>625.0</td><td>9.33</td><td>6.92</td><td>5831.25</td><td>4325.0</td><td>1506.25</td></tr><tr><td>&quot;Asia&quot;</td><td>&quot;Myanmar&quot;</td><td>&quot;Vegetables&quot;</td><td>&quot;Offline&quot;</td><td>&quot;H&quot;</td><td>&quot;3/28/2016&quot;</td><td>727876698</td><td>&quot;4/19/2016&quot;</td><td>3745.0</td><td>154.06</td><td>90.93</td><td>576954.7</td><td>340532.85</td><td>236421.85</td></tr><tr><td>&quot;Asia&quot;</td><td>&quot;Uzbekistan&quot;</td><td>&quot;Baby Food&quot;</td><td>&quot;Online&quot;</td><td>&quot;L&quot;</td><td>&quot;10/9/2010&quot;</td><td>498357284</td><td>&quot;10/12/2010&quot;</td><td>3850.0</td><td>255.28</td><td>159.42</td><td>982828.0</td><td>613767.0</td><td>369061.0</td></tr></tbody></table></div>"
            ]
          },
          "metadata": {},
          "execution_count": 12
        }
      ]
    },
    {
      "cell_type": "code",
      "source": [
        "# Filtrando agora apenas os dados do país \"Germany\"\n",
        "df = df.filter(df[\"País\"] == \"Germany\")\n",
        "df.head()"
      ],
      "metadata": {
        "colab": {
          "base_uri": "https://localhost:8080/",
          "height": 289
        },
        "id": "lQHQiWAtEo91",
        "outputId": "efeae7a8-0a3b-4a4a-cdd0-ab61638cd93d"
      },
      "execution_count": 13,
      "outputs": [
        {
          "output_type": "execute_result",
          "data": {
            "text/plain": [
              "shape: (5, 14)\n",
              "┌────────┬─────────┬────────────┬────────────┬───┬────────────┬────────────┬───────────┬───────────┐\n",
              "│ Região ┆ País    ┆ Tipo de    ┆ Canal de   ┆ … ┆ Custo      ┆ Receita    ┆ Custo     ┆ Lucro     │\n",
              "│ ---    ┆ ---     ┆ Item       ┆ Venda      ┆   ┆ Unitário   ┆ Total      ┆ Total     ┆ Total     │\n",
              "│ str    ┆ str     ┆ ---        ┆ ---        ┆   ┆ ---        ┆ ---        ┆ ---       ┆ ---       │\n",
              "│        ┆         ┆ str        ┆ str        ┆   ┆ f64        ┆ f64        ┆ f64       ┆ f64       │\n",
              "╞════════╪═════════╪════════════╪════════════╪═══╪════════════╪════════════╪═══════════╪═══════════╡\n",
              "│ Europe ┆ Germany ┆ Personal   ┆ Offline    ┆ … ┆ 56.67      ┆ 631119.06  ┆ 437605.74 ┆ 193513.32 │\n",
              "│        ┆         ┆ Care       ┆            ┆   ┆            ┆            ┆           ┆           │\n",
              "│ Europe ┆ Germany ┆ Clothes    ┆ Online     ┆ … ┆ 35.84      ┆ 127092.64  ┆ 41681.92  ┆ 85410.72  │\n",
              "│ Europe ┆ Germany ┆ Meat       ┆ Online     ┆ … ┆ 364.69     ┆ 4.1919e6   ┆ 3.6236e6  ┆ 568339.2  │\n",
              "│ Europe ┆ Germany ┆ Cereal     ┆ Online     ┆ … ┆ 117.11     ┆ 1846980.3  ┆ 1.0515e6  ┆ 795449.61 │\n",
              "│ Europe ┆ Germany ┆ Baby Food  ┆ Offline    ┆ … ┆ 159.42     ┆ 527663.76  ┆ 329521.14 ┆ 198142.62 │\n",
              "└────────┴─────────┴────────────┴────────────┴───┴────────────┴────────────┴───────────┴───────────┘"
            ],
            "text/html": [
              "<div><style>\n",
              ".dataframe > thead > tr,\n",
              ".dataframe > tbody > tr {\n",
              "  text-align: right;\n",
              "  white-space: pre-wrap;\n",
              "}\n",
              "</style>\n",
              "<small>shape: (5, 14)</small><table border=\"1\" class=\"dataframe\"><thead><tr><th>Região</th><th>País</th><th>Tipo de Item</th><th>Canal de Venda</th><th>Prioridade do Pedido</th><th>Data do Pedido</th><th>ID do Pedido</th><th>Data de Envio</th><th>Unidades Vendidas</th><th>Preço Unitário</th><th>Custo Unitário</th><th>Receita Total</th><th>Custo Total</th><th>Lucro Total</th></tr><tr><td>str</td><td>str</td><td>str</td><td>str</td><td>str</td><td>str</td><td>i64</td><td>str</td><td>f64</td><td>f64</td><td>f64</td><td>f64</td><td>f64</td><td>f64</td></tr></thead><tbody><tr><td>&quot;Europe&quot;</td><td>&quot;Germany&quot;</td><td>&quot;Personal Care&quot;</td><td>&quot;Offline&quot;</td><td>&quot;H&quot;</td><td>&quot;12/25/2010&quot;</td><td>842548644</td><td>&quot;1/24/2011&quot;</td><td>7722.0</td><td>81.73</td><td>56.67</td><td>631119.06</td><td>437605.74</td><td>193513.32</td></tr><tr><td>&quot;Europe&quot;</td><td>&quot;Germany&quot;</td><td>&quot;Clothes&quot;</td><td>&quot;Online&quot;</td><td>&quot;L&quot;</td><td>&quot;7/1/2011&quot;</td><td>650888288</td><td>&quot;8/18/2011&quot;</td><td>1163.0</td><td>109.28</td><td>35.84</td><td>127092.64</td><td>41681.92</td><td>85410.72</td></tr><tr><td>&quot;Europe&quot;</td><td>&quot;Germany&quot;</td><td>&quot;Meat&quot;</td><td>&quot;Online&quot;</td><td>&quot;H&quot;</td><td>&quot;9/9/2013&quot;</td><td>444275796</td><td>&quot;10/3/2013&quot;</td><td>9936.0</td><td>421.89</td><td>364.69</td><td>4.1919e6</td><td>3.6236e6</td><td>568339.2</td></tr><tr><td>&quot;Europe&quot;</td><td>&quot;Germany&quot;</td><td>&quot;Cereal&quot;</td><td>&quot;Online&quot;</td><td>&quot;M&quot;</td><td>&quot;4/10/2011&quot;</td><td>847790753</td><td>&quot;5/22/2011&quot;</td><td>8979.0</td><td>205.7</td><td>117.11</td><td>1846980.3</td><td>1.0515e6</td><td>795449.61</td></tr><tr><td>&quot;Europe&quot;</td><td>&quot;Germany&quot;</td><td>&quot;Baby Food&quot;</td><td>&quot;Offline&quot;</td><td>&quot;H&quot;</td><td>&quot;6/2/2011&quot;</td><td>817252624</td><td>&quot;6/22/2011&quot;</td><td>2067.0</td><td>255.28</td><td>159.42</td><td>527663.76</td><td>329521.14</td><td>198142.62</td></tr></tbody></table></div>"
            ]
          },
          "metadata": {},
          "execution_count": 13
        }
      ]
    },
    {
      "cell_type": "code",
      "source": [
        "# Converter colunas de data para o formato datetime\n",
        "df = df_regions.with_columns(\n",
        "    pl.col(\"Data do Pedido\").str.strptime(pl.Date, \"%m/%d/%Y\"),\n",
        "    pl.col(\"Data de Envio\").str.strptime(pl.Date, \"%m/%d/%Y\")\n",
        ")\n",
        "\n",
        "df.head()    # visualiza as primeiras linhas para conferir"
      ],
      "metadata": {
        "id": "VvSH4mNJE64J",
        "colab": {
          "base_uri": "https://localhost:8080/",
          "height": 359
        },
        "outputId": "e7d1341d-20da-4d1d-9157-8a7b62cf7f87"
      },
      "execution_count": 14,
      "outputs": [
        {
          "output_type": "execute_result",
          "data": {
            "text/plain": [
              "shape: (5, 14)\n",
              "┌────────┬────────────┬────────────┬───────────┬───┬───────────┬───────────┬───────────┬───────────┐\n",
              "│ Região ┆ País       ┆ Tipo de    ┆ Canal de  ┆ … ┆ Custo     ┆ Receita   ┆ Custo     ┆ Lucro     │\n",
              "│ ---    ┆ ---        ┆ Item       ┆ Venda     ┆   ┆ Unitário  ┆ Total     ┆ Total     ┆ Total     │\n",
              "│ str    ┆ str        ┆ ---        ┆ ---       ┆   ┆ ---       ┆ ---       ┆ ---       ┆ ---       │\n",
              "│        ┆            ┆ str        ┆ str       ┆   ┆ f64       ┆ f64       ┆ f64       ┆ f64       │\n",
              "╞════════╪════════════╪════════════╪═══════════╪═══╪═══════════╪═══════════╪═══════════╪═══════════╡\n",
              "│ Asia   ┆ Bangladesh ┆ Cereal     ┆ Offline   ┆ … ┆ 117.11    ┆ 661531.2  ┆ 376625.76 ┆ 284905.44 │\n",
              "│ Asia   ┆ Kyrgyzstan ┆ Snacks     ┆ Offline   ┆ … ┆ 97.44     ┆ 673793.28 ┆ 430295.04 ┆ 243498.24 │\n",
              "│ Asia   ┆ Bangladesh ┆ Fruits     ┆ Online    ┆ … ┆ 6.92      ┆ 5831.25   ┆ 4325.0    ┆ 1506.25   │\n",
              "│ Asia   ┆ Myanmar    ┆ Vegetables ┆ Offline   ┆ … ┆ 90.93     ┆ 576954.7  ┆ 340532.85 ┆ 236421.85 │\n",
              "│ Asia   ┆ Uzbekistan ┆ Baby Food  ┆ Online    ┆ … ┆ 159.42    ┆ 982828.0  ┆ 613767.0  ┆ 369061.0  │\n",
              "└────────┴────────────┴────────────┴───────────┴───┴───────────┴───────────┴───────────┴───────────┘"
            ],
            "text/html": [
              "<div><style>\n",
              ".dataframe > thead > tr,\n",
              ".dataframe > tbody > tr {\n",
              "  text-align: right;\n",
              "  white-space: pre-wrap;\n",
              "}\n",
              "</style>\n",
              "<small>shape: (5, 14)</small><table border=\"1\" class=\"dataframe\"><thead><tr><th>Região</th><th>País</th><th>Tipo de Item</th><th>Canal de Venda</th><th>Prioridade do Pedido</th><th>Data do Pedido</th><th>ID do Pedido</th><th>Data de Envio</th><th>Unidades Vendidas</th><th>Preço Unitário</th><th>Custo Unitário</th><th>Receita Total</th><th>Custo Total</th><th>Lucro Total</th></tr><tr><td>str</td><td>str</td><td>str</td><td>str</td><td>str</td><td>date</td><td>i64</td><td>date</td><td>f64</td><td>f64</td><td>f64</td><td>f64</td><td>f64</td><td>f64</td></tr></thead><tbody><tr><td>&quot;Asia&quot;</td><td>&quot;Bangladesh&quot;</td><td>&quot;Cereal&quot;</td><td>&quot;Offline&quot;</td><td>&quot;L&quot;</td><td>2013-12-03</td><td>132448184</td><td>2014-01-15</td><td>3216.0</td><td>205.7</td><td>117.11</td><td>661531.2</td><td>376625.76</td><td>284905.44</td></tr><tr><td>&quot;Asia&quot;</td><td>&quot;Kyrgyzstan&quot;</td><td>&quot;Snacks&quot;</td><td>&quot;Offline&quot;</td><td>&quot;H&quot;</td><td>2018-11-22</td><td>766909492</td><td>2018-12-15</td><td>4416.0</td><td>152.58</td><td>97.44</td><td>673793.28</td><td>430295.04</td><td>243498.24</td></tr><tr><td>&quot;Asia&quot;</td><td>&quot;Bangladesh&quot;</td><td>&quot;Fruits&quot;</td><td>&quot;Online&quot;</td><td>&quot;L&quot;</td><td>2019-09-14</td><td>467966783</td><td>2019-09-27</td><td>625.0</td><td>9.33</td><td>6.92</td><td>5831.25</td><td>4325.0</td><td>1506.25</td></tr><tr><td>&quot;Asia&quot;</td><td>&quot;Myanmar&quot;</td><td>&quot;Vegetables&quot;</td><td>&quot;Offline&quot;</td><td>&quot;H&quot;</td><td>2016-03-28</td><td>727876698</td><td>2016-04-19</td><td>3745.0</td><td>154.06</td><td>90.93</td><td>576954.7</td><td>340532.85</td><td>236421.85</td></tr><tr><td>&quot;Asia&quot;</td><td>&quot;Uzbekistan&quot;</td><td>&quot;Baby Food&quot;</td><td>&quot;Online&quot;</td><td>&quot;L&quot;</td><td>2010-10-09</td><td>498357284</td><td>2010-10-12</td><td>3850.0</td><td>255.28</td><td>159.42</td><td>982828.0</td><td>613767.0</td><td>369061.0</td></tr></tbody></table></div>"
            ]
          },
          "metadata": {},
          "execution_count": 14
        }
      ]
    },
    {
      "cell_type": "code",
      "source": [
        "# Criar coluna calculada: duração entre pedido e envio\n",
        "df = df.with_columns(\n",
        "    (pl.col(\"Data de Envio\") - pl.col(\"Data do Pedido\")).alias(\"Tempo de Envio\")\n",
        ")\n",
        "\n",
        "df.head()"
      ],
      "metadata": {
        "colab": {
          "base_uri": "https://localhost:8080/",
          "height": 359
        },
        "id": "eQFJbAEN6Ukw",
        "outputId": "df4aee7d-c3a4-403d-c217-9f1b33542a14"
      },
      "execution_count": 15,
      "outputs": [
        {
          "output_type": "execute_result",
          "data": {
            "text/plain": [
              "shape: (5, 15)\n",
              "┌────────┬────────────┬────────────┬───────────┬───┬───────────┬───────────┬───────────┬───────────┐\n",
              "│ Região ┆ País       ┆ Tipo de    ┆ Canal de  ┆ … ┆ Receita   ┆ Custo     ┆ Lucro     ┆ Tempo de  │\n",
              "│ ---    ┆ ---        ┆ Item       ┆ Venda     ┆   ┆ Total     ┆ Total     ┆ Total     ┆ Envio     │\n",
              "│ str    ┆ str        ┆ ---        ┆ ---       ┆   ┆ ---       ┆ ---       ┆ ---       ┆ ---       │\n",
              "│        ┆            ┆ str        ┆ str       ┆   ┆ f64       ┆ f64       ┆ f64       ┆ duration[ │\n",
              "│        ┆            ┆            ┆           ┆   ┆           ┆           ┆           ┆ ms]       │\n",
              "╞════════╪════════════╪════════════╪═══════════╪═══╪═══════════╪═══════════╪═══════════╪═══════════╡\n",
              "│ Asia   ┆ Bangladesh ┆ Cereal     ┆ Offline   ┆ … ┆ 661531.2  ┆ 376625.76 ┆ 284905.44 ┆ 43d       │\n",
              "│ Asia   ┆ Kyrgyzstan ┆ Snacks     ┆ Offline   ┆ … ┆ 673793.28 ┆ 430295.04 ┆ 243498.24 ┆ 23d       │\n",
              "│ Asia   ┆ Bangladesh ┆ Fruits     ┆ Online    ┆ … ┆ 5831.25   ┆ 4325.0    ┆ 1506.25   ┆ 13d       │\n",
              "│ Asia   ┆ Myanmar    ┆ Vegetables ┆ Offline   ┆ … ┆ 576954.7  ┆ 340532.85 ┆ 236421.85 ┆ 22d       │\n",
              "│ Asia   ┆ Uzbekistan ┆ Baby Food  ┆ Online    ┆ … ┆ 982828.0  ┆ 613767.0  ┆ 369061.0  ┆ 3d        │\n",
              "└────────┴────────────┴────────────┴───────────┴───┴───────────┴───────────┴───────────┴───────────┘"
            ],
            "text/html": [
              "<div><style>\n",
              ".dataframe > thead > tr,\n",
              ".dataframe > tbody > tr {\n",
              "  text-align: right;\n",
              "  white-space: pre-wrap;\n",
              "}\n",
              "</style>\n",
              "<small>shape: (5, 15)</small><table border=\"1\" class=\"dataframe\"><thead><tr><th>Região</th><th>País</th><th>Tipo de Item</th><th>Canal de Venda</th><th>Prioridade do Pedido</th><th>Data do Pedido</th><th>ID do Pedido</th><th>Data de Envio</th><th>Unidades Vendidas</th><th>Preço Unitário</th><th>Custo Unitário</th><th>Receita Total</th><th>Custo Total</th><th>Lucro Total</th><th>Tempo de Envio</th></tr><tr><td>str</td><td>str</td><td>str</td><td>str</td><td>str</td><td>date</td><td>i64</td><td>date</td><td>f64</td><td>f64</td><td>f64</td><td>f64</td><td>f64</td><td>f64</td><td>duration[ms]</td></tr></thead><tbody><tr><td>&quot;Asia&quot;</td><td>&quot;Bangladesh&quot;</td><td>&quot;Cereal&quot;</td><td>&quot;Offline&quot;</td><td>&quot;L&quot;</td><td>2013-12-03</td><td>132448184</td><td>2014-01-15</td><td>3216.0</td><td>205.7</td><td>117.11</td><td>661531.2</td><td>376625.76</td><td>284905.44</td><td>43d</td></tr><tr><td>&quot;Asia&quot;</td><td>&quot;Kyrgyzstan&quot;</td><td>&quot;Snacks&quot;</td><td>&quot;Offline&quot;</td><td>&quot;H&quot;</td><td>2018-11-22</td><td>766909492</td><td>2018-12-15</td><td>4416.0</td><td>152.58</td><td>97.44</td><td>673793.28</td><td>430295.04</td><td>243498.24</td><td>23d</td></tr><tr><td>&quot;Asia&quot;</td><td>&quot;Bangladesh&quot;</td><td>&quot;Fruits&quot;</td><td>&quot;Online&quot;</td><td>&quot;L&quot;</td><td>2019-09-14</td><td>467966783</td><td>2019-09-27</td><td>625.0</td><td>9.33</td><td>6.92</td><td>5831.25</td><td>4325.0</td><td>1506.25</td><td>13d</td></tr><tr><td>&quot;Asia&quot;</td><td>&quot;Myanmar&quot;</td><td>&quot;Vegetables&quot;</td><td>&quot;Offline&quot;</td><td>&quot;H&quot;</td><td>2016-03-28</td><td>727876698</td><td>2016-04-19</td><td>3745.0</td><td>154.06</td><td>90.93</td><td>576954.7</td><td>340532.85</td><td>236421.85</td><td>22d</td></tr><tr><td>&quot;Asia&quot;</td><td>&quot;Uzbekistan&quot;</td><td>&quot;Baby Food&quot;</td><td>&quot;Online&quot;</td><td>&quot;L&quot;</td><td>2010-10-09</td><td>498357284</td><td>2010-10-12</td><td>3850.0</td><td>255.28</td><td>159.42</td><td>982828.0</td><td>613767.0</td><td>369061.0</td><td>3d</td></tr></tbody></table></div>"
            ]
          },
          "metadata": {},
          "execution_count": 15
        }
      ]
    },
    {
      "cell_type": "code",
      "source": [
        "import matplotlib.pyplot as plt"
      ],
      "metadata": {
        "id": "Reh2tQOs6wjk"
      },
      "execution_count": 16,
      "outputs": []
    },
    {
      "cell_type": "code",
      "source": [
        "# Filtrar pedidos com prioridade \"H\" (High)\n",
        "filtered_data = df.filter(pl.col(\"Prioridade do Pedido\") == \"H\").to_pandas()\n",
        "# Converter duração para dias inteiros\n",
        "filtered_data['Tempo de Envio (dias)'] = filtered_data['Tempo de Envio'].dt.days\n",
        "\n",
        "# Plotar histograma da distribuição dos dias de envio\n",
        "plt.hist(filtered_data['Tempo de Envio (dias)'], bins=50, edgecolor=\"black\")\n",
        "plt.title(\"Distribuição de Tempo de Envio (Prioridade do Pedido: H)\")\n",
        "plt.xlabel(\"Tempo de Envio (dias)\")\n",
        "plt.ylabel(\"Frequência\")\n",
        "plt.show()"
      ],
      "metadata": {
        "colab": {
          "base_uri": "https://localhost:8080/",
          "height": 472
        },
        "id": "Ez7fww_N60bM",
        "outputId": "d6941d95-4c19-49db-8a08-4a55a340e95b"
      },
      "execution_count": 17,
      "outputs": [
        {
          "output_type": "display_data",
          "data": {
            "text/plain": [
              "<Figure size 640x480 with 1 Axes>"
            ],
            "image/png": "[encoded data removed]"
          },
          "metadata": {}
        }
      ]
    },
    {
      "cell_type": "code",
      "source": [
        "# Filtrar pedidos com prioridade \"L\" (Low)\n",
        "filtered_data = df.filter(pl.col(\"Prioridade do Pedido\") == \"L\").to_pandas()\n",
        "filtered_data['Tempo de Envio (dias)'] = filtered_data['Tempo de Envio'].dt.days\n",
        "\n",
        "# Plotar histograma da distribuição dos dias de envio\n",
        "plt.hist(filtered_data['Tempo de Envio (dias)'], bins=50, edgecolor=\"black\")\n",
        "plt.title(\"Distribuição de Tempo de Envio (Prioridade do Pedido: L)\")\n",
        "plt.xlabel(\"Tempo de Envio (dias)\")\n",
        "plt.ylabel(\"Frequência\")\n",
        "plt.show()"
      ],
      "metadata": {
        "colab": {
          "base_uri": "https://localhost:8080/",
          "height": 472
        },
        "id": "m2kQf0fV7tzA",
        "outputId": "00e1cce0-0339-4537-f0a5-c3a3df101f1d"
      },
      "execution_count": 18,
      "outputs": [
        {
          "output_type": "display_data",
          "data": {
            "text/plain": [
              "<Figure size 640x480 with 1 Axes>"
            ],
            "image/png": "[encoded data removed]"
          },
          "metadata": {}
        }
      ]
    },
    {
      "cell_type": "code",
      "source": [
        "df.head()"
      ],
      "metadata": {
        "colab": {
          "base_uri": "https://localhost:8080/",
          "height": 359
        },
        "id": "S1XenJKT8Cp3",
        "outputId": "36e25971-29e3-43c7-9903-45a1222f4c34"
      },
      "execution_count": 19,
      "outputs": [
        {
          "output_type": "execute_result",
          "data": {
            "text/plain": [
              "shape: (5, 15)\n",
              "┌────────┬────────────┬────────────┬───────────┬───┬───────────┬───────────┬───────────┬───────────┐\n",
              "│ Região ┆ País       ┆ Tipo de    ┆ Canal de  ┆ … ┆ Receita   ┆ Custo     ┆ Lucro     ┆ Tempo de  │\n",
              "│ ---    ┆ ---        ┆ Item       ┆ Venda     ┆   ┆ Total     ┆ Total     ┆ Total     ┆ Envio     │\n",
              "│ str    ┆ str        ┆ ---        ┆ ---       ┆   ┆ ---       ┆ ---       ┆ ---       ┆ ---       │\n",
              "│        ┆            ┆ str        ┆ str       ┆   ┆ f64       ┆ f64       ┆ f64       ┆ duration[ │\n",
              "│        ┆            ┆            ┆           ┆   ┆           ┆           ┆           ┆ ms]       │\n",
              "╞════════╪════════════╪════════════╪═══════════╪═══╪═══════════╪═══════════╪═══════════╪═══════════╡\n",
              "│ Asia   ┆ Bangladesh ┆ Cereal     ┆ Offline   ┆ … ┆ 661531.2  ┆ 376625.76 ┆ 284905.44 ┆ 43d       │\n",
              "│ Asia   ┆ Kyrgyzstan ┆ Snacks     ┆ Offline   ┆ … ┆ 673793.28 ┆ 430295.04 ┆ 243498.24 ┆ 23d       │\n",
              "│ Asia   ┆ Bangladesh ┆ Fruits     ┆ Online    ┆ … ┆ 5831.25   ┆ 4325.0    ┆ 1506.25   ┆ 13d       │\n",
              "│ Asia   ┆ Myanmar    ┆ Vegetables ┆ Offline   ┆ … ┆ 576954.7  ┆ 340532.85 ┆ 236421.85 ┆ 22d       │\n",
              "│ Asia   ┆ Uzbekistan ┆ Baby Food  ┆ Online    ┆ … ┆ 982828.0  ┆ 613767.0  ┆ 369061.0  ┆ 3d        │\n",
              "└────────┴────────────┴────────────┴───────────┴───┴───────────┴───────────┴───────────┴───────────┘"
            ],
            "text/html": [
              "<div><style>\n",
              ".dataframe > thead > tr,\n",
              ".dataframe > tbody > tr {\n",
              "  text-align: right;\n",
              "  white-space: pre-wrap;\n",
              "}\n",
              "</style>\n",
              "<small>shape: (5, 15)</small><table border=\"1\" class=\"dataframe\"><thead><tr><th>Região</th><th>País</th><th>Tipo de Item</th><th>Canal de Venda</th><th>Prioridade do Pedido</th><th>Data do Pedido</th><th>ID do Pedido</th><th>Data de Envio</th><th>Unidades Vendidas</th><th>Preço Unitário</th><th>Custo Unitário</th><th>Receita Total</th><th>Custo Total</th><th>Lucro Total</th><th>Tempo de Envio</th></tr><tr><td>str</td><td>str</td><td>str</td><td>str</td><td>str</td><td>date</td><td>i64</td><td>date</td><td>f64</td><td>f64</td><td>f64</td><td>f64</td><td>f64</td><td>f64</td><td>duration[ms]</td></tr></thead><tbody><tr><td>&quot;Asia&quot;</td><td>&quot;Bangladesh&quot;</td><td>&quot;Cereal&quot;</td><td>&quot;Offline&quot;</td><td>&quot;L&quot;</td><td>2013-12-03</td><td>132448184</td><td>2014-01-15</td><td>3216.0</td><td>205.7</td><td>117.11</td><td>661531.2</td><td>376625.76</td><td>284905.44</td><td>43d</td></tr><tr><td>&quot;Asia&quot;</td><td>&quot;Kyrgyzstan&quot;</td><td>&quot;Snacks&quot;</td><td>&quot;Offline&quot;</td><td>&quot;H&quot;</td><td>2018-11-22</td><td>766909492</td><td>2018-12-15</td><td>4416.0</td><td>152.58</td><td>97.44</td><td>673793.28</td><td>430295.04</td><td>243498.24</td><td>23d</td></tr><tr><td>&quot;Asia&quot;</td><td>&quot;Bangladesh&quot;</td><td>&quot;Fruits&quot;</td><td>&quot;Online&quot;</td><td>&quot;L&quot;</td><td>2019-09-14</td><td>467966783</td><td>2019-09-27</td><td>625.0</td><td>9.33</td><td>6.92</td><td>5831.25</td><td>4325.0</td><td>1506.25</td><td>13d</td></tr><tr><td>&quot;Asia&quot;</td><td>&quot;Myanmar&quot;</td><td>&quot;Vegetables&quot;</td><td>&quot;Offline&quot;</td><td>&quot;H&quot;</td><td>2016-03-28</td><td>727876698</td><td>2016-04-19</td><td>3745.0</td><td>154.06</td><td>90.93</td><td>576954.7</td><td>340532.85</td><td>236421.85</td><td>22d</td></tr><tr><td>&quot;Asia&quot;</td><td>&quot;Uzbekistan&quot;</td><td>&quot;Baby Food&quot;</td><td>&quot;Online&quot;</td><td>&quot;L&quot;</td><td>2010-10-09</td><td>498357284</td><td>2010-10-12</td><td>3850.0</td><td>255.28</td><td>159.42</td><td>982828.0</td><td>613767.0</td><td>369061.0</td><td>3d</td></tr></tbody></table></div>"
            ]
          },
          "metadata": {},
          "execution_count": 19
        }
      ]
    },
    {
      "cell_type": "code",
      "source": [
        "# Checar valores únicos de prioridade\n",
        "df[\"Prioridade do Pedido\"].unique()"
      ],
      "metadata": {
        "colab": {
          "base_uri": "https://localhost:8080/",
          "height": 223
        },
        "id": "ulrhnX_D8FWK",
        "outputId": "c989a2dc-fdb7-4853-b45f-45f6f130cb8e"
      },
      "execution_count": 20,
      "outputs": [
        {
          "output_type": "execute_result",
          "data": {
            "text/plain": [
              "shape: (4,)\n",
              "Series: 'Prioridade do Pedido' [str]\n",
              "[\n",
              "\t\"H\"\n",
              "\t\"C\"\n",
              "\t\"L\"\n",
              "\t\"M\"\n",
              "]"
            ],
            "text/html": [
              "<div><style>\n",
              ".dataframe > thead > tr,\n",
              ".dataframe > tbody > tr {\n",
              "  text-align: right;\n",
              "  white-space: pre-wrap;\n",
              "}\n",
              "</style>\n",
              "<small>shape: (4,)</small><table border=\"1\" class=\"dataframe\"><thead><tr><th>Prioridade do Pedido</th></tr><tr><td>str</td></tr></thead><tbody><tr><td>&quot;H&quot;</td></tr><tr><td>&quot;C&quot;</td></tr><tr><td>&quot;L&quot;</td></tr><tr><td>&quot;M&quot;</td></tr></tbody></table></div>"
            ]
          },
          "metadata": {},
          "execution_count": 20
        }
      ]
    },
    {
      "cell_type": "code",
      "source": [
        "# Traduzir prioridades para palavras completas\n",
        "df = df.with_columns(\n",
        "    pl.col(\"Prioridade do Pedido\").replace({\n",
        "        \"H\": \"High\",\n",
        "        \"C\": \"Critical\",\n",
        "        \"M\": \"Medium\",\n",
        "        \"L\": \"Low\"\n",
        "    }).alias(\"Prioridade do Pedido\")\n",
        ")"
      ],
      "metadata": {
        "id": "b9DIQLEt8NX8"
      },
      "execution_count": 21,
      "outputs": []
    },
    {
      "cell_type": "code",
      "source": [
        "# Criar coluna de margem de lucro percentual\n",
        "df = df.with_columns(\n",
        "    (df[\"Lucro Total\"] / df[\"Custo Total\"] * 100).alias(\"Margem de Lucro (%)\")\n",
        ")"
      ],
      "metadata": {
        "id": "NVIG7msN8oLB"
      },
      "execution_count": 22,
      "outputs": []
    },
    {
      "cell_type": "code",
      "source": [
        "# Criar coluna \"Tipo de venda\"\n",
        "# Se unidades vendidas > 5000, marca como \"Online\", senão mantém o valor original\n",
        "df = df.with_columns(\n",
        "    pl.when(pl.col(\"Unidades Vendidas\") > 5000)\n",
        "    .then(pl.lit(\"Online\"))\n",
        "    .otherwise(pl.col(\"Canal de Venda\"))\n",
        "    .alias(\"Tipo de Venda\")\n",
        ")"
      ],
      "metadata": {
        "id": "8A6b4F3t89HD"
      },
      "execution_count": 23,
      "outputs": []
    },
    {
      "cell_type": "code",
      "source": [
        "df.head()"
      ],
      "metadata": {
        "colab": {
          "base_uri": "https://localhost:8080/",
          "height": 376
        },
        "id": "D0KATihq9ZrD",
        "outputId": "bce71c92-a067-4427-a8b5-094f9e09ba95"
      },
      "execution_count": 24,
      "outputs": [
        {
          "output_type": "execute_result",
          "data": {
            "text/plain": [
              "shape: (5, 17)\n",
              "┌────────┬────────────┬────────────┬───────────┬───┬───────────┬───────────┬───────────┬───────────┐\n",
              "│ Região ┆ País       ┆ Tipo de    ┆ Canal de  ┆ … ┆ Lucro     ┆ Tempo de  ┆ Margem de ┆ Tipo de   │\n",
              "│ ---    ┆ ---        ┆ Item       ┆ Venda     ┆   ┆ Total     ┆ Envio     ┆ Lucro (%) ┆ Venda     │\n",
              "│ str    ┆ str        ┆ ---        ┆ ---       ┆   ┆ ---       ┆ ---       ┆ ---       ┆ ---       │\n",
              "│        ┆            ┆ str        ┆ str       ┆   ┆ f64       ┆ duration[ ┆ f64       ┆ str       │\n",
              "│        ┆            ┆            ┆           ┆   ┆           ┆ ms]       ┆           ┆           │\n",
              "╞════════╪════════════╪════════════╪═══════════╪═══╪═══════════╪═══════════╪═══════════╪═══════════╡\n",
              "│ Asia   ┆ Bangladesh ┆ Cereal     ┆ Offline   ┆ … ┆ 284905.44 ┆ 43d       ┆ 75.646828 ┆ Offline   │\n",
              "│ Asia   ┆ Kyrgyzstan ┆ Snacks     ┆ Offline   ┆ … ┆ 243498.24 ┆ 23d       ┆ 56.58867  ┆ Offline   │\n",
              "│ Asia   ┆ Bangladesh ┆ Fruits     ┆ Online    ┆ … ┆ 1506.25   ┆ 13d       ┆ 34.82659  ┆ Online    │\n",
              "│ Asia   ┆ Myanmar    ┆ Vegetables ┆ Offline   ┆ … ┆ 236421.85 ┆ 22d       ┆ 69.427032 ┆ Offline   │\n",
              "│ Asia   ┆ Uzbekistan ┆ Baby Food  ┆ Online    ┆ … ┆ 369061.0  ┆ 3d        ┆ 60.130473 ┆ Online    │\n",
              "└────────┴────────────┴────────────┴───────────┴───┴───────────┴───────────┴───────────┴───────────┘"
            ],
            "text/html": [
              "<div><style>\n",
              ".dataframe > thead > tr,\n",
              ".dataframe > tbody > tr {\n",
              "  text-align: right;\n",
              "  white-space: pre-wrap;\n",
              "}\n",
              "</style>\n",
              "<small>shape: (5, 17)</small><table border=\"1\" class=\"dataframe\"><thead><tr><th>Região</th><th>País</th><th>Tipo de Item</th><th>Canal de Venda</th><th>Prioridade do Pedido</th><th>Data do Pedido</th><th>ID do Pedido</th><th>Data de Envio</th><th>Unidades Vendidas</th><th>Preço Unitário</th><th>Custo Unitário</th><th>Receita Total</th><th>Custo Total</th><th>Lucro Total</th><th>Tempo de Envio</th><th>Margem de Lucro (%)</th><th>Tipo de Venda</th></tr><tr><td>str</td><td>str</td><td>str</td><td>str</td><td>str</td><td>date</td><td>i64</td><td>date</td><td>f64</td><td>f64</td><td>f64</td><td>f64</td><td>f64</td><td>f64</td><td>duration[ms]</td><td>f64</td><td>str</td></tr></thead><tbody><tr><td>&quot;Asia&quot;</td><td>&quot;Bangladesh&quot;</td><td>&quot;Cereal&quot;</td><td>&quot;Offline&quot;</td><td>&quot;Low&quot;</td><td>2013-12-03</td><td>132448184</td><td>2014-01-15</td><td>3216.0</td><td>205.7</td><td>117.11</td><td>661531.2</td><td>376625.76</td><td>284905.44</td><td>43d</td><td>75.646828</td><td>&quot;Offline&quot;</td></tr><tr><td>&quot;Asia&quot;</td><td>&quot;Kyrgyzstan&quot;</td><td>&quot;Snacks&quot;</td><td>&quot;Offline&quot;</td><td>&quot;High&quot;</td><td>2018-11-22</td><td>766909492</td><td>2018-12-15</td><td>4416.0</td><td>152.58</td><td>97.44</td><td>673793.28</td><td>430295.04</td><td>243498.24</td><td>23d</td><td>56.58867</td><td>&quot;Offline&quot;</td></tr><tr><td>&quot;Asia&quot;</td><td>&quot;Bangladesh&quot;</td><td>&quot;Fruits&quot;</td><td>&quot;Online&quot;</td><td>&quot;Low&quot;</td><td>2019-09-14</td><td>467966783</td><td>2019-09-27</td><td>625.0</td><td>9.33</td><td>6.92</td><td>5831.25</td><td>4325.0</td><td>1506.25</td><td>13d</td><td>34.82659</td><td>&quot;Online&quot;</td></tr><tr><td>&quot;Asia&quot;</td><td>&quot;Myanmar&quot;</td><td>&quot;Vegetables&quot;</td><td>&quot;Offline&quot;</td><td>&quot;High&quot;</td><td>2016-03-28</td><td>727876698</td><td>2016-04-19</td><td>3745.0</td><td>154.06</td><td>90.93</td><td>576954.7</td><td>340532.85</td><td>236421.85</td><td>22d</td><td>69.427032</td><td>&quot;Offline&quot;</td></tr><tr><td>&quot;Asia&quot;</td><td>&quot;Uzbekistan&quot;</td><td>&quot;Baby Food&quot;</td><td>&quot;Online&quot;</td><td>&quot;Low&quot;</td><td>2010-10-09</td><td>498357284</td><td>2010-10-12</td><td>3850.0</td><td>255.28</td><td>159.42</td><td>982828.0</td><td>613767.0</td><td>369061.0</td><td>3d</td><td>60.130473</td><td>&quot;Online&quot;</td></tr></tbody></table></div>"
            ]
          },
          "metadata": {},
          "execution_count": 24
        }
      ]
    },
    {
      "cell_type": "code",
      "source": [
        "# Selecionar apenas pedidos críticos e ordenar por duração do envio\n",
        "df_critical = df.filter(pl.col(\"Prioridade do Pedido\") == \"Critical\").sort(\"Tempo de Envio\", descending=True)"
      ],
      "metadata": {
        "id": "_cAUa4q0-BUB"
      },
      "execution_count": 25,
      "outputs": []
    },
    {
      "cell_type": "code",
      "source": [
        "# Extrair mês e ano da data do pedido\n",
        "df_critical = df_critical.with_columns(\n",
        "    pl.col(\"Data do Pedido\").dt.month().alias(\"Mês do Pedido\"),\n",
        "    pl.col(\"Data do Pedido\").dt.year().alias(\"Ano do Pedido\")\n",
        ")"
      ],
      "metadata": {
        "id": "FixFMaRW-ad1"
      },
      "execution_count": 26,
      "outputs": []
    },
    {
      "cell_type": "code",
      "source": [
        "df_critical"
      ],
      "metadata": {
        "colab": {
          "base_uri": "https://localhost:8080/",
          "height": 671
        },
        "id": "Q-KhY7UX-2IH",
        "outputId": "a44bb39d-cac1-4a6c-f9f8-69b4819bdab5"
      },
      "execution_count": 27,
      "outputs": [
        {
          "output_type": "execute_result",
          "data": {
            "text/plain": [
              "shape: (1_910, 19)\n",
              "┌────────┬───────────────┬───────────────┬──────────┬───┬──────────────┬─────────┬────────┬────────┐\n",
              "│ Região ┆ País          ┆ Tipo de Item  ┆ Canal de ┆ … ┆ Margem de    ┆ Tipo de ┆ Mês do ┆ Ano do │\n",
              "│ ---    ┆ ---           ┆ ---           ┆ Venda    ┆   ┆ Lucro (%)    ┆ Venda   ┆ Pedido ┆ Pedido │\n",
              "│ str    ┆ str           ┆ str           ┆ ---      ┆   ┆ ---          ┆ ---     ┆ ---    ┆ ---    │\n",
              "│        ┆               ┆               ┆ str      ┆   ┆ f64          ┆ str     ┆ i8     ┆ i32    │\n",
              "╞════════╪═══════════════╪═══════════════╪══════════╪═══╪══════════════╪═════════╪════════╪════════╡\n",
              "│ Asia   ┆ Myanmar       ┆ Household     ┆ Online   ┆ … ┆ 32.978469    ┆ Online  ┆ 11     ┆ 2015   │\n",
              "│ Asia   ┆ Malaysia      ┆ Cosmetics     ┆ Online   ┆ … ┆ 66.027418    ┆ Online  ┆ 9      ┆ 2013   │\n",
              "│ Asia   ┆ Taiwan        ┆ Household     ┆ Online   ┆ … ┆ 32.978469    ┆ Online  ┆ 8      ┆ 2010   │\n",
              "│ Asia   ┆ South Korea   ┆ Cosmetics     ┆ Offline  ┆ … ┆ 66.027418    ┆ Offline ┆ 4      ┆ 2015   │\n",
              "│ Asia   ┆ Cambodia      ┆ Clothes       ┆ Online   ┆ … ┆ 204.910714   ┆ Online  ┆ 10     ┆ 2018   │\n",
              "│ …      ┆ …             ┆ …             ┆ …        ┆ … ┆ …            ┆ …       ┆ …      ┆ …      │\n",
              "│ Asia   ┆ Sri Lanka     ┆ Baby Food     ┆ Offline  ┆ … ┆ 60.130473    ┆ Online  ┆ 4      ┆ 2016   │\n",
              "│ Asia   ┆ Indonesia     ┆ Beverages     ┆ Online   ┆ … ┆ 49.260774    ┆ Online  ┆ 11     ┆ 2017   │\n",
              "│ Asia   ┆ Turkmenistan  ┆ Personal Care ┆ Offline  ┆ … ┆ 44.220928    ┆ Offline ┆ 9      ┆ 2017   │\n",
              "│ Asia   ┆ Laos          ┆ Vegetables    ┆ Online   ┆ … ┆ 69.427032    ┆ Online  ┆ 7      ┆ 2010   │\n",
              "│ Asia   ┆ Thailand      ┆ Household     ┆ Offline  ┆ … ┆ 32.978469    ┆ Online  ┆ 8      ┆ 2016   │\n",
              "└────────┴───────────────┴───────────────┴──────────┴───┴──────────────┴─────────┴────────┴────────┘"
            ],
            "text/html": [
              "<div><style>\n",
              ".dataframe > thead > tr,\n",
              ".dataframe > tbody > tr {\n",
              "  text-align: right;\n",
              "  white-space: pre-wrap;\n",
              "}\n",
              "</style>\n",
              "<small>shape: (1_910, 19)</small><table border=\"1\" class=\"dataframe\"><thead><tr><th>Região</th><th>País</th><th>Tipo de Item</th><th>Canal de Venda</th><th>Prioridade do Pedido</th><th>Data do Pedido</th><th>ID do Pedido</th><th>Data de Envio</th><th>Unidades Vendidas</th><th>Preço Unitário</th><th>Custo Unitário</th><th>Receita Total</th><th>Custo Total</th><th>Lucro Total</th><th>Tempo de Envio</th><th>Margem de Lucro (%)</th><th>Tipo de Venda</th><th>Mês do Pedido</th><th>Ano do Pedido</th></tr><tr><td>str</td><td>str</td><td>str</td><td>str</td><td>str</td><td>date</td><td>i64</td><td>date</td><td>f64</td><td>f64</td><td>f64</td><td>f64</td><td>f64</td><td>f64</td><td>duration[ms]</td><td>f64</td><td>str</td><td>i8</td><td>i32</td></tr></thead><tbody><tr><td>&quot;Asia&quot;</td><td>&quot;Myanmar&quot;</td><td>&quot;Household&quot;</td><td>&quot;Online&quot;</td><td>&quot;Critical&quot;</td><td>2015-11-05</td><td>769704139</td><td>2015-12-25</td><td>1414.0</td><td>668.27</td><td>502.54</td><td>944933.78</td><td>710591.56</td><td>234342.22</td><td>50d</td><td>32.978469</td><td>&quot;Online&quot;</td><td>11</td><td>2015</td></tr><tr><td>&quot;Asia&quot;</td><td>&quot;Malaysia&quot;</td><td>&quot;Cosmetics&quot;</td><td>&quot;Online&quot;</td><td>&quot;Critical&quot;</td><td>2013-09-22</td><td>213717401</td><td>2013-11-11</td><td>2583.0</td><td>437.2</td><td>263.33</td><td>1129287.6</td><td>680181.39</td><td>449106.21</td><td>50d</td><td>66.027418</td><td>&quot;Online&quot;</td><td>9</td><td>2013</td></tr><tr><td>&quot;Asia&quot;</td><td>&quot;Taiwan&quot;</td><td>&quot;Household&quot;</td><td>&quot;Online&quot;</td><td>&quot;Critical&quot;</td><td>2010-08-07</td><td>757053124</td><td>2010-09-26</td><td>7698.0</td><td>668.27</td><td>502.54</td><td>5.1443e6</td><td>3.8686e6</td><td>1.2758e6</td><td>50d</td><td>32.978469</td><td>&quot;Online&quot;</td><td>8</td><td>2010</td></tr><tr><td>&quot;Asia&quot;</td><td>&quot;South Korea&quot;</td><td>&quot;Cosmetics&quot;</td><td>&quot;Offline&quot;</td><td>&quot;Critical&quot;</td><td>2015-04-04</td><td>620443284</td><td>2015-05-24</td><td>1810.0</td><td>437.2</td><td>263.33</td><td>791332.0</td><td>476627.3</td><td>314704.7</td><td>50d</td><td>66.027418</td><td>&quot;Offline&quot;</td><td>4</td><td>2015</td></tr><tr><td>&quot;Asia&quot;</td><td>&quot;Cambodia&quot;</td><td>&quot;Clothes&quot;</td><td>&quot;Online&quot;</td><td>&quot;Critical&quot;</td><td>2018-10-14</td><td>325703275</td><td>2018-12-03</td><td>1692.0</td><td>109.28</td><td>35.84</td><td>184901.76</td><td>60641.28</td><td>124260.48</td><td>50d</td><td>204.910714</td><td>&quot;Online&quot;</td><td>10</td><td>2018</td></tr><tr><td>&hellip;</td><td>&hellip;</td><td>&hellip;</td><td>&hellip;</td><td>&hellip;</td><td>&hellip;</td><td>&hellip;</td><td>&hellip;</td><td>&hellip;</td><td>&hellip;</td><td>&hellip;</td><td>&hellip;</td><td>&hellip;</td><td>&hellip;</td><td>&hellip;</td><td>&hellip;</td><td>&hellip;</td><td>&hellip;</td><td>&hellip;</td></tr><tr><td>&quot;Asia&quot;</td><td>&quot;Sri Lanka&quot;</td><td>&quot;Baby Food&quot;</td><td>&quot;Offline&quot;</td><td>&quot;Critical&quot;</td><td>2016-04-09</td><td>940214097</td><td>2016-04-09</td><td>9100.0</td><td>255.28</td><td>159.42</td><td>2.323048e6</td><td>1.450722e6</td><td>872326.0</td><td>0ms</td><td>60.130473</td><td>&quot;Online&quot;</td><td>4</td><td>2016</td></tr><tr><td>&quot;Asia&quot;</td><td>&quot;Indonesia&quot;</td><td>&quot;Beverages&quot;</td><td>&quot;Online&quot;</td><td>&quot;Critical&quot;</td><td>2017-11-21</td><td>433796727</td><td>2017-11-21</td><td>8946.0</td><td>47.45</td><td>31.79</td><td>424487.7</td><td>284393.34</td><td>140094.36</td><td>0ms</td><td>49.260774</td><td>&quot;Online&quot;</td><td>11</td><td>2017</td></tr><tr><td>&quot;Asia&quot;</td><td>&quot;Turkmenistan&quot;</td><td>&quot;Personal Care&quot;</td><td>&quot;Offline&quot;</td><td>&quot;Critical&quot;</td><td>2017-09-21</td><td>530022799</td><td>2017-09-21</td><td>4380.0</td><td>81.73</td><td>56.67</td><td>357977.4</td><td>248214.6</td><td>109762.8</td><td>0ms</td><td>44.220928</td><td>&quot;Offline&quot;</td><td>9</td><td>2017</td></tr><tr><td>&quot;Asia&quot;</td><td>&quot;Laos&quot;</td><td>&quot;Vegetables&quot;</td><td>&quot;Online&quot;</td><td>&quot;Critical&quot;</td><td>2010-07-19</td><td>161249959</td><td>2010-07-19</td><td>6301.0</td><td>154.06</td><td>90.93</td><td>970732.06</td><td>572949.93</td><td>397782.13</td><td>0ms</td><td>69.427032</td><td>&quot;Online&quot;</td><td>7</td><td>2010</td></tr><tr><td>&quot;Asia&quot;</td><td>&quot;Thailand&quot;</td><td>&quot;Household&quot;</td><td>&quot;Offline&quot;</td><td>&quot;Critical&quot;</td><td>2016-08-07</td><td>523539149</td><td>2016-08-07</td><td>5723.0</td><td>668.27</td><td>502.54</td><td>3.8245e6</td><td>2.8760e6</td><td>948472.79</td><td>0ms</td><td>32.978469</td><td>&quot;Online&quot;</td><td>8</td><td>2016</td></tr></tbody></table></div>"
            ]
          },
          "metadata": {},
          "execution_count": 27
        }
      ]
    },
    {
      "cell_type": "code",
      "source": [
        "# Mapear os meses para estações do ano\n",
        "season_map = {\n",
        "    1: \"Winter\", 2: \"Winter\", 3: \"Spring\",\n",
        "    4: \"Spring\", 5: \"Spring\", 6: \"Summer\",\n",
        "    7: \"Summer\", 8: \"Summer\", 9: \"Fall\",\n",
        "    10: \"Fall\", 11: \"Fall\", 12: \"Winter\"\n",
        "}"
      ],
      "metadata": {
        "id": "6y_jy7QQ-65z"
      },
      "execution_count": 28,
      "outputs": []
    },
    {
      "cell_type": "code",
      "source": [
        "# Substituir o número do mês pela estação correspondente\n",
        "df_critical = df_critical.with_columns(\n",
        "    pl.col(\"Mês do Pedido\").cast(pl.Utf8).replace(season_map).alias(\"Estação\")\n",
        ")"
      ],
      "metadata": {
        "id": "HbCYH8LN_mJw"
      },
      "execution_count": 29,
      "outputs": []
    },
    {
      "cell_type": "code",
      "source": [
        "df_critical.head()"
      ],
      "metadata": {
        "colab": {
          "base_uri": "https://localhost:8080/",
          "height": 396
        },
        "id": "EegIUSwF_8lL",
        "outputId": "7fb1bbca-2d3c-4dbb-b3ad-aefcf09a6c24"
      },
      "execution_count": 30,
      "outputs": [
        {
          "output_type": "execute_result",
          "data": {
            "text/plain": [
              "shape: (5, 20)\n",
              "┌────────┬─────────────┬──────────────┬──────────┬───┬─────────┬────────┬────────┬─────────┐\n",
              "│ Região ┆ País        ┆ Tipo de Item ┆ Canal de ┆ … ┆ Tipo de ┆ Mês do ┆ Ano do ┆ Estação │\n",
              "│ ---    ┆ ---         ┆ ---          ┆ Venda    ┆   ┆ Venda   ┆ Pedido ┆ Pedido ┆ ---     │\n",
              "│ str    ┆ str         ┆ str          ┆ ---      ┆   ┆ ---     ┆ ---    ┆ ---    ┆ str     │\n",
              "│        ┆             ┆              ┆ str      ┆   ┆ str     ┆ i8     ┆ i32    ┆         │\n",
              "╞════════╪═════════════╪══════════════╪══════════╪═══╪═════════╪════════╪════════╪═════════╡\n",
              "│ Asia   ┆ Myanmar     ┆ Household    ┆ Online   ┆ … ┆ Online  ┆ 11     ┆ 2015   ┆ Fall    │\n",
              "│ Asia   ┆ Malaysia    ┆ Cosmetics    ┆ Online   ┆ … ┆ Online  ┆ 9      ┆ 2013   ┆ Fall    │\n",
              "│ Asia   ┆ Taiwan      ┆ Household    ┆ Online   ┆ … ┆ Online  ┆ 8      ┆ 2010   ┆ Summer  │\n",
              "│ Asia   ┆ South Korea ┆ Cosmetics    ┆ Offline  ┆ … ┆ Offline ┆ 4      ┆ 2015   ┆ Spring  │\n",
              "│ Asia   ┆ Cambodia    ┆ Clothes      ┆ Online   ┆ … ┆ Online  ┆ 10     ┆ 2018   ┆ Fall    │\n",
              "└────────┴─────────────┴──────────────┴──────────┴───┴─────────┴────────┴────────┴─────────┘"
            ],
            "text/html": [
              "<div><style>\n",
              ".dataframe > thead > tr,\n",
              ".dataframe > tbody > tr {\n",
              "  text-align: right;\n",
              "  white-space: pre-wrap;\n",
              "}\n",
              "</style>\n",
              "<small>shape: (5, 20)</small><table border=\"1\" class=\"dataframe\"><thead><tr><th>Região</th><th>País</th><th>Tipo de Item</th><th>Canal de Venda</th><th>Prioridade do Pedido</th><th>Data do Pedido</th><th>ID do Pedido</th><th>Data de Envio</th><th>Unidades Vendidas</th><th>Preço Unitário</th><th>Custo Unitário</th><th>Receita Total</th><th>Custo Total</th><th>Lucro Total</th><th>Tempo de Envio</th><th>Margem de Lucro (%)</th><th>Tipo de Venda</th><th>Mês do Pedido</th><th>Ano do Pedido</th><th>Estação</th></tr><tr><td>str</td><td>str</td><td>str</td><td>str</td><td>str</td><td>date</td><td>i64</td><td>date</td><td>f64</td><td>f64</td><td>f64</td><td>f64</td><td>f64</td><td>f64</td><td>duration[ms]</td><td>f64</td><td>str</td><td>i8</td><td>i32</td><td>str</td></tr></thead><tbody><tr><td>&quot;Asia&quot;</td><td>&quot;Myanmar&quot;</td><td>&quot;Household&quot;</td><td>&quot;Online&quot;</td><td>&quot;Critical&quot;</td><td>2015-11-05</td><td>769704139</td><td>2015-12-25</td><td>1414.0</td><td>668.27</td><td>502.54</td><td>944933.78</td><td>710591.56</td><td>234342.22</td><td>50d</td><td>32.978469</td><td>&quot;Online&quot;</td><td>11</td><td>2015</td><td>&quot;Fall&quot;</td></tr><tr><td>&quot;Asia&quot;</td><td>&quot;Malaysia&quot;</td><td>&quot;Cosmetics&quot;</td><td>&quot;Online&quot;</td><td>&quot;Critical&quot;</td><td>2013-09-22</td><td>213717401</td><td>2013-11-11</td><td>2583.0</td><td>437.2</td><td>263.33</td><td>1129287.6</td><td>680181.39</td><td>449106.21</td><td>50d</td><td>66.027418</td><td>&quot;Online&quot;</td><td>9</td><td>2013</td><td>&quot;Fall&quot;</td></tr><tr><td>&quot;Asia&quot;</td><td>&quot;Taiwan&quot;</td><td>&quot;Household&quot;</td><td>&quot;Online&quot;</td><td>&quot;Critical&quot;</td><td>2010-08-07</td><td>757053124</td><td>2010-09-26</td><td>7698.0</td><td>668.27</td><td>502.54</td><td>5.1443e6</td><td>3.8686e6</td><td>1.2758e6</td><td>50d</td><td>32.978469</td><td>&quot;Online&quot;</td><td>8</td><td>2010</td><td>&quot;Summer&quot;</td></tr><tr><td>&quot;Asia&quot;</td><td>&quot;South Korea&quot;</td><td>&quot;Cosmetics&quot;</td><td>&quot;Offline&quot;</td><td>&quot;Critical&quot;</td><td>2015-04-04</td><td>620443284</td><td>2015-05-24</td><td>1810.0</td><td>437.2</td><td>263.33</td><td>791332.0</td><td>476627.3</td><td>314704.7</td><td>50d</td><td>66.027418</td><td>&quot;Offline&quot;</td><td>4</td><td>2015</td><td>&quot;Spring&quot;</td></tr><tr><td>&quot;Asia&quot;</td><td>&quot;Cambodia&quot;</td><td>&quot;Clothes&quot;</td><td>&quot;Online&quot;</td><td>&quot;Critical&quot;</td><td>2018-10-14</td><td>325703275</td><td>2018-12-03</td><td>1692.0</td><td>109.28</td><td>35.84</td><td>184901.76</td><td>60641.28</td><td>124260.48</td><td>50d</td><td>204.910714</td><td>&quot;Online&quot;</td><td>10</td><td>2018</td><td>&quot;Fall&quot;</td></tr></tbody></table></div>"
            ]
          },
          "metadata": {},
          "execution_count": 30
        }
      ]
    },
    {
      "cell_type": "code",
      "source": [
        "# Converter para Pandas para facilitar visualizações\n",
        "df_critical_pd = df_critical.to_pandas()\n",
        "\n",
        "# Converter duração para dias inteiros\n",
        "df_critical_pd[\"Dias de Envio\"] = df_critical_pd[\"Tempo de Envio\"].dt.days\n",
        "\n",
        "# Criar listas separadas por estação\n",
        "data = [\n",
        "    df_critical_pd[df_critical_pd[\"Estação\"] == season][\"Dias de Envio\"]\n",
        "    for season in df_critical_pd[\"Estação\"].unique()\n",
        "]"
      ],
      "metadata": {
        "id": "D99LnNkDAGJu"
      },
      "execution_count": 31,
      "outputs": []
    },
    {
      "cell_type": "code",
      "source": [
        "# Definir esquema de cores\n",
        "cores = {\n",
        "    \"box\": \"#00A6FB\",\n",
        "    \"mediana\": \"#FF1E1E\",\n",
        "    \"whiskers\": \"#000000\",\n",
        "    \"caps\": \"#000000\",\n",
        "    \"fliers\": \"#FF4500\"\n",
        "}\n",
        "\n",
        "# Criar o boxplot com as cores definidas\n",
        "bp = plt.boxplot(\n",
        "    data,\n",
        "    vert=False,\n",
        "    patch_artist=True,\n",
        "    labels=df_critical_pd[\"Estação\"].unique(),\n",
        "    boxprops=dict(facecolor=cores[\"box\"], alpha=0.8),\n",
        "    medianprops=dict(color=cores[\"mediana\"], linewidth=1.5),\n",
        "    whiskerprops=dict(color=cores[\"whiskers\"], linewidth=1.5),\n",
        "    capprops=dict(color=cores[\"caps\"], linewidth=1.5),\n",
        "    flierprops=dict(marker=\"o\", markerfacecolor=cores[\"fliers\"], markersize=8)\n",
        ")\n",
        "\n",
        "# Configurações do gráfico\n",
        "plt.title(\"Distribuição de Dias de Entrega por Estação (Pedidos Críticos)\",\n",
        "          fontsize=12, pad=15)\n",
        "plt.xlabel(\"Dias de Entrega\", fontsize=10)\n",
        "plt.ylabel(\"Estação do Ano\", fontsize=10)\n",
        "plt.grid(axis=\"x\", linestyle=\"--\", alpha=0.7)\n",
        "\n",
        "plt.tight_layout()\n",
        "plt.show()"
      ],
      "metadata": {
        "colab": {
          "base_uri": "https://localhost:8080/",
          "height": 543
        },
        "id": "ZDsIi_JZAxYG",
        "outputId": "e645152e-3282-431d-bd5f-0753236d035e"
      },
      "execution_count": 32,
      "outputs": [
        {
          "output_type": "stream",
          "name": "stderr",
          "text": [
            "/tmp/ipython-input-3829101512.py:11: MatplotlibDeprecationWarning: The 'labels' parameter of boxplot() has been renamed 'tick_labels' since Matplotlib 3.9; support for the old name will be dropped in 3.11.\n",
            "  bp = plt.boxplot(\n"
          ]
        },
        {
          "output_type": "display_data",
          "data": {
            "text/plain": [
              "<Figure size 640x480 with 1 Axes>"
            ],
            "image/png": "[encoded data removed]"
          },
          "metadata": {}
        }
      ]
    },
    {
      "cell_type": "code",
      "source": [
        "# Transformações e operações\n",
        "# joins, produto cartesiano e concatenação usando Polars.\n",
        "\n",
        "# Obtendo os valores únicos da coluna\n",
        "itens_unicos = df['Tipo de Item'].unique()\n",
        "\n",
        "# Loop para imprimir cada item único encontrado\n",
        "for item in itens_unicos:\n",
        "    print(item)"
      ],
      "metadata": {
        "colab": {
          "base_uri": "https://localhost:8080/"
        },
        "id": "HdHKFcnLXQMt",
        "outputId": "530611cf-f7b6-4546-e004-c03bfdfff726"
      },
      "execution_count": 33,
      "outputs": [
        {
          "output_type": "stream",
          "name": "stdout",
          "text": [
            "Vegetables\n",
            "Snacks\n",
            "Meat\n",
            "Baby Food\n",
            "Cosmetics\n",
            "Personal Care\n",
            "Clothes\n",
            "Household\n",
            "Cereal\n",
            "Beverages\n",
            "Office Supplies\n",
            "Fruits\n"
          ]
        }
      ]
    },
    {
      "cell_type": "code",
      "source": [
        "# Criando um DataFrame simples apenas com os tipos de item\n",
        "data = {'Tipo de Item': ['Snacks', 'Cereal', 'Office Supplies', 'Household', 'Personal Care',\n",
        "                         'Clothes', 'Cosmetics', 'Vegetables', 'Meat', 'Baby Food', 'Beverages', 'Frutis']}\n",
        "df_simples = pl.DataFrame(data)\n",
        "\n",
        "# Convertendo os itens únicos para lista\n",
        "itens_unicos = df_simples['Tipo de Item'].to_list()\n",
        "\n",
        "# Criando um DataFrame com metas de entrega (dias de envio alvo)\n",
        "delivery_goals = pl.DataFrame({\n",
        "    'Tipo de Item': itens_unicos,\n",
        "    'Dias de Envio Alvo': [5, 7, 10, 8, 6, 9, 7, 3, 4, 5, 6, 2]\n",
        "})"
      ],
      "metadata": {
        "id": "N3kkrfFiX1oG"
      },
      "execution_count": 34,
      "outputs": []
    },
    {
      "cell_type": "code",
      "source": [
        "delivery_goals"
      ],
      "metadata": {
        "colab": {
          "base_uri": "https://localhost:8080/",
          "height": 443
        },
        "id": "_iQ5KFDrYyYK",
        "outputId": "3ca95991-3e2f-4cc0-8b69-d47995f6b620"
      },
      "execution_count": 35,
      "outputs": [
        {
          "output_type": "execute_result",
          "data": {
            "text/plain": [
              "shape: (12, 2)\n",
              "┌─────────────────┬────────────────────┐\n",
              "│ Tipo de Item    ┆ Dias de Envio Alvo │\n",
              "│ ---             ┆ ---                │\n",
              "│ str             ┆ i64                │\n",
              "╞═════════════════╪════════════════════╡\n",
              "│ Snacks          ┆ 5                  │\n",
              "│ Cereal          ┆ 7                  │\n",
              "│ Office Supplies ┆ 10                 │\n",
              "│ Household       ┆ 8                  │\n",
              "│ Personal Care   ┆ 6                  │\n",
              "│ …               ┆ …                  │\n",
              "│ Vegetables      ┆ 3                  │\n",
              "│ Meat            ┆ 4                  │\n",
              "│ Baby Food       ┆ 5                  │\n",
              "│ Beverages       ┆ 6                  │\n",
              "│ Frutis          ┆ 2                  │\n",
              "└─────────────────┴────────────────────┘"
            ],
            "text/html": [
              "<div><style>\n",
              ".dataframe > thead > tr,\n",
              ".dataframe > tbody > tr {\n",
              "  text-align: right;\n",
              "  white-space: pre-wrap;\n",
              "}\n",
              "</style>\n",
              "<small>shape: (12, 2)</small><table border=\"1\" class=\"dataframe\"><thead><tr><th>Tipo de Item</th><th>Dias de Envio Alvo</th></tr><tr><td>str</td><td>i64</td></tr></thead><tbody><tr><td>&quot;Snacks&quot;</td><td>5</td></tr><tr><td>&quot;Cereal&quot;</td><td>7</td></tr><tr><td>&quot;Office Supplies&quot;</td><td>10</td></tr><tr><td>&quot;Household&quot;</td><td>8</td></tr><tr><td>&quot;Personal Care&quot;</td><td>6</td></tr><tr><td>&hellip;</td><td>&hellip;</td></tr><tr><td>&quot;Vegetables&quot;</td><td>3</td></tr><tr><td>&quot;Meat&quot;</td><td>4</td></tr><tr><td>&quot;Baby Food&quot;</td><td>5</td></tr><tr><td>&quot;Beverages&quot;</td><td>6</td></tr><tr><td>&quot;Frutis&quot;</td><td>2</td></tr></tbody></table></div>"
            ]
          },
          "metadata": {},
          "execution_count": 35
        }
      ]
    },
    {
      "cell_type": "code",
      "source": [
        "# Realizando um LEFT JOIN entre o dataset crítico e as metas de entrega\n",
        "# Assim, cada item terá associado seu prazo de envio alvo\n",
        "df_joined = df_critical.join(delivery_goals, on=\"Tipo de Item\", how=\"left\")\n",
        "df_joined"
      ],
      "metadata": {
        "colab": {
          "base_uri": "https://localhost:8080/",
          "height": 688
        },
        "id": "4NxUCO_LY1Vz",
        "outputId": "3e0d1b73-af5e-4bca-d938-8b45647fdb13"
      },
      "execution_count": 36,
      "outputs": [
        {
          "output_type": "execute_result",
          "data": {
            "text/plain": [
              "shape: (1_910, 21)\n",
              "┌────────┬───────────────┬───────────────┬──────────┬───┬────────┬────────┬─────────┬──────────────┐\n",
              "│ Região ┆ País          ┆ Tipo de Item  ┆ Canal de ┆ … ┆ Mês do ┆ Ano do ┆ Estação ┆ Dias de      │\n",
              "│ ---    ┆ ---           ┆ ---           ┆ Venda    ┆   ┆ Pedido ┆ Pedido ┆ ---     ┆ Envio Alvo   │\n",
              "│ str    ┆ str           ┆ str           ┆ ---      ┆   ┆ ---    ┆ ---    ┆ str     ┆ ---          │\n",
              "│        ┆               ┆               ┆ str      ┆   ┆ i8     ┆ i32    ┆         ┆ i64          │\n",
              "╞════════╪═══════════════╪═══════════════╪══════════╪═══╪════════╪════════╪═════════╪══════════════╡\n",
              "│ Asia   ┆ Myanmar       ┆ Household     ┆ Online   ┆ … ┆ 11     ┆ 2015   ┆ Fall    ┆ 8            │\n",
              "│ Asia   ┆ Malaysia      ┆ Cosmetics     ┆ Online   ┆ … ┆ 9      ┆ 2013   ┆ Fall    ┆ 7            │\n",
              "│ Asia   ┆ Taiwan        ┆ Household     ┆ Online   ┆ … ┆ 8      ┆ 2010   ┆ Summer  ┆ 8            │\n",
              "│ Asia   ┆ South Korea   ┆ Cosmetics     ┆ Offline  ┆ … ┆ 4      ┆ 2015   ┆ Spring  ┆ 7            │\n",
              "│ Asia   ┆ Cambodia      ┆ Clothes       ┆ Online   ┆ … ┆ 10     ┆ 2018   ┆ Fall    ┆ 9            │\n",
              "│ …      ┆ …             ┆ …             ┆ …        ┆ … ┆ …      ┆ …      ┆ …       ┆ …            │\n",
              "│ Asia   ┆ Sri Lanka     ┆ Baby Food     ┆ Offline  ┆ … ┆ 4      ┆ 2016   ┆ Spring  ┆ 5            │\n",
              "│ Asia   ┆ Indonesia     ┆ Beverages     ┆ Online   ┆ … ┆ 11     ┆ 2017   ┆ Fall    ┆ 6            │\n",
              "│ Asia   ┆ Turkmenistan  ┆ Personal Care ┆ Offline  ┆ … ┆ 9      ┆ 2017   ┆ Fall    ┆ 6            │\n",
              "│ Asia   ┆ Laos          ┆ Vegetables    ┆ Online   ┆ … ┆ 7      ┆ 2010   ┆ Summer  ┆ 3            │\n",
              "│ Asia   ┆ Thailand      ┆ Household     ┆ Offline  ┆ … ┆ 8      ┆ 2016   ┆ Summer  ┆ 8            │\n",
              "└────────┴───────────────┴───────────────┴──────────┴───┴────────┴────────┴─────────┴──────────────┘"
            ],
            "text/html": [
              "<div><style>\n",
              ".dataframe > thead > tr,\n",
              ".dataframe > tbody > tr {\n",
              "  text-align: right;\n",
              "  white-space: pre-wrap;\n",
              "}\n",
              "</style>\n",
              "<small>shape: (1_910, 21)</small><table border=\"1\" class=\"dataframe\"><thead><tr><th>Região</th><th>País</th><th>Tipo de Item</th><th>Canal de Venda</th><th>Prioridade do Pedido</th><th>Data do Pedido</th><th>ID do Pedido</th><th>Data de Envio</th><th>Unidades Vendidas</th><th>Preço Unitário</th><th>Custo Unitário</th><th>Receita Total</th><th>Custo Total</th><th>Lucro Total</th><th>Tempo de Envio</th><th>Margem de Lucro (%)</th><th>Tipo de Venda</th><th>Mês do Pedido</th><th>Ano do Pedido</th><th>Estação</th><th>Dias de Envio Alvo</th></tr><tr><td>str</td><td>str</td><td>str</td><td>str</td><td>str</td><td>date</td><td>i64</td><td>date</td><td>f64</td><td>f64</td><td>f64</td><td>f64</td><td>f64</td><td>f64</td><td>duration[ms]</td><td>f64</td><td>str</td><td>i8</td><td>i32</td><td>str</td><td>i64</td></tr></thead><tbody><tr><td>&quot;Asia&quot;</td><td>&quot;Myanmar&quot;</td><td>&quot;Household&quot;</td><td>&quot;Online&quot;</td><td>&quot;Critical&quot;</td><td>2015-11-05</td><td>769704139</td><td>2015-12-25</td><td>1414.0</td><td>668.27</td><td>502.54</td><td>944933.78</td><td>710591.56</td><td>234342.22</td><td>50d</td><td>32.978469</td><td>&quot;Online&quot;</td><td>11</td><td>2015</td><td>&quot;Fall&quot;</td><td>8</td></tr><tr><td>&quot;Asia&quot;</td><td>&quot;Malaysia&quot;</td><td>&quot;Cosmetics&quot;</td><td>&quot;Online&quot;</td><td>&quot;Critical&quot;</td><td>2013-09-22</td><td>213717401</td><td>2013-11-11</td><td>2583.0</td><td>437.2</td><td>263.33</td><td>1129287.6</td><td>680181.39</td><td>449106.21</td><td>50d</td><td>66.027418</td><td>&quot;Online&quot;</td><td>9</td><td>2013</td><td>&quot;Fall&quot;</td><td>7</td></tr><tr><td>&quot;Asia&quot;</td><td>&quot;Taiwan&quot;</td><td>&quot;Household&quot;</td><td>&quot;Online&quot;</td><td>&quot;Critical&quot;</td><td>2010-08-07</td><td>757053124</td><td>2010-09-26</td><td>7698.0</td><td>668.27</td><td>502.54</td><td>5.1443e6</td><td>3.8686e6</td><td>1.2758e6</td><td>50d</td><td>32.978469</td><td>&quot;Online&quot;</td><td>8</td><td>2010</td><td>&quot;Summer&quot;</td><td>8</td></tr><tr><td>&quot;Asia&quot;</td><td>&quot;South Korea&quot;</td><td>&quot;Cosmetics&quot;</td><td>&quot;Offline&quot;</td><td>&quot;Critical&quot;</td><td>2015-04-04</td><td>620443284</td><td>2015-05-24</td><td>1810.0</td><td>437.2</td><td>263.33</td><td>791332.0</td><td>476627.3</td><td>314704.7</td><td>50d</td><td>66.027418</td><td>&quot;Offline&quot;</td><td>4</td><td>2015</td><td>&quot;Spring&quot;</td><td>7</td></tr><tr><td>&quot;Asia&quot;</td><td>&quot;Cambodia&quot;</td><td>&quot;Clothes&quot;</td><td>&quot;Online&quot;</td><td>&quot;Critical&quot;</td><td>2018-10-14</td><td>325703275</td><td>2018-12-03</td><td>1692.0</td><td>109.28</td><td>35.84</td><td>184901.76</td><td>60641.28</td><td>124260.48</td><td>50d</td><td>204.910714</td><td>&quot;Online&quot;</td><td>10</td><td>2018</td><td>&quot;Fall&quot;</td><td>9</td></tr><tr><td>&hellip;</td><td>&hellip;</td><td>&hellip;</td><td>&hellip;</td><td>&hellip;</td><td>&hellip;</td><td>&hellip;</td><td>&hellip;</td><td>&hellip;</td><td>&hellip;</td><td>&hellip;</td><td>&hellip;</td><td>&hellip;</td><td>&hellip;</td><td>&hellip;</td><td>&hellip;</td><td>&hellip;</td><td>&hellip;</td><td>&hellip;</td><td>&hellip;</td><td>&hellip;</td></tr><tr><td>&quot;Asia&quot;</td><td>&quot;Sri Lanka&quot;</td><td>&quot;Baby Food&quot;</td><td>&quot;Offline&quot;</td><td>&quot;Critical&quot;</td><td>2016-04-09</td><td>940214097</td><td>2016-04-09</td><td>9100.0</td><td>255.28</td><td>159.42</td><td>2.323048e6</td><td>1.450722e6</td><td>872326.0</td><td>0ms</td><td>60.130473</td><td>&quot;Online&quot;</td><td>4</td><td>2016</td><td>&quot;Spring&quot;</td><td>5</td></tr><tr><td>&quot;Asia&quot;</td><td>&quot;Indonesia&quot;</td><td>&quot;Beverages&quot;</td><td>&quot;Online&quot;</td><td>&quot;Critical&quot;</td><td>2017-11-21</td><td>433796727</td><td>2017-11-21</td><td>8946.0</td><td>47.45</td><td>31.79</td><td>424487.7</td><td>284393.34</td><td>140094.36</td><td>0ms</td><td>49.260774</td><td>&quot;Online&quot;</td><td>11</td><td>2017</td><td>&quot;Fall&quot;</td><td>6</td></tr><tr><td>&quot;Asia&quot;</td><td>&quot;Turkmenistan&quot;</td><td>&quot;Personal Care&quot;</td><td>&quot;Offline&quot;</td><td>&quot;Critical&quot;</td><td>2017-09-21</td><td>530022799</td><td>2017-09-21</td><td>4380.0</td><td>81.73</td><td>56.67</td><td>357977.4</td><td>248214.6</td><td>109762.8</td><td>0ms</td><td>44.220928</td><td>&quot;Offline&quot;</td><td>9</td><td>2017</td><td>&quot;Fall&quot;</td><td>6</td></tr><tr><td>&quot;Asia&quot;</td><td>&quot;Laos&quot;</td><td>&quot;Vegetables&quot;</td><td>&quot;Online&quot;</td><td>&quot;Critical&quot;</td><td>2010-07-19</td><td>161249959</td><td>2010-07-19</td><td>6301.0</td><td>154.06</td><td>90.93</td><td>970732.06</td><td>572949.93</td><td>397782.13</td><td>0ms</td><td>69.427032</td><td>&quot;Online&quot;</td><td>7</td><td>2010</td><td>&quot;Summer&quot;</td><td>3</td></tr><tr><td>&quot;Asia&quot;</td><td>&quot;Thailand&quot;</td><td>&quot;Household&quot;</td><td>&quot;Offline&quot;</td><td>&quot;Critical&quot;</td><td>2016-08-07</td><td>523539149</td><td>2016-08-07</td><td>5723.0</td><td>668.27</td><td>502.54</td><td>3.8245e6</td><td>2.8760e6</td><td>948472.79</td><td>0ms</td><td>32.978469</td><td>&quot;Online&quot;</td><td>8</td><td>2016</td><td>&quot;Summer&quot;</td><td>8</td></tr></tbody></table></div>"
            ]
          },
          "metadata": {},
          "execution_count": 36
        }
      ]
    },
    {
      "cell_type": "code",
      "source": [
        "# Produto cartesiano\n",
        "# Criando DataFrame\n",
        "players = pl.DataFrame({\"name\": [\"Alice\", \"Bob\"]})\n",
        "\n",
        "# Criando DataFrame com tokens\n",
        "tokens = pl.DataFrame({\"monopoly_token\": [\"hat\", \"shoe\", \"boat\"]})\n",
        "\n",
        "# Realizando o produto cartesiano entre players e tokens\n",
        "# Cada jogador é combinado com todos os tokens possíveis\n",
        "result = players.join(tokens, how=\"cross\")\n",
        "print(result)"
      ],
      "metadata": {
        "colab": {
          "base_uri": "https://localhost:8080/"
        },
        "id": "dXzyUMXfZNim",
        "outputId": "fabca537-b7d3-408d-b46b-53bca88003f6"
      },
      "execution_count": 37,
      "outputs": [
        {
          "output_type": "stream",
          "name": "stdout",
          "text": [
            "shape: (6, 2)\n",
            "┌───────┬────────────────┐\n",
            "│ name  ┆ monopoly_token │\n",
            "│ ---   ┆ ---            │\n",
            "│ str   ┆ str            │\n",
            "╞═══════╪════════════════╡\n",
            "│ Alice ┆ hat            │\n",
            "│ Alice ┆ shoe           │\n",
            "│ Alice ┆ boat           │\n",
            "│ Bob   ┆ hat            │\n",
            "│ Bob   ┆ shoe           │\n",
            "│ Bob   ┆ boat           │\n",
            "└───────┴────────────────┘\n"
          ]
        }
      ]
    },
    {
      "cell_type": "code",
      "source": [
        "# Produto cartesiano aplicado ao dataset real:\n",
        "# Selecionamos os tipos de item\n",
        "item_types = df_critical.select(\"Tipo de Item\").unique()\n",
        "\n",
        "# Criamos os métodos de entrega disponíveis\n",
        "delivery_methods = pl.DataFrame({\"Método de Entrega\": [\"Stantard\", \"Express\", \"Same Day\"]})\n",
        "\n",
        "# Fazemos o produto cartesiano entre os itens e os métodos\n",
        "cartesian_result = item_types.join(delivery_methods, how=\"cross\")\n",
        "print(cartesian_result)"
      ],
      "metadata": {
        "colab": {
          "base_uri": "https://localhost:8080/"
        },
        "id": "3Xm7RTVmZ3by",
        "outputId": "4d94107e-2f9a-4446-8f8f-c3f6579c2543"
      },
      "execution_count": 38,
      "outputs": [
        {
          "output_type": "stream",
          "name": "stdout",
          "text": [
            "shape: (36, 2)\n",
            "┌─────────────────┬───────────────────┐\n",
            "│ Tipo de Item    ┆ Método de Entrega │\n",
            "│ ---             ┆ ---               │\n",
            "│ str             ┆ str               │\n",
            "╞═════════════════╪═══════════════════╡\n",
            "│ Office Supplies ┆ Stantard          │\n",
            "│ Office Supplies ┆ Express           │\n",
            "│ Office Supplies ┆ Same Day          │\n",
            "│ Fruits          ┆ Stantard          │\n",
            "│ Fruits          ┆ Express           │\n",
            "│ …               ┆ …                 │\n",
            "│ Household       ┆ Express           │\n",
            "│ Household       ┆ Same Day          │\n",
            "│ Cereal          ┆ Stantard          │\n",
            "│ Cereal          ┆ Express           │\n",
            "│ Cereal          ┆ Same Day          │\n",
            "└─────────────────┴───────────────────┘\n"
          ]
        }
      ]
    },
    {
      "cell_type": "code",
      "source": [
        "# Concatenação\n",
        "# Exemplo 1: Concatenação vertical (linhas)\n",
        "sales_europe = pl.DataFrame({\n",
        "    \"Região\": [\"Europe\", \"Europe\"],\n",
        "    \"País\": [\"Germany\", \"France\"],\n",
        "    \"Vendas\": [5000, 700]\n",
        "})\n",
        "\n",
        "sales_asia = pl.DataFrame({\n",
        "    \"Região\": [\"Asia\", \"Asia\"],\n",
        "    \"País\": [\"China\", \"Japan\"],\n",
        "    \"Vendas\": [8000, 6000]\n",
        "})\n",
        "\n",
        "# Juntando os DataFrames um embaixo do outro\n",
        "sales_combined = pl.concat([sales_europe, sales_asia], how=\"vertical\")\n",
        "\n",
        "sales_combined"
      ],
      "metadata": {
        "colab": {
          "base_uri": "https://localhost:8080/",
          "height": 223
        },
        "id": "PLLAYzlCaQZr",
        "outputId": "243b2b08-4e30-4d84-eded-3f15c494497a"
      },
      "execution_count": 39,
      "outputs": [
        {
          "output_type": "execute_result",
          "data": {
            "text/plain": [
              "shape: (4, 3)\n",
              "┌────────┬─────────┬────────┐\n",
              "│ Região ┆ País    ┆ Vendas │\n",
              "│ ---    ┆ ---     ┆ ---    │\n",
              "│ str    ┆ str     ┆ i64    │\n",
              "╞════════╪═════════╪════════╡\n",
              "│ Europe ┆ Germany ┆ 5000   │\n",
              "│ Europe ┆ France  ┆ 700    │\n",
              "│ Asia   ┆ China   ┆ 8000   │\n",
              "│ Asia   ┆ Japan   ┆ 6000   │\n",
              "└────────┴─────────┴────────┘"
            ],
            "text/html": [
              "<div><style>\n",
              ".dataframe > thead > tr,\n",
              ".dataframe > tbody > tr {\n",
              "  text-align: right;\n",
              "  white-space: pre-wrap;\n",
              "}\n",
              "</style>\n",
              "<small>shape: (4, 3)</small><table border=\"1\" class=\"dataframe\"><thead><tr><th>Região</th><th>País</th><th>Vendas</th></tr><tr><td>str</td><td>str</td><td>i64</td></tr></thead><tbody><tr><td>&quot;Europe&quot;</td><td>&quot;Germany&quot;</td><td>5000</td></tr><tr><td>&quot;Europe&quot;</td><td>&quot;France&quot;</td><td>700</td></tr><tr><td>&quot;Asia&quot;</td><td>&quot;China&quot;</td><td>8000</td></tr><tr><td>&quot;Asia&quot;</td><td>&quot;Japan&quot;</td><td>6000</td></tr></tbody></table></div>"
            ]
          },
          "metadata": {},
          "execution_count": 39
        }
      ]
    },
    {
      "cell_type": "code",
      "source": [
        "# Exemplo 2: Concatenação horizontal (colunas)\n",
        "sales_info = pl.DataFrame({\n",
        "    \"País\": [\"Germany\", \"France\", \"China\", \"Japan\"],\n",
        "    \"Vendas\": [5000, 7000, 8000, 6000]\n",
        "})\n",
        "\n",
        "profit_info = pl.DataFrame({\n",
        "    \"Lucro\": [1200, 1500, 2000, 1800]\n",
        "})\n",
        "\n",
        "# Juntando os DataFrames lado a lado (colunas)\n",
        "combined_info = pl.concat([sales_info, profit_info], how=\"horizontal\")\n",
        "\n",
        "combined_info"
      ],
      "metadata": {
        "colab": {
          "base_uri": "https://localhost:8080/",
          "height": 223
        },
        "id": "cmhJdgRfa-br",
        "outputId": "ee62360c-4144-4e02-f6fb-b2fde1c480e0"
      },
      "execution_count": 40,
      "outputs": [
        {
          "output_type": "execute_result",
          "data": {
            "text/plain": [
              "shape: (4, 3)\n",
              "┌─────────┬────────┬───────┐\n",
              "│ País    ┆ Vendas ┆ Lucro │\n",
              "│ ---     ┆ ---    ┆ ---   │\n",
              "│ str     ┆ i64    ┆ i64   │\n",
              "╞═════════╪════════╪═══════╡\n",
              "│ Germany ┆ 5000   ┆ 1200  │\n",
              "│ France  ┆ 7000   ┆ 1500  │\n",
              "│ China   ┆ 8000   ┆ 2000  │\n",
              "│ Japan   ┆ 6000   ┆ 1800  │\n",
              "└─────────┴────────┴───────┘"
            ],
            "text/html": [
              "<div><style>\n",
              ".dataframe > thead > tr,\n",
              ".dataframe > tbody > tr {\n",
              "  text-align: right;\n",
              "  white-space: pre-wrap;\n",
              "}\n",
              "</style>\n",
              "<small>shape: (4, 3)</small><table border=\"1\" class=\"dataframe\"><thead><tr><th>País</th><th>Vendas</th><th>Lucro</th></tr><tr><td>str</td><td>i64</td><td>i64</td></tr></thead><tbody><tr><td>&quot;Germany&quot;</td><td>5000</td><td>1200</td></tr><tr><td>&quot;France&quot;</td><td>7000</td><td>1500</td></tr><tr><td>&quot;China&quot;</td><td>8000</td><td>2000</td></tr><tr><td>&quot;Japan&quot;</td><td>6000</td><td>1800</td></tr></tbody></table></div>"
            ]
          },
          "metadata": {},
          "execution_count": 40
        }
      ]
    },
    {
      "cell_type": "code",
      "source": [
        "# Exemplo aplicado: metas de entrega\n",
        "delivery_goals = pl.DataFrame({\n",
        "    \"Tipo de Item\": [\"Snacks\", \"Cereal\", \"Office Supplies\"],\n",
        "    \"Dias de Envio Alvo\": [5, 7, 10]\n",
        "})"
      ],
      "metadata": {
        "id": "gku9nK5ybfg7"
      },
      "execution_count": 41,
      "outputs": []
    },
    {
      "cell_type": "code",
      "source": [
        "delivery_goals"
      ],
      "metadata": {
        "colab": {
          "base_uri": "https://localhost:8080/",
          "height": 192
        },
        "id": "lprMnwbXbnxe",
        "outputId": "3e50677a-df42-4fe7-b862-2b9e1d2eefc8"
      },
      "execution_count": 42,
      "outputs": [
        {
          "output_type": "execute_result",
          "data": {
            "text/plain": [
              "shape: (3, 2)\n",
              "┌─────────────────┬────────────────────┐\n",
              "│ Tipo de Item    ┆ Dias de Envio Alvo │\n",
              "│ ---             ┆ ---                │\n",
              "│ str             ┆ i64                │\n",
              "╞═════════════════╪════════════════════╡\n",
              "│ Snacks          ┆ 5                  │\n",
              "│ Cereal          ┆ 7                  │\n",
              "│ Office Supplies ┆ 10                 │\n",
              "└─────────────────┴────────────────────┘"
            ],
            "text/html": [
              "<div><style>\n",
              ".dataframe > thead > tr,\n",
              ".dataframe > tbody > tr {\n",
              "  text-align: right;\n",
              "  white-space: pre-wrap;\n",
              "}\n",
              "</style>\n",
              "<small>shape: (3, 2)</small><table border=\"1\" class=\"dataframe\"><thead><tr><th>Tipo de Item</th><th>Dias de Envio Alvo</th></tr><tr><td>str</td><td>i64</td></tr></thead><tbody><tr><td>&quot;Snacks&quot;</td><td>5</td></tr><tr><td>&quot;Cereal&quot;</td><td>7</td></tr><tr><td>&quot;Office Supplies&quot;</td><td>10</td></tr></tbody></table></div>"
            ]
          },
          "metadata": {},
          "execution_count": 42
        }
      ]
    },
    {
      "cell_type": "code",
      "source": [
        "# Selecionando apenas a coluna \"Dias de envio alvo\"\n",
        "delivery_goals = delivery_goals.select(\"Dias de Envio Alvo\")\n",
        "delivery_goals"
      ],
      "metadata": {
        "colab": {
          "base_uri": "https://localhost:8080/",
          "height": 192
        },
        "id": "gt3WdQjYbx4P",
        "outputId": "908d6d9a-094c-4775-bec5-7ee885a3d8d4"
      },
      "execution_count": 43,
      "outputs": [
        {
          "output_type": "execute_result",
          "data": {
            "text/plain": [
              "shape: (3, 1)\n",
              "┌────────────────────┐\n",
              "│ Dias de Envio Alvo │\n",
              "│ ---                │\n",
              "│ i64                │\n",
              "╞════════════════════╡\n",
              "│ 5                  │\n",
              "│ 7                  │\n",
              "│ 10                 │\n",
              "└────────────────────┘"
            ],
            "text/html": [
              "<div><style>\n",
              ".dataframe > thead > tr,\n",
              ".dataframe > tbody > tr {\n",
              "  text-align: right;\n",
              "  white-space: pre-wrap;\n",
              "}\n",
              "</style>\n",
              "<small>shape: (3, 1)</small><table border=\"1\" class=\"dataframe\"><thead><tr><th>Dias de Envio Alvo</th></tr><tr><td>i64</td></tr></thead><tbody><tr><td>5</td></tr><tr><td>7</td></tr><tr><td>10</td></tr></tbody></table></div>"
            ]
          },
          "metadata": {},
          "execution_count": 43
        }
      ]
    },
    {
      "cell_type": "code",
      "source": [
        "# Filtrando os itens desejados do dataset principal\n",
        "filtered_items = df_critical.filter(pl.col(\"Tipo de Item\").is_in([\"Snacks\", \"Cereal\", \"Office Supplies\"]))\n",
        "filtered_items"
      ],
      "metadata": {
        "colab": {
          "base_uri": "https://localhost:8080/",
          "height": 671
        },
        "id": "AWuibfABb4KN",
        "outputId": "8eb13d91-5d87-4216-beca-b2d72459e600"
      },
      "execution_count": 44,
      "outputs": [
        {
          "output_type": "execute_result",
          "data": {
            "text/plain": [
              "shape: (478, 20)\n",
              "┌────────┬─────────────┬──────────┬──────────┬───┬───────────────┬────────┬────────┬─────────┐\n",
              "│ Região ┆ País        ┆ Tipo de  ┆ Canal de ┆ … ┆ Tipo de Venda ┆ Mês do ┆ Ano do ┆ Estação │\n",
              "│ ---    ┆ ---         ┆ Item     ┆ Venda    ┆   ┆ ---           ┆ Pedido ┆ Pedido ┆ ---     │\n",
              "│ str    ┆ str         ┆ ---      ┆ ---      ┆   ┆ str           ┆ ---    ┆ ---    ┆ str     │\n",
              "│        ┆             ┆ str      ┆ str      ┆   ┆               ┆ i8     ┆ i32    ┆         │\n",
              "╞════════╪═════════════╪══════════╪══════════╪═══╪═══════════════╪════════╪════════╪═════════╡\n",
              "│ Asia   ┆ Singapore   ┆ Snacks   ┆ Online   ┆ … ┆ Online        ┆ 12     ┆ 2015   ┆ Winter  │\n",
              "│ Asia   ┆ Thailand    ┆ Snacks   ┆ Online   ┆ … ┆ Online        ┆ 7      ┆ 2017   ┆ Summer  │\n",
              "│ Asia   ┆ Indonesia   ┆ Snacks   ┆ Online   ┆ … ┆ Online        ┆ 1      ┆ 2011   ┆ Winter  │\n",
              "│ Asia   ┆ Laos        ┆ Office   ┆ Online   ┆ … ┆ Online        ┆ 3      ┆ 2013   ┆ Spring  │\n",
              "│        ┆             ┆ Supplies ┆          ┆   ┆               ┆        ┆        ┆         │\n",
              "│ Asia   ┆ Bhutan      ┆ Snacks   ┆ Offline  ┆ … ┆ Offline       ┆ 10     ┆ 2011   ┆ Fall    │\n",
              "│ …      ┆ …           ┆ …        ┆ …        ┆ … ┆ …             ┆ …      ┆ …      ┆ …       │\n",
              "│ Asia   ┆ Sri Lanka   ┆ Cereal   ┆ Online   ┆ … ┆ Online        ┆ 4      ┆ 2017   ┆ Spring  │\n",
              "│ Asia   ┆ Singapore   ┆ Snacks   ┆ Online   ┆ … ┆ Online        ┆ 6      ┆ 2010   ┆ Summer  │\n",
              "│ Asia   ┆ Mongolia    ┆ Office   ┆ Offline  ┆ … ┆ Offline       ┆ 8      ┆ 2019   ┆ Summer  │\n",
              "│        ┆             ┆ Supplies ┆          ┆   ┆               ┆        ┆        ┆         │\n",
              "│ Asia   ┆ Malaysia    ┆ Cereal   ┆ Offline  ┆ … ┆ Online        ┆ 3      ┆ 2017   ┆ Spring  │\n",
              "│ Asia   ┆ Philippines ┆ Cereal   ┆ Online   ┆ … ┆ Online        ┆ 3      ┆ 2017   ┆ Spring  │\n",
              "└────────┴─────────────┴──────────┴──────────┴───┴───────────────┴────────┴────────┴─────────┘"
            ],
            "text/html": [
              "<div><style>\n",
              ".dataframe > thead > tr,\n",
              ".dataframe > tbody > tr {\n",
              "  text-align: right;\n",
              "  white-space: pre-wrap;\n",
              "}\n",
              "</style>\n",
              "<small>shape: (478, 20)</small><table border=\"1\" class=\"dataframe\"><thead><tr><th>Região</th><th>País</th><th>Tipo de Item</th><th>Canal de Venda</th><th>Prioridade do Pedido</th><th>Data do Pedido</th><th>ID do Pedido</th><th>Data de Envio</th><th>Unidades Vendidas</th><th>Preço Unitário</th><th>Custo Unitário</th><th>Receita Total</th><th>Custo Total</th><th>Lucro Total</th><th>Tempo de Envio</th><th>Margem de Lucro (%)</th><th>Tipo de Venda</th><th>Mês do Pedido</th><th>Ano do Pedido</th><th>Estação</th></tr><tr><td>str</td><td>str</td><td>str</td><td>str</td><td>str</td><td>date</td><td>i64</td><td>date</td><td>f64</td><td>f64</td><td>f64</td><td>f64</td><td>f64</td><td>f64</td><td>duration[ms]</td><td>f64</td><td>str</td><td>i8</td><td>i32</td><td>str</td></tr></thead><tbody><tr><td>&quot;Asia&quot;</td><td>&quot;Singapore&quot;</td><td>&quot;Snacks&quot;</td><td>&quot;Online&quot;</td><td>&quot;Critical&quot;</td><td>2015-12-08</td><td>609007632</td><td>2016-01-27</td><td>7747.0</td><td>152.58</td><td>97.44</td><td>1.1820e6</td><td>754867.68</td><td>427169.58</td><td>50d</td><td>56.58867</td><td>&quot;Online&quot;</td><td>12</td><td>2015</td><td>&quot;Winter&quot;</td></tr><tr><td>&quot;Asia&quot;</td><td>&quot;Thailand&quot;</td><td>&quot;Snacks&quot;</td><td>&quot;Online&quot;</td><td>&quot;Critical&quot;</td><td>2017-07-29</td><td>251127994</td><td>2017-09-17</td><td>3209.0</td><td>152.58</td><td>97.44</td><td>489629.22</td><td>312684.96</td><td>176944.26</td><td>50d</td><td>56.58867</td><td>&quot;Online&quot;</td><td>7</td><td>2017</td><td>&quot;Summer&quot;</td></tr><tr><td>&quot;Asia&quot;</td><td>&quot;Indonesia&quot;</td><td>&quot;Snacks&quot;</td><td>&quot;Online&quot;</td><td>&quot;Critical&quot;</td><td>2011-01-08</td><td>104704701</td><td>2011-02-27</td><td>3303.0</td><td>152.58</td><td>97.44</td><td>503971.74</td><td>321844.32</td><td>182127.42</td><td>50d</td><td>56.58867</td><td>&quot;Online&quot;</td><td>1</td><td>2011</td><td>&quot;Winter&quot;</td></tr><tr><td>&quot;Asia&quot;</td><td>&quot;Laos&quot;</td><td>&quot;Office Supplies&quot;</td><td>&quot;Online&quot;</td><td>&quot;Critical&quot;</td><td>2013-03-25</td><td>499994933</td><td>2013-05-14</td><td>8467.0</td><td>651.21</td><td>524.96</td><td>5.5138e6</td><td>4.4448e6</td><td>1.0690e6</td><td>50d</td><td>24.049451</td><td>&quot;Online&quot;</td><td>3</td><td>2013</td><td>&quot;Spring&quot;</td></tr><tr><td>&quot;Asia&quot;</td><td>&quot;Bhutan&quot;</td><td>&quot;Snacks&quot;</td><td>&quot;Offline&quot;</td><td>&quot;Critical&quot;</td><td>2011-10-17</td><td>605949056</td><td>2011-12-06</td><td>2646.0</td><td>152.58</td><td>97.44</td><td>403726.68</td><td>257826.24</td><td>145900.44</td><td>50d</td><td>56.58867</td><td>&quot;Offline&quot;</td><td>10</td><td>2011</td><td>&quot;Fall&quot;</td></tr><tr><td>&hellip;</td><td>&hellip;</td><td>&hellip;</td><td>&hellip;</td><td>&hellip;</td><td>&hellip;</td><td>&hellip;</td><td>&hellip;</td><td>&hellip;</td><td>&hellip;</td><td>&hellip;</td><td>&hellip;</td><td>&hellip;</td><td>&hellip;</td><td>&hellip;</td><td>&hellip;</td><td>&hellip;</td><td>&hellip;</td><td>&hellip;</td><td>&hellip;</td></tr><tr><td>&quot;Asia&quot;</td><td>&quot;Sri Lanka&quot;</td><td>&quot;Cereal&quot;</td><td>&quot;Online&quot;</td><td>&quot;Critical&quot;</td><td>2017-04-27</td><td>807250344</td><td>2017-04-27</td><td>2171.0</td><td>205.7</td><td>117.11</td><td>446574.7</td><td>254245.81</td><td>192328.89</td><td>0ms</td><td>75.646828</td><td>&quot;Online&quot;</td><td>4</td><td>2017</td><td>&quot;Spring&quot;</td></tr><tr><td>&quot;Asia&quot;</td><td>&quot;Singapore&quot;</td><td>&quot;Snacks&quot;</td><td>&quot;Online&quot;</td><td>&quot;Critical&quot;</td><td>2010-06-02</td><td>552622878</td><td>2010-06-02</td><td>2245.0</td><td>152.58</td><td>97.44</td><td>342542.1</td><td>218752.8</td><td>123789.3</td><td>0ms</td><td>56.58867</td><td>&quot;Online&quot;</td><td>6</td><td>2010</td><td>&quot;Summer&quot;</td></tr><tr><td>&quot;Asia&quot;</td><td>&quot;Mongolia&quot;</td><td>&quot;Office Supplies&quot;</td><td>&quot;Offline&quot;</td><td>&quot;Critical&quot;</td><td>2019-08-21</td><td>515076673</td><td>2019-08-21</td><td>1488.0</td><td>651.21</td><td>524.96</td><td>969000.48</td><td>781140.48</td><td>187860.0</td><td>0ms</td><td>24.049451</td><td>&quot;Offline&quot;</td><td>8</td><td>2019</td><td>&quot;Summer&quot;</td></tr><tr><td>&quot;Asia&quot;</td><td>&quot;Malaysia&quot;</td><td>&quot;Cereal&quot;</td><td>&quot;Offline&quot;</td><td>&quot;Critical&quot;</td><td>2017-03-17</td><td>671855866</td><td>2017-03-17</td><td>5936.0</td><td>205.7</td><td>117.11</td><td>1221035.2</td><td>695164.96</td><td>525870.24</td><td>0ms</td><td>75.646828</td><td>&quot;Online&quot;</td><td>3</td><td>2017</td><td>&quot;Spring&quot;</td></tr><tr><td>&quot;Asia&quot;</td><td>&quot;Philippines&quot;</td><td>&quot;Cereal&quot;</td><td>&quot;Online&quot;</td><td>&quot;Critical&quot;</td><td>2017-03-17</td><td>520209348</td><td>2017-03-17</td><td>361.0</td><td>205.7</td><td>117.11</td><td>74257.7</td><td>42276.71</td><td>31980.99</td><td>0ms</td><td>75.646828</td><td>&quot;Online&quot;</td><td>3</td><td>2017</td><td>&quot;Spring&quot;</td></tr></tbody></table></div>"
            ]
          },
          "metadata": {},
          "execution_count": 44
        }
      ]
    },
    {
      "cell_type": "code",
      "source": [
        "# Concatenando horizontalmente para adicionar os dias de envio ao dataset filtrado\n",
        "combined_data = pl.concat([filtered_items, delivery_goals], how=\"horizontal\")\n",
        "combined_data"
      ],
      "metadata": {
        "colab": {
          "base_uri": "https://localhost:8080/",
          "height": 688
        },
        "id": "CTyBVKdLc06T",
        "outputId": "e1834869-33ad-4269-94c8-16bc12e17a59"
      },
      "execution_count": 45,
      "outputs": [
        {
          "output_type": "execute_result",
          "data": {
            "text/plain": [
              "shape: (478, 21)\n",
              "┌────────┬─────────────┬──────────┬──────────┬───┬────────┬────────┬─────────┬─────────────────────┐\n",
              "│ Região ┆ País        ┆ Tipo de  ┆ Canal de ┆ … ┆ Mês do ┆ Ano do ┆ Estação ┆ Dias de Envio Alvo  │\n",
              "│ ---    ┆ ---         ┆ Item     ┆ Venda    ┆   ┆ Pedido ┆ Pedido ┆ ---     ┆ ---                 │\n",
              "│ str    ┆ str         ┆ ---      ┆ ---      ┆   ┆ ---    ┆ ---    ┆ str     ┆ i64                 │\n",
              "│        ┆             ┆ str      ┆ str      ┆   ┆ i8     ┆ i32    ┆         ┆                     │\n",
              "╞════════╪═════════════╪══════════╪══════════╪═══╪════════╪════════╪═════════╪═════════════════════╡\n",
              "│ Asia   ┆ Singapore   ┆ Snacks   ┆ Online   ┆ … ┆ 12     ┆ 2015   ┆ Winter  ┆ 5                   │\n",
              "│ Asia   ┆ Thailand    ┆ Snacks   ┆ Online   ┆ … ┆ 7      ┆ 2017   ┆ Summer  ┆ 7                   │\n",
              "│ Asia   ┆ Indonesia   ┆ Snacks   ┆ Online   ┆ … ┆ 1      ┆ 2011   ┆ Winter  ┆ 10                  │\n",
              "│ Asia   ┆ Laos        ┆ Office   ┆ Online   ┆ … ┆ 3      ┆ 2013   ┆ Spring  ┆ null                │\n",
              "│        ┆             ┆ Supplies ┆          ┆   ┆        ┆        ┆         ┆                     │\n",
              "│ Asia   ┆ Bhutan      ┆ Snacks   ┆ Offline  ┆ … ┆ 10     ┆ 2011   ┆ Fall    ┆ null                │\n",
              "│ …      ┆ …           ┆ …        ┆ …        ┆ … ┆ …      ┆ …      ┆ …       ┆ …                   │\n",
              "│ Asia   ┆ Sri Lanka   ┆ Cereal   ┆ Online   ┆ … ┆ 4      ┆ 2017   ┆ Spring  ┆ null                │\n",
              "│ Asia   ┆ Singapore   ┆ Snacks   ┆ Online   ┆ … ┆ 6      ┆ 2010   ┆ Summer  ┆ null                │\n",
              "│ Asia   ┆ Mongolia    ┆ Office   ┆ Offline  ┆ … ┆ 8      ┆ 2019   ┆ Summer  ┆ null                │\n",
              "│        ┆             ┆ Supplies ┆          ┆   ┆        ┆        ┆         ┆                     │\n",
              "│ Asia   ┆ Malaysia    ┆ Cereal   ┆ Offline  ┆ … ┆ 3      ┆ 2017   ┆ Spring  ┆ null                │\n",
              "│ Asia   ┆ Philippines ┆ Cereal   ┆ Online   ┆ … ┆ 3      ┆ 2017   ┆ Spring  ┆ null                │\n",
              "└────────┴─────────────┴──────────┴──────────┴───┴────────┴────────┴─────────┴─────────────────────┘"
            ],
            "text/html": [
              "<div><style>\n",
              ".dataframe > thead > tr,\n",
              ".dataframe > tbody > tr {\n",
              "  text-align: right;\n",
              "  white-space: pre-wrap;\n",
              "}\n",
              "</style>\n",
              "<small>shape: (478, 21)</small><table border=\"1\" class=\"dataframe\"><thead><tr><th>Região</th><th>País</th><th>Tipo de Item</th><th>Canal de Venda</th><th>Prioridade do Pedido</th><th>Data do Pedido</th><th>ID do Pedido</th><th>Data de Envio</th><th>Unidades Vendidas</th><th>Preço Unitário</th><th>Custo Unitário</th><th>Receita Total</th><th>Custo Total</th><th>Lucro Total</th><th>Tempo de Envio</th><th>Margem de Lucro (%)</th><th>Tipo de Venda</th><th>Mês do Pedido</th><th>Ano do Pedido</th><th>Estação</th><th>Dias de Envio Alvo</th></tr><tr><td>str</td><td>str</td><td>str</td><td>str</td><td>str</td><td>date</td><td>i64</td><td>date</td><td>f64</td><td>f64</td><td>f64</td><td>f64</td><td>f64</td><td>f64</td><td>duration[ms]</td><td>f64</td><td>str</td><td>i8</td><td>i32</td><td>str</td><td>i64</td></tr></thead><tbody><tr><td>&quot;Asia&quot;</td><td>&quot;Singapore&quot;</td><td>&quot;Snacks&quot;</td><td>&quot;Online&quot;</td><td>&quot;Critical&quot;</td><td>2015-12-08</td><td>609007632</td><td>2016-01-27</td><td>7747.0</td><td>152.58</td><td>97.44</td><td>1.1820e6</td><td>754867.68</td><td>427169.58</td><td>50d</td><td>56.58867</td><td>&quot;Online&quot;</td><td>12</td><td>2015</td><td>&quot;Winter&quot;</td><td>5</td></tr><tr><td>&quot;Asia&quot;</td><td>&quot;Thailand&quot;</td><td>&quot;Snacks&quot;</td><td>&quot;Online&quot;</td><td>&quot;Critical&quot;</td><td>2017-07-29</td><td>251127994</td><td>2017-09-17</td><td>3209.0</td><td>152.58</td><td>97.44</td><td>489629.22</td><td>312684.96</td><td>176944.26</td><td>50d</td><td>56.58867</td><td>&quot;Online&quot;</td><td>7</td><td>2017</td><td>&quot;Summer&quot;</td><td>7</td></tr><tr><td>&quot;Asia&quot;</td><td>&quot;Indonesia&quot;</td><td>&quot;Snacks&quot;</td><td>&quot;Online&quot;</td><td>&quot;Critical&quot;</td><td>2011-01-08</td><td>104704701</td><td>2011-02-27</td><td>3303.0</td><td>152.58</td><td>97.44</td><td>503971.74</td><td>321844.32</td><td>182127.42</td><td>50d</td><td>56.58867</td><td>&quot;Online&quot;</td><td>1</td><td>2011</td><td>&quot;Winter&quot;</td><td>10</td></tr><tr><td>&quot;Asia&quot;</td><td>&quot;Laos&quot;</td><td>&quot;Office Supplies&quot;</td><td>&quot;Online&quot;</td><td>&quot;Critical&quot;</td><td>2013-03-25</td><td>499994933</td><td>2013-05-14</td><td>8467.0</td><td>651.21</td><td>524.96</td><td>5.5138e6</td><td>4.4448e6</td><td>1.0690e6</td><td>50d</td><td>24.049451</td><td>&quot;Online&quot;</td><td>3</td><td>2013</td><td>&quot;Spring&quot;</td><td>null</td></tr><tr><td>&quot;Asia&quot;</td><td>&quot;Bhutan&quot;</td><td>&quot;Snacks&quot;</td><td>&quot;Offline&quot;</td><td>&quot;Critical&quot;</td><td>2011-10-17</td><td>605949056</td><td>2011-12-06</td><td>2646.0</td><td>152.58</td><td>97.44</td><td>403726.68</td><td>257826.24</td><td>145900.44</td><td>50d</td><td>56.58867</td><td>&quot;Offline&quot;</td><td>10</td><td>2011</td><td>&quot;Fall&quot;</td><td>null</td></tr><tr><td>&hellip;</td><td>&hellip;</td><td>&hellip;</td><td>&hellip;</td><td>&hellip;</td><td>&hellip;</td><td>&hellip;</td><td>&hellip;</td><td>&hellip;</td><td>&hellip;</td><td>&hellip;</td><td>&hellip;</td><td>&hellip;</td><td>&hellip;</td><td>&hellip;</td><td>&hellip;</td><td>&hellip;</td><td>&hellip;</td><td>&hellip;</td><td>&hellip;</td><td>&hellip;</td></tr><tr><td>&quot;Asia&quot;</td><td>&quot;Sri Lanka&quot;</td><td>&quot;Cereal&quot;</td><td>&quot;Online&quot;</td><td>&quot;Critical&quot;</td><td>2017-04-27</td><td>807250344</td><td>2017-04-27</td><td>2171.0</td><td>205.7</td><td>117.11</td><td>446574.7</td><td>254245.81</td><td>192328.89</td><td>0ms</td><td>75.646828</td><td>&quot;Online&quot;</td><td>4</td><td>2017</td><td>&quot;Spring&quot;</td><td>null</td></tr><tr><td>&quot;Asia&quot;</td><td>&quot;Singapore&quot;</td><td>&quot;Snacks&quot;</td><td>&quot;Online&quot;</td><td>&quot;Critical&quot;</td><td>2010-06-02</td><td>552622878</td><td>2010-06-02</td><td>2245.0</td><td>152.58</td><td>97.44</td><td>342542.1</td><td>218752.8</td><td>123789.3</td><td>0ms</td><td>56.58867</td><td>&quot;Online&quot;</td><td>6</td><td>2010</td><td>&quot;Summer&quot;</td><td>null</td></tr><tr><td>&quot;Asia&quot;</td><td>&quot;Mongolia&quot;</td><td>&quot;Office Supplies&quot;</td><td>&quot;Offline&quot;</td><td>&quot;Critical&quot;</td><td>2019-08-21</td><td>515076673</td><td>2019-08-21</td><td>1488.0</td><td>651.21</td><td>524.96</td><td>969000.48</td><td>781140.48</td><td>187860.0</td><td>0ms</td><td>24.049451</td><td>&quot;Offline&quot;</td><td>8</td><td>2019</td><td>&quot;Summer&quot;</td><td>null</td></tr><tr><td>&quot;Asia&quot;</td><td>&quot;Malaysia&quot;</td><td>&quot;Cereal&quot;</td><td>&quot;Offline&quot;</td><td>&quot;Critical&quot;</td><td>2017-03-17</td><td>671855866</td><td>2017-03-17</td><td>5936.0</td><td>205.7</td><td>117.11</td><td>1221035.2</td><td>695164.96</td><td>525870.24</td><td>0ms</td><td>75.646828</td><td>&quot;Online&quot;</td><td>3</td><td>2017</td><td>&quot;Spring&quot;</td><td>null</td></tr><tr><td>&quot;Asia&quot;</td><td>&quot;Philippines&quot;</td><td>&quot;Cereal&quot;</td><td>&quot;Online&quot;</td><td>&quot;Critical&quot;</td><td>2017-03-17</td><td>520209348</td><td>2017-03-17</td><td>361.0</td><td>205.7</td><td>117.11</td><td>74257.7</td><td>42276.71</td><td>31980.99</td><td>0ms</td><td>75.646828</td><td>&quot;Online&quot;</td><td>3</td><td>2017</td><td>&quot;Spring&quot;</td><td>null</td></tr></tbody></table></div>"
            ]
          },
          "metadata": {},
          "execution_count": 45
        }
      ]
    },
    {
      "cell_type": "code",
      "source": [
        "# Pivoteamento\n",
        "# Entendendo o pivoteamento\n",
        "\n",
        "# Criando um DataFrame de exemplo\n",
        "df_varejo = pl.DataFrame({\n",
        "    \"Loja\": [\"Loja A\", \"Loja A\", \"Loja B\", \"Loja B\", \"Loja C\"],\n",
        "    \"Produto\": [\"Camiseta\", \"Calça\", \"Camiseta\", \"Calça\", \"Tênis\"],\n",
        "    \"Unidades Vendidas\": [10, 5, 8, 12, 7]\n",
        "})"
      ],
      "metadata": {
        "id": "CDmMe0JOdB3P"
      },
      "execution_count": 46,
      "outputs": []
    },
    {
      "cell_type": "code",
      "source": [
        "df_varejo"
      ],
      "metadata": {
        "colab": {
          "base_uri": "https://localhost:8080/",
          "height": 255
        },
        "id": "m9ZtTndAgxE5",
        "outputId": "4eee8672-2f79-409c-9dc7-cd8893f30ccb"
      },
      "execution_count": 47,
      "outputs": [
        {
          "output_type": "execute_result",
          "data": {
            "text/plain": [
              "shape: (5, 3)\n",
              "┌────────┬──────────┬───────────────────┐\n",
              "│ Loja   ┆ Produto  ┆ Unidades Vendidas │\n",
              "│ ---    ┆ ---      ┆ ---               │\n",
              "│ str    ┆ str      ┆ i64               │\n",
              "╞════════╪══════════╪═══════════════════╡\n",
              "│ Loja A ┆ Camiseta ┆ 10                │\n",
              "│ Loja A ┆ Calça    ┆ 5                 │\n",
              "│ Loja B ┆ Camiseta ┆ 8                 │\n",
              "│ Loja B ┆ Calça    ┆ 12                │\n",
              "│ Loja C ┆ Tênis    ┆ 7                 │\n",
              "└────────┴──────────┴───────────────────┘"
            ],
            "text/html": [
              "<div><style>\n",
              ".dataframe > thead > tr,\n",
              ".dataframe > tbody > tr {\n",
              "  text-align: right;\n",
              "  white-space: pre-wrap;\n",
              "}\n",
              "</style>\n",
              "<small>shape: (5, 3)</small><table border=\"1\" class=\"dataframe\"><thead><tr><th>Loja</th><th>Produto</th><th>Unidades Vendidas</th></tr><tr><td>str</td><td>str</td><td>i64</td></tr></thead><tbody><tr><td>&quot;Loja A&quot;</td><td>&quot;Camiseta&quot;</td><td>10</td></tr><tr><td>&quot;Loja A&quot;</td><td>&quot;Calça&quot;</td><td>5</td></tr><tr><td>&quot;Loja B&quot;</td><td>&quot;Camiseta&quot;</td><td>8</td></tr><tr><td>&quot;Loja B&quot;</td><td>&quot;Calça&quot;</td><td>12</td></tr><tr><td>&quot;Loja C&quot;</td><td>&quot;Tênis&quot;</td><td>7</td></tr></tbody></table></div>"
            ]
          },
          "metadata": {},
          "execution_count": 47
        }
      ]
    },
    {
      "cell_type": "code",
      "source": [
        "# Aplicando o pivoteamento\n",
        "df_pivot_varejo = df_varejo.pivot(\n",
        "    values=\"Unidades Vendidas\",  # Valores que queremos resumir\n",
        "    index=\"Loja\",                # Cada loja será uma linha\n",
        "    columns=\"Produto\",           # Cada produto vira uma coluna\n",
        "    aggregate_function=\"sum\"     # Agregação pela soma das vendas\n",
        ")\n",
        "\n",
        "df_pivot_varejo"
      ],
      "metadata": {
        "colab": {
          "base_uri": "https://localhost:8080/",
          "height": 228
        },
        "id": "6QpmMqCYg3Yt",
        "outputId": "9f0acb19-cf63-4e56-c6a7-ad5a8cab96d3"
      },
      "execution_count": 48,
      "outputs": [
        {
          "output_type": "stream",
          "name": "stderr",
          "text": [
            "/tmp/ipython-input-1681043256.py:1: DeprecationWarning: The argument `columns` for `DataFrame.pivot` is deprecated. It has been renamed to `on`.\n",
            "  df_pivot_varejo = df_varejo.pivot(\n"
          ]
        },
        {
          "output_type": "execute_result",
          "data": {
            "text/plain": [
              "shape: (3, 4)\n",
              "┌────────┬──────────┬───────┬───────┐\n",
              "│ Loja   ┆ Camiseta ┆ Calça ┆ Tênis │\n",
              "│ ---    ┆ ---      ┆ ---   ┆ ---   │\n",
              "│ str    ┆ i64      ┆ i64   ┆ i64   │\n",
              "╞════════╪══════════╪═══════╪═══════╡\n",
              "│ Loja A ┆ 10       ┆ 5     ┆ null  │\n",
              "│ Loja B ┆ 8        ┆ 12    ┆ null  │\n",
              "│ Loja C ┆ null     ┆ null  ┆ 7     │\n",
              "└────────┴──────────┴───────┴───────┘"
            ],
            "text/html": [
              "<div><style>\n",
              ".dataframe > thead > tr,\n",
              ".dataframe > tbody > tr {\n",
              "  text-align: right;\n",
              "  white-space: pre-wrap;\n",
              "}\n",
              "</style>\n",
              "<small>shape: (3, 4)</small><table border=\"1\" class=\"dataframe\"><thead><tr><th>Loja</th><th>Camiseta</th><th>Calça</th><th>Tênis</th></tr><tr><td>str</td><td>i64</td><td>i64</td><td>i64</td></tr></thead><tbody><tr><td>&quot;Loja A&quot;</td><td>10</td><td>5</td><td>null</td></tr><tr><td>&quot;Loja B&quot;</td><td>8</td><td>12</td><td>null</td></tr><tr><td>&quot;Loja C&quot;</td><td>null</td><td>null</td><td>7</td></tr></tbody></table></div>"
            ]
          },
          "metadata": {},
          "execution_count": 48
        }
      ]
    },
    {
      "cell_type": "code",
      "source": [
        "# Aplicando o pivoteamento em um dataset maior\n",
        "\n",
        "df_pivot_course = df_original.pivot(\n",
        "    values=\"Unidades Vendidas\",\n",
        "    index=\"Região\",             # Cada região será uma linha\n",
        "    columns=\"Tipo de Item\",     # Cada tipo de item vira uma coluna\n",
        "    aggregate_function=\"sum\"    # Soma das vendas por região/item\n",
        ")\n",
        "df_pivot_course"
      ],
      "metadata": {
        "colab": {
          "base_uri": "https://localhost:8080/",
          "height": 166
        },
        "id": "1TBgMG-6hKzs",
        "outputId": "85ac5675-f977-4904-ef06-bd40d0a77390"
      },
      "execution_count": 52,
      "outputs": [
        {
          "output_type": "stream",
          "name": "stderr",
          "text": [
            "/tmp/ipython-input-451683642.py:1: DeprecationWarning: The argument `columns` for `DataFrame.pivot` is deprecated. It has been renamed to `on`.\n",
            "  df_pivot_course = df.pivot(\n"
          ]
        },
        {
          "output_type": "execute_result",
          "data": {
            "text/plain": [
              "shape: (1, 13)\n",
              "┌────────┬────────────┬────────────┬───────────┬───┬───────────┬───────────┬───────────┬───────────┐\n",
              "│ Região ┆ Cereal     ┆ Snacks     ┆ Fruits    ┆ … ┆ Office    ┆ Clothes   ┆ Household ┆ Meat      │\n",
              "│ ---    ┆ ---        ┆ ---        ┆ ---       ┆   ┆ Supplies  ┆ ---       ┆ ---       ┆ ---       │\n",
              "│ str    ┆ f64        ┆ f64        ┆ f64       ┆   ┆ ---       ┆ f64       ┆ f64       ┆ f64       │\n",
              "│        ┆            ┆            ┆           ┆   ┆ f64       ┆           ┆           ┆           │\n",
              "╞════════╪════════════╪════════════╪═══════════╪═══╪═══════════╪═══════════╪═══════════╪═══════════╡\n",
              "│ Asia   ┆ 3.093257e6 ┆ 3.124075e6 ┆ 3.115176e ┆ … ┆ 2.950871e ┆ 2.715338e ┆ 3.042222e ┆ 3.175185e │\n",
              "│        ┆            ┆            ┆ 6         ┆   ┆ 6         ┆ 6         ┆ 6         ┆ 6         │\n",
              "└────────┴────────────┴────────────┴───────────┴───┴───────────┴───────────┴───────────┴───────────┘"
            ],
            "text/html": [
              "<div><style>\n",
              ".dataframe > thead > tr,\n",
              ".dataframe > tbody > tr {\n",
              "  text-align: right;\n",
              "  white-space: pre-wrap;\n",
              "}\n",
              "</style>\n",
              "<small>shape: (1, 13)</small><table border=\"1\" class=\"dataframe\"><thead><tr><th>Região</th><th>Cereal</th><th>Snacks</th><th>Fruits</th><th>Vegetables</th><th>Baby Food</th><th>Beverages</th><th>Personal Care</th><th>Cosmetics</th><th>Office Supplies</th><th>Clothes</th><th>Household</th><th>Meat</th></tr><tr><td>str</td><td>f64</td><td>f64</td><td>f64</td><td>f64</td><td>f64</td><td>f64</td><td>f64</td><td>f64</td><td>f64</td><td>f64</td><td>f64</td><td>f64</td></tr></thead><tbody><tr><td>&quot;Asia&quot;</td><td>3.093257e6</td><td>3.124075e6</td><td>3.115176e6</td><td>3.066821e6</td><td>3.034713e6</td><td>3.032796e6</td><td>3.05165e6</td><td>3.427985e6</td><td>2.950871e6</td><td>2.715338e6</td><td>3.042222e6</td><td>3.175185e6</td></tr></tbody></table></div>"
            ]
          },
          "metadata": {},
          "execution_count": 52
        }
      ]
    },
    {
      "cell_type": "code",
      "source": [
        "import matplotlib.cm as cm\n",
        "import numpy as np"
      ],
      "metadata": {
        "id": "qI6mdi24okK7"
      },
      "execution_count": 55,
      "outputs": []
    },
    {
      "cell_type": "code",
      "source": [
        "# Converter para pandas para facilitar a visualização com gráficos\n",
        "df_pivot_pd = df_pivot_course.to_pandas()"
      ],
      "metadata": {
        "id": "GRK0vltBor5G"
      },
      "execution_count": 56,
      "outputs": []
    },
    {
      "cell_type": "code",
      "source": [
        "# Definir a coluna 'Região' como índice, para organizar o eixo X no gráfico\n",
        "df_pivot_pd = df_pivot_pd.set_index(\"Região\")\n",
        "\n",
        "# Criar paleta de cores com base no número de categorias\n",
        "num_items = len(df_pivot_pd.columns)\n",
        "colors = cm.tab20(np.linspace(0, 1, num_items))\n",
        "\n",
        "# Criar gráfico de barras empilhadas\n",
        "ax = df_pivot_pd.plot(\n",
        "    kind=\"bar\",\n",
        "    stacked=True,      # As barras são empilhadas\n",
        "    figsize=(12, 6),   # Tamanho do gráfico\n",
        "    color=colors,      # Paleta de cores personalizada\n",
        "    edgecolor=\"black\"  # Borda preta para destacar\n",
        ")\n",
        "\n",
        "# Ajustar título e rótulos\n",
        "plt.title(\"Receita Total por Tipo de Item e Região\", fontsize=14)\n",
        "plt.xlabel(\"Região\", fontsize=12)\n",
        "plt.ylabel(\"Receita Total\", fontsize=12)\n",
        "\n",
        "# Rotacionar os rótulos do eixo X para melhor leitura\n",
        "plt.xticks(rotation=45, ha=\"right\")\n",
        "\n",
        "# Ajustar legenda para fora do gráfico\n",
        "plt.legend(\n",
        "    title=\"Tipo de Item\",\n",
        "    bbox_to_anchor=(1.05, 1),\n",
        "    loc=\"upper left\",\n",
        "    fontsize=10\n",
        ")\n",
        "\n",
        "# Ajustar layout para não cortar rótulos\n",
        "plt.tight_layout()"
      ],
      "metadata": {
        "colab": {
          "base_uri": "https://localhost:8080/",
          "height": 607
        },
        "id": "IZNa5geeo1Kn",
        "outputId": "4de702b4-14e9-4fa5-aba8-5eb9b578ddcf"
      },
      "execution_count": 57,
      "outputs": [
        {
          "output_type": "display_data",
          "data": {
            "text/plain": [
              "<Figure size 1200x600 with 1 Axes>"
            ],
            "image/png": "[encoded data removed]"
          },
          "metadata": {}
        }
      ]
    },
    {
      "cell_type": "code",
      "source": [
        "# Despivotando os dados\n",
        "\n",
        "df_unpivot_course = df_pivot_course.unpivot(\n",
        "    [\"Office Supplies\",\"Beverages\", \"Cereal\", \"Snacks\", \"Personal Care\"],  # Colunas a transformar em linhas\n",
        "    index=[\"Região\"],                                                      # Coluna fixa (região)\n",
        "    variable_name=\"Tipo de Item\",                                          # Nova coluna com os nomes das categorias\n",
        "    value_name=\"Unidades Vendidas\"                                         # Nova coluna com os valores\n",
        ")\n",
        "df_unpivot_course"
      ],
      "metadata": {
        "colab": {
          "base_uri": "https://localhost:8080/",
          "height": 255
        },
        "id": "gka4lrsxpeO9",
        "outputId": "fdd949a9-dbc0-4a21-b7e8-e510b1752c83"
      },
      "execution_count": 58,
      "outputs": [
        {
          "output_type": "execute_result",
          "data": {
            "text/plain": [
              "shape: (5, 3)\n",
              "┌────────┬─────────────────┬───────────────────┐\n",
              "│ Região ┆ Tipo de Item    ┆ Unidades Vendidas │\n",
              "│ ---    ┆ ---             ┆ ---               │\n",
              "│ str    ┆ str             ┆ f64               │\n",
              "╞════════╪═════════════════╪═══════════════════╡\n",
              "│ Asia   ┆ Office Supplies ┆ 2.950871e6        │\n",
              "│ Asia   ┆ Beverages       ┆ 3.032796e6        │\n",
              "│ Asia   ┆ Cereal          ┆ 3.093257e6        │\n",
              "│ Asia   ┆ Snacks          ┆ 3.124075e6        │\n",
              "│ Asia   ┆ Personal Care   ┆ 3.05165e6         │\n",
              "└────────┴─────────────────┴───────────────────┘"
            ],
            "text/html": [
              "<div><style>\n",
              ".dataframe > thead > tr,\n",
              ".dataframe > tbody > tr {\n",
              "  text-align: right;\n",
              "  white-space: pre-wrap;\n",
              "}\n",
              "</style>\n",
              "<small>shape: (5, 3)</small><table border=\"1\" class=\"dataframe\"><thead><tr><th>Região</th><th>Tipo de Item</th><th>Unidades Vendidas</th></tr><tr><td>str</td><td>str</td><td>f64</td></tr></thead><tbody><tr><td>&quot;Asia&quot;</td><td>&quot;Office Supplies&quot;</td><td>2.950871e6</td></tr><tr><td>&quot;Asia&quot;</td><td>&quot;Beverages&quot;</td><td>3.032796e6</td></tr><tr><td>&quot;Asia&quot;</td><td>&quot;Cereal&quot;</td><td>3.093257e6</td></tr><tr><td>&quot;Asia&quot;</td><td>&quot;Snacks&quot;</td><td>3.124075e6</td></tr><tr><td>&quot;Asia&quot;</td><td>&quot;Personal Care&quot;</td><td>3.05165e6</td></tr></tbody></table></div>"
            ]
          },
          "metadata": {},
          "execution_count": 58
        }
      ]
    },
    {
      "cell_type": "code",
      "source": [],
      "metadata": {
        "id": "0HfyJl3kpgSG"
      },
      "execution_count": null,
      "outputs": []
    }
  ]
}