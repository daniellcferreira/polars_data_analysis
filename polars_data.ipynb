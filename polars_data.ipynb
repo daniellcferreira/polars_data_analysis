{
  "nbformat": 4,
  "nbformat_minor": 0,
  "metadata": {
    "colab": {
      "provenance": []
    },
    "kernelspec": {
      "name": "python3",
      "display_name": "Python 3"
    },
    "language_info": {
      "name": "python"
    }
  },
  "cells": [
    {
      "cell_type": "code",
      "execution_count": 13,
      "metadata": {
        "id": "AyI2bC1NzJwr"
      },
      "outputs": [],
      "source": [
        "import polars as pl"
      ]
    },
    {
      "cell_type": "code",
      "source": [
        "# Importando a biblioteca Polars e lendo o arquivo CSV\n",
        "df = pl.read_csv('data-superstore.csv')\n",
        "df.head()   # Visualizando as 5 primeiras linhas do dataset"
      ],
      "metadata": {
        "colab": {
          "base_uri": "https://localhost:8080/",
          "height": 307
        },
        "id": "I89uK6bwA5Il",
        "outputId": "95a81741-6d13-4753-eafa-73c7dab14fd2"
      },
      "execution_count": 14,
      "outputs": [
        {
          "output_type": "execute_result",
          "data": {
            "text/plain": [
              "shape: (5, 14)\n",
              "┌────────────┬─────────┬───────────┬───────────┬───┬───────────┬───────────┬───────────┬───────────┐\n",
              "│ Região     ┆ País    ┆ Tipo de   ┆ Canal de  ┆ … ┆ Custo     ┆ Receita   ┆ Custo     ┆ Lucro     │\n",
              "│ ---        ┆ ---     ┆ Item      ┆ Venda     ┆   ┆ Unitário  ┆ Total     ┆ Total     ┆ Total     │\n",
              "│ str        ┆ str     ┆ ---       ┆ ---       ┆   ┆ ---       ┆ ---       ┆ ---       ┆ ---       │\n",
              "│            ┆         ┆ str       ┆ str       ┆   ┆ f64       ┆ f64       ┆ f64       ┆ f64       │\n",
              "╞════════════╪═════════╪═══════════╪═══════════╪═══╪═══════════╪═══════════╪═══════════╪═══════════╡\n",
              "│ Australia  ┆ Palau   ┆ Office    ┆ Online    ┆ … ┆ 524.96    ┆ 1.5636e6  ┆ 1.2604e6  ┆ 303126.25 │\n",
              "│ and        ┆         ┆ Supplies  ┆           ┆   ┆           ┆           ┆           ┆           │\n",
              "│ Oceania    ┆         ┆           ┆           ┆   ┆           ┆           ┆           ┆           │\n",
              "│ Europe     ┆ Poland  ┆ Beverages ┆ Online    ┆ … ┆ 31.79     ┆ 443183.0  ┆ 296918.6  ┆ 146264.4  │\n",
              "│ North      ┆ Canada  ┆ Cereal    ┆ Online    ┆ … ┆ 117.11    ┆ 21187.1   ┆ 12062.33  ┆ 9124.77   │\n",
              "│ America    ┆         ┆           ┆           ┆   ┆           ┆           ┆           ┆           │\n",
              "│ Europe     ┆ Belarus ┆ Snacks    ┆ Online    ┆ … ┆ 97.44     ┆ 215748.12 ┆ 137780.16 ┆ 77967.96  │\n",
              "│ Middle     ┆ Oman    ┆ Cereal    ┆ Offline   ┆ … ┆ 117.11    ┆ 1445453.9 ┆ 822931.97 ┆ 622521.93 │\n",
              "│ East and   ┆         ┆           ┆           ┆   ┆           ┆           ┆           ┆           │\n",
              "│ North      ┆         ┆           ┆           ┆   ┆           ┆           ┆           ┆           │\n",
              "│ Africa     ┆         ┆           ┆           ┆   ┆           ┆           ┆           ┆           │\n",
              "└────────────┴─────────┴───────────┴───────────┴───┴───────────┴───────────┴───────────┴───────────┘"
            ],
            "text/html": [
              "<div><style>\n",
              ".dataframe > thead > tr,\n",
              ".dataframe > tbody > tr {\n",
              "  text-align: right;\n",
              "  white-space: pre-wrap;\n",
              "}\n",
              "</style>\n",
              "<small>shape: (5, 14)</small><table border=\"1\" class=\"dataframe\"><thead><tr><th>Região</th><th>País</th><th>Tipo de Item</th><th>Canal de Venda</th><th>Prioridade do Pedido</th><th>Data do Pedido</th><th>ID do Pedido</th><th>Data de Envio</th><th>Unidades Vendidas</th><th>Preço Unitário</th><th>Custo Unitário</th><th>Receita Total</th><th>Custo Total</th><th>Lucro Total</th></tr><tr><td>str</td><td>str</td><td>str</td><td>str</td><td>str</td><td>str</td><td>i64</td><td>str</td><td>f64</td><td>f64</td><td>f64</td><td>f64</td><td>f64</td><td>f64</td></tr></thead><tbody><tr><td>&quot;Australia and Oceania&quot;</td><td>&quot;Palau&quot;</td><td>&quot;Office Supplies&quot;</td><td>&quot;Online&quot;</td><td>&quot;H&quot;</td><td>&quot;3/6/2016&quot;</td><td>517073523</td><td>&quot;3/26/2016&quot;</td><td>2401.0</td><td>651.21</td><td>524.96</td><td>1.5636e6</td><td>1.2604e6</td><td>303126.25</td></tr><tr><td>&quot;Europe&quot;</td><td>&quot;Poland&quot;</td><td>&quot;Beverages&quot;</td><td>&quot;Online&quot;</td><td>&quot;L&quot;</td><td>&quot;4/18/2010&quot;</td><td>380507028</td><td>&quot;5/26/2010&quot;</td><td>9340.0</td><td>47.45</td><td>31.79</td><td>443183.0</td><td>296918.6</td><td>146264.4</td></tr><tr><td>&quot;North America&quot;</td><td>&quot;Canada&quot;</td><td>&quot;Cereal&quot;</td><td>&quot;Online&quot;</td><td>&quot;M&quot;</td><td>&quot;1/8/2015&quot;</td><td>504055583</td><td>&quot;1/31/2015&quot;</td><td>103.0</td><td>205.7</td><td>117.11</td><td>21187.1</td><td>12062.33</td><td>9124.77</td></tr><tr><td>&quot;Europe&quot;</td><td>&quot;Belarus&quot;</td><td>&quot;Snacks&quot;</td><td>&quot;Online&quot;</td><td>&quot;C&quot;</td><td>&quot;1/19/2014&quot;</td><td>954955518</td><td>&quot;2/27/2014&quot;</td><td>1414.0</td><td>152.58</td><td>97.44</td><td>215748.12</td><td>137780.16</td><td>77967.96</td></tr><tr><td>&quot;Middle East and North Africa&quot;</td><td>&quot;Oman&quot;</td><td>&quot;Cereal&quot;</td><td>&quot;Offline&quot;</td><td>&quot;H&quot;</td><td>&quot;4/26/2019&quot;</td><td>970755660</td><td>&quot;6/2/2019&quot;</td><td>7027.0</td><td>205.7</td><td>117.11</td><td>1445453.9</td><td>822931.97</td><td>622521.93</td></tr></tbody></table></div>"
            ]
          },
          "metadata": {},
          "execution_count": 14
        }
      ]
    },
    {
      "cell_type": "code",
      "source": [
        "# Verificando os tipos de dados de cada coluna\n",
        "df.dtypes"
      ],
      "metadata": {
        "colab": {
          "base_uri": "https://localhost:8080/"
        },
        "id": "OhOOezCmC4MW",
        "outputId": "1c4a74b0-2ce0-4f48-f77f-83c1cfbc7f7d"
      },
      "execution_count": 15,
      "outputs": [
        {
          "output_type": "execute_result",
          "data": {
            "text/plain": [
              "[String,\n",
              " String,\n",
              " String,\n",
              " String,\n",
              " String,\n",
              " String,\n",
              " Int64,\n",
              " String,\n",
              " Float64,\n",
              " Float64,\n",
              " Float64,\n",
              " Float64,\n",
              " Float64,\n",
              " Float64]"
            ]
          },
          "metadata": {},
          "execution_count": 15
        }
      ]
    },
    {
      "cell_type": "code",
      "source": [
        "# Gerando estatísticas descritivas do dataset completo\n",
        "df.describe()"
      ],
      "metadata": {
        "colab": {
          "base_uri": "https://localhost:8080/",
          "height": 449
        },
        "id": "jdBmtS1MDDU8",
        "outputId": "2d0aaa5d-3bae-405b-9254-4c3b99db98ce"
      },
      "execution_count": 16,
      "outputs": [
        {
          "output_type": "execute_result",
          "data": {
            "text/plain": [
              "shape: (9, 15)\n",
              "┌───────────┬───────────┬───────────┬───────────┬───┬───────────┬───────────┬───────────┬──────────┐\n",
              "│ statistic ┆ Região    ┆ País      ┆ Tipo de   ┆ … ┆ Custo     ┆ Receita   ┆ Custo     ┆ Lucro    │\n",
              "│ ---       ┆ ---       ┆ ---       ┆ Item      ┆   ┆ Unitário  ┆ Total     ┆ Total     ┆ Total    │\n",
              "│ str       ┆ str       ┆ str       ┆ ---       ┆   ┆ ---       ┆ ---       ┆ ---       ┆ ---      │\n",
              "│           ┆           ┆           ┆ str       ┆   ┆ f64       ┆ f64       ┆ f64       ┆ f64      │\n",
              "╞═══════════╪═══════════╪═══════════╪═══════════╪═══╪═══════════╪═══════════╪═══════════╪══════════╡\n",
              "│ count     ┆ 814294    ┆ 814294    ┆ 814294    ┆ … ┆ 814293.0  ┆ 814293.0  ┆ 814293.0  ┆ 814293.0 │\n",
              "│ null_coun ┆ 0         ┆ 0         ┆ 0         ┆ … ┆ 1.0       ┆ 1.0       ┆ 1.0       ┆ 1.0      │\n",
              "│ t         ┆           ┆           ┆           ┆   ┆           ┆           ┆           ┆          │\n",
              "│ mean      ┆ null      ┆ null      ┆ null      ┆ … ┆ 187.70498 ┆ 1.3300e6  ┆ 937636.65 ┆ 392352.9 │\n",
              "│           ┆           ┆           ┆           ┆   ┆ 1         ┆           ┆ 698       ┆ 02617    │\n",
              "│ std       ┆ null      ┆ null      ┆ null      ┆ … ┆ 175.71347 ┆ 1.4690e6  ┆ 1.1494e6  ┆ 378900.7 │\n",
              "│           ┆           ┆           ┆           ┆   ┆ 7         ┆           ┆           ┆ 49699    │\n",
              "│ min       ┆ Asia      ┆ Afghanist ┆ Baby Food ┆ … ┆ 6.92      ┆ 9.33      ┆ 6.92      ┆ 2.41     │\n",
              "│           ┆           ┆ an        ┆           ┆   ┆           ┆           ┆           ┆          │\n",
              "│ 25%       ┆ null      ┆ null      ┆ null      ┆ … ┆ 56.67     ┆ 277202.9  ┆ 161651.88 ┆ 94883.94 │\n",
              "│ 50%       ┆ null      ┆ null      ┆ null      ┆ … ┆ 117.11    ┆ 785670.49 ┆ 467620.23 ┆ 281348.6 │\n",
              "│           ┆           ┆           ┆           ┆   ┆           ┆           ┆           ┆ 4        │\n",
              "│ 75%       ┆ null      ┆ null      ┆ null      ┆ … ┆ 364.69    ┆ 1.8217e6  ┆ 1.1981e6  ┆ 565414.5 │\n",
              "│           ┆           ┆           ┆           ┆   ┆           ┆           ┆           ┆ 6        │\n",
              "│ max       ┆ Sub-Sahar ┆ Zimbabwe  ┆ Vegetable ┆ … ┆ 524.96    ┆ 6.6827e6  ┆ 5.2496e6  ┆ 1.7387e6 │\n",
              "│           ┆ an Africa ┆           ┆ s         ┆   ┆           ┆           ┆           ┆          │\n",
              "└───────────┴───────────┴───────────┴───────────┴───┴───────────┴───────────┴───────────┴──────────┘"
            ],
            "text/html": [
              "<div><style>\n",
              ".dataframe > thead > tr,\n",
              ".dataframe > tbody > tr {\n",
              "  text-align: right;\n",
              "  white-space: pre-wrap;\n",
              "}\n",
              "</style>\n",
              "<small>shape: (9, 15)</small><table border=\"1\" class=\"dataframe\"><thead><tr><th>statistic</th><th>Região</th><th>País</th><th>Tipo de Item</th><th>Canal de Venda</th><th>Prioridade do Pedido</th><th>Data do Pedido</th><th>ID do Pedido</th><th>Data de Envio</th><th>Unidades Vendidas</th><th>Preço Unitário</th><th>Custo Unitário</th><th>Receita Total</th><th>Custo Total</th><th>Lucro Total</th></tr><tr><td>str</td><td>str</td><td>str</td><td>str</td><td>str</td><td>str</td><td>str</td><td>f64</td><td>str</td><td>f64</td><td>f64</td><td>f64</td><td>f64</td><td>f64</td><td>f64</td></tr></thead><tbody><tr><td>&quot;count&quot;</td><td>&quot;814294&quot;</td><td>&quot;814294&quot;</td><td>&quot;814294&quot;</td><td>&quot;814294&quot;</td><td>&quot;814294&quot;</td><td>&quot;814294&quot;</td><td>814294.0</td><td>&quot;814293&quot;</td><td>814293.0</td><td>814293.0</td><td>814293.0</td><td>814293.0</td><td>814293.0</td><td>814293.0</td></tr><tr><td>&quot;null_count&quot;</td><td>&quot;0&quot;</td><td>&quot;0&quot;</td><td>&quot;0&quot;</td><td>&quot;0&quot;</td><td>&quot;0&quot;</td><td>&quot;0&quot;</td><td>0.0</td><td>&quot;1&quot;</td><td>1.0</td><td>1.0</td><td>1.0</td><td>1.0</td><td>1.0</td><td>1.0</td></tr><tr><td>&quot;mean&quot;</td><td>null</td><td>null</td><td>null</td><td>null</td><td>null</td><td>null</td><td>5.5025e8</td><td>null</td><td>4997.635992</td><td>266.245862</td><td>187.704981</td><td>1.3300e6</td><td>937636.65698</td><td>392352.902617</td></tr><tr><td>&quot;std&quot;</td><td>null</td><td>null</td><td>null</td><td>null</td><td>null</td><td>null</td><td>2.6033e8</td><td>null</td><td>2886.359623</td><td>217.043788</td><td>175.713477</td><td>1.4690e6</td><td>1.1494e6</td><td>378900.749699</td></tr><tr><td>&quot;min&quot;</td><td>&quot;Asia&quot;</td><td>&quot;Afghanistan&quot;</td><td>&quot;Baby Food&quot;</td><td>&quot;Offline&quot;</td><td>&quot;C&quot;</td><td>&quot;1/1/2010&quot;</td><td>520.0</td><td>&quot;1/1/2010&quot;</td><td>1.0</td><td>9.33</td><td>6.92</td><td>9.33</td><td>6.92</td><td>2.41</td></tr><tr><td>&quot;25%&quot;</td><td>null</td><td>null</td><td>null</td><td>null</td><td>null</td><td>null</td><td>3.24257457e8</td><td>null</td><td>2498.0</td><td>109.28</td><td>56.67</td><td>277202.9</td><td>161651.88</td><td>94883.94</td></tr><tr><td>&quot;50%&quot;</td><td>null</td><td>null</td><td>null</td><td>null</td><td>null</td><td>null</td><td>5.50068128e8</td><td>null</td><td>4994.0</td><td>205.7</td><td>117.11</td><td>785670.49</td><td>467620.23</td><td>281348.64</td></tr><tr><td>&quot;75%&quot;</td><td>null</td><td>null</td><td>null</td><td>null</td><td>null</td><td>null</td><td>7.76122987e8</td><td>null</td><td>7497.0</td><td>437.2</td><td>364.69</td><td>1.8217e6</td><td>1.1981e6</td><td>565414.56</td></tr><tr><td>&quot;max&quot;</td><td>&quot;Sub-Saharan Africa&quot;</td><td>&quot;Zimbabwe&quot;</td><td>&quot;Vegetables&quot;</td><td>&quot;Online&quot;</td><td>&quot;M&quot;</td><td>&quot;9/9/2020&quot;</td><td>9.99999463e8</td><td>&quot;9/9/2020&quot;</td><td>10000.0</td><td>668.27</td><td>524.96</td><td>6.6827e6</td><td>5.2496e6</td><td>1.7387e6</td></tr></tbody></table></div>"
            ]
          },
          "metadata": {},
          "execution_count": 16
        }
      ]
    },
    {
      "cell_type": "code",
      "source": [
        "# Estatísticas descritivas apenas para colunas numéricas (Int64 e Float64)\n",
        "df.select(pl.col(pl.Int64, pl.Float64)).describe()"
      ],
      "metadata": {
        "colab": {
          "base_uri": "https://localhost:8080/",
          "height": 380
        },
        "id": "SG2uVRClDJxz",
        "outputId": "9dcce205-d7eb-4196-9947-dba7faca398d"
      },
      "execution_count": 17,
      "outputs": [
        {
          "output_type": "execute_result",
          "data": {
            "text/plain": [
              "shape: (9, 8)\n",
              "┌────────────┬────────────┬────────────┬───────────┬───────────┬───────────┬───────────┬───────────┐\n",
              "│ statistic  ┆ ID do      ┆ Unidades   ┆ Preço     ┆ Custo     ┆ Receita   ┆ Custo     ┆ Lucro     │\n",
              "│ ---        ┆ Pedido     ┆ Vendidas   ┆ Unitário  ┆ Unitário  ┆ Total     ┆ Total     ┆ Total     │\n",
              "│ str        ┆ ---        ┆ ---        ┆ ---       ┆ ---       ┆ ---       ┆ ---       ┆ ---       │\n",
              "│            ┆ f64        ┆ f64        ┆ f64       ┆ f64       ┆ f64       ┆ f64       ┆ f64       │\n",
              "╞════════════╪════════════╪════════════╪═══════════╪═══════════╪═══════════╪═══════════╪═══════════╡\n",
              "│ count      ┆ 814294.0   ┆ 814293.0   ┆ 814293.0  ┆ 814293.0  ┆ 814293.0  ┆ 814293.0  ┆ 814293.0  │\n",
              "│ null_count ┆ 0.0        ┆ 1.0        ┆ 1.0       ┆ 1.0       ┆ 1.0       ┆ 1.0       ┆ 1.0       │\n",
              "│ mean       ┆ 5.5025e8   ┆ 4997.63599 ┆ 266.24586 ┆ 187.70498 ┆ 1.3300e6  ┆ 937636.65 ┆ 392352.90 │\n",
              "│            ┆            ┆ 2          ┆ 2         ┆ 1         ┆           ┆ 698       ┆ 2617      │\n",
              "│ std        ┆ 2.6033e8   ┆ 2886.35962 ┆ 217.04378 ┆ 175.71347 ┆ 1.4690e6  ┆ 1.1494e6  ┆ 378900.74 │\n",
              "│            ┆            ┆ 3          ┆ 8         ┆ 7         ┆           ┆           ┆ 9699      │\n",
              "│ min        ┆ 520.0      ┆ 1.0        ┆ 9.33      ┆ 6.92      ┆ 9.33      ┆ 6.92      ┆ 2.41      │\n",
              "│ 25%        ┆ 3.24257457 ┆ 2498.0     ┆ 109.28    ┆ 56.67     ┆ 277202.9  ┆ 161651.88 ┆ 94883.94  │\n",
              "│            ┆ e8         ┆            ┆           ┆           ┆           ┆           ┆           │\n",
              "│ 50%        ┆ 5.50068128 ┆ 4994.0     ┆ 205.7     ┆ 117.11    ┆ 785670.49 ┆ 467620.23 ┆ 281348.64 │\n",
              "│            ┆ e8         ┆            ┆           ┆           ┆           ┆           ┆           │\n",
              "│ 75%        ┆ 7.76122987 ┆ 7497.0     ┆ 437.2     ┆ 364.69    ┆ 1.8217e6  ┆ 1.1981e6  ┆ 565414.56 │\n",
              "│            ┆ e8         ┆            ┆           ┆           ┆           ┆           ┆           │\n",
              "│ max        ┆ 9.99999463 ┆ 10000.0    ┆ 668.27    ┆ 524.96    ┆ 6.6827e6  ┆ 5.2496e6  ┆ 1.7387e6  │\n",
              "│            ┆ e8         ┆            ┆           ┆           ┆           ┆           ┆           │\n",
              "└────────────┴────────────┴────────────┴───────────┴───────────┴───────────┴───────────┴───────────┘"
            ],
            "text/html": [
              "<div><style>\n",
              ".dataframe > thead > tr,\n",
              ".dataframe > tbody > tr {\n",
              "  text-align: right;\n",
              "  white-space: pre-wrap;\n",
              "}\n",
              "</style>\n",
              "<small>shape: (9, 8)</small><table border=\"1\" class=\"dataframe\"><thead><tr><th>statistic</th><th>ID do Pedido</th><th>Unidades Vendidas</th><th>Preço Unitário</th><th>Custo Unitário</th><th>Receita Total</th><th>Custo Total</th><th>Lucro Total</th></tr><tr><td>str</td><td>f64</td><td>f64</td><td>f64</td><td>f64</td><td>f64</td><td>f64</td><td>f64</td></tr></thead><tbody><tr><td>&quot;count&quot;</td><td>814294.0</td><td>814293.0</td><td>814293.0</td><td>814293.0</td><td>814293.0</td><td>814293.0</td><td>814293.0</td></tr><tr><td>&quot;null_count&quot;</td><td>0.0</td><td>1.0</td><td>1.0</td><td>1.0</td><td>1.0</td><td>1.0</td><td>1.0</td></tr><tr><td>&quot;mean&quot;</td><td>5.5025e8</td><td>4997.635992</td><td>266.245862</td><td>187.704981</td><td>1.3300e6</td><td>937636.65698</td><td>392352.902617</td></tr><tr><td>&quot;std&quot;</td><td>2.6033e8</td><td>2886.359623</td><td>217.043788</td><td>175.713477</td><td>1.4690e6</td><td>1.1494e6</td><td>378900.749699</td></tr><tr><td>&quot;min&quot;</td><td>520.0</td><td>1.0</td><td>9.33</td><td>6.92</td><td>9.33</td><td>6.92</td><td>2.41</td></tr><tr><td>&quot;25%&quot;</td><td>3.24257457e8</td><td>2498.0</td><td>109.28</td><td>56.67</td><td>277202.9</td><td>161651.88</td><td>94883.94</td></tr><tr><td>&quot;50%&quot;</td><td>5.50068128e8</td><td>4994.0</td><td>205.7</td><td>117.11</td><td>785670.49</td><td>467620.23</td><td>281348.64</td></tr><tr><td>&quot;75%&quot;</td><td>7.76122987e8</td><td>7497.0</td><td>437.2</td><td>364.69</td><td>1.8217e6</td><td>1.1981e6</td><td>565414.56</td></tr><tr><td>&quot;max&quot;</td><td>9.99999463e8</td><td>10000.0</td><td>668.27</td><td>524.96</td><td>6.6827e6</td><td>5.2496e6</td><td>1.7387e6</td></tr></tbody></table></div>"
            ]
          },
          "metadata": {},
          "execution_count": 17
        }
      ]
    },
    {
      "cell_type": "code",
      "source": [
        "# Contando valores nulos em cada coluna\n",
        "df.null_count()"
      ],
      "metadata": {
        "colab": {
          "base_uri": "https://localhost:8080/",
          "height": 147
        },
        "id": "UOsztqcXDUbV",
        "outputId": "55db3dc2-a1b6-4907-a50d-5b7a3a2ab9d2"
      },
      "execution_count": 18,
      "outputs": [
        {
          "output_type": "execute_result",
          "data": {
            "text/plain": [
              "shape: (1, 14)\n",
              "┌────────┬──────┬─────────┬──────────┬───┬──────────┬─────────┬─────────────┬─────────────┐\n",
              "│ Região ┆ País ┆ Tipo de ┆ Canal de ┆ … ┆ Custo    ┆ Receita ┆ Custo Total ┆ Lucro Total │\n",
              "│ ---    ┆ ---  ┆ Item    ┆ Venda    ┆   ┆ Unitário ┆ Total   ┆ ---         ┆ ---         │\n",
              "│ u32    ┆ u32  ┆ ---     ┆ ---      ┆   ┆ ---      ┆ ---     ┆ u32         ┆ u32         │\n",
              "│        ┆      ┆ u32     ┆ u32      ┆   ┆ u32      ┆ u32     ┆             ┆             │\n",
              "╞════════╪══════╪═════════╪══════════╪═══╪══════════╪═════════╪═════════════╪═════════════╡\n",
              "│ 0      ┆ 0    ┆ 0       ┆ 0        ┆ … ┆ 1        ┆ 1       ┆ 1           ┆ 1           │\n",
              "└────────┴──────┴─────────┴──────────┴───┴──────────┴─────────┴─────────────┴─────────────┘"
            ],
            "text/html": [
              "<div><style>\n",
              ".dataframe > thead > tr,\n",
              ".dataframe > tbody > tr {\n",
              "  text-align: right;\n",
              "  white-space: pre-wrap;\n",
              "}\n",
              "</style>\n",
              "<small>shape: (1, 14)</small><table border=\"1\" class=\"dataframe\"><thead><tr><th>Região</th><th>País</th><th>Tipo de Item</th><th>Canal de Venda</th><th>Prioridade do Pedido</th><th>Data do Pedido</th><th>ID do Pedido</th><th>Data de Envio</th><th>Unidades Vendidas</th><th>Preço Unitário</th><th>Custo Unitário</th><th>Receita Total</th><th>Custo Total</th><th>Lucro Total</th></tr><tr><td>u32</td><td>u32</td><td>u32</td><td>u32</td><td>u32</td><td>u32</td><td>u32</td><td>u32</td><td>u32</td><td>u32</td><td>u32</td><td>u32</td><td>u32</td><td>u32</td></tr></thead><tbody><tr><td>0</td><td>0</td><td>0</td><td>0</td><td>0</td><td>0</td><td>0</td><td>1</td><td>1</td><td>1</td><td>1</td><td>1</td><td>1</td><td>1</td></tr></tbody></table></div>"
            ]
          },
          "metadata": {},
          "execution_count": 18
        }
      ]
    },
    {
      "cell_type": "code",
      "source": [
        "# Contagem detalhada de NaN e nulls para todas as colunas\n",
        "nan_counts = {\n",
        "    col: (\n",
        "        # Contar NaN apenas para colunas float\n",
        "        (df[col].is_nan().sum() if df[col].dtype in (pl.Int64, pl.Float64) else 0)\n",
        "        # Contar null para todas as colunas\n",
        "        + df[col].is_null().sum()\n",
        "    )\n",
        "    for col in df.columns\n",
        "}"
      ],
      "metadata": {
        "id": "67hvPl4RDYuM"
      },
      "execution_count": 19,
      "outputs": []
    },
    {
      "cell_type": "code",
      "source": [
        "nan_counts"
      ],
      "metadata": {
        "colab": {
          "base_uri": "https://localhost:8080/"
        },
        "id": "xzHK_YnbEEhp",
        "outputId": "c23b535d-3590-44a5-a286-e96e9f69717f"
      },
      "execution_count": 20,
      "outputs": [
        {
          "output_type": "execute_result",
          "data": {
            "text/plain": [
              "{'Região': 0,\n",
              " 'País': 0,\n",
              " 'Tipo de Item': 0,\n",
              " 'Canal de Venda': 0,\n",
              " 'Prioridade do Pedido': 0,\n",
              " 'Data do Pedido': 0,\n",
              " 'ID do Pedido': 0,\n",
              " 'Data de Envio': 1,\n",
              " 'Unidades Vendidas': 1,\n",
              " 'Preço Unitário': 1,\n",
              " 'Custo Unitário': 1,\n",
              " 'Receita Total': 1,\n",
              " 'Custo Total': 1,\n",
              " 'Lucro Total': 1}"
            ]
          },
          "metadata": {},
          "execution_count": 20
        }
      ]
    },
    {
      "cell_type": "code",
      "source": [
        "# Verificando valores únicos na coluna \"Região\"\n",
        "df['Região'].unique()"
      ],
      "metadata": {
        "colab": {
          "base_uri": "https://localhost:8080/",
          "height": 317
        },
        "id": "zq98ktEmEKBc",
        "outputId": "a12f4a1e-3eb4-4347-f9c7-c5cf80de7424"
      },
      "execution_count": 21,
      "outputs": [
        {
          "output_type": "execute_result",
          "data": {
            "text/plain": [
              "shape: (7,)\n",
              "Series: 'Região' [str]\n",
              "[\n",
              "\t\"Central America and the Caribb…\n",
              "\t\"Sub-Saharan Africa\"\n",
              "\t\"Asia\"\n",
              "\t\"Europe\"\n",
              "\t\"Middle East and North Africa\"\n",
              "\t\"Australia and Oceania\"\n",
              "\t\"North America\"\n",
              "]"
            ],
            "text/html": [
              "<div><style>\n",
              ".dataframe > thead > tr,\n",
              ".dataframe > tbody > tr {\n",
              "  text-align: right;\n",
              "  white-space: pre-wrap;\n",
              "}\n",
              "</style>\n",
              "<small>shape: (7,)</small><table border=\"1\" class=\"dataframe\"><thead><tr><th>Região</th></tr><tr><td>str</td></tr></thead><tbody><tr><td>&quot;Central America and the Caribb…</td></tr><tr><td>&quot;Sub-Saharan Africa&quot;</td></tr><tr><td>&quot;Asia&quot;</td></tr><tr><td>&quot;Europe&quot;</td></tr><tr><td>&quot;Middle East and North Africa&quot;</td></tr><tr><td>&quot;Australia and Oceania&quot;</td></tr><tr><td>&quot;North America&quot;</td></tr></tbody></table></div>"
            ]
          },
          "metadata": {},
          "execution_count": 21
        }
      ]
    },
    {
      "cell_type": "code",
      "source": [
        "# Filtrando apenas as linhas das regiões \"Europe\" e \"Asia\"\n",
        "df_regions = df.filter((pl.col(\"Região\") == \"Eurupe\") | (pl.col(\"Região\") == \"Asia\"))"
      ],
      "metadata": {
        "id": "EY2fLG4xEO09"
      },
      "execution_count": 22,
      "outputs": []
    },
    {
      "cell_type": "code",
      "source": [
        "df_regions.shape"
      ],
      "metadata": {
        "colab": {
          "base_uri": "https://localhost:8080/"
        },
        "id": "j7eLuFR_EgD2",
        "outputId": "1b772ec3-6f06-48d9-d5b2-acd2e5cececf"
      },
      "execution_count": 23,
      "outputs": [
        {
          "output_type": "execute_result",
          "data": {
            "text/plain": [
              "(118913, 14)"
            ]
          },
          "metadata": {},
          "execution_count": 23
        }
      ]
    },
    {
      "cell_type": "code",
      "source": [
        "# Visualizando as 5 primeiras linhas do dataset filtrado\n",
        "df_regions.head()"
      ],
      "metadata": {
        "colab": {
          "base_uri": "https://localhost:8080/",
          "height": 272
        },
        "id": "yJp6GMkzEmKc",
        "outputId": "ec40cecb-c47c-41cc-ce23-ef49528eeb2e"
      },
      "execution_count": 24,
      "outputs": [
        {
          "output_type": "execute_result",
          "data": {
            "text/plain": [
              "shape: (5, 14)\n",
              "┌────────┬────────────┬────────────┬───────────┬───┬───────────┬───────────┬───────────┬───────────┐\n",
              "│ Região ┆ País       ┆ Tipo de    ┆ Canal de  ┆ … ┆ Custo     ┆ Receita   ┆ Custo     ┆ Lucro     │\n",
              "│ ---    ┆ ---        ┆ Item       ┆ Venda     ┆   ┆ Unitário  ┆ Total     ┆ Total     ┆ Total     │\n",
              "│ str    ┆ str        ┆ ---        ┆ ---       ┆   ┆ ---       ┆ ---       ┆ ---       ┆ ---       │\n",
              "│        ┆            ┆ str        ┆ str       ┆   ┆ f64       ┆ f64       ┆ f64       ┆ f64       │\n",
              "╞════════╪════════════╪════════════╪═══════════╪═══╪═══════════╪═══════════╪═══════════╪═══════════╡\n",
              "│ Asia   ┆ Bangladesh ┆ Cereal     ┆ Offline   ┆ … ┆ 117.11    ┆ 661531.2  ┆ 376625.76 ┆ 284905.44 │\n",
              "│ Asia   ┆ Kyrgyzstan ┆ Snacks     ┆ Offline   ┆ … ┆ 97.44     ┆ 673793.28 ┆ 430295.04 ┆ 243498.24 │\n",
              "│ Asia   ┆ Bangladesh ┆ Fruits     ┆ Online    ┆ … ┆ 6.92      ┆ 5831.25   ┆ 4325.0    ┆ 1506.25   │\n",
              "│ Asia   ┆ Myanmar    ┆ Vegetables ┆ Offline   ┆ … ┆ 90.93     ┆ 576954.7  ┆ 340532.85 ┆ 236421.85 │\n",
              "│ Asia   ┆ Uzbekistan ┆ Baby Food  ┆ Online    ┆ … ┆ 159.42    ┆ 982828.0  ┆ 613767.0  ┆ 369061.0  │\n",
              "└────────┴────────────┴────────────┴───────────┴───┴───────────┴───────────┴───────────┴───────────┘"
            ],
            "text/html": [
              "<div><style>\n",
              ".dataframe > thead > tr,\n",
              ".dataframe > tbody > tr {\n",
              "  text-align: right;\n",
              "  white-space: pre-wrap;\n",
              "}\n",
              "</style>\n",
              "<small>shape: (5, 14)</small><table border=\"1\" class=\"dataframe\"><thead><tr><th>Região</th><th>País</th><th>Tipo de Item</th><th>Canal de Venda</th><th>Prioridade do Pedido</th><th>Data do Pedido</th><th>ID do Pedido</th><th>Data de Envio</th><th>Unidades Vendidas</th><th>Preço Unitário</th><th>Custo Unitário</th><th>Receita Total</th><th>Custo Total</th><th>Lucro Total</th></tr><tr><td>str</td><td>str</td><td>str</td><td>str</td><td>str</td><td>str</td><td>i64</td><td>str</td><td>f64</td><td>f64</td><td>f64</td><td>f64</td><td>f64</td><td>f64</td></tr></thead><tbody><tr><td>&quot;Asia&quot;</td><td>&quot;Bangladesh&quot;</td><td>&quot;Cereal&quot;</td><td>&quot;Offline&quot;</td><td>&quot;L&quot;</td><td>&quot;12/3/2013&quot;</td><td>132448184</td><td>&quot;1/15/2014&quot;</td><td>3216.0</td><td>205.7</td><td>117.11</td><td>661531.2</td><td>376625.76</td><td>284905.44</td></tr><tr><td>&quot;Asia&quot;</td><td>&quot;Kyrgyzstan&quot;</td><td>&quot;Snacks&quot;</td><td>&quot;Offline&quot;</td><td>&quot;H&quot;</td><td>&quot;11/22/2018&quot;</td><td>766909492</td><td>&quot;12/15/2018&quot;</td><td>4416.0</td><td>152.58</td><td>97.44</td><td>673793.28</td><td>430295.04</td><td>243498.24</td></tr><tr><td>&quot;Asia&quot;</td><td>&quot;Bangladesh&quot;</td><td>&quot;Fruits&quot;</td><td>&quot;Online&quot;</td><td>&quot;L&quot;</td><td>&quot;9/14/2019&quot;</td><td>467966783</td><td>&quot;9/27/2019&quot;</td><td>625.0</td><td>9.33</td><td>6.92</td><td>5831.25</td><td>4325.0</td><td>1506.25</td></tr><tr><td>&quot;Asia&quot;</td><td>&quot;Myanmar&quot;</td><td>&quot;Vegetables&quot;</td><td>&quot;Offline&quot;</td><td>&quot;H&quot;</td><td>&quot;3/28/2016&quot;</td><td>727876698</td><td>&quot;4/19/2016&quot;</td><td>3745.0</td><td>154.06</td><td>90.93</td><td>576954.7</td><td>340532.85</td><td>236421.85</td></tr><tr><td>&quot;Asia&quot;</td><td>&quot;Uzbekistan&quot;</td><td>&quot;Baby Food&quot;</td><td>&quot;Online&quot;</td><td>&quot;L&quot;</td><td>&quot;10/9/2010&quot;</td><td>498357284</td><td>&quot;10/12/2010&quot;</td><td>3850.0</td><td>255.28</td><td>159.42</td><td>982828.0</td><td>613767.0</td><td>369061.0</td></tr></tbody></table></div>"
            ]
          },
          "metadata": {},
          "execution_count": 24
        }
      ]
    },
    {
      "cell_type": "code",
      "source": [
        "# Filtrando agora apenas os dados do país \"Germany\"\n",
        "df = df.filter(df[\"País\"] == \"Germany\")\n",
        "df.head()"
      ],
      "metadata": {
        "colab": {
          "base_uri": "https://localhost:8080/",
          "height": 289
        },
        "id": "lQHQiWAtEo91",
        "outputId": "29f98b4f-9c47-44dc-84ba-34a68ffdc790"
      },
      "execution_count": 25,
      "outputs": [
        {
          "output_type": "execute_result",
          "data": {
            "text/plain": [
              "shape: (5, 14)\n",
              "┌────────┬─────────┬────────────┬────────────┬───┬────────────┬────────────┬───────────┬───────────┐\n",
              "│ Região ┆ País    ┆ Tipo de    ┆ Canal de   ┆ … ┆ Custo      ┆ Receita    ┆ Custo     ┆ Lucro     │\n",
              "│ ---    ┆ ---     ┆ Item       ┆ Venda      ┆   ┆ Unitário   ┆ Total      ┆ Total     ┆ Total     │\n",
              "│ str    ┆ str     ┆ ---        ┆ ---        ┆   ┆ ---        ┆ ---        ┆ ---       ┆ ---       │\n",
              "│        ┆         ┆ str        ┆ str        ┆   ┆ f64        ┆ f64        ┆ f64       ┆ f64       │\n",
              "╞════════╪═════════╪════════════╪════════════╪═══╪════════════╪════════════╪═══════════╪═══════════╡\n",
              "│ Europe ┆ Germany ┆ Personal   ┆ Offline    ┆ … ┆ 56.67      ┆ 631119.06  ┆ 437605.74 ┆ 193513.32 │\n",
              "│        ┆         ┆ Care       ┆            ┆   ┆            ┆            ┆           ┆           │\n",
              "│ Europe ┆ Germany ┆ Clothes    ┆ Online     ┆ … ┆ 35.84      ┆ 127092.64  ┆ 41681.92  ┆ 85410.72  │\n",
              "│ Europe ┆ Germany ┆ Meat       ┆ Online     ┆ … ┆ 364.69     ┆ 4.1919e6   ┆ 3.6236e6  ┆ 568339.2  │\n",
              "│ Europe ┆ Germany ┆ Cereal     ┆ Online     ┆ … ┆ 117.11     ┆ 1846980.3  ┆ 1.0515e6  ┆ 795449.61 │\n",
              "│ Europe ┆ Germany ┆ Baby Food  ┆ Offline    ┆ … ┆ 159.42     ┆ 527663.76  ┆ 329521.14 ┆ 198142.62 │\n",
              "└────────┴─────────┴────────────┴────────────┴───┴────────────┴────────────┴───────────┴───────────┘"
            ],
            "text/html": [
              "<div><style>\n",
              ".dataframe > thead > tr,\n",
              ".dataframe > tbody > tr {\n",
              "  text-align: right;\n",
              "  white-space: pre-wrap;\n",
              "}\n",
              "</style>\n",
              "<small>shape: (5, 14)</small><table border=\"1\" class=\"dataframe\"><thead><tr><th>Região</th><th>País</th><th>Tipo de Item</th><th>Canal de Venda</th><th>Prioridade do Pedido</th><th>Data do Pedido</th><th>ID do Pedido</th><th>Data de Envio</th><th>Unidades Vendidas</th><th>Preço Unitário</th><th>Custo Unitário</th><th>Receita Total</th><th>Custo Total</th><th>Lucro Total</th></tr><tr><td>str</td><td>str</td><td>str</td><td>str</td><td>str</td><td>str</td><td>i64</td><td>str</td><td>f64</td><td>f64</td><td>f64</td><td>f64</td><td>f64</td><td>f64</td></tr></thead><tbody><tr><td>&quot;Europe&quot;</td><td>&quot;Germany&quot;</td><td>&quot;Personal Care&quot;</td><td>&quot;Offline&quot;</td><td>&quot;H&quot;</td><td>&quot;12/25/2010&quot;</td><td>842548644</td><td>&quot;1/24/2011&quot;</td><td>7722.0</td><td>81.73</td><td>56.67</td><td>631119.06</td><td>437605.74</td><td>193513.32</td></tr><tr><td>&quot;Europe&quot;</td><td>&quot;Germany&quot;</td><td>&quot;Clothes&quot;</td><td>&quot;Online&quot;</td><td>&quot;L&quot;</td><td>&quot;7/1/2011&quot;</td><td>650888288</td><td>&quot;8/18/2011&quot;</td><td>1163.0</td><td>109.28</td><td>35.84</td><td>127092.64</td><td>41681.92</td><td>85410.72</td></tr><tr><td>&quot;Europe&quot;</td><td>&quot;Germany&quot;</td><td>&quot;Meat&quot;</td><td>&quot;Online&quot;</td><td>&quot;H&quot;</td><td>&quot;9/9/2013&quot;</td><td>444275796</td><td>&quot;10/3/2013&quot;</td><td>9936.0</td><td>421.89</td><td>364.69</td><td>4.1919e6</td><td>3.6236e6</td><td>568339.2</td></tr><tr><td>&quot;Europe&quot;</td><td>&quot;Germany&quot;</td><td>&quot;Cereal&quot;</td><td>&quot;Online&quot;</td><td>&quot;M&quot;</td><td>&quot;4/10/2011&quot;</td><td>847790753</td><td>&quot;5/22/2011&quot;</td><td>8979.0</td><td>205.7</td><td>117.11</td><td>1846980.3</td><td>1.0515e6</td><td>795449.61</td></tr><tr><td>&quot;Europe&quot;</td><td>&quot;Germany&quot;</td><td>&quot;Baby Food&quot;</td><td>&quot;Offline&quot;</td><td>&quot;H&quot;</td><td>&quot;6/2/2011&quot;</td><td>817252624</td><td>&quot;6/22/2011&quot;</td><td>2067.0</td><td>255.28</td><td>159.42</td><td>527663.76</td><td>329521.14</td><td>198142.62</td></tr></tbody></table></div>"
            ]
          },
          "metadata": {},
          "execution_count": 25
        }
      ]
    },
    {
      "cell_type": "code",
      "source": [
        "# Converter colunas de data para o formato datetime\n",
        "df = df_regions.with_columns(\n",
        "    pl.col(\"Data do Pedido\").str.strptime(pl.Date, \"%m/%d/%Y\"),\n",
        "    pl.col(\"Data de Envio\").str.strptime(pl.Date, \"%m/%d/%Y\")\n",
        ")\n",
        "\n",
        "df.head()    # visualiza as primeiras linhas para conferir"
      ],
      "metadata": {
        "id": "VvSH4mNJE64J",
        "colab": {
          "base_uri": "https://localhost:8080/",
          "height": 359
        },
        "outputId": "d0b73b09-a341-4bd3-8f8b-243ec262476b"
      },
      "execution_count": 27,
      "outputs": [
        {
          "output_type": "execute_result",
          "data": {
            "text/plain": [
              "shape: (5, 14)\n",
              "┌────────┬────────────┬────────────┬───────────┬───┬───────────┬───────────┬───────────┬───────────┐\n",
              "│ Região ┆ País       ┆ Tipo de    ┆ Canal de  ┆ … ┆ Custo     ┆ Receita   ┆ Custo     ┆ Lucro     │\n",
              "│ ---    ┆ ---        ┆ Item       ┆ Venda     ┆   ┆ Unitário  ┆ Total     ┆ Total     ┆ Total     │\n",
              "│ str    ┆ str        ┆ ---        ┆ ---       ┆   ┆ ---       ┆ ---       ┆ ---       ┆ ---       │\n",
              "│        ┆            ┆ str        ┆ str       ┆   ┆ f64       ┆ f64       ┆ f64       ┆ f64       │\n",
              "╞════════╪════════════╪════════════╪═══════════╪═══╪═══════════╪═══════════╪═══════════╪═══════════╡\n",
              "│ Asia   ┆ Bangladesh ┆ Cereal     ┆ Offline   ┆ … ┆ 117.11    ┆ 661531.2  ┆ 376625.76 ┆ 284905.44 │\n",
              "│ Asia   ┆ Kyrgyzstan ┆ Snacks     ┆ Offline   ┆ … ┆ 97.44     ┆ 673793.28 ┆ 430295.04 ┆ 243498.24 │\n",
              "│ Asia   ┆ Bangladesh ┆ Fruits     ┆ Online    ┆ … ┆ 6.92      ┆ 5831.25   ┆ 4325.0    ┆ 1506.25   │\n",
              "│ Asia   ┆ Myanmar    ┆ Vegetables ┆ Offline   ┆ … ┆ 90.93     ┆ 576954.7  ┆ 340532.85 ┆ 236421.85 │\n",
              "│ Asia   ┆ Uzbekistan ┆ Baby Food  ┆ Online    ┆ … ┆ 159.42    ┆ 982828.0  ┆ 613767.0  ┆ 369061.0  │\n",
              "└────────┴────────────┴────────────┴───────────┴───┴───────────┴───────────┴───────────┴───────────┘"
            ],
            "text/html": [
              "<div><style>\n",
              ".dataframe > thead > tr,\n",
              ".dataframe > tbody > tr {\n",
              "  text-align: right;\n",
              "  white-space: pre-wrap;\n",
              "}\n",
              "</style>\n",
              "<small>shape: (5, 14)</small><table border=\"1\" class=\"dataframe\"><thead><tr><th>Região</th><th>País</th><th>Tipo de Item</th><th>Canal de Venda</th><th>Prioridade do Pedido</th><th>Data do Pedido</th><th>ID do Pedido</th><th>Data de Envio</th><th>Unidades Vendidas</th><th>Preço Unitário</th><th>Custo Unitário</th><th>Receita Total</th><th>Custo Total</th><th>Lucro Total</th></tr><tr><td>str</td><td>str</td><td>str</td><td>str</td><td>str</td><td>date</td><td>i64</td><td>date</td><td>f64</td><td>f64</td><td>f64</td><td>f64</td><td>f64</td><td>f64</td></tr></thead><tbody><tr><td>&quot;Asia&quot;</td><td>&quot;Bangladesh&quot;</td><td>&quot;Cereal&quot;</td><td>&quot;Offline&quot;</td><td>&quot;L&quot;</td><td>2013-12-03</td><td>132448184</td><td>2014-01-15</td><td>3216.0</td><td>205.7</td><td>117.11</td><td>661531.2</td><td>376625.76</td><td>284905.44</td></tr><tr><td>&quot;Asia&quot;</td><td>&quot;Kyrgyzstan&quot;</td><td>&quot;Snacks&quot;</td><td>&quot;Offline&quot;</td><td>&quot;H&quot;</td><td>2018-11-22</td><td>766909492</td><td>2018-12-15</td><td>4416.0</td><td>152.58</td><td>97.44</td><td>673793.28</td><td>430295.04</td><td>243498.24</td></tr><tr><td>&quot;Asia&quot;</td><td>&quot;Bangladesh&quot;</td><td>&quot;Fruits&quot;</td><td>&quot;Online&quot;</td><td>&quot;L&quot;</td><td>2019-09-14</td><td>467966783</td><td>2019-09-27</td><td>625.0</td><td>9.33</td><td>6.92</td><td>5831.25</td><td>4325.0</td><td>1506.25</td></tr><tr><td>&quot;Asia&quot;</td><td>&quot;Myanmar&quot;</td><td>&quot;Vegetables&quot;</td><td>&quot;Offline&quot;</td><td>&quot;H&quot;</td><td>2016-03-28</td><td>727876698</td><td>2016-04-19</td><td>3745.0</td><td>154.06</td><td>90.93</td><td>576954.7</td><td>340532.85</td><td>236421.85</td></tr><tr><td>&quot;Asia&quot;</td><td>&quot;Uzbekistan&quot;</td><td>&quot;Baby Food&quot;</td><td>&quot;Online&quot;</td><td>&quot;L&quot;</td><td>2010-10-09</td><td>498357284</td><td>2010-10-12</td><td>3850.0</td><td>255.28</td><td>159.42</td><td>982828.0</td><td>613767.0</td><td>369061.0</td></tr></tbody></table></div>"
            ]
          },
          "metadata": {},
          "execution_count": 27
        }
      ]
    },
    {
      "cell_type": "code",
      "source": [
        "# Criar coluna calculada: duração entre pedido e envio\n",
        "df = df.with_columns(\n",
        "    (pl.col(\"Data de Envio\") - pl.col(\"Data do Pedido\")).alias(\"Tempo de Envio\")\n",
        ")\n",
        "\n",
        "df.head()"
      ],
      "metadata": {
        "colab": {
          "base_uri": "https://localhost:8080/",
          "height": 359
        },
        "id": "eQFJbAEN6Ukw",
        "outputId": "9dd30557-0d6d-4aac-8950-ba71e0e1d7e0"
      },
      "execution_count": 28,
      "outputs": [
        {
          "output_type": "execute_result",
          "data": {
            "text/plain": [
              "shape: (5, 15)\n",
              "┌────────┬────────────┬────────────┬───────────┬───┬───────────┬───────────┬───────────┬───────────┐\n",
              "│ Região ┆ País       ┆ Tipo de    ┆ Canal de  ┆ … ┆ Receita   ┆ Custo     ┆ Lucro     ┆ Tempo de  │\n",
              "│ ---    ┆ ---        ┆ Item       ┆ Venda     ┆   ┆ Total     ┆ Total     ┆ Total     ┆ Envio     │\n",
              "│ str    ┆ str        ┆ ---        ┆ ---       ┆   ┆ ---       ┆ ---       ┆ ---       ┆ ---       │\n",
              "│        ┆            ┆ str        ┆ str       ┆   ┆ f64       ┆ f64       ┆ f64       ┆ duration[ │\n",
              "│        ┆            ┆            ┆           ┆   ┆           ┆           ┆           ┆ ms]       │\n",
              "╞════════╪════════════╪════════════╪═══════════╪═══╪═══════════╪═══════════╪═══════════╪═══════════╡\n",
              "│ Asia   ┆ Bangladesh ┆ Cereal     ┆ Offline   ┆ … ┆ 661531.2  ┆ 376625.76 ┆ 284905.44 ┆ 43d       │\n",
              "│ Asia   ┆ Kyrgyzstan ┆ Snacks     ┆ Offline   ┆ … ┆ 673793.28 ┆ 430295.04 ┆ 243498.24 ┆ 23d       │\n",
              "│ Asia   ┆ Bangladesh ┆ Fruits     ┆ Online    ┆ … ┆ 5831.25   ┆ 4325.0    ┆ 1506.25   ┆ 13d       │\n",
              "│ Asia   ┆ Myanmar    ┆ Vegetables ┆ Offline   ┆ … ┆ 576954.7  ┆ 340532.85 ┆ 236421.85 ┆ 22d       │\n",
              "│ Asia   ┆ Uzbekistan ┆ Baby Food  ┆ Online    ┆ … ┆ 982828.0  ┆ 613767.0  ┆ 369061.0  ┆ 3d        │\n",
              "└────────┴────────────┴────────────┴───────────┴───┴───────────┴───────────┴───────────┴───────────┘"
            ],
            "text/html": [
              "<div><style>\n",
              ".dataframe > thead > tr,\n",
              ".dataframe > tbody > tr {\n",
              "  text-align: right;\n",
              "  white-space: pre-wrap;\n",
              "}\n",
              "</style>\n",
              "<small>shape: (5, 15)</small><table border=\"1\" class=\"dataframe\"><thead><tr><th>Região</th><th>País</th><th>Tipo de Item</th><th>Canal de Venda</th><th>Prioridade do Pedido</th><th>Data do Pedido</th><th>ID do Pedido</th><th>Data de Envio</th><th>Unidades Vendidas</th><th>Preço Unitário</th><th>Custo Unitário</th><th>Receita Total</th><th>Custo Total</th><th>Lucro Total</th><th>Tempo de Envio</th></tr><tr><td>str</td><td>str</td><td>str</td><td>str</td><td>str</td><td>date</td><td>i64</td><td>date</td><td>f64</td><td>f64</td><td>f64</td><td>f64</td><td>f64</td><td>f64</td><td>duration[ms]</td></tr></thead><tbody><tr><td>&quot;Asia&quot;</td><td>&quot;Bangladesh&quot;</td><td>&quot;Cereal&quot;</td><td>&quot;Offline&quot;</td><td>&quot;L&quot;</td><td>2013-12-03</td><td>132448184</td><td>2014-01-15</td><td>3216.0</td><td>205.7</td><td>117.11</td><td>661531.2</td><td>376625.76</td><td>284905.44</td><td>43d</td></tr><tr><td>&quot;Asia&quot;</td><td>&quot;Kyrgyzstan&quot;</td><td>&quot;Snacks&quot;</td><td>&quot;Offline&quot;</td><td>&quot;H&quot;</td><td>2018-11-22</td><td>766909492</td><td>2018-12-15</td><td>4416.0</td><td>152.58</td><td>97.44</td><td>673793.28</td><td>430295.04</td><td>243498.24</td><td>23d</td></tr><tr><td>&quot;Asia&quot;</td><td>&quot;Bangladesh&quot;</td><td>&quot;Fruits&quot;</td><td>&quot;Online&quot;</td><td>&quot;L&quot;</td><td>2019-09-14</td><td>467966783</td><td>2019-09-27</td><td>625.0</td><td>9.33</td><td>6.92</td><td>5831.25</td><td>4325.0</td><td>1506.25</td><td>13d</td></tr><tr><td>&quot;Asia&quot;</td><td>&quot;Myanmar&quot;</td><td>&quot;Vegetables&quot;</td><td>&quot;Offline&quot;</td><td>&quot;H&quot;</td><td>2016-03-28</td><td>727876698</td><td>2016-04-19</td><td>3745.0</td><td>154.06</td><td>90.93</td><td>576954.7</td><td>340532.85</td><td>236421.85</td><td>22d</td></tr><tr><td>&quot;Asia&quot;</td><td>&quot;Uzbekistan&quot;</td><td>&quot;Baby Food&quot;</td><td>&quot;Online&quot;</td><td>&quot;L&quot;</td><td>2010-10-09</td><td>498357284</td><td>2010-10-12</td><td>3850.0</td><td>255.28</td><td>159.42</td><td>982828.0</td><td>613767.0</td><td>369061.0</td><td>3d</td></tr></tbody></table></div>"
            ]
          },
          "metadata": {},
          "execution_count": 28
        }
      ]
    },
    {
      "cell_type": "code",
      "source": [
        "import matplotlib.pyplot as plt"
      ],
      "metadata": {
        "id": "Reh2tQOs6wjk"
      },
      "execution_count": 29,
      "outputs": []
    },
    {
      "cell_type": "code",
      "source": [
        "# Filtrar pedidos com prioridade \"H\" (High)\n",
        "filtered_data = df.filter(pl.col(\"Prioridade do Pedido\") == \"H\").to_pandas()\n",
        "# Converter duração para dias inteiros\n",
        "filtered_data['Tempo de Envio (dias)'] = filtered_data['Tempo de Envio'].dt.days\n",
        "\n",
        "# Plotar histograma da distribuição dos dias de envio\n",
        "plt.hist(filtered_data['Tempo de Envio (dias)'], bins=50, edgecolor=\"black\")\n",
        "plt.title(\"Distribuição de Tempo de Envio (Prioridade do Pedido: H)\")\n",
        "plt.xlabel(\"Tempo de Envio (dias)\")\n",
        "plt.ylabel(\"Frequência\")\n",
        "plt.show()"
      ],
      "metadata": {
        "colab": {
          "base_uri": "https://localhost:8080/",
          "height": 472
        },
        "id": "Ez7fww_N60bM",
        "outputId": "3fe0b178-b139-4c6c-8bbb-6417d85935f1"
      },
      "execution_count": 30,
      "outputs": [
        {
          "output_type": "display_data",
          "data": {
            "text/plain": [
              "<Figure size 640x480 with 1 Axes>"
            ],
            "image/png": "[encoded data removed]"
          },
          "metadata": {}
        }
      ]
    },
    {
      "cell_type": "code",
      "source": [
        "# Filtrar pedidos com prioridade \"L\" (Low)\n",
        "filtered_data = df.filter(pl.col(\"Prioridade do Pedido\") == \"L\").to_pandas()\n",
        "filtered_data['Tempo de Envio (dias)'] = filtered_data['Tempo de Envio'].dt.days\n",
        "\n",
        "# Plotar histograma da distribuição dos dias de envio\n",
        "plt.hist(filtered_data['Tempo de Envio (dias)'], bins=50, edgecolor=\"black\")\n",
        "plt.title(\"Distribuição de Tempo de Envio (Prioridade do Pedido: L)\")\n",
        "plt.xlabel(\"Tempo de Envio (dias)\")\n",
        "plt.ylabel(\"Frequência\")\n",
        "plt.show()"
      ],
      "metadata": {
        "colab": {
          "base_uri": "https://localhost:8080/",
          "height": 472
        },
        "id": "m2kQf0fV7tzA",
        "outputId": "c5504824-5b2d-41bf-8ba7-8c495c7cbf99"
      },
      "execution_count": 31,
      "outputs": [
        {
          "output_type": "display_data",
          "data": {
            "text/plain": [
              "<Figure size 640x480 with 1 Axes>"
            ],
            "image/png": "[encoded data removed]"
          },
          "metadata": {}
        }
      ]
    },
    {
      "cell_type": "code",
      "source": [
        "df.head()"
      ],
      "metadata": {
        "colab": {
          "base_uri": "https://localhost:8080/",
          "height": 359
        },
        "id": "S1XenJKT8Cp3",
        "outputId": "9c2879b8-0be1-4f47-8bf8-21b404bc60d9"
      },
      "execution_count": 32,
      "outputs": [
        {
          "output_type": "execute_result",
          "data": {
            "text/plain": [
              "shape: (5, 15)\n",
              "┌────────┬────────────┬────────────┬───────────┬───┬───────────┬───────────┬───────────┬───────────┐\n",
              "│ Região ┆ País       ┆ Tipo de    ┆ Canal de  ┆ … ┆ Receita   ┆ Custo     ┆ Lucro     ┆ Tempo de  │\n",
              "│ ---    ┆ ---        ┆ Item       ┆ Venda     ┆   ┆ Total     ┆ Total     ┆ Total     ┆ Envio     │\n",
              "│ str    ┆ str        ┆ ---        ┆ ---       ┆   ┆ ---       ┆ ---       ┆ ---       ┆ ---       │\n",
              "│        ┆            ┆ str        ┆ str       ┆   ┆ f64       ┆ f64       ┆ f64       ┆ duration[ │\n",
              "│        ┆            ┆            ┆           ┆   ┆           ┆           ┆           ┆ ms]       │\n",
              "╞════════╪════════════╪════════════╪═══════════╪═══╪═══════════╪═══════════╪═══════════╪═══════════╡\n",
              "│ Asia   ┆ Bangladesh ┆ Cereal     ┆ Offline   ┆ … ┆ 661531.2  ┆ 376625.76 ┆ 284905.44 ┆ 43d       │\n",
              "│ Asia   ┆ Kyrgyzstan ┆ Snacks     ┆ Offline   ┆ … ┆ 673793.28 ┆ 430295.04 ┆ 243498.24 ┆ 23d       │\n",
              "│ Asia   ┆ Bangladesh ┆ Fruits     ┆ Online    ┆ … ┆ 5831.25   ┆ 4325.0    ┆ 1506.25   ┆ 13d       │\n",
              "│ Asia   ┆ Myanmar    ┆ Vegetables ┆ Offline   ┆ … ┆ 576954.7  ┆ 340532.85 ┆ 236421.85 ┆ 22d       │\n",
              "│ Asia   ┆ Uzbekistan ┆ Baby Food  ┆ Online    ┆ … ┆ 982828.0  ┆ 613767.0  ┆ 369061.0  ┆ 3d        │\n",
              "└────────┴────────────┴────────────┴───────────┴───┴───────────┴───────────┴───────────┴───────────┘"
            ],
            "text/html": [
              "<div><style>\n",
              ".dataframe > thead > tr,\n",
              ".dataframe > tbody > tr {\n",
              "  text-align: right;\n",
              "  white-space: pre-wrap;\n",
              "}\n",
              "</style>\n",
              "<small>shape: (5, 15)</small><table border=\"1\" class=\"dataframe\"><thead><tr><th>Região</th><th>País</th><th>Tipo de Item</th><th>Canal de Venda</th><th>Prioridade do Pedido</th><th>Data do Pedido</th><th>ID do Pedido</th><th>Data de Envio</th><th>Unidades Vendidas</th><th>Preço Unitário</th><th>Custo Unitário</th><th>Receita Total</th><th>Custo Total</th><th>Lucro Total</th><th>Tempo de Envio</th></tr><tr><td>str</td><td>str</td><td>str</td><td>str</td><td>str</td><td>date</td><td>i64</td><td>date</td><td>f64</td><td>f64</td><td>f64</td><td>f64</td><td>f64</td><td>f64</td><td>duration[ms]</td></tr></thead><tbody><tr><td>&quot;Asia&quot;</td><td>&quot;Bangladesh&quot;</td><td>&quot;Cereal&quot;</td><td>&quot;Offline&quot;</td><td>&quot;L&quot;</td><td>2013-12-03</td><td>132448184</td><td>2014-01-15</td><td>3216.0</td><td>205.7</td><td>117.11</td><td>661531.2</td><td>376625.76</td><td>284905.44</td><td>43d</td></tr><tr><td>&quot;Asia&quot;</td><td>&quot;Kyrgyzstan&quot;</td><td>&quot;Snacks&quot;</td><td>&quot;Offline&quot;</td><td>&quot;H&quot;</td><td>2018-11-22</td><td>766909492</td><td>2018-12-15</td><td>4416.0</td><td>152.58</td><td>97.44</td><td>673793.28</td><td>430295.04</td><td>243498.24</td><td>23d</td></tr><tr><td>&quot;Asia&quot;</td><td>&quot;Bangladesh&quot;</td><td>&quot;Fruits&quot;</td><td>&quot;Online&quot;</td><td>&quot;L&quot;</td><td>2019-09-14</td><td>467966783</td><td>2019-09-27</td><td>625.0</td><td>9.33</td><td>6.92</td><td>5831.25</td><td>4325.0</td><td>1506.25</td><td>13d</td></tr><tr><td>&quot;Asia&quot;</td><td>&quot;Myanmar&quot;</td><td>&quot;Vegetables&quot;</td><td>&quot;Offline&quot;</td><td>&quot;H&quot;</td><td>2016-03-28</td><td>727876698</td><td>2016-04-19</td><td>3745.0</td><td>154.06</td><td>90.93</td><td>576954.7</td><td>340532.85</td><td>236421.85</td><td>22d</td></tr><tr><td>&quot;Asia&quot;</td><td>&quot;Uzbekistan&quot;</td><td>&quot;Baby Food&quot;</td><td>&quot;Online&quot;</td><td>&quot;L&quot;</td><td>2010-10-09</td><td>498357284</td><td>2010-10-12</td><td>3850.0</td><td>255.28</td><td>159.42</td><td>982828.0</td><td>613767.0</td><td>369061.0</td><td>3d</td></tr></tbody></table></div>"
            ]
          },
          "metadata": {},
          "execution_count": 32
        }
      ]
    },
    {
      "cell_type": "code",
      "source": [
        "# Checar valores únicos de prioridade\n",
        "df[\"Prioridade do Pedido\"].unique()"
      ],
      "metadata": {
        "colab": {
          "base_uri": "https://localhost:8080/",
          "height": 223
        },
        "id": "ulrhnX_D8FWK",
        "outputId": "c974faf6-4fea-46eb-d31b-ae07f4051ba5"
      },
      "execution_count": 33,
      "outputs": [
        {
          "output_type": "execute_result",
          "data": {
            "text/plain": [
              "shape: (4,)\n",
              "Series: 'Prioridade do Pedido' [str]\n",
              "[\n",
              "\t\"H\"\n",
              "\t\"L\"\n",
              "\t\"C\"\n",
              "\t\"M\"\n",
              "]"
            ],
            "text/html": [
              "<div><style>\n",
              ".dataframe > thead > tr,\n",
              ".dataframe > tbody > tr {\n",
              "  text-align: right;\n",
              "  white-space: pre-wrap;\n",
              "}\n",
              "</style>\n",
              "<small>shape: (4,)</small><table border=\"1\" class=\"dataframe\"><thead><tr><th>Prioridade do Pedido</th></tr><tr><td>str</td></tr></thead><tbody><tr><td>&quot;H&quot;</td></tr><tr><td>&quot;L&quot;</td></tr><tr><td>&quot;C&quot;</td></tr><tr><td>&quot;M&quot;</td></tr></tbody></table></div>"
            ]
          },
          "metadata": {},
          "execution_count": 33
        }
      ]
    },
    {
      "cell_type": "code",
      "source": [
        "# Traduzir prioridades para palavras completas\n",
        "df = df.with_columns(\n",
        "    pl.col(\"Prioridade do Pedido\").replace({\n",
        "        \"H\": \"High\",\n",
        "        \"C\": \"Critical\",\n",
        "        \"M\": \"Medium\",\n",
        "        \"L\": \"Low\"\n",
        "    }).alias(\"Prioridade do Pedido\")\n",
        ")"
      ],
      "metadata": {
        "id": "b9DIQLEt8NX8"
      },
      "execution_count": 34,
      "outputs": []
    },
    {
      "cell_type": "code",
      "source": [
        "# Criar coluna de margem de lucro percentual\n",
        "df = df.with_columns(\n",
        "    (df[\"Lucro Total\"] / df[\"Custo Total\"] * 100).alias(\"Margem de Lucro (%)\")\n",
        ")"
      ],
      "metadata": {
        "id": "NVIG7msN8oLB"
      },
      "execution_count": 35,
      "outputs": []
    },
    {
      "cell_type": "code",
      "source": [
        "# Criar coluna \"Tipo de venda\"\n",
        "# Se unidades vendidas > 5000, marca como \"Online\", senão mantém o valor original\n",
        "df = df.with_columns(\n",
        "    pl.when(pl.col(\"Unidades Vendidas\") > 5000)\n",
        "    .then(pl.lit(\"Online\"))\n",
        "    .otherwise(pl.col(\"Canal de Venda\"))\n",
        "    .alias(\"Tipo de Venda\")\n",
        ")"
      ],
      "metadata": {
        "id": "8A6b4F3t89HD"
      },
      "execution_count": 38,
      "outputs": []
    },
    {
      "cell_type": "code",
      "source": [
        "df.head()"
      ],
      "metadata": {
        "colab": {
          "base_uri": "https://localhost:8080/",
          "height": 376
        },
        "id": "D0KATihq9ZrD",
        "outputId": "d96b2692-ee98-4313-d898-2413bd58835d"
      },
      "execution_count": 42,
      "outputs": [
        {
          "output_type": "execute_result",
          "data": {
            "text/plain": [
              "shape: (5, 17)\n",
              "┌────────┬────────────┬────────────┬───────────┬───┬───────────┬───────────┬───────────┬───────────┐\n",
              "│ Região ┆ País       ┆ Tipo de    ┆ Canal de  ┆ … ┆ Lucro     ┆ Tempo de  ┆ Margem de ┆ Tipo de   │\n",
              "│ ---    ┆ ---        ┆ Item       ┆ Venda     ┆   ┆ Total     ┆ Envio     ┆ Lucro (%) ┆ Venda     │\n",
              "│ str    ┆ str        ┆ ---        ┆ ---       ┆   ┆ ---       ┆ ---       ┆ ---       ┆ ---       │\n",
              "│        ┆            ┆ str        ┆ str       ┆   ┆ f64       ┆ duration[ ┆ f64       ┆ str       │\n",
              "│        ┆            ┆            ┆           ┆   ┆           ┆ ms]       ┆           ┆           │\n",
              "╞════════╪════════════╪════════════╪═══════════╪═══╪═══════════╪═══════════╪═══════════╪═══════════╡\n",
              "│ Asia   ┆ Bangladesh ┆ Cereal     ┆ Offline   ┆ … ┆ 284905.44 ┆ 43d       ┆ 75.646828 ┆ Offline   │\n",
              "│ Asia   ┆ Kyrgyzstan ┆ Snacks     ┆ Offline   ┆ … ┆ 243498.24 ┆ 23d       ┆ 56.58867  ┆ Offline   │\n",
              "│ Asia   ┆ Bangladesh ┆ Fruits     ┆ Online    ┆ … ┆ 1506.25   ┆ 13d       ┆ 34.82659  ┆ Online    │\n",
              "│ Asia   ┆ Myanmar    ┆ Vegetables ┆ Offline   ┆ … ┆ 236421.85 ┆ 22d       ┆ 69.427032 ┆ Offline   │\n",
              "│ Asia   ┆ Uzbekistan ┆ Baby Food  ┆ Online    ┆ … ┆ 369061.0  ┆ 3d        ┆ 60.130473 ┆ Online    │\n",
              "└────────┴────────────┴────────────┴───────────┴───┴───────────┴───────────┴───────────┴───────────┘"
            ],
            "text/html": [
              "<div><style>\n",
              ".dataframe > thead > tr,\n",
              ".dataframe > tbody > tr {\n",
              "  text-align: right;\n",
              "  white-space: pre-wrap;\n",
              "}\n",
              "</style>\n",
              "<small>shape: (5, 17)</small><table border=\"1\" class=\"dataframe\"><thead><tr><th>Região</th><th>País</th><th>Tipo de Item</th><th>Canal de Venda</th><th>Prioridade do Pedido</th><th>Data do Pedido</th><th>ID do Pedido</th><th>Data de Envio</th><th>Unidades Vendidas</th><th>Preço Unitário</th><th>Custo Unitário</th><th>Receita Total</th><th>Custo Total</th><th>Lucro Total</th><th>Tempo de Envio</th><th>Margem de Lucro (%)</th><th>Tipo de Venda</th></tr><tr><td>str</td><td>str</td><td>str</td><td>str</td><td>str</td><td>date</td><td>i64</td><td>date</td><td>f64</td><td>f64</td><td>f64</td><td>f64</td><td>f64</td><td>f64</td><td>duration[ms]</td><td>f64</td><td>str</td></tr></thead><tbody><tr><td>&quot;Asia&quot;</td><td>&quot;Bangladesh&quot;</td><td>&quot;Cereal&quot;</td><td>&quot;Offline&quot;</td><td>&quot;Low&quot;</td><td>2013-12-03</td><td>132448184</td><td>2014-01-15</td><td>3216.0</td><td>205.7</td><td>117.11</td><td>661531.2</td><td>376625.76</td><td>284905.44</td><td>43d</td><td>75.646828</td><td>&quot;Offline&quot;</td></tr><tr><td>&quot;Asia&quot;</td><td>&quot;Kyrgyzstan&quot;</td><td>&quot;Snacks&quot;</td><td>&quot;Offline&quot;</td><td>&quot;High&quot;</td><td>2018-11-22</td><td>766909492</td><td>2018-12-15</td><td>4416.0</td><td>152.58</td><td>97.44</td><td>673793.28</td><td>430295.04</td><td>243498.24</td><td>23d</td><td>56.58867</td><td>&quot;Offline&quot;</td></tr><tr><td>&quot;Asia&quot;</td><td>&quot;Bangladesh&quot;</td><td>&quot;Fruits&quot;</td><td>&quot;Online&quot;</td><td>&quot;Low&quot;</td><td>2019-09-14</td><td>467966783</td><td>2019-09-27</td><td>625.0</td><td>9.33</td><td>6.92</td><td>5831.25</td><td>4325.0</td><td>1506.25</td><td>13d</td><td>34.82659</td><td>&quot;Online&quot;</td></tr><tr><td>&quot;Asia&quot;</td><td>&quot;Myanmar&quot;</td><td>&quot;Vegetables&quot;</td><td>&quot;Offline&quot;</td><td>&quot;High&quot;</td><td>2016-03-28</td><td>727876698</td><td>2016-04-19</td><td>3745.0</td><td>154.06</td><td>90.93</td><td>576954.7</td><td>340532.85</td><td>236421.85</td><td>22d</td><td>69.427032</td><td>&quot;Offline&quot;</td></tr><tr><td>&quot;Asia&quot;</td><td>&quot;Uzbekistan&quot;</td><td>&quot;Baby Food&quot;</td><td>&quot;Online&quot;</td><td>&quot;Low&quot;</td><td>2010-10-09</td><td>498357284</td><td>2010-10-12</td><td>3850.0</td><td>255.28</td><td>159.42</td><td>982828.0</td><td>613767.0</td><td>369061.0</td><td>3d</td><td>60.130473</td><td>&quot;Online&quot;</td></tr></tbody></table></div>"
            ]
          },
          "metadata": {},
          "execution_count": 42
        }
      ]
    },
    {
      "cell_type": "code",
      "source": [
        "# Selecionar apenas pedidos críticos e ordenar por duração do envio\n",
        "df_critical = df.filter(pl.col(\"Prioridade do Pedido\") == \"Critical\").sort(\"Tempo de Envio\", descending=True)"
      ],
      "metadata": {
        "id": "_cAUa4q0-BUB"
      },
      "execution_count": 44,
      "outputs": []
    },
    {
      "cell_type": "code",
      "source": [
        "# Extrair mês e ano da data do pedido\n",
        "df_critical = df_critical.with_columns(\n",
        "    pl.col(\"Data do Pedido\").dt.month().alias(\"Mês do Pedido\"),\n",
        "    pl.col(\"Data do Pedido\").dt.year().alias(\"Ano do Pedido\")\n",
        ")"
      ],
      "metadata": {
        "id": "FixFMaRW-ad1"
      },
      "execution_count": 45,
      "outputs": []
    },
    {
      "cell_type": "code",
      "source": [
        "df_critical"
      ],
      "metadata": {
        "colab": {
          "base_uri": "https://localhost:8080/",
          "height": 671
        },
        "id": "Q-KhY7UX-2IH",
        "outputId": "acb4de98-4a7c-4fc6-e7c4-6acca540cf9f"
      },
      "execution_count": 46,
      "outputs": [
        {
          "output_type": "execute_result",
          "data": {
            "text/plain": [
              "shape: (29_803, 19)\n",
              "┌────────┬───────────────┬───────────────┬──────────┬───┬──────────────┬─────────┬────────┬────────┐\n",
              "│ Região ┆ País          ┆ Tipo de Item  ┆ Canal de ┆ … ┆ Margem de    ┆ Tipo de ┆ Mês do ┆ Ano do │\n",
              "│ ---    ┆ ---           ┆ ---           ┆ Venda    ┆   ┆ Lucro (%)    ┆ Venda   ┆ Pedido ┆ Pedido │\n",
              "│ str    ┆ str           ┆ str           ┆ ---      ┆   ┆ ---          ┆ ---     ┆ ---    ┆ ---    │\n",
              "│        ┆               ┆               ┆ str      ┆   ┆ f64          ┆ str     ┆ i8     ┆ i32    │\n",
              "╞════════╪═══════════════╪═══════════════╪══════════╪═══╪══════════════╪═════════╪════════╪════════╡\n",
              "│ Asia   ┆ Myanmar       ┆ Household     ┆ Online   ┆ … ┆ 32.978469    ┆ Online  ┆ 11     ┆ 2015   │\n",
              "│ Asia   ┆ Malaysia      ┆ Cosmetics     ┆ Online   ┆ … ┆ 66.027418    ┆ Online  ┆ 9      ┆ 2013   │\n",
              "│ Asia   ┆ Taiwan        ┆ Household     ┆ Online   ┆ … ┆ 32.978469    ┆ Online  ┆ 8      ┆ 2010   │\n",
              "│ Asia   ┆ South Korea   ┆ Cosmetics     ┆ Offline  ┆ … ┆ 66.027418    ┆ Offline ┆ 4      ┆ 2015   │\n",
              "│ Asia   ┆ Cambodia      ┆ Clothes       ┆ Online   ┆ … ┆ 204.910714   ┆ Online  ┆ 10     ┆ 2018   │\n",
              "│ …      ┆ …             ┆ …             ┆ …        ┆ … ┆ …            ┆ …       ┆ …      ┆ …      │\n",
              "│ Asia   ┆ Malaysia      ┆ Fruits        ┆ Online   ┆ … ┆ 34.82659     ┆ Online  ┆ 2      ┆ 2016   │\n",
              "│ Asia   ┆ Cambodia      ┆ Household     ┆ Offline  ┆ … ┆ 32.978469    ┆ Offline ┆ 5      ┆ 2013   │\n",
              "│ Asia   ┆ Philippines   ┆ Beverages     ┆ Online   ┆ … ┆ 49.260774    ┆ Online  ┆ 5      ┆ 2010   │\n",
              "│ Asia   ┆ Kazakhstan    ┆ Personal Care ┆ Offline  ┆ … ┆ 44.220928    ┆ Offline ┆ 4      ┆ 2012   │\n",
              "│ Asia   ┆ Sri Lanka     ┆ Office        ┆ Offline  ┆ … ┆ 24.049451    ┆ Offline ┆ 11     ┆ 2017   │\n",
              "│        ┆               ┆ Supplies      ┆          ┆   ┆              ┆         ┆        ┆        │\n",
              "└────────┴───────────────┴───────────────┴──────────┴───┴──────────────┴─────────┴────────┴────────┘"
            ],
            "text/html": [
              "<div><style>\n",
              ".dataframe > thead > tr,\n",
              ".dataframe > tbody > tr {\n",
              "  text-align: right;\n",
              "  white-space: pre-wrap;\n",
              "}\n",
              "</style>\n",
              "<small>shape: (29_803, 19)</small><table border=\"1\" class=\"dataframe\"><thead><tr><th>Região</th><th>País</th><th>Tipo de Item</th><th>Canal de Venda</th><th>Prioridade do Pedido</th><th>Data do Pedido</th><th>ID do Pedido</th><th>Data de Envio</th><th>Unidades Vendidas</th><th>Preço Unitário</th><th>Custo Unitário</th><th>Receita Total</th><th>Custo Total</th><th>Lucro Total</th><th>Tempo de Envio</th><th>Margem de Lucro (%)</th><th>Tipo de Venda</th><th>Mês do Pedido</th><th>Ano do Pedido</th></tr><tr><td>str</td><td>str</td><td>str</td><td>str</td><td>str</td><td>date</td><td>i64</td><td>date</td><td>f64</td><td>f64</td><td>f64</td><td>f64</td><td>f64</td><td>f64</td><td>duration[ms]</td><td>f64</td><td>str</td><td>i8</td><td>i32</td></tr></thead><tbody><tr><td>&quot;Asia&quot;</td><td>&quot;Myanmar&quot;</td><td>&quot;Household&quot;</td><td>&quot;Online&quot;</td><td>&quot;Critical&quot;</td><td>2015-11-05</td><td>769704139</td><td>2015-12-25</td><td>1414.0</td><td>668.27</td><td>502.54</td><td>944933.78</td><td>710591.56</td><td>234342.22</td><td>50d</td><td>32.978469</td><td>&quot;Online&quot;</td><td>11</td><td>2015</td></tr><tr><td>&quot;Asia&quot;</td><td>&quot;Malaysia&quot;</td><td>&quot;Cosmetics&quot;</td><td>&quot;Online&quot;</td><td>&quot;Critical&quot;</td><td>2013-09-22</td><td>213717401</td><td>2013-11-11</td><td>2583.0</td><td>437.2</td><td>263.33</td><td>1129287.6</td><td>680181.39</td><td>449106.21</td><td>50d</td><td>66.027418</td><td>&quot;Online&quot;</td><td>9</td><td>2013</td></tr><tr><td>&quot;Asia&quot;</td><td>&quot;Taiwan&quot;</td><td>&quot;Household&quot;</td><td>&quot;Online&quot;</td><td>&quot;Critical&quot;</td><td>2010-08-07</td><td>757053124</td><td>2010-09-26</td><td>7698.0</td><td>668.27</td><td>502.54</td><td>5.1443e6</td><td>3.8686e6</td><td>1.2758e6</td><td>50d</td><td>32.978469</td><td>&quot;Online&quot;</td><td>8</td><td>2010</td></tr><tr><td>&quot;Asia&quot;</td><td>&quot;South Korea&quot;</td><td>&quot;Cosmetics&quot;</td><td>&quot;Offline&quot;</td><td>&quot;Critical&quot;</td><td>2015-04-04</td><td>620443284</td><td>2015-05-24</td><td>1810.0</td><td>437.2</td><td>263.33</td><td>791332.0</td><td>476627.3</td><td>314704.7</td><td>50d</td><td>66.027418</td><td>&quot;Offline&quot;</td><td>4</td><td>2015</td></tr><tr><td>&quot;Asia&quot;</td><td>&quot;Cambodia&quot;</td><td>&quot;Clothes&quot;</td><td>&quot;Online&quot;</td><td>&quot;Critical&quot;</td><td>2018-10-14</td><td>325703275</td><td>2018-12-03</td><td>1692.0</td><td>109.28</td><td>35.84</td><td>184901.76</td><td>60641.28</td><td>124260.48</td><td>50d</td><td>204.910714</td><td>&quot;Online&quot;</td><td>10</td><td>2018</td></tr><tr><td>&hellip;</td><td>&hellip;</td><td>&hellip;</td><td>&hellip;</td><td>&hellip;</td><td>&hellip;</td><td>&hellip;</td><td>&hellip;</td><td>&hellip;</td><td>&hellip;</td><td>&hellip;</td><td>&hellip;</td><td>&hellip;</td><td>&hellip;</td><td>&hellip;</td><td>&hellip;</td><td>&hellip;</td><td>&hellip;</td><td>&hellip;</td></tr><tr><td>&quot;Asia&quot;</td><td>&quot;Malaysia&quot;</td><td>&quot;Fruits&quot;</td><td>&quot;Online&quot;</td><td>&quot;Critical&quot;</td><td>2016-02-22</td><td>579140269</td><td>2016-02-22</td><td>9330.0</td><td>9.33</td><td>6.92</td><td>87048.9</td><td>64563.6</td><td>22485.3</td><td>0ms</td><td>34.82659</td><td>&quot;Online&quot;</td><td>2</td><td>2016</td></tr><tr><td>&quot;Asia&quot;</td><td>&quot;Cambodia&quot;</td><td>&quot;Household&quot;</td><td>&quot;Offline&quot;</td><td>&quot;Critical&quot;</td><td>2013-05-05</td><td>408765923</td><td>2013-05-05</td><td>1775.0</td><td>668.27</td><td>502.54</td><td>1.1862e6</td><td>892008.5</td><td>294170.75</td><td>0ms</td><td>32.978469</td><td>&quot;Offline&quot;</td><td>5</td><td>2013</td></tr><tr><td>&quot;Asia&quot;</td><td>&quot;Philippines&quot;</td><td>&quot;Beverages&quot;</td><td>&quot;Online&quot;</td><td>&quot;Critical&quot;</td><td>2010-05-06</td><td>413175475</td><td>2010-05-06</td><td>6660.0</td><td>47.45</td><td>31.79</td><td>316017.0</td><td>211721.4</td><td>104295.6</td><td>0ms</td><td>49.260774</td><td>&quot;Online&quot;</td><td>5</td><td>2010</td></tr><tr><td>&quot;Asia&quot;</td><td>&quot;Kazakhstan&quot;</td><td>&quot;Personal Care&quot;</td><td>&quot;Offline&quot;</td><td>&quot;Critical&quot;</td><td>2012-04-17</td><td>390083158</td><td>2012-04-17</td><td>3130.0</td><td>81.73</td><td>56.67</td><td>255814.9</td><td>177377.1</td><td>78437.8</td><td>0ms</td><td>44.220928</td><td>&quot;Offline&quot;</td><td>4</td><td>2012</td></tr><tr><td>&quot;Asia&quot;</td><td>&quot;Sri Lanka&quot;</td><td>&quot;Office Supplies&quot;</td><td>&quot;Offline&quot;</td><td>&quot;Critical&quot;</td><td>2017-11-15</td><td>960564124</td><td>2017-11-15</td><td>1125.0</td><td>651.21</td><td>524.96</td><td>732611.25</td><td>590580.0</td><td>142031.25</td><td>0ms</td><td>24.049451</td><td>&quot;Offline&quot;</td><td>11</td><td>2017</td></tr></tbody></table></div>"
            ]
          },
          "metadata": {},
          "execution_count": 46
        }
      ]
    },
    {
      "cell_type": "code",
      "source": [
        "# Mapear os meses para estações do ano\n",
        "season_map = {\n",
        "    1: \"Winter\", 2: \"Winter\", 3: \"Spring\",\n",
        "    4: \"Spring\", 5: \"Spring\", 6: \"Summer\",\n",
        "    7: \"Summer\", 8: \"Summer\", 9: \"Fall\",\n",
        "    10: \"Fall\", 11: \"Fall\", 12: \"Winter\"\n",
        "}"
      ],
      "metadata": {
        "id": "6y_jy7QQ-65z"
      },
      "execution_count": 48,
      "outputs": []
    },
    {
      "cell_type": "code",
      "source": [
        "# Substituir o número do mês pela estação correspondente\n",
        "df_critical = df_critical.with_columns(\n",
        "    pl.col(\"Mês do Pedido\").cast(pl.Utf8).replace(season_map).alias(\"Estação\")\n",
        ")"
      ],
      "metadata": {
        "id": "HbCYH8LN_mJw"
      },
      "execution_count": 49,
      "outputs": []
    },
    {
      "cell_type": "code",
      "source": [
        "df_critical.head()"
      ],
      "metadata": {
        "colab": {
          "base_uri": "https://localhost:8080/",
          "height": 396
        },
        "id": "EegIUSwF_8lL",
        "outputId": "2099be94-704e-4cba-c103-43fb48892b10"
      },
      "execution_count": 50,
      "outputs": [
        {
          "output_type": "execute_result",
          "data": {
            "text/plain": [
              "shape: (5, 20)\n",
              "┌────────┬─────────────┬──────────────┬──────────┬───┬─────────┬────────┬────────┬─────────┐\n",
              "│ Região ┆ País        ┆ Tipo de Item ┆ Canal de ┆ … ┆ Tipo de ┆ Mês do ┆ Ano do ┆ Estação │\n",
              "│ ---    ┆ ---         ┆ ---          ┆ Venda    ┆   ┆ Venda   ┆ Pedido ┆ Pedido ┆ ---     │\n",
              "│ str    ┆ str         ┆ str          ┆ ---      ┆   ┆ ---     ┆ ---    ┆ ---    ┆ str     │\n",
              "│        ┆             ┆              ┆ str      ┆   ┆ str     ┆ i8     ┆ i32    ┆         │\n",
              "╞════════╪═════════════╪══════════════╪══════════╪═══╪═════════╪════════╪════════╪═════════╡\n",
              "│ Asia   ┆ Myanmar     ┆ Household    ┆ Online   ┆ … ┆ Online  ┆ 11     ┆ 2015   ┆ Fall    │\n",
              "│ Asia   ┆ Malaysia    ┆ Cosmetics    ┆ Online   ┆ … ┆ Online  ┆ 9      ┆ 2013   ┆ Fall    │\n",
              "│ Asia   ┆ Taiwan      ┆ Household    ┆ Online   ┆ … ┆ Online  ┆ 8      ┆ 2010   ┆ Summer  │\n",
              "│ Asia   ┆ South Korea ┆ Cosmetics    ┆ Offline  ┆ … ┆ Offline ┆ 4      ┆ 2015   ┆ Spring  │\n",
              "│ Asia   ┆ Cambodia    ┆ Clothes      ┆ Online   ┆ … ┆ Online  ┆ 10     ┆ 2018   ┆ Fall    │\n",
              "└────────┴─────────────┴──────────────┴──────────┴───┴─────────┴────────┴────────┴─────────┘"
            ],
            "text/html": [
              "<div><style>\n",
              ".dataframe > thead > tr,\n",
              ".dataframe > tbody > tr {\n",
              "  text-align: right;\n",
              "  white-space: pre-wrap;\n",
              "}\n",
              "</style>\n",
              "<small>shape: (5, 20)</small><table border=\"1\" class=\"dataframe\"><thead><tr><th>Região</th><th>País</th><th>Tipo de Item</th><th>Canal de Venda</th><th>Prioridade do Pedido</th><th>Data do Pedido</th><th>ID do Pedido</th><th>Data de Envio</th><th>Unidades Vendidas</th><th>Preço Unitário</th><th>Custo Unitário</th><th>Receita Total</th><th>Custo Total</th><th>Lucro Total</th><th>Tempo de Envio</th><th>Margem de Lucro (%)</th><th>Tipo de Venda</th><th>Mês do Pedido</th><th>Ano do Pedido</th><th>Estação</th></tr><tr><td>str</td><td>str</td><td>str</td><td>str</td><td>str</td><td>date</td><td>i64</td><td>date</td><td>f64</td><td>f64</td><td>f64</td><td>f64</td><td>f64</td><td>f64</td><td>duration[ms]</td><td>f64</td><td>str</td><td>i8</td><td>i32</td><td>str</td></tr></thead><tbody><tr><td>&quot;Asia&quot;</td><td>&quot;Myanmar&quot;</td><td>&quot;Household&quot;</td><td>&quot;Online&quot;</td><td>&quot;Critical&quot;</td><td>2015-11-05</td><td>769704139</td><td>2015-12-25</td><td>1414.0</td><td>668.27</td><td>502.54</td><td>944933.78</td><td>710591.56</td><td>234342.22</td><td>50d</td><td>32.978469</td><td>&quot;Online&quot;</td><td>11</td><td>2015</td><td>&quot;Fall&quot;</td></tr><tr><td>&quot;Asia&quot;</td><td>&quot;Malaysia&quot;</td><td>&quot;Cosmetics&quot;</td><td>&quot;Online&quot;</td><td>&quot;Critical&quot;</td><td>2013-09-22</td><td>213717401</td><td>2013-11-11</td><td>2583.0</td><td>437.2</td><td>263.33</td><td>1129287.6</td><td>680181.39</td><td>449106.21</td><td>50d</td><td>66.027418</td><td>&quot;Online&quot;</td><td>9</td><td>2013</td><td>&quot;Fall&quot;</td></tr><tr><td>&quot;Asia&quot;</td><td>&quot;Taiwan&quot;</td><td>&quot;Household&quot;</td><td>&quot;Online&quot;</td><td>&quot;Critical&quot;</td><td>2010-08-07</td><td>757053124</td><td>2010-09-26</td><td>7698.0</td><td>668.27</td><td>502.54</td><td>5.1443e6</td><td>3.8686e6</td><td>1.2758e6</td><td>50d</td><td>32.978469</td><td>&quot;Online&quot;</td><td>8</td><td>2010</td><td>&quot;Summer&quot;</td></tr><tr><td>&quot;Asia&quot;</td><td>&quot;South Korea&quot;</td><td>&quot;Cosmetics&quot;</td><td>&quot;Offline&quot;</td><td>&quot;Critical&quot;</td><td>2015-04-04</td><td>620443284</td><td>2015-05-24</td><td>1810.0</td><td>437.2</td><td>263.33</td><td>791332.0</td><td>476627.3</td><td>314704.7</td><td>50d</td><td>66.027418</td><td>&quot;Offline&quot;</td><td>4</td><td>2015</td><td>&quot;Spring&quot;</td></tr><tr><td>&quot;Asia&quot;</td><td>&quot;Cambodia&quot;</td><td>&quot;Clothes&quot;</td><td>&quot;Online&quot;</td><td>&quot;Critical&quot;</td><td>2018-10-14</td><td>325703275</td><td>2018-12-03</td><td>1692.0</td><td>109.28</td><td>35.84</td><td>184901.76</td><td>60641.28</td><td>124260.48</td><td>50d</td><td>204.910714</td><td>&quot;Online&quot;</td><td>10</td><td>2018</td><td>&quot;Fall&quot;</td></tr></tbody></table></div>"
            ]
          },
          "metadata": {},
          "execution_count": 50
        }
      ]
    },
    {
      "cell_type": "code",
      "source": [
        "# Converter para Pandas para facilitar visualizações\n",
        "df_critical_pd = df_critical.to_pandas()\n",
        "\n",
        "# Converter duração para dias inteiros\n",
        "df_critical_pd[\"Dias de Envio\"] = df_critical_pd[\"Tempo de Envio\"].dt.days\n",
        "\n",
        "# Criar listas separadas por estação\n",
        "data = [\n",
        "    df_critical_pd[df_critical_pd[\"Estação\"] == season][\"Dias de Envio\"]\n",
        "    for season in df_critical_pd[\"Estação\"].unique()\n",
        "]"
      ],
      "metadata": {
        "id": "D99LnNkDAGJu"
      },
      "execution_count": 51,
      "outputs": []
    },
    {
      "cell_type": "code",
      "source": [
        "# Definir esquema de cores\n",
        "cores = {\n",
        "    \"box\": \"#00A6FB\",\n",
        "    \"mediana\": \"#FF1E1E\",\n",
        "    \"whiskers\": \"#000000\",\n",
        "    \"caps\": \"#000000\",\n",
        "    \"fliers\": \"#FF4500\"\n",
        "}\n",
        "\n",
        "# Criar o boxplot com as cores definidas\n",
        "bp = plt.boxplot(\n",
        "    data,\n",
        "    vert=False,\n",
        "    patch_artist=True,\n",
        "    labels=df_critical_pd[\"Estação\"].unique(),\n",
        "    boxprops=dict(facecolor=cores[\"box\"], alpha=0.8),\n",
        "    medianprops=dict(color=cores[\"mediana\"], linewidth=1.5),\n",
        "    whiskerprops=dict(color=cores[\"whiskers\"], linewidth=1.5),\n",
        "    capprops=dict(color=cores[\"caps\"], linewidth=1.5),\n",
        "    flierprops=dict(marker=\"o\", markerfacecolor=cores[\"fliers\"], markersize=8)\n",
        ")\n",
        "\n",
        "# Configurações do gráfico\n",
        "plt.title(\"Distribuição de Dias de Entrega por Estação (Pedidos Críticos)\",\n",
        "          fontsize=12, pad=15)\n",
        "plt.xlabel(\"Dias de Entrega\", fontsize=10)\n",
        "plt.ylabel(\"Estação do Ano\", fontsize=10)\n",
        "plt.grid(axis=\"x\", linestyle=\"--\", alpha=0.7)\n",
        "\n",
        "plt.tight_layout()\n",
        "plt.show()"
      ],
      "metadata": {
        "colab": {
          "base_uri": "https://localhost:8080/",
          "height": 543
        },
        "id": "ZDsIi_JZAxYG",
        "outputId": "cc447716-d41d-4772-f656-d502be2ffee7"
      },
      "execution_count": 54,
      "outputs": [
        {
          "output_type": "stream",
          "name": "stderr",
          "text": [
            "/tmp/ipython-input-3310545067.py:9: MatplotlibDeprecationWarning: The 'labels' parameter of boxplot() has been renamed 'tick_labels' since Matplotlib 3.9; support for the old name will be dropped in 3.11.\n",
            "  bp = plt.boxplot(\n"
          ]
        },
        {
          "output_type": "display_data",
          "data": {
            "text/plain": [
              "<Figure size 640x480 with 1 Axes>"
            ],
            "image/png": "[encoded data removed]"
          },
          "metadata": {}
        }
      ]
    }
  ]
}