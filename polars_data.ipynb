{
  "nbformat": 4,
  "nbformat_minor": 0,
  "metadata": {
    "colab": {
      "provenance": []
    },
    "kernelspec": {
      "name": "python3",
      "display_name": "Python 3"
    },
    "language_info": {
      "name": "python"
    }
  },
  "cells": [
    {
      "cell_type": "code",
      "execution_count": 1,
      "metadata": {
        "id": "AyI2bC1NzJwr"
      },
      "outputs": [],
      "source": [
        "import polars as pl"
      ]
    },
    {
      "cell_type": "code",
      "source": [
        "# Importando a biblioteca Polars e lendo o arquivo CSV\n",
        "df = pl.read_csv('data-superstore.csv')\n",
        "df.head()   # Visualizando as 5 primeiras linhas do dataset"
      ],
      "metadata": {
        "colab": {
          "base_uri": "https://localhost:8080/",
          "height": 307
        },
        "id": "I89uK6bwA5Il",
        "outputId": "bdbce431-8a72-44c6-99c0-151080697840"
      },
      "execution_count": 2,
      "outputs": [
        {
          "output_type": "execute_result",
          "data": {
            "text/plain": [
              "shape: (5, 14)\n",
              "┌────────────┬─────────┬───────────┬───────────┬───┬───────────┬───────────┬───────────┬───────────┐\n",
              "│ Região     ┆ País    ┆ Tipo de   ┆ Canal de  ┆ … ┆ Custo     ┆ Receita   ┆ Custo     ┆ Lucro     │\n",
              "│ ---        ┆ ---     ┆ Item      ┆ Venda     ┆   ┆ Unitário  ┆ Total     ┆ Total     ┆ Total     │\n",
              "│ str        ┆ str     ┆ ---       ┆ ---       ┆   ┆ ---       ┆ ---       ┆ ---       ┆ ---       │\n",
              "│            ┆         ┆ str       ┆ str       ┆   ┆ f64       ┆ f64       ┆ f64       ┆ f64       │\n",
              "╞════════════╪═════════╪═══════════╪═══════════╪═══╪═══════════╪═══════════╪═══════════╪═══════════╡\n",
              "│ Australia  ┆ Palau   ┆ Office    ┆ Online    ┆ … ┆ 524.96    ┆ 1.5636e6  ┆ 1.2604e6  ┆ 303126.25 │\n",
              "│ and        ┆         ┆ Supplies  ┆           ┆   ┆           ┆           ┆           ┆           │\n",
              "│ Oceania    ┆         ┆           ┆           ┆   ┆           ┆           ┆           ┆           │\n",
              "│ Europe     ┆ Poland  ┆ Beverages ┆ Online    ┆ … ┆ 31.79     ┆ 443183.0  ┆ 296918.6  ┆ 146264.4  │\n",
              "│ North      ┆ Canada  ┆ Cereal    ┆ Online    ┆ … ┆ 117.11    ┆ 21187.1   ┆ 12062.33  ┆ 9124.77   │\n",
              "│ America    ┆         ┆           ┆           ┆   ┆           ┆           ┆           ┆           │\n",
              "│ Europe     ┆ Belarus ┆ Snacks    ┆ Online    ┆ … ┆ 97.44     ┆ 215748.12 ┆ 137780.16 ┆ 77967.96  │\n",
              "│ Middle     ┆ Oman    ┆ Cereal    ┆ Offline   ┆ … ┆ 117.11    ┆ 1445453.9 ┆ 822931.97 ┆ 622521.93 │\n",
              "│ East and   ┆         ┆           ┆           ┆   ┆           ┆           ┆           ┆           │\n",
              "│ North      ┆         ┆           ┆           ┆   ┆           ┆           ┆           ┆           │\n",
              "│ Africa     ┆         ┆           ┆           ┆   ┆           ┆           ┆           ┆           │\n",
              "└────────────┴─────────┴───────────┴───────────┴───┴───────────┴───────────┴───────────┴───────────┘"
            ],
            "text/html": [
              "<div><style>\n",
              ".dataframe > thead > tr,\n",
              ".dataframe > tbody > tr {\n",
              "  text-align: right;\n",
              "  white-space: pre-wrap;\n",
              "}\n",
              "</style>\n",
              "<small>shape: (5, 14)</small><table border=\"1\" class=\"dataframe\"><thead><tr><th>Região</th><th>País</th><th>Tipo de Item</th><th>Canal de Venda</th><th>Prioridade do Pedido</th><th>Data do Pedido</th><th>ID do Pedido</th><th>Data de Envio</th><th>Unidades Vendidas</th><th>Preço Unitário</th><th>Custo Unitário</th><th>Receita Total</th><th>Custo Total</th><th>Lucro Total</th></tr><tr><td>str</td><td>str</td><td>str</td><td>str</td><td>str</td><td>str</td><td>i64</td><td>str</td><td>f64</td><td>f64</td><td>f64</td><td>f64</td><td>f64</td><td>f64</td></tr></thead><tbody><tr><td>&quot;Australia and Oceania&quot;</td><td>&quot;Palau&quot;</td><td>&quot;Office Supplies&quot;</td><td>&quot;Online&quot;</td><td>&quot;H&quot;</td><td>&quot;3/6/2016&quot;</td><td>517073523</td><td>&quot;3/26/2016&quot;</td><td>2401.0</td><td>651.21</td><td>524.96</td><td>1.5636e6</td><td>1.2604e6</td><td>303126.25</td></tr><tr><td>&quot;Europe&quot;</td><td>&quot;Poland&quot;</td><td>&quot;Beverages&quot;</td><td>&quot;Online&quot;</td><td>&quot;L&quot;</td><td>&quot;4/18/2010&quot;</td><td>380507028</td><td>&quot;5/26/2010&quot;</td><td>9340.0</td><td>47.45</td><td>31.79</td><td>443183.0</td><td>296918.6</td><td>146264.4</td></tr><tr><td>&quot;North America&quot;</td><td>&quot;Canada&quot;</td><td>&quot;Cereal&quot;</td><td>&quot;Online&quot;</td><td>&quot;M&quot;</td><td>&quot;1/8/2015&quot;</td><td>504055583</td><td>&quot;1/31/2015&quot;</td><td>103.0</td><td>205.7</td><td>117.11</td><td>21187.1</td><td>12062.33</td><td>9124.77</td></tr><tr><td>&quot;Europe&quot;</td><td>&quot;Belarus&quot;</td><td>&quot;Snacks&quot;</td><td>&quot;Online&quot;</td><td>&quot;C&quot;</td><td>&quot;1/19/2014&quot;</td><td>954955518</td><td>&quot;2/27/2014&quot;</td><td>1414.0</td><td>152.58</td><td>97.44</td><td>215748.12</td><td>137780.16</td><td>77967.96</td></tr><tr><td>&quot;Middle East and North Africa&quot;</td><td>&quot;Oman&quot;</td><td>&quot;Cereal&quot;</td><td>&quot;Offline&quot;</td><td>&quot;H&quot;</td><td>&quot;4/26/2019&quot;</td><td>970755660</td><td>&quot;6/2/2019&quot;</td><td>7027.0</td><td>205.7</td><td>117.11</td><td>1445453.9</td><td>822931.97</td><td>622521.93</td></tr></tbody></table></div>"
            ]
          },
          "metadata": {},
          "execution_count": 2
        }
      ]
    },
    {
      "cell_type": "code",
      "source": [
        "# Verificando os tipos de dados de cada coluna\n",
        "df.dtypes"
      ],
      "metadata": {
        "colab": {
          "base_uri": "https://localhost:8080/"
        },
        "id": "OhOOezCmC4MW",
        "outputId": "57fd185a-964e-4458-e9cd-c3f20386d33d"
      },
      "execution_count": 3,
      "outputs": [
        {
          "output_type": "execute_result",
          "data": {
            "text/plain": [
              "[String,\n",
              " String,\n",
              " String,\n",
              " String,\n",
              " String,\n",
              " String,\n",
              " Int64,\n",
              " String,\n",
              " Float64,\n",
              " Float64,\n",
              " Float64,\n",
              " Float64,\n",
              " Float64,\n",
              " Float64]"
            ]
          },
          "metadata": {},
          "execution_count": 3
        }
      ]
    },
    {
      "cell_type": "code",
      "source": [
        "# Gerando estatísticas descritivas do dataset completo\n",
        "df.describe()"
      ],
      "metadata": {
        "colab": {
          "base_uri": "https://localhost:8080/",
          "height": 469
        },
        "id": "jdBmtS1MDDU8",
        "outputId": "1e4c16b8-e179-44f8-bf1d-7ca55d7cdec1"
      },
      "execution_count": 4,
      "outputs": [
        {
          "output_type": "execute_result",
          "data": {
            "text/plain": [
              "shape: (9, 15)\n",
              "┌───────────┬───────────┬───────────┬───────────┬───┬───────────┬───────────┬───────────┬──────────┐\n",
              "│ statistic ┆ Região    ┆ País      ┆ Tipo de   ┆ … ┆ Custo     ┆ Receita   ┆ Custo     ┆ Lucro    │\n",
              "│ ---       ┆ ---       ┆ ---       ┆ Item      ┆   ┆ Unitário  ┆ Total     ┆ Total     ┆ Total    │\n",
              "│ str       ┆ str       ┆ str       ┆ ---       ┆   ┆ ---       ┆ ---       ┆ ---       ┆ ---      │\n",
              "│           ┆           ┆           ┆ str       ┆   ┆ f64       ┆ f64       ┆ f64       ┆ f64      │\n",
              "╞═══════════╪═══════════╪═══════════╪═══════════╪═══╪═══════════╪═══════════╪═══════════╪══════════╡\n",
              "│ count     ┆ 167954    ┆ 167954    ┆ 167954    ┆ … ┆ 167953.0  ┆ 167953.0  ┆ 167953.0  ┆ 167953.0 │\n",
              "│ null_coun ┆ 0         ┆ 0         ┆ 0         ┆ … ┆ 1.0       ┆ 1.0       ┆ 1.0       ┆ 1.0      │\n",
              "│ t         ┆           ┆           ┆           ┆   ┆           ┆           ┆           ┆          │\n",
              "│ mean      ┆ null      ┆ null      ┆ null      ┆ … ┆ 187.58411 ┆ 1.3282e6  ┆ 936123.76 ┆ 392102.3 │\n",
              "│           ┆           ┆           ┆           ┆   ┆ 2         ┆           ┆ 1226      ┆ 98397    │\n",
              "│ std       ┆ null      ┆ null      ┆ null      ┆ … ┆ 175.60617 ┆ 1.4679e6  ┆ 1.1479e6  ┆ 379161.5 │\n",
              "│           ┆           ┆           ┆           ┆   ┆ 6         ┆           ┆           ┆ 77771    │\n",
              "│ min       ┆ Asia      ┆ Afghanist ┆ Baby Food ┆ … ┆ 6.92      ┆ 9.33      ┆ 6.92      ┆ 2.41     │\n",
              "│           ┆           ┆ an        ┆           ┆   ┆           ┆           ┆           ┆          │\n",
              "│ 25%       ┆ null      ┆ null      ┆ null      ┆ … ┆ 56.67     ┆ 276443.7  ┆ 161238.88 ┆ 94288.86 │\n",
              "│ 50%       ┆ null      ┆ null      ┆ null      ┆ … ┆ 117.11    ┆ 784730.72 ┆ 466925.55 ┆ 280452.3 │\n",
              "│           ┆           ┆           ┆           ┆   ┆           ┆           ┆           ┆ 1        │\n",
              "│ 75%       ┆ null      ┆ null      ┆ null      ┆ … ┆ 263.33    ┆ 1.818752e ┆ 1.1928e6  ┆ 566001.5 │\n",
              "│           ┆           ┆           ┆           ┆   ┆           ┆ 6         ┆           ┆ 1        │\n",
              "│ max       ┆ Sub-Sahar ┆ Zimbabwe  ┆ Vegetable ┆ … ┆ 524.96    ┆ 6.6820e6  ┆ 5.2496e6  ┆ 1.7387e6 │\n",
              "│           ┆ an Africa ┆           ┆ s         ┆   ┆           ┆           ┆           ┆          │\n",
              "└───────────┴───────────┴───────────┴───────────┴───┴───────────┴───────────┴───────────┴──────────┘"
            ],
            "text/html": [
              "<div><style>\n",
              ".dataframe > thead > tr,\n",
              ".dataframe > tbody > tr {\n",
              "  text-align: right;\n",
              "  white-space: pre-wrap;\n",
              "}\n",
              "</style>\n",
              "<small>shape: (9, 15)</small><table border=\"1\" class=\"dataframe\"><thead><tr><th>statistic</th><th>Região</th><th>País</th><th>Tipo de Item</th><th>Canal de Venda</th><th>Prioridade do Pedido</th><th>Data do Pedido</th><th>ID do Pedido</th><th>Data de Envio</th><th>Unidades Vendidas</th><th>Preço Unitário</th><th>Custo Unitário</th><th>Receita Total</th><th>Custo Total</th><th>Lucro Total</th></tr><tr><td>str</td><td>str</td><td>str</td><td>str</td><td>str</td><td>str</td><td>str</td><td>f64</td><td>str</td><td>f64</td><td>f64</td><td>f64</td><td>f64</td><td>f64</td><td>f64</td></tr></thead><tbody><tr><td>&quot;count&quot;</td><td>&quot;167954&quot;</td><td>&quot;167954&quot;</td><td>&quot;167954&quot;</td><td>&quot;167954&quot;</td><td>&quot;167954&quot;</td><td>&quot;167954&quot;</td><td>167954.0</td><td>&quot;167954&quot;</td><td>167953.0</td><td>167953.0</td><td>167953.0</td><td>167953.0</td><td>167953.0</td><td>167953.0</td></tr><tr><td>&quot;null_count&quot;</td><td>&quot;0&quot;</td><td>&quot;0&quot;</td><td>&quot;0&quot;</td><td>&quot;0&quot;</td><td>&quot;0&quot;</td><td>&quot;0&quot;</td><td>0.0</td><td>&quot;0&quot;</td><td>1.0</td><td>1.0</td><td>1.0</td><td>1.0</td><td>1.0</td><td>1.0</td></tr><tr><td>&quot;mean&quot;</td><td>null</td><td>null</td><td>null</td><td>null</td><td>null</td><td>null</td><td>5.5183e8</td><td>null</td><td>4991.732163</td><td>266.124467</td><td>187.584112</td><td>1.3282e6</td><td>936123.761226</td><td>392102.398397</td></tr><tr><td>&quot;std&quot;</td><td>null</td><td>null</td><td>null</td><td>null</td><td>null</td><td>null</td><td>2.5998e8</td><td>null</td><td>2884.49255</td><td>216.913739</td><td>175.606176</td><td>1.4679e6</td><td>1.1479e6</td><td>379161.577771</td></tr><tr><td>&quot;min&quot;</td><td>&quot;Asia&quot;</td><td>&quot;Afghanistan&quot;</td><td>&quot;Baby Food&quot;</td><td>&quot;Offline&quot;</td><td>&quot;C&quot;</td><td>&quot;1/1/2010&quot;</td><td>1.00021779e8</td><td>&quot;1/1/2010&quot;</td><td>1.0</td><td>9.33</td><td>6.92</td><td>9.33</td><td>6.92</td><td>2.41</td></tr><tr><td>&quot;25%&quot;</td><td>null</td><td>null</td><td>null</td><td>null</td><td>null</td><td>null</td><td>3.26240575e8</td><td>null</td><td>2495.0</td><td>109.28</td><td>56.67</td><td>276443.7</td><td>161238.88</td><td>94288.86</td></tr><tr><td>&quot;50%&quot;</td><td>null</td><td>null</td><td>null</td><td>null</td><td>null</td><td>null</td><td>5.5230745e8</td><td>null</td><td>4991.0</td><td>205.7</td><td>117.11</td><td>784730.72</td><td>466925.55</td><td>280452.31</td></tr><tr><td>&quot;75%&quot;</td><td>null</td><td>null</td><td>null</td><td>null</td><td>null</td><td>null</td><td>7.77836596e8</td><td>null</td><td>7483.0</td><td>437.2</td><td>263.33</td><td>1.818752e6</td><td>1.1928e6</td><td>566001.51</td></tr><tr><td>&quot;max&quot;</td><td>&quot;Sub-Saharan Africa&quot;</td><td>&quot;Zimbabwe&quot;</td><td>&quot;Vegetables&quot;</td><td>&quot;Online&quot;</td><td>&quot;M&quot;</td><td>&quot;9/9/2020&quot;</td><td>9.99995601e8</td><td>&quot;9/9/2020&quot;</td><td>10000.0</td><td>668.27</td><td>524.96</td><td>6.6820e6</td><td>5.2496e6</td><td>1.7387e6</td></tr></tbody></table></div>"
            ]
          },
          "metadata": {},
          "execution_count": 4
        }
      ]
    },
    {
      "cell_type": "code",
      "source": [
        "# Estatísticas descritivas apenas para colunas numéricas (Int64 e Float64)\n",
        "df.select(pl.col(pl.Int64, pl.Float64)).describe()"
      ],
      "metadata": {
        "colab": {
          "base_uri": "https://localhost:8080/",
          "height": 380
        },
        "id": "SG2uVRClDJxz",
        "outputId": "ae627185-1f9e-4f02-8a3a-181586d546a7"
      },
      "execution_count": 5,
      "outputs": [
        {
          "output_type": "execute_result",
          "data": {
            "text/plain": [
              "shape: (9, 8)\n",
              "┌────────────┬────────────┬────────────┬───────────┬───────────┬───────────┬───────────┬───────────┐\n",
              "│ statistic  ┆ ID do      ┆ Unidades   ┆ Preço     ┆ Custo     ┆ Receita   ┆ Custo     ┆ Lucro     │\n",
              "│ ---        ┆ Pedido     ┆ Vendidas   ┆ Unitário  ┆ Unitário  ┆ Total     ┆ Total     ┆ Total     │\n",
              "│ str        ┆ ---        ┆ ---        ┆ ---       ┆ ---       ┆ ---       ┆ ---       ┆ ---       │\n",
              "│            ┆ f64        ┆ f64        ┆ f64       ┆ f64       ┆ f64       ┆ f64       ┆ f64       │\n",
              "╞════════════╪════════════╪════════════╪═══════════╪═══════════╪═══════════╪═══════════╪═══════════╡\n",
              "│ count      ┆ 167954.0   ┆ 167953.0   ┆ 167953.0  ┆ 167953.0  ┆ 167953.0  ┆ 167953.0  ┆ 167953.0  │\n",
              "│ null_count ┆ 0.0        ┆ 1.0        ┆ 1.0       ┆ 1.0       ┆ 1.0       ┆ 1.0       ┆ 1.0       │\n",
              "│ mean       ┆ 5.5183e8   ┆ 4991.73216 ┆ 266.12446 ┆ 187.58411 ┆ 1.3282e6  ┆ 936123.76 ┆ 392102.39 │\n",
              "│            ┆            ┆ 3          ┆ 7         ┆ 2         ┆           ┆ 1226      ┆ 8397      │\n",
              "│ std        ┆ 2.5998e8   ┆ 2884.49255 ┆ 216.91373 ┆ 175.60617 ┆ 1.4679e6  ┆ 1.1479e6  ┆ 379161.57 │\n",
              "│            ┆            ┆            ┆ 9         ┆ 6         ┆           ┆           ┆ 7771      │\n",
              "│ min        ┆ 1.00021779 ┆ 1.0        ┆ 9.33      ┆ 6.92      ┆ 9.33      ┆ 6.92      ┆ 2.41      │\n",
              "│            ┆ e8         ┆            ┆           ┆           ┆           ┆           ┆           │\n",
              "│ 25%        ┆ 3.26240575 ┆ 2495.0     ┆ 109.28    ┆ 56.67     ┆ 276443.7  ┆ 161238.88 ┆ 94288.86  │\n",
              "│            ┆ e8         ┆            ┆           ┆           ┆           ┆           ┆           │\n",
              "│ 50%        ┆ 5.5230745e ┆ 4991.0     ┆ 205.7     ┆ 117.11    ┆ 784730.72 ┆ 466925.55 ┆ 280452.31 │\n",
              "│            ┆ 8          ┆            ┆           ┆           ┆           ┆           ┆           │\n",
              "│ 75%        ┆ 7.77836596 ┆ 7483.0     ┆ 437.2     ┆ 263.33    ┆ 1.818752e ┆ 1.1928e6  ┆ 566001.51 │\n",
              "│            ┆ e8         ┆            ┆           ┆           ┆ 6         ┆           ┆           │\n",
              "│ max        ┆ 9.99995601 ┆ 10000.0    ┆ 668.27    ┆ 524.96    ┆ 6.6820e6  ┆ 5.2496e6  ┆ 1.7387e6  │\n",
              "│            ┆ e8         ┆            ┆           ┆           ┆           ┆           ┆           │\n",
              "└────────────┴────────────┴────────────┴───────────┴───────────┴───────────┴───────────┴───────────┘"
            ],
            "text/html": [
              "<div><style>\n",
              ".dataframe > thead > tr,\n",
              ".dataframe > tbody > tr {\n",
              "  text-align: right;\n",
              "  white-space: pre-wrap;\n",
              "}\n",
              "</style>\n",
              "<small>shape: (9, 8)</small><table border=\"1\" class=\"dataframe\"><thead><tr><th>statistic</th><th>ID do Pedido</th><th>Unidades Vendidas</th><th>Preço Unitário</th><th>Custo Unitário</th><th>Receita Total</th><th>Custo Total</th><th>Lucro Total</th></tr><tr><td>str</td><td>f64</td><td>f64</td><td>f64</td><td>f64</td><td>f64</td><td>f64</td><td>f64</td></tr></thead><tbody><tr><td>&quot;count&quot;</td><td>167954.0</td><td>167953.0</td><td>167953.0</td><td>167953.0</td><td>167953.0</td><td>167953.0</td><td>167953.0</td></tr><tr><td>&quot;null_count&quot;</td><td>0.0</td><td>1.0</td><td>1.0</td><td>1.0</td><td>1.0</td><td>1.0</td><td>1.0</td></tr><tr><td>&quot;mean&quot;</td><td>5.5183e8</td><td>4991.732163</td><td>266.124467</td><td>187.584112</td><td>1.3282e6</td><td>936123.761226</td><td>392102.398397</td></tr><tr><td>&quot;std&quot;</td><td>2.5998e8</td><td>2884.49255</td><td>216.913739</td><td>175.606176</td><td>1.4679e6</td><td>1.1479e6</td><td>379161.577771</td></tr><tr><td>&quot;min&quot;</td><td>1.00021779e8</td><td>1.0</td><td>9.33</td><td>6.92</td><td>9.33</td><td>6.92</td><td>2.41</td></tr><tr><td>&quot;25%&quot;</td><td>3.26240575e8</td><td>2495.0</td><td>109.28</td><td>56.67</td><td>276443.7</td><td>161238.88</td><td>94288.86</td></tr><tr><td>&quot;50%&quot;</td><td>5.5230745e8</td><td>4991.0</td><td>205.7</td><td>117.11</td><td>784730.72</td><td>466925.55</td><td>280452.31</td></tr><tr><td>&quot;75%&quot;</td><td>7.77836596e8</td><td>7483.0</td><td>437.2</td><td>263.33</td><td>1.818752e6</td><td>1.1928e6</td><td>566001.51</td></tr><tr><td>&quot;max&quot;</td><td>9.99995601e8</td><td>10000.0</td><td>668.27</td><td>524.96</td><td>6.6820e6</td><td>5.2496e6</td><td>1.7387e6</td></tr></tbody></table></div>"
            ]
          },
          "metadata": {},
          "execution_count": 5
        }
      ]
    },
    {
      "cell_type": "code",
      "source": [
        "# Contando valores nulos em cada coluna\n",
        "df.null_count()"
      ],
      "metadata": {
        "colab": {
          "base_uri": "https://localhost:8080/",
          "height": 147
        },
        "id": "UOsztqcXDUbV",
        "outputId": "2e2e8e60-7b8c-4484-b488-140c954bc01a"
      },
      "execution_count": 6,
      "outputs": [
        {
          "output_type": "execute_result",
          "data": {
            "text/plain": [
              "shape: (1, 14)\n",
              "┌────────┬──────┬─────────┬──────────┬───┬──────────┬─────────┬─────────────┬─────────────┐\n",
              "│ Região ┆ País ┆ Tipo de ┆ Canal de ┆ … ┆ Custo    ┆ Receita ┆ Custo Total ┆ Lucro Total │\n",
              "│ ---    ┆ ---  ┆ Item    ┆ Venda    ┆   ┆ Unitário ┆ Total   ┆ ---         ┆ ---         │\n",
              "│ u32    ┆ u32  ┆ ---     ┆ ---      ┆   ┆ ---      ┆ ---     ┆ u32         ┆ u32         │\n",
              "│        ┆      ┆ u32     ┆ u32      ┆   ┆ u32      ┆ u32     ┆             ┆             │\n",
              "╞════════╪══════╪═════════╪══════════╪═══╪══════════╪═════════╪═════════════╪═════════════╡\n",
              "│ 0      ┆ 0    ┆ 0       ┆ 0        ┆ … ┆ 1        ┆ 1       ┆ 1           ┆ 1           │\n",
              "└────────┴──────┴─────────┴──────────┴───┴──────────┴─────────┴─────────────┴─────────────┘"
            ],
            "text/html": [
              "<div><style>\n",
              ".dataframe > thead > tr,\n",
              ".dataframe > tbody > tr {\n",
              "  text-align: right;\n",
              "  white-space: pre-wrap;\n",
              "}\n",
              "</style>\n",
              "<small>shape: (1, 14)</small><table border=\"1\" class=\"dataframe\"><thead><tr><th>Região</th><th>País</th><th>Tipo de Item</th><th>Canal de Venda</th><th>Prioridade do Pedido</th><th>Data do Pedido</th><th>ID do Pedido</th><th>Data de Envio</th><th>Unidades Vendidas</th><th>Preço Unitário</th><th>Custo Unitário</th><th>Receita Total</th><th>Custo Total</th><th>Lucro Total</th></tr><tr><td>u32</td><td>u32</td><td>u32</td><td>u32</td><td>u32</td><td>u32</td><td>u32</td><td>u32</td><td>u32</td><td>u32</td><td>u32</td><td>u32</td><td>u32</td><td>u32</td></tr></thead><tbody><tr><td>0</td><td>0</td><td>0</td><td>0</td><td>0</td><td>0</td><td>0</td><td>0</td><td>1</td><td>1</td><td>1</td><td>1</td><td>1</td><td>1</td></tr></tbody></table></div>"
            ]
          },
          "metadata": {},
          "execution_count": 6
        }
      ]
    },
    {
      "cell_type": "code",
      "source": [
        "# Contagem detalhada de NaN e nulls para todas as colunas\n",
        "nan_counts = {\n",
        "    col: (\n",
        "        # Contar NaN apenas para colunas float\n",
        "        (df[col].is_nan().sum() if df[col].dtype in (pl.Int64, pl.Float64) else 0)\n",
        "        # Contar null para todas as colunas\n",
        "        + df[col].is_null().sum()\n",
        "    )\n",
        "    for col in df.columns\n",
        "}"
      ],
      "metadata": {
        "id": "67hvPl4RDYuM"
      },
      "execution_count": 7,
      "outputs": []
    },
    {
      "cell_type": "code",
      "source": [
        "nan_counts"
      ],
      "metadata": {
        "colab": {
          "base_uri": "https://localhost:8080/"
        },
        "id": "xzHK_YnbEEhp",
        "outputId": "036173d3-3f51-49d3-997a-bcd55ea81c8c"
      },
      "execution_count": 8,
      "outputs": [
        {
          "output_type": "execute_result",
          "data": {
            "text/plain": [
              "{'Região': 0,\n",
              " 'País': 0,\n",
              " 'Tipo de Item': 0,\n",
              " 'Canal de Venda': 0,\n",
              " 'Prioridade do Pedido': 0,\n",
              " 'Data do Pedido': 0,\n",
              " 'ID do Pedido': 0,\n",
              " 'Data de Envio': 0,\n",
              " 'Unidades Vendidas': 1,\n",
              " 'Preço Unitário': 1,\n",
              " 'Custo Unitário': 1,\n",
              " 'Receita Total': 1,\n",
              " 'Custo Total': 1,\n",
              " 'Lucro Total': 1}"
            ]
          },
          "metadata": {},
          "execution_count": 8
        }
      ]
    },
    {
      "cell_type": "code",
      "source": [
        "# Verificando valores únicos na coluna \"Região\"\n",
        "df['Região'].unique()"
      ],
      "metadata": {
        "colab": {
          "base_uri": "https://localhost:8080/",
          "height": 317
        },
        "id": "zq98ktEmEKBc",
        "outputId": "582ad800-812e-4d72-8176-c80ba66acc97"
      },
      "execution_count": 9,
      "outputs": [
        {
          "output_type": "execute_result",
          "data": {
            "text/plain": [
              "shape: (7,)\n",
              "Series: 'Região' [str]\n",
              "[\n",
              "\t\"Asia\"\n",
              "\t\"Australia and Oceania\"\n",
              "\t\"Middle East and North Africa\"\n",
              "\t\"Central America and the Caribb…\n",
              "\t\"Sub-Saharan Africa\"\n",
              "\t\"Europe\"\n",
              "\t\"North America\"\n",
              "]"
            ],
            "text/html": [
              "<div><style>\n",
              ".dataframe > thead > tr,\n",
              ".dataframe > tbody > tr {\n",
              "  text-align: right;\n",
              "  white-space: pre-wrap;\n",
              "}\n",
              "</style>\n",
              "<small>shape: (7,)</small><table border=\"1\" class=\"dataframe\"><thead><tr><th>Região</th></tr><tr><td>str</td></tr></thead><tbody><tr><td>&quot;Asia&quot;</td></tr><tr><td>&quot;Australia and Oceania&quot;</td></tr><tr><td>&quot;Middle East and North Africa&quot;</td></tr><tr><td>&quot;Central America and the Caribb…</td></tr><tr><td>&quot;Sub-Saharan Africa&quot;</td></tr><tr><td>&quot;Europe&quot;</td></tr><tr><td>&quot;North America&quot;</td></tr></tbody></table></div>"
            ]
          },
          "metadata": {},
          "execution_count": 9
        }
      ]
    },
    {
      "cell_type": "code",
      "source": [
        "# Filtrando apenas as linhas das regiões \"Europe\" e \"Asia\"\n",
        "df_regions = df.filter((pl.col(\"Região\") == \"Eurupe\") | (pl.col(\"Região\") == \"Asia\"))"
      ],
      "metadata": {
        "id": "EY2fLG4xEO09"
      },
      "execution_count": 10,
      "outputs": []
    },
    {
      "cell_type": "code",
      "source": [
        "df_regions.shape"
      ],
      "metadata": {
        "colab": {
          "base_uri": "https://localhost:8080/"
        },
        "id": "j7eLuFR_EgD2",
        "outputId": "8f0e403f-2e4b-4dcb-b72c-16e06423574d"
      },
      "execution_count": 11,
      "outputs": [
        {
          "output_type": "execute_result",
          "data": {
            "text/plain": [
              "(24731, 14)"
            ]
          },
          "metadata": {},
          "execution_count": 11
        }
      ]
    },
    {
      "cell_type": "code",
      "source": [
        "# Visualizando as 5 primeiras linhas do dataset filtrado\n",
        "df_regions.head()"
      ],
      "metadata": {
        "colab": {
          "base_uri": "https://localhost:8080/",
          "height": 272
        },
        "id": "yJp6GMkzEmKc",
        "outputId": "7db1e13e-225b-4049-9ac7-0a1e20a336b8"
      },
      "execution_count": 12,
      "outputs": [
        {
          "output_type": "execute_result",
          "data": {
            "text/plain": [
              "shape: (5, 14)\n",
              "┌────────┬────────────┬────────────┬───────────┬───┬───────────┬───────────┬───────────┬───────────┐\n",
              "│ Região ┆ País       ┆ Tipo de    ┆ Canal de  ┆ … ┆ Custo     ┆ Receita   ┆ Custo     ┆ Lucro     │\n",
              "│ ---    ┆ ---        ┆ Item       ┆ Venda     ┆   ┆ Unitário  ┆ Total     ┆ Total     ┆ Total     │\n",
              "│ str    ┆ str        ┆ ---        ┆ ---       ┆   ┆ ---       ┆ ---       ┆ ---       ┆ ---       │\n",
              "│        ┆            ┆ str        ┆ str       ┆   ┆ f64       ┆ f64       ┆ f64       ┆ f64       │\n",
              "╞════════╪════════════╪════════════╪═══════════╪═══╪═══════════╪═══════════╪═══════════╪═══════════╡\n",
              "│ Asia   ┆ Bangladesh ┆ Cereal     ┆ Offline   ┆ … ┆ 117.11    ┆ 661531.2  ┆ 376625.76 ┆ 284905.44 │\n",
              "│ Asia   ┆ Kyrgyzstan ┆ Snacks     ┆ Offline   ┆ … ┆ 97.44     ┆ 673793.28 ┆ 430295.04 ┆ 243498.24 │\n",
              "│ Asia   ┆ Bangladesh ┆ Fruits     ┆ Online    ┆ … ┆ 6.92      ┆ 5831.25   ┆ 4325.0    ┆ 1506.25   │\n",
              "│ Asia   ┆ Myanmar    ┆ Vegetables ┆ Offline   ┆ … ┆ 90.93     ┆ 576954.7  ┆ 340532.85 ┆ 236421.85 │\n",
              "│ Asia   ┆ Uzbekistan ┆ Baby Food  ┆ Online    ┆ … ┆ 159.42    ┆ 982828.0  ┆ 613767.0  ┆ 369061.0  │\n",
              "└────────┴────────────┴────────────┴───────────┴───┴───────────┴───────────┴───────────┴───────────┘"
            ],
            "text/html": [
              "<div><style>\n",
              ".dataframe > thead > tr,\n",
              ".dataframe > tbody > tr {\n",
              "  text-align: right;\n",
              "  white-space: pre-wrap;\n",
              "}\n",
              "</style>\n",
              "<small>shape: (5, 14)</small><table border=\"1\" class=\"dataframe\"><thead><tr><th>Região</th><th>País</th><th>Tipo de Item</th><th>Canal de Venda</th><th>Prioridade do Pedido</th><th>Data do Pedido</th><th>ID do Pedido</th><th>Data de Envio</th><th>Unidades Vendidas</th><th>Preço Unitário</th><th>Custo Unitário</th><th>Receita Total</th><th>Custo Total</th><th>Lucro Total</th></tr><tr><td>str</td><td>str</td><td>str</td><td>str</td><td>str</td><td>str</td><td>i64</td><td>str</td><td>f64</td><td>f64</td><td>f64</td><td>f64</td><td>f64</td><td>f64</td></tr></thead><tbody><tr><td>&quot;Asia&quot;</td><td>&quot;Bangladesh&quot;</td><td>&quot;Cereal&quot;</td><td>&quot;Offline&quot;</td><td>&quot;L&quot;</td><td>&quot;12/3/2013&quot;</td><td>132448184</td><td>&quot;1/15/2014&quot;</td><td>3216.0</td><td>205.7</td><td>117.11</td><td>661531.2</td><td>376625.76</td><td>284905.44</td></tr><tr><td>&quot;Asia&quot;</td><td>&quot;Kyrgyzstan&quot;</td><td>&quot;Snacks&quot;</td><td>&quot;Offline&quot;</td><td>&quot;H&quot;</td><td>&quot;11/22/2018&quot;</td><td>766909492</td><td>&quot;12/15/2018&quot;</td><td>4416.0</td><td>152.58</td><td>97.44</td><td>673793.28</td><td>430295.04</td><td>243498.24</td></tr><tr><td>&quot;Asia&quot;</td><td>&quot;Bangladesh&quot;</td><td>&quot;Fruits&quot;</td><td>&quot;Online&quot;</td><td>&quot;L&quot;</td><td>&quot;9/14/2019&quot;</td><td>467966783</td><td>&quot;9/27/2019&quot;</td><td>625.0</td><td>9.33</td><td>6.92</td><td>5831.25</td><td>4325.0</td><td>1506.25</td></tr><tr><td>&quot;Asia&quot;</td><td>&quot;Myanmar&quot;</td><td>&quot;Vegetables&quot;</td><td>&quot;Offline&quot;</td><td>&quot;H&quot;</td><td>&quot;3/28/2016&quot;</td><td>727876698</td><td>&quot;4/19/2016&quot;</td><td>3745.0</td><td>154.06</td><td>90.93</td><td>576954.7</td><td>340532.85</td><td>236421.85</td></tr><tr><td>&quot;Asia&quot;</td><td>&quot;Uzbekistan&quot;</td><td>&quot;Baby Food&quot;</td><td>&quot;Online&quot;</td><td>&quot;L&quot;</td><td>&quot;10/9/2010&quot;</td><td>498357284</td><td>&quot;10/12/2010&quot;</td><td>3850.0</td><td>255.28</td><td>159.42</td><td>982828.0</td><td>613767.0</td><td>369061.0</td></tr></tbody></table></div>"
            ]
          },
          "metadata": {},
          "execution_count": 12
        }
      ]
    },
    {
      "cell_type": "code",
      "source": [
        "# Filtrando agora apenas os dados do país \"Germany\"\n",
        "df = df.filter(df[\"País\"] == \"Germany\")\n",
        "df.head()"
      ],
      "metadata": {
        "colab": {
          "base_uri": "https://localhost:8080/",
          "height": 289
        },
        "id": "lQHQiWAtEo91",
        "outputId": "53450061-de7d-4984-fb7c-19c995858a70"
      },
      "execution_count": 13,
      "outputs": [
        {
          "output_type": "execute_result",
          "data": {
            "text/plain": [
              "shape: (5, 14)\n",
              "┌────────┬─────────┬────────────┬────────────┬───┬────────────┬────────────┬───────────┬───────────┐\n",
              "│ Região ┆ País    ┆ Tipo de    ┆ Canal de   ┆ … ┆ Custo      ┆ Receita    ┆ Custo     ┆ Lucro     │\n",
              "│ ---    ┆ ---     ┆ Item       ┆ Venda      ┆   ┆ Unitário   ┆ Total      ┆ Total     ┆ Total     │\n",
              "│ str    ┆ str     ┆ ---        ┆ ---        ┆   ┆ ---        ┆ ---        ┆ ---       ┆ ---       │\n",
              "│        ┆         ┆ str        ┆ str        ┆   ┆ f64        ┆ f64        ┆ f64       ┆ f64       │\n",
              "╞════════╪═════════╪════════════╪════════════╪═══╪════════════╪════════════╪═══════════╪═══════════╡\n",
              "│ Europe ┆ Germany ┆ Personal   ┆ Offline    ┆ … ┆ 56.67      ┆ 631119.06  ┆ 437605.74 ┆ 193513.32 │\n",
              "│        ┆         ┆ Care       ┆            ┆   ┆            ┆            ┆           ┆           │\n",
              "│ Europe ┆ Germany ┆ Clothes    ┆ Online     ┆ … ┆ 35.84      ┆ 127092.64  ┆ 41681.92  ┆ 85410.72  │\n",
              "│ Europe ┆ Germany ┆ Meat       ┆ Online     ┆ … ┆ 364.69     ┆ 4.1919e6   ┆ 3.6236e6  ┆ 568339.2  │\n",
              "│ Europe ┆ Germany ┆ Cereal     ┆ Online     ┆ … ┆ 117.11     ┆ 1846980.3  ┆ 1.0515e6  ┆ 795449.61 │\n",
              "│ Europe ┆ Germany ┆ Baby Food  ┆ Offline    ┆ … ┆ 159.42     ┆ 527663.76  ┆ 329521.14 ┆ 198142.62 │\n",
              "└────────┴─────────┴────────────┴────────────┴───┴────────────┴────────────┴───────────┴───────────┘"
            ],
            "text/html": [
              "<div><style>\n",
              ".dataframe > thead > tr,\n",
              ".dataframe > tbody > tr {\n",
              "  text-align: right;\n",
              "  white-space: pre-wrap;\n",
              "}\n",
              "</style>\n",
              "<small>shape: (5, 14)</small><table border=\"1\" class=\"dataframe\"><thead><tr><th>Região</th><th>País</th><th>Tipo de Item</th><th>Canal de Venda</th><th>Prioridade do Pedido</th><th>Data do Pedido</th><th>ID do Pedido</th><th>Data de Envio</th><th>Unidades Vendidas</th><th>Preço Unitário</th><th>Custo Unitário</th><th>Receita Total</th><th>Custo Total</th><th>Lucro Total</th></tr><tr><td>str</td><td>str</td><td>str</td><td>str</td><td>str</td><td>str</td><td>i64</td><td>str</td><td>f64</td><td>f64</td><td>f64</td><td>f64</td><td>f64</td><td>f64</td></tr></thead><tbody><tr><td>&quot;Europe&quot;</td><td>&quot;Germany&quot;</td><td>&quot;Personal Care&quot;</td><td>&quot;Offline&quot;</td><td>&quot;H&quot;</td><td>&quot;12/25/2010&quot;</td><td>842548644</td><td>&quot;1/24/2011&quot;</td><td>7722.0</td><td>81.73</td><td>56.67</td><td>631119.06</td><td>437605.74</td><td>193513.32</td></tr><tr><td>&quot;Europe&quot;</td><td>&quot;Germany&quot;</td><td>&quot;Clothes&quot;</td><td>&quot;Online&quot;</td><td>&quot;L&quot;</td><td>&quot;7/1/2011&quot;</td><td>650888288</td><td>&quot;8/18/2011&quot;</td><td>1163.0</td><td>109.28</td><td>35.84</td><td>127092.64</td><td>41681.92</td><td>85410.72</td></tr><tr><td>&quot;Europe&quot;</td><td>&quot;Germany&quot;</td><td>&quot;Meat&quot;</td><td>&quot;Online&quot;</td><td>&quot;H&quot;</td><td>&quot;9/9/2013&quot;</td><td>444275796</td><td>&quot;10/3/2013&quot;</td><td>9936.0</td><td>421.89</td><td>364.69</td><td>4.1919e6</td><td>3.6236e6</td><td>568339.2</td></tr><tr><td>&quot;Europe&quot;</td><td>&quot;Germany&quot;</td><td>&quot;Cereal&quot;</td><td>&quot;Online&quot;</td><td>&quot;M&quot;</td><td>&quot;4/10/2011&quot;</td><td>847790753</td><td>&quot;5/22/2011&quot;</td><td>8979.0</td><td>205.7</td><td>117.11</td><td>1846980.3</td><td>1.0515e6</td><td>795449.61</td></tr><tr><td>&quot;Europe&quot;</td><td>&quot;Germany&quot;</td><td>&quot;Baby Food&quot;</td><td>&quot;Offline&quot;</td><td>&quot;H&quot;</td><td>&quot;6/2/2011&quot;</td><td>817252624</td><td>&quot;6/22/2011&quot;</td><td>2067.0</td><td>255.28</td><td>159.42</td><td>527663.76</td><td>329521.14</td><td>198142.62</td></tr></tbody></table></div>"
            ]
          },
          "metadata": {},
          "execution_count": 13
        }
      ]
    },
    {
      "cell_type": "code",
      "source": [
        "# Converter colunas de data para o formato datetime\n",
        "df = df_regions.with_columns(\n",
        "    pl.col(\"Data do Pedido\").str.strptime(pl.Date, \"%m/%d/%Y\"),\n",
        "    pl.col(\"Data de Envio\").str.strptime(pl.Date, \"%m/%d/%Y\")\n",
        ")\n",
        "\n",
        "df.head()    # visualiza as primeiras linhas para conferir"
      ],
      "metadata": {
        "id": "VvSH4mNJE64J",
        "colab": {
          "base_uri": "https://localhost:8080/",
          "height": 359
        },
        "outputId": "d3e9eff6-de92-47bc-ecea-08284118f2df"
      },
      "execution_count": 14,
      "outputs": [
        {
          "output_type": "execute_result",
          "data": {
            "text/plain": [
              "shape: (5, 14)\n",
              "┌────────┬────────────┬────────────┬───────────┬───┬───────────┬───────────┬───────────┬───────────┐\n",
              "│ Região ┆ País       ┆ Tipo de    ┆ Canal de  ┆ … ┆ Custo     ┆ Receita   ┆ Custo     ┆ Lucro     │\n",
              "│ ---    ┆ ---        ┆ Item       ┆ Venda     ┆   ┆ Unitário  ┆ Total     ┆ Total     ┆ Total     │\n",
              "│ str    ┆ str        ┆ ---        ┆ ---       ┆   ┆ ---       ┆ ---       ┆ ---       ┆ ---       │\n",
              "│        ┆            ┆ str        ┆ str       ┆   ┆ f64       ┆ f64       ┆ f64       ┆ f64       │\n",
              "╞════════╪════════════╪════════════╪═══════════╪═══╪═══════════╪═══════════╪═══════════╪═══════════╡\n",
              "│ Asia   ┆ Bangladesh ┆ Cereal     ┆ Offline   ┆ … ┆ 117.11    ┆ 661531.2  ┆ 376625.76 ┆ 284905.44 │\n",
              "│ Asia   ┆ Kyrgyzstan ┆ Snacks     ┆ Offline   ┆ … ┆ 97.44     ┆ 673793.28 ┆ 430295.04 ┆ 243498.24 │\n",
              "│ Asia   ┆ Bangladesh ┆ Fruits     ┆ Online    ┆ … ┆ 6.92      ┆ 5831.25   ┆ 4325.0    ┆ 1506.25   │\n",
              "│ Asia   ┆ Myanmar    ┆ Vegetables ┆ Offline   ┆ … ┆ 90.93     ┆ 576954.7  ┆ 340532.85 ┆ 236421.85 │\n",
              "│ Asia   ┆ Uzbekistan ┆ Baby Food  ┆ Online    ┆ … ┆ 159.42    ┆ 982828.0  ┆ 613767.0  ┆ 369061.0  │\n",
              "└────────┴────────────┴────────────┴───────────┴───┴───────────┴───────────┴───────────┴───────────┘"
            ],
            "text/html": [
              "<div><style>\n",
              ".dataframe > thead > tr,\n",
              ".dataframe > tbody > tr {\n",
              "  text-align: right;\n",
              "  white-space: pre-wrap;\n",
              "}\n",
              "</style>\n",
              "<small>shape: (5, 14)</small><table border=\"1\" class=\"dataframe\"><thead><tr><th>Região</th><th>País</th><th>Tipo de Item</th><th>Canal de Venda</th><th>Prioridade do Pedido</th><th>Data do Pedido</th><th>ID do Pedido</th><th>Data de Envio</th><th>Unidades Vendidas</th><th>Preço Unitário</th><th>Custo Unitário</th><th>Receita Total</th><th>Custo Total</th><th>Lucro Total</th></tr><tr><td>str</td><td>str</td><td>str</td><td>str</td><td>str</td><td>date</td><td>i64</td><td>date</td><td>f64</td><td>f64</td><td>f64</td><td>f64</td><td>f64</td><td>f64</td></tr></thead><tbody><tr><td>&quot;Asia&quot;</td><td>&quot;Bangladesh&quot;</td><td>&quot;Cereal&quot;</td><td>&quot;Offline&quot;</td><td>&quot;L&quot;</td><td>2013-12-03</td><td>132448184</td><td>2014-01-15</td><td>3216.0</td><td>205.7</td><td>117.11</td><td>661531.2</td><td>376625.76</td><td>284905.44</td></tr><tr><td>&quot;Asia&quot;</td><td>&quot;Kyrgyzstan&quot;</td><td>&quot;Snacks&quot;</td><td>&quot;Offline&quot;</td><td>&quot;H&quot;</td><td>2018-11-22</td><td>766909492</td><td>2018-12-15</td><td>4416.0</td><td>152.58</td><td>97.44</td><td>673793.28</td><td>430295.04</td><td>243498.24</td></tr><tr><td>&quot;Asia&quot;</td><td>&quot;Bangladesh&quot;</td><td>&quot;Fruits&quot;</td><td>&quot;Online&quot;</td><td>&quot;L&quot;</td><td>2019-09-14</td><td>467966783</td><td>2019-09-27</td><td>625.0</td><td>9.33</td><td>6.92</td><td>5831.25</td><td>4325.0</td><td>1506.25</td></tr><tr><td>&quot;Asia&quot;</td><td>&quot;Myanmar&quot;</td><td>&quot;Vegetables&quot;</td><td>&quot;Offline&quot;</td><td>&quot;H&quot;</td><td>2016-03-28</td><td>727876698</td><td>2016-04-19</td><td>3745.0</td><td>154.06</td><td>90.93</td><td>576954.7</td><td>340532.85</td><td>236421.85</td></tr><tr><td>&quot;Asia&quot;</td><td>&quot;Uzbekistan&quot;</td><td>&quot;Baby Food&quot;</td><td>&quot;Online&quot;</td><td>&quot;L&quot;</td><td>2010-10-09</td><td>498357284</td><td>2010-10-12</td><td>3850.0</td><td>255.28</td><td>159.42</td><td>982828.0</td><td>613767.0</td><td>369061.0</td></tr></tbody></table></div>"
            ]
          },
          "metadata": {},
          "execution_count": 14
        }
      ]
    },
    {
      "cell_type": "code",
      "source": [
        "# Criar coluna calculada: duração entre pedido e envio\n",
        "df = df.with_columns(\n",
        "    (pl.col(\"Data de Envio\") - pl.col(\"Data do Pedido\")).alias(\"Tempo de Envio\")\n",
        ")\n",
        "\n",
        "df.head()"
      ],
      "metadata": {
        "colab": {
          "base_uri": "https://localhost:8080/",
          "height": 359
        },
        "id": "eQFJbAEN6Ukw",
        "outputId": "acbb2408-74e1-44a4-dbe6-ebe5bcef47de"
      },
      "execution_count": 15,
      "outputs": [
        {
          "output_type": "execute_result",
          "data": {
            "text/plain": [
              "shape: (5, 15)\n",
              "┌────────┬────────────┬────────────┬───────────┬───┬───────────┬───────────┬───────────┬───────────┐\n",
              "│ Região ┆ País       ┆ Tipo de    ┆ Canal de  ┆ … ┆ Receita   ┆ Custo     ┆ Lucro     ┆ Tempo de  │\n",
              "│ ---    ┆ ---        ┆ Item       ┆ Venda     ┆   ┆ Total     ┆ Total     ┆ Total     ┆ Envio     │\n",
              "│ str    ┆ str        ┆ ---        ┆ ---       ┆   ┆ ---       ┆ ---       ┆ ---       ┆ ---       │\n",
              "│        ┆            ┆ str        ┆ str       ┆   ┆ f64       ┆ f64       ┆ f64       ┆ duration[ │\n",
              "│        ┆            ┆            ┆           ┆   ┆           ┆           ┆           ┆ ms]       │\n",
              "╞════════╪════════════╪════════════╪═══════════╪═══╪═══════════╪═══════════╪═══════════╪═══════════╡\n",
              "│ Asia   ┆ Bangladesh ┆ Cereal     ┆ Offline   ┆ … ┆ 661531.2  ┆ 376625.76 ┆ 284905.44 ┆ 43d       │\n",
              "│ Asia   ┆ Kyrgyzstan ┆ Snacks     ┆ Offline   ┆ … ┆ 673793.28 ┆ 430295.04 ┆ 243498.24 ┆ 23d       │\n",
              "│ Asia   ┆ Bangladesh ┆ Fruits     ┆ Online    ┆ … ┆ 5831.25   ┆ 4325.0    ┆ 1506.25   ┆ 13d       │\n",
              "│ Asia   ┆ Myanmar    ┆ Vegetables ┆ Offline   ┆ … ┆ 576954.7  ┆ 340532.85 ┆ 236421.85 ┆ 22d       │\n",
              "│ Asia   ┆ Uzbekistan ┆ Baby Food  ┆ Online    ┆ … ┆ 982828.0  ┆ 613767.0  ┆ 369061.0  ┆ 3d        │\n",
              "└────────┴────────────┴────────────┴───────────┴───┴───────────┴───────────┴───────────┴───────────┘"
            ],
            "text/html": [
              "<div><style>\n",
              ".dataframe > thead > tr,\n",
              ".dataframe > tbody > tr {\n",
              "  text-align: right;\n",
              "  white-space: pre-wrap;\n",
              "}\n",
              "</style>\n",
              "<small>shape: (5, 15)</small><table border=\"1\" class=\"dataframe\"><thead><tr><th>Região</th><th>País</th><th>Tipo de Item</th><th>Canal de Venda</th><th>Prioridade do Pedido</th><th>Data do Pedido</th><th>ID do Pedido</th><th>Data de Envio</th><th>Unidades Vendidas</th><th>Preço Unitário</th><th>Custo Unitário</th><th>Receita Total</th><th>Custo Total</th><th>Lucro Total</th><th>Tempo de Envio</th></tr><tr><td>str</td><td>str</td><td>str</td><td>str</td><td>str</td><td>date</td><td>i64</td><td>date</td><td>f64</td><td>f64</td><td>f64</td><td>f64</td><td>f64</td><td>f64</td><td>duration[ms]</td></tr></thead><tbody><tr><td>&quot;Asia&quot;</td><td>&quot;Bangladesh&quot;</td><td>&quot;Cereal&quot;</td><td>&quot;Offline&quot;</td><td>&quot;L&quot;</td><td>2013-12-03</td><td>132448184</td><td>2014-01-15</td><td>3216.0</td><td>205.7</td><td>117.11</td><td>661531.2</td><td>376625.76</td><td>284905.44</td><td>43d</td></tr><tr><td>&quot;Asia&quot;</td><td>&quot;Kyrgyzstan&quot;</td><td>&quot;Snacks&quot;</td><td>&quot;Offline&quot;</td><td>&quot;H&quot;</td><td>2018-11-22</td><td>766909492</td><td>2018-12-15</td><td>4416.0</td><td>152.58</td><td>97.44</td><td>673793.28</td><td>430295.04</td><td>243498.24</td><td>23d</td></tr><tr><td>&quot;Asia&quot;</td><td>&quot;Bangladesh&quot;</td><td>&quot;Fruits&quot;</td><td>&quot;Online&quot;</td><td>&quot;L&quot;</td><td>2019-09-14</td><td>467966783</td><td>2019-09-27</td><td>625.0</td><td>9.33</td><td>6.92</td><td>5831.25</td><td>4325.0</td><td>1506.25</td><td>13d</td></tr><tr><td>&quot;Asia&quot;</td><td>&quot;Myanmar&quot;</td><td>&quot;Vegetables&quot;</td><td>&quot;Offline&quot;</td><td>&quot;H&quot;</td><td>2016-03-28</td><td>727876698</td><td>2016-04-19</td><td>3745.0</td><td>154.06</td><td>90.93</td><td>576954.7</td><td>340532.85</td><td>236421.85</td><td>22d</td></tr><tr><td>&quot;Asia&quot;</td><td>&quot;Uzbekistan&quot;</td><td>&quot;Baby Food&quot;</td><td>&quot;Online&quot;</td><td>&quot;L&quot;</td><td>2010-10-09</td><td>498357284</td><td>2010-10-12</td><td>3850.0</td><td>255.28</td><td>159.42</td><td>982828.0</td><td>613767.0</td><td>369061.0</td><td>3d</td></tr></tbody></table></div>"
            ]
          },
          "metadata": {},
          "execution_count": 15
        }
      ]
    },
    {
      "cell_type": "code",
      "source": [
        "import matplotlib.pyplot as plt"
      ],
      "metadata": {
        "id": "Reh2tQOs6wjk"
      },
      "execution_count": 16,
      "outputs": []
    },
    {
      "cell_type": "code",
      "source": [
        "# Filtrar pedidos com prioridade \"H\" (High)\n",
        "filtered_data = df.filter(pl.col(\"Prioridade do Pedido\") == \"H\").to_pandas()\n",
        "# Converter duração para dias inteiros\n",
        "filtered_data['Tempo de Envio (dias)'] = filtered_data['Tempo de Envio'].dt.days\n",
        "\n",
        "# Plotar histograma da distribuição dos dias de envio\n",
        "plt.hist(filtered_data['Tempo de Envio (dias)'], bins=50, edgecolor=\"black\")\n",
        "plt.title(\"Distribuição de Tempo de Envio (Prioridade do Pedido: H)\")\n",
        "plt.xlabel(\"Tempo de Envio (dias)\")\n",
        "plt.ylabel(\"Frequência\")\n",
        "plt.show()"
      ],
      "metadata": {
        "colab": {
          "base_uri": "https://localhost:8080/",
          "height": 472
        },
        "id": "Ez7fww_N60bM",
        "outputId": "210f75fb-d382-4ecb-f697-bef304f49b1e"
      },
      "execution_count": 17,
      "outputs": [
        {
          "output_type": "display_data",
          "data": {
            "text/plain": [
              "<Figure size 640x480 with 1 Axes>"
            ],
            "image/png": "[encoded data removed]"
          },
          "metadata": {}
        }
      ]
    },
    {
      "cell_type": "code",
      "source": [
        "# Filtrar pedidos com prioridade \"L\" (Low)\n",
        "filtered_data = df.filter(pl.col(\"Prioridade do Pedido\") == \"L\").to_pandas()\n",
        "filtered_data['Tempo de Envio (dias)'] = filtered_data['Tempo de Envio'].dt.days\n",
        "\n",
        "# Plotar histograma da distribuição dos dias de envio\n",
        "plt.hist(filtered_data['Tempo de Envio (dias)'], bins=50, edgecolor=\"black\")\n",
        "plt.title(\"Distribuição de Tempo de Envio (Prioridade do Pedido: L)\")\n",
        "plt.xlabel(\"Tempo de Envio (dias)\")\n",
        "plt.ylabel(\"Frequência\")\n",
        "plt.show()"
      ],
      "metadata": {
        "colab": {
          "base_uri": "https://localhost:8080/",
          "height": 472
        },
        "id": "m2kQf0fV7tzA",
        "outputId": "475eac35-6556-49d6-d5db-195116357851"
      },
      "execution_count": 18,
      "outputs": [
        {
          "output_type": "display_data",
          "data": {
            "text/plain": [
              "<Figure size 640x480 with 1 Axes>"
            ],
            "image/png": "[encoded data removed]"
          },
          "metadata": {}
        }
      ]
    },
    {
      "cell_type": "code",
      "source": [
        "df.head()"
      ],
      "metadata": {
        "colab": {
          "base_uri": "https://localhost:8080/",
          "height": 359
        },
        "id": "S1XenJKT8Cp3",
        "outputId": "dc50ae10-fefa-436d-dbdf-e4e86a8c57e7"
      },
      "execution_count": 19,
      "outputs": [
        {
          "output_type": "execute_result",
          "data": {
            "text/plain": [
              "shape: (5, 15)\n",
              "┌────────┬────────────┬────────────┬───────────┬───┬───────────┬───────────┬───────────┬───────────┐\n",
              "│ Região ┆ País       ┆ Tipo de    ┆ Canal de  ┆ … ┆ Receita   ┆ Custo     ┆ Lucro     ┆ Tempo de  │\n",
              "│ ---    ┆ ---        ┆ Item       ┆ Venda     ┆   ┆ Total     ┆ Total     ┆ Total     ┆ Envio     │\n",
              "│ str    ┆ str        ┆ ---        ┆ ---       ┆   ┆ ---       ┆ ---       ┆ ---       ┆ ---       │\n",
              "│        ┆            ┆ str        ┆ str       ┆   ┆ f64       ┆ f64       ┆ f64       ┆ duration[ │\n",
              "│        ┆            ┆            ┆           ┆   ┆           ┆           ┆           ┆ ms]       │\n",
              "╞════════╪════════════╪════════════╪═══════════╪═══╪═══════════╪═══════════╪═══════════╪═══════════╡\n",
              "│ Asia   ┆ Bangladesh ┆ Cereal     ┆ Offline   ┆ … ┆ 661531.2  ┆ 376625.76 ┆ 284905.44 ┆ 43d       │\n",
              "│ Asia   ┆ Kyrgyzstan ┆ Snacks     ┆ Offline   ┆ … ┆ 673793.28 ┆ 430295.04 ┆ 243498.24 ┆ 23d       │\n",
              "│ Asia   ┆ Bangladesh ┆ Fruits     ┆ Online    ┆ … ┆ 5831.25   ┆ 4325.0    ┆ 1506.25   ┆ 13d       │\n",
              "│ Asia   ┆ Myanmar    ┆ Vegetables ┆ Offline   ┆ … ┆ 576954.7  ┆ 340532.85 ┆ 236421.85 ┆ 22d       │\n",
              "│ Asia   ┆ Uzbekistan ┆ Baby Food  ┆ Online    ┆ … ┆ 982828.0  ┆ 613767.0  ┆ 369061.0  ┆ 3d        │\n",
              "└────────┴────────────┴────────────┴───────────┴───┴───────────┴───────────┴───────────┴───────────┘"
            ],
            "text/html": [
              "<div><style>\n",
              ".dataframe > thead > tr,\n",
              ".dataframe > tbody > tr {\n",
              "  text-align: right;\n",
              "  white-space: pre-wrap;\n",
              "}\n",
              "</style>\n",
              "<small>shape: (5, 15)</small><table border=\"1\" class=\"dataframe\"><thead><tr><th>Região</th><th>País</th><th>Tipo de Item</th><th>Canal de Venda</th><th>Prioridade do Pedido</th><th>Data do Pedido</th><th>ID do Pedido</th><th>Data de Envio</th><th>Unidades Vendidas</th><th>Preço Unitário</th><th>Custo Unitário</th><th>Receita Total</th><th>Custo Total</th><th>Lucro Total</th><th>Tempo de Envio</th></tr><tr><td>str</td><td>str</td><td>str</td><td>str</td><td>str</td><td>date</td><td>i64</td><td>date</td><td>f64</td><td>f64</td><td>f64</td><td>f64</td><td>f64</td><td>f64</td><td>duration[ms]</td></tr></thead><tbody><tr><td>&quot;Asia&quot;</td><td>&quot;Bangladesh&quot;</td><td>&quot;Cereal&quot;</td><td>&quot;Offline&quot;</td><td>&quot;L&quot;</td><td>2013-12-03</td><td>132448184</td><td>2014-01-15</td><td>3216.0</td><td>205.7</td><td>117.11</td><td>661531.2</td><td>376625.76</td><td>284905.44</td><td>43d</td></tr><tr><td>&quot;Asia&quot;</td><td>&quot;Kyrgyzstan&quot;</td><td>&quot;Snacks&quot;</td><td>&quot;Offline&quot;</td><td>&quot;H&quot;</td><td>2018-11-22</td><td>766909492</td><td>2018-12-15</td><td>4416.0</td><td>152.58</td><td>97.44</td><td>673793.28</td><td>430295.04</td><td>243498.24</td><td>23d</td></tr><tr><td>&quot;Asia&quot;</td><td>&quot;Bangladesh&quot;</td><td>&quot;Fruits&quot;</td><td>&quot;Online&quot;</td><td>&quot;L&quot;</td><td>2019-09-14</td><td>467966783</td><td>2019-09-27</td><td>625.0</td><td>9.33</td><td>6.92</td><td>5831.25</td><td>4325.0</td><td>1506.25</td><td>13d</td></tr><tr><td>&quot;Asia&quot;</td><td>&quot;Myanmar&quot;</td><td>&quot;Vegetables&quot;</td><td>&quot;Offline&quot;</td><td>&quot;H&quot;</td><td>2016-03-28</td><td>727876698</td><td>2016-04-19</td><td>3745.0</td><td>154.06</td><td>90.93</td><td>576954.7</td><td>340532.85</td><td>236421.85</td><td>22d</td></tr><tr><td>&quot;Asia&quot;</td><td>&quot;Uzbekistan&quot;</td><td>&quot;Baby Food&quot;</td><td>&quot;Online&quot;</td><td>&quot;L&quot;</td><td>2010-10-09</td><td>498357284</td><td>2010-10-12</td><td>3850.0</td><td>255.28</td><td>159.42</td><td>982828.0</td><td>613767.0</td><td>369061.0</td><td>3d</td></tr></tbody></table></div>"
            ]
          },
          "metadata": {},
          "execution_count": 19
        }
      ]
    },
    {
      "cell_type": "code",
      "source": [
        "# Checar valores únicos de prioridade\n",
        "df[\"Prioridade do Pedido\"].unique()"
      ],
      "metadata": {
        "colab": {
          "base_uri": "https://localhost:8080/",
          "height": 223
        },
        "id": "ulrhnX_D8FWK",
        "outputId": "c46325f6-da7a-40b2-8216-a964f99aeb44"
      },
      "execution_count": 20,
      "outputs": [
        {
          "output_type": "execute_result",
          "data": {
            "text/plain": [
              "shape: (4,)\n",
              "Series: 'Prioridade do Pedido' [str]\n",
              "[\n",
              "\t\"H\"\n",
              "\t\"C\"\n",
              "\t\"L\"\n",
              "\t\"M\"\n",
              "]"
            ],
            "text/html": [
              "<div><style>\n",
              ".dataframe > thead > tr,\n",
              ".dataframe > tbody > tr {\n",
              "  text-align: right;\n",
              "  white-space: pre-wrap;\n",
              "}\n",
              "</style>\n",
              "<small>shape: (4,)</small><table border=\"1\" class=\"dataframe\"><thead><tr><th>Prioridade do Pedido</th></tr><tr><td>str</td></tr></thead><tbody><tr><td>&quot;H&quot;</td></tr><tr><td>&quot;C&quot;</td></tr><tr><td>&quot;L&quot;</td></tr><tr><td>&quot;M&quot;</td></tr></tbody></table></div>"
            ]
          },
          "metadata": {},
          "execution_count": 20
        }
      ]
    },
    {
      "cell_type": "code",
      "source": [
        "# Traduzir prioridades para palavras completas\n",
        "df = df.with_columns(\n",
        "    pl.col(\"Prioridade do Pedido\").replace({\n",
        "        \"H\": \"High\",\n",
        "        \"C\": \"Critical\",\n",
        "        \"M\": \"Medium\",\n",
        "        \"L\": \"Low\"\n",
        "    }).alias(\"Prioridade do Pedido\")\n",
        ")"
      ],
      "metadata": {
        "id": "b9DIQLEt8NX8"
      },
      "execution_count": 21,
      "outputs": []
    },
    {
      "cell_type": "code",
      "source": [
        "# Criar coluna de margem de lucro percentual\n",
        "df = df.with_columns(\n",
        "    (df[\"Lucro Total\"] / df[\"Custo Total\"] * 100).alias(\"Margem de Lucro (%)\")\n",
        ")"
      ],
      "metadata": {
        "id": "NVIG7msN8oLB"
      },
      "execution_count": 22,
      "outputs": []
    },
    {
      "cell_type": "code",
      "source": [
        "# Criar coluna \"Tipo de venda\"\n",
        "# Se unidades vendidas > 5000, marca como \"Online\", senão mantém o valor original\n",
        "df = df.with_columns(\n",
        "    pl.when(pl.col(\"Unidades Vendidas\") > 5000)\n",
        "    .then(pl.lit(\"Online\"))\n",
        "    .otherwise(pl.col(\"Canal de Venda\"))\n",
        "    .alias(\"Tipo de Venda\")\n",
        ")"
      ],
      "metadata": {
        "id": "8A6b4F3t89HD"
      },
      "execution_count": 23,
      "outputs": []
    },
    {
      "cell_type": "code",
      "source": [
        "df.head()"
      ],
      "metadata": {
        "colab": {
          "base_uri": "https://localhost:8080/",
          "height": 376
        },
        "id": "D0KATihq9ZrD",
        "outputId": "f0b5d5a8-34d0-4cd4-aff7-7d0a21a6f595"
      },
      "execution_count": 24,
      "outputs": [
        {
          "output_type": "execute_result",
          "data": {
            "text/plain": [
              "shape: (5, 17)\n",
              "┌────────┬────────────┬────────────┬───────────┬───┬───────────┬───────────┬───────────┬───────────┐\n",
              "│ Região ┆ País       ┆ Tipo de    ┆ Canal de  ┆ … ┆ Lucro     ┆ Tempo de  ┆ Margem de ┆ Tipo de   │\n",
              "│ ---    ┆ ---        ┆ Item       ┆ Venda     ┆   ┆ Total     ┆ Envio     ┆ Lucro (%) ┆ Venda     │\n",
              "│ str    ┆ str        ┆ ---        ┆ ---       ┆   ┆ ---       ┆ ---       ┆ ---       ┆ ---       │\n",
              "│        ┆            ┆ str        ┆ str       ┆   ┆ f64       ┆ duration[ ┆ f64       ┆ str       │\n",
              "│        ┆            ┆            ┆           ┆   ┆           ┆ ms]       ┆           ┆           │\n",
              "╞════════╪════════════╪════════════╪═══════════╪═══╪═══════════╪═══════════╪═══════════╪═══════════╡\n",
              "│ Asia   ┆ Bangladesh ┆ Cereal     ┆ Offline   ┆ … ┆ 284905.44 ┆ 43d       ┆ 75.646828 ┆ Offline   │\n",
              "│ Asia   ┆ Kyrgyzstan ┆ Snacks     ┆ Offline   ┆ … ┆ 243498.24 ┆ 23d       ┆ 56.58867  ┆ Offline   │\n",
              "│ Asia   ┆ Bangladesh ┆ Fruits     ┆ Online    ┆ … ┆ 1506.25   ┆ 13d       ┆ 34.82659  ┆ Online    │\n",
              "│ Asia   ┆ Myanmar    ┆ Vegetables ┆ Offline   ┆ … ┆ 236421.85 ┆ 22d       ┆ 69.427032 ┆ Offline   │\n",
              "│ Asia   ┆ Uzbekistan ┆ Baby Food  ┆ Online    ┆ … ┆ 369061.0  ┆ 3d        ┆ 60.130473 ┆ Online    │\n",
              "└────────┴────────────┴────────────┴───────────┴───┴───────────┴───────────┴───────────┴───────────┘"
            ],
            "text/html": [
              "<div><style>\n",
              ".dataframe > thead > tr,\n",
              ".dataframe > tbody > tr {\n",
              "  text-align: right;\n",
              "  white-space: pre-wrap;\n",
              "}\n",
              "</style>\n",
              "<small>shape: (5, 17)</small><table border=\"1\" class=\"dataframe\"><thead><tr><th>Região</th><th>País</th><th>Tipo de Item</th><th>Canal de Venda</th><th>Prioridade do Pedido</th><th>Data do Pedido</th><th>ID do Pedido</th><th>Data de Envio</th><th>Unidades Vendidas</th><th>Preço Unitário</th><th>Custo Unitário</th><th>Receita Total</th><th>Custo Total</th><th>Lucro Total</th><th>Tempo de Envio</th><th>Margem de Lucro (%)</th><th>Tipo de Venda</th></tr><tr><td>str</td><td>str</td><td>str</td><td>str</td><td>str</td><td>date</td><td>i64</td><td>date</td><td>f64</td><td>f64</td><td>f64</td><td>f64</td><td>f64</td><td>f64</td><td>duration[ms]</td><td>f64</td><td>str</td></tr></thead><tbody><tr><td>&quot;Asia&quot;</td><td>&quot;Bangladesh&quot;</td><td>&quot;Cereal&quot;</td><td>&quot;Offline&quot;</td><td>&quot;Low&quot;</td><td>2013-12-03</td><td>132448184</td><td>2014-01-15</td><td>3216.0</td><td>205.7</td><td>117.11</td><td>661531.2</td><td>376625.76</td><td>284905.44</td><td>43d</td><td>75.646828</td><td>&quot;Offline&quot;</td></tr><tr><td>&quot;Asia&quot;</td><td>&quot;Kyrgyzstan&quot;</td><td>&quot;Snacks&quot;</td><td>&quot;Offline&quot;</td><td>&quot;High&quot;</td><td>2018-11-22</td><td>766909492</td><td>2018-12-15</td><td>4416.0</td><td>152.58</td><td>97.44</td><td>673793.28</td><td>430295.04</td><td>243498.24</td><td>23d</td><td>56.58867</td><td>&quot;Offline&quot;</td></tr><tr><td>&quot;Asia&quot;</td><td>&quot;Bangladesh&quot;</td><td>&quot;Fruits&quot;</td><td>&quot;Online&quot;</td><td>&quot;Low&quot;</td><td>2019-09-14</td><td>467966783</td><td>2019-09-27</td><td>625.0</td><td>9.33</td><td>6.92</td><td>5831.25</td><td>4325.0</td><td>1506.25</td><td>13d</td><td>34.82659</td><td>&quot;Online&quot;</td></tr><tr><td>&quot;Asia&quot;</td><td>&quot;Myanmar&quot;</td><td>&quot;Vegetables&quot;</td><td>&quot;Offline&quot;</td><td>&quot;High&quot;</td><td>2016-03-28</td><td>727876698</td><td>2016-04-19</td><td>3745.0</td><td>154.06</td><td>90.93</td><td>576954.7</td><td>340532.85</td><td>236421.85</td><td>22d</td><td>69.427032</td><td>&quot;Offline&quot;</td></tr><tr><td>&quot;Asia&quot;</td><td>&quot;Uzbekistan&quot;</td><td>&quot;Baby Food&quot;</td><td>&quot;Online&quot;</td><td>&quot;Low&quot;</td><td>2010-10-09</td><td>498357284</td><td>2010-10-12</td><td>3850.0</td><td>255.28</td><td>159.42</td><td>982828.0</td><td>613767.0</td><td>369061.0</td><td>3d</td><td>60.130473</td><td>&quot;Online&quot;</td></tr></tbody></table></div>"
            ]
          },
          "metadata": {},
          "execution_count": 24
        }
      ]
    },
    {
      "cell_type": "code",
      "source": [
        "# Selecionar apenas pedidos críticos e ordenar por duração do envio\n",
        "df_critical = df.filter(pl.col(\"Prioridade do Pedido\") == \"Critical\").sort(\"Tempo de Envio\", descending=True)"
      ],
      "metadata": {
        "id": "_cAUa4q0-BUB"
      },
      "execution_count": 25,
      "outputs": []
    },
    {
      "cell_type": "code",
      "source": [
        "# Extrair mês e ano da data do pedido\n",
        "df_critical = df_critical.with_columns(\n",
        "    pl.col(\"Data do Pedido\").dt.month().alias(\"Mês do Pedido\"),\n",
        "    pl.col(\"Data do Pedido\").dt.year().alias(\"Ano do Pedido\")\n",
        ")"
      ],
      "metadata": {
        "id": "FixFMaRW-ad1"
      },
      "execution_count": 26,
      "outputs": []
    },
    {
      "cell_type": "code",
      "source": [
        "df_critical"
      ],
      "metadata": {
        "colab": {
          "base_uri": "https://localhost:8080/",
          "height": 671
        },
        "id": "Q-KhY7UX-2IH",
        "outputId": "90762d0d-d976-433d-8ea0-5a0263f7504d"
      },
      "execution_count": 27,
      "outputs": [
        {
          "output_type": "execute_result",
          "data": {
            "text/plain": [
              "shape: (6_170, 19)\n",
              "┌────────┬───────────────┬───────────────┬──────────┬───┬──────────────┬─────────┬────────┬────────┐\n",
              "│ Região ┆ País          ┆ Tipo de Item  ┆ Canal de ┆ … ┆ Margem de    ┆ Tipo de ┆ Mês do ┆ Ano do │\n",
              "│ ---    ┆ ---           ┆ ---           ┆ Venda    ┆   ┆ Lucro (%)    ┆ Venda   ┆ Pedido ┆ Pedido │\n",
              "│ str    ┆ str           ┆ str           ┆ ---      ┆   ┆ ---          ┆ ---     ┆ ---    ┆ ---    │\n",
              "│        ┆               ┆               ┆ str      ┆   ┆ f64          ┆ str     ┆ i8     ┆ i32    │\n",
              "╞════════╪═══════════════╪═══════════════╪══════════╪═══╪══════════════╪═════════╪════════╪════════╡\n",
              "│ Asia   ┆ Myanmar       ┆ Household     ┆ Online   ┆ … ┆ 32.978469    ┆ Online  ┆ 11     ┆ 2015   │\n",
              "│ Asia   ┆ Malaysia      ┆ Cosmetics     ┆ Online   ┆ … ┆ 66.027418    ┆ Online  ┆ 9      ┆ 2013   │\n",
              "│ Asia   ┆ Taiwan        ┆ Household     ┆ Online   ┆ … ┆ 32.978469    ┆ Online  ┆ 8      ┆ 2010   │\n",
              "│ Asia   ┆ South Korea   ┆ Cosmetics     ┆ Offline  ┆ … ┆ 66.027418    ┆ Offline ┆ 4      ┆ 2015   │\n",
              "│ Asia   ┆ Cambodia      ┆ Clothes       ┆ Online   ┆ … ┆ 204.910714   ┆ Online  ┆ 10     ┆ 2018   │\n",
              "│ …      ┆ …             ┆ …             ┆ …        ┆ … ┆ …            ┆ …       ┆ …      ┆ …      │\n",
              "│ Asia   ┆ Myanmar       ┆ Office        ┆ Offline  ┆ … ┆ 24.049451    ┆ Online  ┆ 2      ┆ 2012   │\n",
              "│        ┆               ┆ Supplies      ┆          ┆   ┆              ┆         ┆        ┆        │\n",
              "│ Asia   ┆ Kazakhstan    ┆ Vegetables    ┆ Offline  ┆ … ┆ 69.427032    ┆ Online  ┆ 6      ┆ 2014   │\n",
              "│ Asia   ┆ Philippines   ┆ Clothes       ┆ Offline  ┆ … ┆ 204.910714   ┆ Offline ┆ 7      ┆ 2014   │\n",
              "│ Asia   ┆ Turkmenistan  ┆ Snacks        ┆ Offline  ┆ … ┆ 56.58867     ┆ Offline ┆ 9      ┆ 2018   │\n",
              "│ Asia   ┆ Indonesia     ┆ Snacks        ┆ Offline  ┆ … ┆ 56.58867     ┆ Offline ┆ 1      ┆ 2010   │\n",
              "└────────┴───────────────┴───────────────┴──────────┴───┴──────────────┴─────────┴────────┴────────┘"
            ],
            "text/html": [
              "<div><style>\n",
              ".dataframe > thead > tr,\n",
              ".dataframe > tbody > tr {\n",
              "  text-align: right;\n",
              "  white-space: pre-wrap;\n",
              "}\n",
              "</style>\n",
              "<small>shape: (6_170, 19)</small><table border=\"1\" class=\"dataframe\"><thead><tr><th>Região</th><th>País</th><th>Tipo de Item</th><th>Canal de Venda</th><th>Prioridade do Pedido</th><th>Data do Pedido</th><th>ID do Pedido</th><th>Data de Envio</th><th>Unidades Vendidas</th><th>Preço Unitário</th><th>Custo Unitário</th><th>Receita Total</th><th>Custo Total</th><th>Lucro Total</th><th>Tempo de Envio</th><th>Margem de Lucro (%)</th><th>Tipo de Venda</th><th>Mês do Pedido</th><th>Ano do Pedido</th></tr><tr><td>str</td><td>str</td><td>str</td><td>str</td><td>str</td><td>date</td><td>i64</td><td>date</td><td>f64</td><td>f64</td><td>f64</td><td>f64</td><td>f64</td><td>f64</td><td>duration[ms]</td><td>f64</td><td>str</td><td>i8</td><td>i32</td></tr></thead><tbody><tr><td>&quot;Asia&quot;</td><td>&quot;Myanmar&quot;</td><td>&quot;Household&quot;</td><td>&quot;Online&quot;</td><td>&quot;Critical&quot;</td><td>2015-11-05</td><td>769704139</td><td>2015-12-25</td><td>1414.0</td><td>668.27</td><td>502.54</td><td>944933.78</td><td>710591.56</td><td>234342.22</td><td>50d</td><td>32.978469</td><td>&quot;Online&quot;</td><td>11</td><td>2015</td></tr><tr><td>&quot;Asia&quot;</td><td>&quot;Malaysia&quot;</td><td>&quot;Cosmetics&quot;</td><td>&quot;Online&quot;</td><td>&quot;Critical&quot;</td><td>2013-09-22</td><td>213717401</td><td>2013-11-11</td><td>2583.0</td><td>437.2</td><td>263.33</td><td>1129287.6</td><td>680181.39</td><td>449106.21</td><td>50d</td><td>66.027418</td><td>&quot;Online&quot;</td><td>9</td><td>2013</td></tr><tr><td>&quot;Asia&quot;</td><td>&quot;Taiwan&quot;</td><td>&quot;Household&quot;</td><td>&quot;Online&quot;</td><td>&quot;Critical&quot;</td><td>2010-08-07</td><td>757053124</td><td>2010-09-26</td><td>7698.0</td><td>668.27</td><td>502.54</td><td>5.1443e6</td><td>3.8686e6</td><td>1.2758e6</td><td>50d</td><td>32.978469</td><td>&quot;Online&quot;</td><td>8</td><td>2010</td></tr><tr><td>&quot;Asia&quot;</td><td>&quot;South Korea&quot;</td><td>&quot;Cosmetics&quot;</td><td>&quot;Offline&quot;</td><td>&quot;Critical&quot;</td><td>2015-04-04</td><td>620443284</td><td>2015-05-24</td><td>1810.0</td><td>437.2</td><td>263.33</td><td>791332.0</td><td>476627.3</td><td>314704.7</td><td>50d</td><td>66.027418</td><td>&quot;Offline&quot;</td><td>4</td><td>2015</td></tr><tr><td>&quot;Asia&quot;</td><td>&quot;Cambodia&quot;</td><td>&quot;Clothes&quot;</td><td>&quot;Online&quot;</td><td>&quot;Critical&quot;</td><td>2018-10-14</td><td>325703275</td><td>2018-12-03</td><td>1692.0</td><td>109.28</td><td>35.84</td><td>184901.76</td><td>60641.28</td><td>124260.48</td><td>50d</td><td>204.910714</td><td>&quot;Online&quot;</td><td>10</td><td>2018</td></tr><tr><td>&hellip;</td><td>&hellip;</td><td>&hellip;</td><td>&hellip;</td><td>&hellip;</td><td>&hellip;</td><td>&hellip;</td><td>&hellip;</td><td>&hellip;</td><td>&hellip;</td><td>&hellip;</td><td>&hellip;</td><td>&hellip;</td><td>&hellip;</td><td>&hellip;</td><td>&hellip;</td><td>&hellip;</td><td>&hellip;</td><td>&hellip;</td></tr><tr><td>&quot;Asia&quot;</td><td>&quot;Myanmar&quot;</td><td>&quot;Office Supplies&quot;</td><td>&quot;Offline&quot;</td><td>&quot;Critical&quot;</td><td>2012-02-11</td><td>563922917</td><td>2012-02-11</td><td>6178.0</td><td>651.21</td><td>524.96</td><td>4.0232e6</td><td>3.2432e6</td><td>779972.5</td><td>0ms</td><td>24.049451</td><td>&quot;Online&quot;</td><td>2</td><td>2012</td></tr><tr><td>&quot;Asia&quot;</td><td>&quot;Kazakhstan&quot;</td><td>&quot;Vegetables&quot;</td><td>&quot;Offline&quot;</td><td>&quot;Critical&quot;</td><td>2014-06-06</td><td>797572505</td><td>2014-06-06</td><td>8283.0</td><td>154.06</td><td>90.93</td><td>1.2761e6</td><td>753173.19</td><td>522905.79</td><td>0ms</td><td>69.427032</td><td>&quot;Online&quot;</td><td>6</td><td>2014</td></tr><tr><td>&quot;Asia&quot;</td><td>&quot;Philippines&quot;</td><td>&quot;Clothes&quot;</td><td>&quot;Offline&quot;</td><td>&quot;Critical&quot;</td><td>2014-07-16</td><td>407143723</td><td>2014-07-16</td><td>1730.0</td><td>109.28</td><td>35.84</td><td>189054.4</td><td>62003.2</td><td>127051.2</td><td>0ms</td><td>204.910714</td><td>&quot;Offline&quot;</td><td>7</td><td>2014</td></tr><tr><td>&quot;Asia&quot;</td><td>&quot;Turkmenistan&quot;</td><td>&quot;Snacks&quot;</td><td>&quot;Offline&quot;</td><td>&quot;Critical&quot;</td><td>2018-09-12</td><td>257611644</td><td>2018-09-12</td><td>1865.0</td><td>152.58</td><td>97.44</td><td>284561.7</td><td>181725.6</td><td>102836.1</td><td>0ms</td><td>56.58867</td><td>&quot;Offline&quot;</td><td>9</td><td>2018</td></tr><tr><td>&quot;Asia&quot;</td><td>&quot;Indonesia&quot;</td><td>&quot;Snacks&quot;</td><td>&quot;Offline&quot;</td><td>&quot;Critical&quot;</td><td>2010-01-11</td><td>151436507</td><td>2010-01-11</td><td>2283.0</td><td>152.58</td><td>97.44</td><td>348340.14</td><td>222455.52</td><td>125884.62</td><td>0ms</td><td>56.58867</td><td>&quot;Offline&quot;</td><td>1</td><td>2010</td></tr></tbody></table></div>"
            ]
          },
          "metadata": {},
          "execution_count": 27
        }
      ]
    },
    {
      "cell_type": "code",
      "source": [
        "# Mapear os meses para estações do ano\n",
        "season_map = {\n",
        "    1: \"Winter\", 2: \"Winter\", 3: \"Spring\",\n",
        "    4: \"Spring\", 5: \"Spring\", 6: \"Summer\",\n",
        "    7: \"Summer\", 8: \"Summer\", 9: \"Fall\",\n",
        "    10: \"Fall\", 11: \"Fall\", 12: \"Winter\"\n",
        "}"
      ],
      "metadata": {
        "id": "6y_jy7QQ-65z"
      },
      "execution_count": 28,
      "outputs": []
    },
    {
      "cell_type": "code",
      "source": [
        "# Substituir o número do mês pela estação correspondente\n",
        "df_critical = df_critical.with_columns(\n",
        "    pl.col(\"Mês do Pedido\").cast(pl.Utf8).replace(season_map).alias(\"Estação\")\n",
        ")"
      ],
      "metadata": {
        "id": "HbCYH8LN_mJw"
      },
      "execution_count": 29,
      "outputs": []
    },
    {
      "cell_type": "code",
      "source": [
        "df_critical.head()"
      ],
      "metadata": {
        "colab": {
          "base_uri": "https://localhost:8080/",
          "height": 396
        },
        "id": "EegIUSwF_8lL",
        "outputId": "c1ceb723-b702-46a9-c811-91c7e2a55227"
      },
      "execution_count": 30,
      "outputs": [
        {
          "output_type": "execute_result",
          "data": {
            "text/plain": [
              "shape: (5, 20)\n",
              "┌────────┬─────────────┬──────────────┬──────────┬───┬─────────┬────────┬────────┬─────────┐\n",
              "│ Região ┆ País        ┆ Tipo de Item ┆ Canal de ┆ … ┆ Tipo de ┆ Mês do ┆ Ano do ┆ Estação │\n",
              "│ ---    ┆ ---         ┆ ---          ┆ Venda    ┆   ┆ Venda   ┆ Pedido ┆ Pedido ┆ ---     │\n",
              "│ str    ┆ str         ┆ str          ┆ ---      ┆   ┆ ---     ┆ ---    ┆ ---    ┆ str     │\n",
              "│        ┆             ┆              ┆ str      ┆   ┆ str     ┆ i8     ┆ i32    ┆         │\n",
              "╞════════╪═════════════╪══════════════╪══════════╪═══╪═════════╪════════╪════════╪═════════╡\n",
              "│ Asia   ┆ Myanmar     ┆ Household    ┆ Online   ┆ … ┆ Online  ┆ 11     ┆ 2015   ┆ Fall    │\n",
              "│ Asia   ┆ Malaysia    ┆ Cosmetics    ┆ Online   ┆ … ┆ Online  ┆ 9      ┆ 2013   ┆ Fall    │\n",
              "│ Asia   ┆ Taiwan      ┆ Household    ┆ Online   ┆ … ┆ Online  ┆ 8      ┆ 2010   ┆ Summer  │\n",
              "│ Asia   ┆ South Korea ┆ Cosmetics    ┆ Offline  ┆ … ┆ Offline ┆ 4      ┆ 2015   ┆ Spring  │\n",
              "│ Asia   ┆ Cambodia    ┆ Clothes      ┆ Online   ┆ … ┆ Online  ┆ 10     ┆ 2018   ┆ Fall    │\n",
              "└────────┴─────────────┴──────────────┴──────────┴───┴─────────┴────────┴────────┴─────────┘"
            ],
            "text/html": [
              "<div><style>\n",
              ".dataframe > thead > tr,\n",
              ".dataframe > tbody > tr {\n",
              "  text-align: right;\n",
              "  white-space: pre-wrap;\n",
              "}\n",
              "</style>\n",
              "<small>shape: (5, 20)</small><table border=\"1\" class=\"dataframe\"><thead><tr><th>Região</th><th>País</th><th>Tipo de Item</th><th>Canal de Venda</th><th>Prioridade do Pedido</th><th>Data do Pedido</th><th>ID do Pedido</th><th>Data de Envio</th><th>Unidades Vendidas</th><th>Preço Unitário</th><th>Custo Unitário</th><th>Receita Total</th><th>Custo Total</th><th>Lucro Total</th><th>Tempo de Envio</th><th>Margem de Lucro (%)</th><th>Tipo de Venda</th><th>Mês do Pedido</th><th>Ano do Pedido</th><th>Estação</th></tr><tr><td>str</td><td>str</td><td>str</td><td>str</td><td>str</td><td>date</td><td>i64</td><td>date</td><td>f64</td><td>f64</td><td>f64</td><td>f64</td><td>f64</td><td>f64</td><td>duration[ms]</td><td>f64</td><td>str</td><td>i8</td><td>i32</td><td>str</td></tr></thead><tbody><tr><td>&quot;Asia&quot;</td><td>&quot;Myanmar&quot;</td><td>&quot;Household&quot;</td><td>&quot;Online&quot;</td><td>&quot;Critical&quot;</td><td>2015-11-05</td><td>769704139</td><td>2015-12-25</td><td>1414.0</td><td>668.27</td><td>502.54</td><td>944933.78</td><td>710591.56</td><td>234342.22</td><td>50d</td><td>32.978469</td><td>&quot;Online&quot;</td><td>11</td><td>2015</td><td>&quot;Fall&quot;</td></tr><tr><td>&quot;Asia&quot;</td><td>&quot;Malaysia&quot;</td><td>&quot;Cosmetics&quot;</td><td>&quot;Online&quot;</td><td>&quot;Critical&quot;</td><td>2013-09-22</td><td>213717401</td><td>2013-11-11</td><td>2583.0</td><td>437.2</td><td>263.33</td><td>1129287.6</td><td>680181.39</td><td>449106.21</td><td>50d</td><td>66.027418</td><td>&quot;Online&quot;</td><td>9</td><td>2013</td><td>&quot;Fall&quot;</td></tr><tr><td>&quot;Asia&quot;</td><td>&quot;Taiwan&quot;</td><td>&quot;Household&quot;</td><td>&quot;Online&quot;</td><td>&quot;Critical&quot;</td><td>2010-08-07</td><td>757053124</td><td>2010-09-26</td><td>7698.0</td><td>668.27</td><td>502.54</td><td>5.1443e6</td><td>3.8686e6</td><td>1.2758e6</td><td>50d</td><td>32.978469</td><td>&quot;Online&quot;</td><td>8</td><td>2010</td><td>&quot;Summer&quot;</td></tr><tr><td>&quot;Asia&quot;</td><td>&quot;South Korea&quot;</td><td>&quot;Cosmetics&quot;</td><td>&quot;Offline&quot;</td><td>&quot;Critical&quot;</td><td>2015-04-04</td><td>620443284</td><td>2015-05-24</td><td>1810.0</td><td>437.2</td><td>263.33</td><td>791332.0</td><td>476627.3</td><td>314704.7</td><td>50d</td><td>66.027418</td><td>&quot;Offline&quot;</td><td>4</td><td>2015</td><td>&quot;Spring&quot;</td></tr><tr><td>&quot;Asia&quot;</td><td>&quot;Cambodia&quot;</td><td>&quot;Clothes&quot;</td><td>&quot;Online&quot;</td><td>&quot;Critical&quot;</td><td>2018-10-14</td><td>325703275</td><td>2018-12-03</td><td>1692.0</td><td>109.28</td><td>35.84</td><td>184901.76</td><td>60641.28</td><td>124260.48</td><td>50d</td><td>204.910714</td><td>&quot;Online&quot;</td><td>10</td><td>2018</td><td>&quot;Fall&quot;</td></tr></tbody></table></div>"
            ]
          },
          "metadata": {},
          "execution_count": 30
        }
      ]
    },
    {
      "cell_type": "code",
      "source": [
        "# Converter para Pandas para facilitar visualizações\n",
        "df_critical_pd = df_critical.to_pandas()\n",
        "\n",
        "# Converter duração para dias inteiros\n",
        "df_critical_pd[\"Dias de Envio\"] = df_critical_pd[\"Tempo de Envio\"].dt.days\n",
        "\n",
        "# Criar listas separadas por estação\n",
        "data = [\n",
        "    df_critical_pd[df_critical_pd[\"Estação\"] == season][\"Dias de Envio\"]\n",
        "    for season in df_critical_pd[\"Estação\"].unique()\n",
        "]"
      ],
      "metadata": {
        "id": "D99LnNkDAGJu"
      },
      "execution_count": 31,
      "outputs": []
    },
    {
      "cell_type": "code",
      "source": [
        "# Definir esquema de cores\n",
        "cores = {\n",
        "    \"box\": \"#00A6FB\",\n",
        "    \"mediana\": \"#FF1E1E\",\n",
        "    \"whiskers\": \"#000000\",\n",
        "    \"caps\": \"#000000\",\n",
        "    \"fliers\": \"#FF4500\"\n",
        "}\n",
        "\n",
        "# Criar o boxplot com as cores definidas\n",
        "bp = plt.boxplot(\n",
        "    data,\n",
        "    vert=False,\n",
        "    patch_artist=True,\n",
        "    labels=df_critical_pd[\"Estação\"].unique(),\n",
        "    boxprops=dict(facecolor=cores[\"box\"], alpha=0.8),\n",
        "    medianprops=dict(color=cores[\"mediana\"], linewidth=1.5),\n",
        "    whiskerprops=dict(color=cores[\"whiskers\"], linewidth=1.5),\n",
        "    capprops=dict(color=cores[\"caps\"], linewidth=1.5),\n",
        "    flierprops=dict(marker=\"o\", markerfacecolor=cores[\"fliers\"], markersize=8)\n",
        ")\n",
        "\n",
        "# Configurações do gráfico\n",
        "plt.title(\"Distribuição de Dias de Entrega por Estação (Pedidos Críticos)\",\n",
        "          fontsize=12, pad=15)\n",
        "plt.xlabel(\"Dias de Entrega\", fontsize=10)\n",
        "plt.ylabel(\"Estação do Ano\", fontsize=10)\n",
        "plt.grid(axis=\"x\", linestyle=\"--\", alpha=0.7)\n",
        "\n",
        "plt.tight_layout()\n",
        "plt.show()"
      ],
      "metadata": {
        "colab": {
          "base_uri": "https://localhost:8080/",
          "height": 543
        },
        "id": "ZDsIi_JZAxYG",
        "outputId": "7d0896af-0f21-4a6d-ff52-24649e62d808"
      },
      "execution_count": 32,
      "outputs": [
        {
          "output_type": "stream",
          "name": "stderr",
          "text": [
            "/tmp/ipython-input-3829101512.py:11: MatplotlibDeprecationWarning: The 'labels' parameter of boxplot() has been renamed 'tick_labels' since Matplotlib 3.9; support for the old name will be dropped in 3.11.\n",
            "  bp = plt.boxplot(\n"
          ]
        },
        {
          "output_type": "display_data",
          "data": {
            "text/plain": [
              "<Figure size 640x480 with 1 Axes>"
            ],
            "image/png": "[encoded data removed]"
          },
          "metadata": {}
        }
      ]
    },
    {
      "cell_type": "code",
      "source": [
        "# Transformações e operações\n",
        "# joins, produto cartesiano e concatenação usando Polars.\n",
        "\n",
        "# Obtendo os valores únicos da coluna\n",
        "itens_unicos = df['Tipo de Item'].unique()\n",
        "\n",
        "# Loop para imprimir cada item único encontrado\n",
        "for item in itens_unicos:\n",
        "    print(item)"
      ],
      "metadata": {
        "colab": {
          "base_uri": "https://localhost:8080/"
        },
        "id": "HdHKFcnLXQMt",
        "outputId": "b845c330-300f-4008-e4dd-bcd086dbde18"
      },
      "execution_count": 33,
      "outputs": [
        {
          "output_type": "stream",
          "name": "stdout",
          "text": [
            "Fruits\n",
            "Office Supplies\n",
            "Cereal\n",
            "Clothes\n",
            "Meat\n",
            "Baby Food\n",
            "Snacks\n",
            "Cosmetics\n",
            "Personal Care\n",
            "Vegetables\n",
            "Household\n",
            "Beverages\n"
          ]
        }
      ]
    },
    {
      "cell_type": "code",
      "source": [
        "# Criando um DataFrame simples apenas com os tipos de item\n",
        "data = {'Tipo de Item': ['Snacks', 'Cereal', 'Office Supplies', 'Household', 'Personal Care',\n",
        "                         'Clothes', 'Cosmetics', 'Vegetables', 'Meat', 'Baby Food', 'Beverages', 'Frutis']}\n",
        "df_simples = pl.DataFrame(data)\n",
        "\n",
        "# Convertendo os itens únicos para lista\n",
        "itens_unicos = df_simples['Tipo de Item'].to_list()\n",
        "\n",
        "# Criando um DataFrame com metas de entrega (dias de envio alvo)\n",
        "delivery_goals = pl.DataFrame({\n",
        "    'Tipo de Item': itens_unicos,\n",
        "    'Dias de Envio Alvo': [5, 7, 10, 8, 6, 9, 7, 3, 4, 5, 6, 2]\n",
        "})"
      ],
      "metadata": {
        "id": "N3kkrfFiX1oG"
      },
      "execution_count": 34,
      "outputs": []
    },
    {
      "cell_type": "code",
      "source": [
        "delivery_goals"
      ],
      "metadata": {
        "colab": {
          "base_uri": "https://localhost:8080/",
          "height": 443
        },
        "id": "_iQ5KFDrYyYK",
        "outputId": "a7a3da28-21ec-441d-ebb5-e486bffa07ef"
      },
      "execution_count": 35,
      "outputs": [
        {
          "output_type": "execute_result",
          "data": {
            "text/plain": [
              "shape: (12, 2)\n",
              "┌─────────────────┬────────────────────┐\n",
              "│ Tipo de Item    ┆ Dias de Envio Alvo │\n",
              "│ ---             ┆ ---                │\n",
              "│ str             ┆ i64                │\n",
              "╞═════════════════╪════════════════════╡\n",
              "│ Snacks          ┆ 5                  │\n",
              "│ Cereal          ┆ 7                  │\n",
              "│ Office Supplies ┆ 10                 │\n",
              "│ Household       ┆ 8                  │\n",
              "│ Personal Care   ┆ 6                  │\n",
              "│ …               ┆ …                  │\n",
              "│ Vegetables      ┆ 3                  │\n",
              "│ Meat            ┆ 4                  │\n",
              "│ Baby Food       ┆ 5                  │\n",
              "│ Beverages       ┆ 6                  │\n",
              "│ Frutis          ┆ 2                  │\n",
              "└─────────────────┴────────────────────┘"
            ],
            "text/html": [
              "<div><style>\n",
              ".dataframe > thead > tr,\n",
              ".dataframe > tbody > tr {\n",
              "  text-align: right;\n",
              "  white-space: pre-wrap;\n",
              "}\n",
              "</style>\n",
              "<small>shape: (12, 2)</small><table border=\"1\" class=\"dataframe\"><thead><tr><th>Tipo de Item</th><th>Dias de Envio Alvo</th></tr><tr><td>str</td><td>i64</td></tr></thead><tbody><tr><td>&quot;Snacks&quot;</td><td>5</td></tr><tr><td>&quot;Cereal&quot;</td><td>7</td></tr><tr><td>&quot;Office Supplies&quot;</td><td>10</td></tr><tr><td>&quot;Household&quot;</td><td>8</td></tr><tr><td>&quot;Personal Care&quot;</td><td>6</td></tr><tr><td>&hellip;</td><td>&hellip;</td></tr><tr><td>&quot;Vegetables&quot;</td><td>3</td></tr><tr><td>&quot;Meat&quot;</td><td>4</td></tr><tr><td>&quot;Baby Food&quot;</td><td>5</td></tr><tr><td>&quot;Beverages&quot;</td><td>6</td></tr><tr><td>&quot;Frutis&quot;</td><td>2</td></tr></tbody></table></div>"
            ]
          },
          "metadata": {},
          "execution_count": 35
        }
      ]
    },
    {
      "cell_type": "code",
      "source": [
        "# Realizando um LEFT JOIN entre o dataset crítico e as metas de entrega\n",
        "# Assim, cada item terá associado seu prazo de envio alvo\n",
        "df_joined = df_critical.join(delivery_goals, on=\"Tipo de Item\", how=\"left\")\n",
        "df_joined"
      ],
      "metadata": {
        "colab": {
          "base_uri": "https://localhost:8080/",
          "height": 688
        },
        "id": "4NxUCO_LY1Vz",
        "outputId": "cd8430bd-ce26-40b5-d770-42aa5181795a"
      },
      "execution_count": 36,
      "outputs": [
        {
          "output_type": "execute_result",
          "data": {
            "text/plain": [
              "shape: (6_170, 21)\n",
              "┌────────┬───────────────┬───────────────┬──────────┬───┬────────┬────────┬─────────┬──────────────┐\n",
              "│ Região ┆ País          ┆ Tipo de Item  ┆ Canal de ┆ … ┆ Mês do ┆ Ano do ┆ Estação ┆ Dias de      │\n",
              "│ ---    ┆ ---           ┆ ---           ┆ Venda    ┆   ┆ Pedido ┆ Pedido ┆ ---     ┆ Envio Alvo   │\n",
              "│ str    ┆ str           ┆ str           ┆ ---      ┆   ┆ ---    ┆ ---    ┆ str     ┆ ---          │\n",
              "│        ┆               ┆               ┆ str      ┆   ┆ i8     ┆ i32    ┆         ┆ i64          │\n",
              "╞════════╪═══════════════╪═══════════════╪══════════╪═══╪════════╪════════╪═════════╪══════════════╡\n",
              "│ Asia   ┆ Myanmar       ┆ Household     ┆ Online   ┆ … ┆ 11     ┆ 2015   ┆ Fall    ┆ 8            │\n",
              "│ Asia   ┆ Malaysia      ┆ Cosmetics     ┆ Online   ┆ … ┆ 9      ┆ 2013   ┆ Fall    ┆ 7            │\n",
              "│ Asia   ┆ Taiwan        ┆ Household     ┆ Online   ┆ … ┆ 8      ┆ 2010   ┆ Summer  ┆ 8            │\n",
              "│ Asia   ┆ South Korea   ┆ Cosmetics     ┆ Offline  ┆ … ┆ 4      ┆ 2015   ┆ Spring  ┆ 7            │\n",
              "│ Asia   ┆ Cambodia      ┆ Clothes       ┆ Online   ┆ … ┆ 10     ┆ 2018   ┆ Fall    ┆ 9            │\n",
              "│ …      ┆ …             ┆ …             ┆ …        ┆ … ┆ …      ┆ …      ┆ …       ┆ …            │\n",
              "│ Asia   ┆ Myanmar       ┆ Office        ┆ Offline  ┆ … ┆ 2      ┆ 2012   ┆ Winter  ┆ 10           │\n",
              "│        ┆               ┆ Supplies      ┆          ┆   ┆        ┆        ┆         ┆              │\n",
              "│ Asia   ┆ Kazakhstan    ┆ Vegetables    ┆ Offline  ┆ … ┆ 6      ┆ 2014   ┆ Summer  ┆ 3            │\n",
              "│ Asia   ┆ Philippines   ┆ Clothes       ┆ Offline  ┆ … ┆ 7      ┆ 2014   ┆ Summer  ┆ 9            │\n",
              "│ Asia   ┆ Turkmenistan  ┆ Snacks        ┆ Offline  ┆ … ┆ 9      ┆ 2018   ┆ Fall    ┆ 5            │\n",
              "│ Asia   ┆ Indonesia     ┆ Snacks        ┆ Offline  ┆ … ┆ 1      ┆ 2010   ┆ Winter  ┆ 5            │\n",
              "└────────┴───────────────┴───────────────┴──────────┴───┴────────┴────────┴─────────┴──────────────┘"
            ],
            "text/html": [
              "<div><style>\n",
              ".dataframe > thead > tr,\n",
              ".dataframe > tbody > tr {\n",
              "  text-align: right;\n",
              "  white-space: pre-wrap;\n",
              "}\n",
              "</style>\n",
              "<small>shape: (6_170, 21)</small><table border=\"1\" class=\"dataframe\"><thead><tr><th>Região</th><th>País</th><th>Tipo de Item</th><th>Canal de Venda</th><th>Prioridade do Pedido</th><th>Data do Pedido</th><th>ID do Pedido</th><th>Data de Envio</th><th>Unidades Vendidas</th><th>Preço Unitário</th><th>Custo Unitário</th><th>Receita Total</th><th>Custo Total</th><th>Lucro Total</th><th>Tempo de Envio</th><th>Margem de Lucro (%)</th><th>Tipo de Venda</th><th>Mês do Pedido</th><th>Ano do Pedido</th><th>Estação</th><th>Dias de Envio Alvo</th></tr><tr><td>str</td><td>str</td><td>str</td><td>str</td><td>str</td><td>date</td><td>i64</td><td>date</td><td>f64</td><td>f64</td><td>f64</td><td>f64</td><td>f64</td><td>f64</td><td>duration[ms]</td><td>f64</td><td>str</td><td>i8</td><td>i32</td><td>str</td><td>i64</td></tr></thead><tbody><tr><td>&quot;Asia&quot;</td><td>&quot;Myanmar&quot;</td><td>&quot;Household&quot;</td><td>&quot;Online&quot;</td><td>&quot;Critical&quot;</td><td>2015-11-05</td><td>769704139</td><td>2015-12-25</td><td>1414.0</td><td>668.27</td><td>502.54</td><td>944933.78</td><td>710591.56</td><td>234342.22</td><td>50d</td><td>32.978469</td><td>&quot;Online&quot;</td><td>11</td><td>2015</td><td>&quot;Fall&quot;</td><td>8</td></tr><tr><td>&quot;Asia&quot;</td><td>&quot;Malaysia&quot;</td><td>&quot;Cosmetics&quot;</td><td>&quot;Online&quot;</td><td>&quot;Critical&quot;</td><td>2013-09-22</td><td>213717401</td><td>2013-11-11</td><td>2583.0</td><td>437.2</td><td>263.33</td><td>1129287.6</td><td>680181.39</td><td>449106.21</td><td>50d</td><td>66.027418</td><td>&quot;Online&quot;</td><td>9</td><td>2013</td><td>&quot;Fall&quot;</td><td>7</td></tr><tr><td>&quot;Asia&quot;</td><td>&quot;Taiwan&quot;</td><td>&quot;Household&quot;</td><td>&quot;Online&quot;</td><td>&quot;Critical&quot;</td><td>2010-08-07</td><td>757053124</td><td>2010-09-26</td><td>7698.0</td><td>668.27</td><td>502.54</td><td>5.1443e6</td><td>3.8686e6</td><td>1.2758e6</td><td>50d</td><td>32.978469</td><td>&quot;Online&quot;</td><td>8</td><td>2010</td><td>&quot;Summer&quot;</td><td>8</td></tr><tr><td>&quot;Asia&quot;</td><td>&quot;South Korea&quot;</td><td>&quot;Cosmetics&quot;</td><td>&quot;Offline&quot;</td><td>&quot;Critical&quot;</td><td>2015-04-04</td><td>620443284</td><td>2015-05-24</td><td>1810.0</td><td>437.2</td><td>263.33</td><td>791332.0</td><td>476627.3</td><td>314704.7</td><td>50d</td><td>66.027418</td><td>&quot;Offline&quot;</td><td>4</td><td>2015</td><td>&quot;Spring&quot;</td><td>7</td></tr><tr><td>&quot;Asia&quot;</td><td>&quot;Cambodia&quot;</td><td>&quot;Clothes&quot;</td><td>&quot;Online&quot;</td><td>&quot;Critical&quot;</td><td>2018-10-14</td><td>325703275</td><td>2018-12-03</td><td>1692.0</td><td>109.28</td><td>35.84</td><td>184901.76</td><td>60641.28</td><td>124260.48</td><td>50d</td><td>204.910714</td><td>&quot;Online&quot;</td><td>10</td><td>2018</td><td>&quot;Fall&quot;</td><td>9</td></tr><tr><td>&hellip;</td><td>&hellip;</td><td>&hellip;</td><td>&hellip;</td><td>&hellip;</td><td>&hellip;</td><td>&hellip;</td><td>&hellip;</td><td>&hellip;</td><td>&hellip;</td><td>&hellip;</td><td>&hellip;</td><td>&hellip;</td><td>&hellip;</td><td>&hellip;</td><td>&hellip;</td><td>&hellip;</td><td>&hellip;</td><td>&hellip;</td><td>&hellip;</td><td>&hellip;</td></tr><tr><td>&quot;Asia&quot;</td><td>&quot;Myanmar&quot;</td><td>&quot;Office Supplies&quot;</td><td>&quot;Offline&quot;</td><td>&quot;Critical&quot;</td><td>2012-02-11</td><td>563922917</td><td>2012-02-11</td><td>6178.0</td><td>651.21</td><td>524.96</td><td>4.0232e6</td><td>3.2432e6</td><td>779972.5</td><td>0ms</td><td>24.049451</td><td>&quot;Online&quot;</td><td>2</td><td>2012</td><td>&quot;Winter&quot;</td><td>10</td></tr><tr><td>&quot;Asia&quot;</td><td>&quot;Kazakhstan&quot;</td><td>&quot;Vegetables&quot;</td><td>&quot;Offline&quot;</td><td>&quot;Critical&quot;</td><td>2014-06-06</td><td>797572505</td><td>2014-06-06</td><td>8283.0</td><td>154.06</td><td>90.93</td><td>1.2761e6</td><td>753173.19</td><td>522905.79</td><td>0ms</td><td>69.427032</td><td>&quot;Online&quot;</td><td>6</td><td>2014</td><td>&quot;Summer&quot;</td><td>3</td></tr><tr><td>&quot;Asia&quot;</td><td>&quot;Philippines&quot;</td><td>&quot;Clothes&quot;</td><td>&quot;Offline&quot;</td><td>&quot;Critical&quot;</td><td>2014-07-16</td><td>407143723</td><td>2014-07-16</td><td>1730.0</td><td>109.28</td><td>35.84</td><td>189054.4</td><td>62003.2</td><td>127051.2</td><td>0ms</td><td>204.910714</td><td>&quot;Offline&quot;</td><td>7</td><td>2014</td><td>&quot;Summer&quot;</td><td>9</td></tr><tr><td>&quot;Asia&quot;</td><td>&quot;Turkmenistan&quot;</td><td>&quot;Snacks&quot;</td><td>&quot;Offline&quot;</td><td>&quot;Critical&quot;</td><td>2018-09-12</td><td>257611644</td><td>2018-09-12</td><td>1865.0</td><td>152.58</td><td>97.44</td><td>284561.7</td><td>181725.6</td><td>102836.1</td><td>0ms</td><td>56.58867</td><td>&quot;Offline&quot;</td><td>9</td><td>2018</td><td>&quot;Fall&quot;</td><td>5</td></tr><tr><td>&quot;Asia&quot;</td><td>&quot;Indonesia&quot;</td><td>&quot;Snacks&quot;</td><td>&quot;Offline&quot;</td><td>&quot;Critical&quot;</td><td>2010-01-11</td><td>151436507</td><td>2010-01-11</td><td>2283.0</td><td>152.58</td><td>97.44</td><td>348340.14</td><td>222455.52</td><td>125884.62</td><td>0ms</td><td>56.58867</td><td>&quot;Offline&quot;</td><td>1</td><td>2010</td><td>&quot;Winter&quot;</td><td>5</td></tr></tbody></table></div>"
            ]
          },
          "metadata": {},
          "execution_count": 36
        }
      ]
    },
    {
      "cell_type": "code",
      "source": [
        "# Produto cartesiano\n",
        "# Criando DataFrame\n",
        "players = pl.DataFrame({\"name\": [\"Alice\", \"Bob\"]})\n",
        "\n",
        "# Criando DataFrame com tokens\n",
        "tokens = pl.DataFrame({\"monopoly_token\": [\"hat\", \"shoe\", \"boat\"]})\n",
        "\n",
        "# Realizando o produto cartesiano entre players e tokens\n",
        "# Cada jogador é combinado com todos os tokens possíveis\n",
        "result = players.join(tokens, how=\"cross\")\n",
        "print(result)"
      ],
      "metadata": {
        "colab": {
          "base_uri": "https://localhost:8080/"
        },
        "id": "dXzyUMXfZNim",
        "outputId": "54dc55ac-c91f-4952-aef1-c4b8f6007e69"
      },
      "execution_count": 37,
      "outputs": [
        {
          "output_type": "stream",
          "name": "stdout",
          "text": [
            "shape: (6, 2)\n",
            "┌───────┬────────────────┐\n",
            "│ name  ┆ monopoly_token │\n",
            "│ ---   ┆ ---            │\n",
            "│ str   ┆ str            │\n",
            "╞═══════╪════════════════╡\n",
            "│ Alice ┆ hat            │\n",
            "│ Alice ┆ shoe           │\n",
            "│ Alice ┆ boat           │\n",
            "│ Bob   ┆ hat            │\n",
            "│ Bob   ┆ shoe           │\n",
            "│ Bob   ┆ boat           │\n",
            "└───────┴────────────────┘\n"
          ]
        }
      ]
    },
    {
      "cell_type": "code",
      "source": [
        "# Produto cartesiano aplicado ao dataset real:\n",
        "# Selecionamos os tipos de item\n",
        "item_types = df_critical.select(\"Tipo de Item\").unique()\n",
        "\n",
        "# Criamos os métodos de entrega disponíveis\n",
        "delivery_methods = pl.DataFrame({\"Método de Entrega\": [\"Stantard\", \"Express\", \"Same Day\"]})\n",
        "\n",
        "# Fazemos o produto cartesiano entre os itens e os métodos\n",
        "cartesian_result = item_types.join(delivery_methods, how=\"cross\")\n",
        "print(cartesian_result)"
      ],
      "metadata": {
        "colab": {
          "base_uri": "https://localhost:8080/"
        },
        "id": "3Xm7RTVmZ3by",
        "outputId": "f4297789-a261-4f3f-bb6f-da408af3555f"
      },
      "execution_count": 38,
      "outputs": [
        {
          "output_type": "stream",
          "name": "stdout",
          "text": [
            "shape: (36, 2)\n",
            "┌─────────────────┬───────────────────┐\n",
            "│ Tipo de Item    ┆ Método de Entrega │\n",
            "│ ---             ┆ ---               │\n",
            "│ str             ┆ str               │\n",
            "╞═════════════════╪═══════════════════╡\n",
            "│ Household       ┆ Stantard          │\n",
            "│ Household       ┆ Express           │\n",
            "│ Household       ┆ Same Day          │\n",
            "│ Office Supplies ┆ Stantard          │\n",
            "│ Office Supplies ┆ Express           │\n",
            "│ …               ┆ …                 │\n",
            "│ Clothes         ┆ Express           │\n",
            "│ Clothes         ┆ Same Day          │\n",
            "│ Beverages       ┆ Stantard          │\n",
            "│ Beverages       ┆ Express           │\n",
            "│ Beverages       ┆ Same Day          │\n",
            "└─────────────────┴───────────────────┘\n"
          ]
        }
      ]
    },
    {
      "cell_type": "code",
      "source": [
        "# Concatenação\n",
        "# Exemplo 1: Concatenação vertical (linhas)\n",
        "sales_europe = pl.DataFrame({\n",
        "    \"Região\": [\"Europe\", \"Europe\"],\n",
        "    \"País\": [\"Germany\", \"France\"],\n",
        "    \"Vendas\": [5000, 700]\n",
        "})\n",
        "\n",
        "sales_asia = pl.DataFrame({\n",
        "    \"Região\": [\"Asia\", \"Asia\"],\n",
        "    \"País\": [\"China\", \"Japan\"],\n",
        "    \"Vendas\": [8000, 6000]\n",
        "})\n",
        "\n",
        "# Juntando os DataFrames um embaixo do outro\n",
        "sales_combined = pl.concat([sales_europe, sales_asia], how=\"vertical\")\n",
        "\n",
        "sales_combined"
      ],
      "metadata": {
        "colab": {
          "base_uri": "https://localhost:8080/",
          "height": 223
        },
        "id": "PLLAYzlCaQZr",
        "outputId": "e356e495-fc42-400f-f3c1-d8cb82f78f9c"
      },
      "execution_count": 39,
      "outputs": [
        {
          "output_type": "execute_result",
          "data": {
            "text/plain": [
              "shape: (4, 3)\n",
              "┌────────┬─────────┬────────┐\n",
              "│ Região ┆ País    ┆ Vendas │\n",
              "│ ---    ┆ ---     ┆ ---    │\n",
              "│ str    ┆ str     ┆ i64    │\n",
              "╞════════╪═════════╪════════╡\n",
              "│ Europe ┆ Germany ┆ 5000   │\n",
              "│ Europe ┆ France  ┆ 700    │\n",
              "│ Asia   ┆ China   ┆ 8000   │\n",
              "│ Asia   ┆ Japan   ┆ 6000   │\n",
              "└────────┴─────────┴────────┘"
            ],
            "text/html": [
              "<div><style>\n",
              ".dataframe > thead > tr,\n",
              ".dataframe > tbody > tr {\n",
              "  text-align: right;\n",
              "  white-space: pre-wrap;\n",
              "}\n",
              "</style>\n",
              "<small>shape: (4, 3)</small><table border=\"1\" class=\"dataframe\"><thead><tr><th>Região</th><th>País</th><th>Vendas</th></tr><tr><td>str</td><td>str</td><td>i64</td></tr></thead><tbody><tr><td>&quot;Europe&quot;</td><td>&quot;Germany&quot;</td><td>5000</td></tr><tr><td>&quot;Europe&quot;</td><td>&quot;France&quot;</td><td>700</td></tr><tr><td>&quot;Asia&quot;</td><td>&quot;China&quot;</td><td>8000</td></tr><tr><td>&quot;Asia&quot;</td><td>&quot;Japan&quot;</td><td>6000</td></tr></tbody></table></div>"
            ]
          },
          "metadata": {},
          "execution_count": 39
        }
      ]
    },
    {
      "cell_type": "code",
      "source": [
        "# Exemplo 2: Concatenação horizontal (colunas)\n",
        "sales_info = pl.DataFrame({\n",
        "    \"País\": [\"Germany\", \"France\", \"China\", \"Japan\"],\n",
        "    \"Vendas\": [5000, 7000, 8000, 6000]\n",
        "})\n",
        "\n",
        "profit_info = pl.DataFrame({\n",
        "    \"Lucro\": [1200, 1500, 2000, 1800]\n",
        "})\n",
        "\n",
        "# Juntando os DataFrames lado a lado (colunas)\n",
        "combined_info = pl.concat([sales_info, profit_info], how=\"horizontal\")\n",
        "\n",
        "combined_info"
      ],
      "metadata": {
        "colab": {
          "base_uri": "https://localhost:8080/",
          "height": 223
        },
        "id": "cmhJdgRfa-br",
        "outputId": "23aa73db-1345-4a9d-fadf-c37594742c7f"
      },
      "execution_count": 40,
      "outputs": [
        {
          "output_type": "execute_result",
          "data": {
            "text/plain": [
              "shape: (4, 3)\n",
              "┌─────────┬────────┬───────┐\n",
              "│ País    ┆ Vendas ┆ Lucro │\n",
              "│ ---     ┆ ---    ┆ ---   │\n",
              "│ str     ┆ i64    ┆ i64   │\n",
              "╞═════════╪════════╪═══════╡\n",
              "│ Germany ┆ 5000   ┆ 1200  │\n",
              "│ France  ┆ 7000   ┆ 1500  │\n",
              "│ China   ┆ 8000   ┆ 2000  │\n",
              "│ Japan   ┆ 6000   ┆ 1800  │\n",
              "└─────────┴────────┴───────┘"
            ],
            "text/html": [
              "<div><style>\n",
              ".dataframe > thead > tr,\n",
              ".dataframe > tbody > tr {\n",
              "  text-align: right;\n",
              "  white-space: pre-wrap;\n",
              "}\n",
              "</style>\n",
              "<small>shape: (4, 3)</small><table border=\"1\" class=\"dataframe\"><thead><tr><th>País</th><th>Vendas</th><th>Lucro</th></tr><tr><td>str</td><td>i64</td><td>i64</td></tr></thead><tbody><tr><td>&quot;Germany&quot;</td><td>5000</td><td>1200</td></tr><tr><td>&quot;France&quot;</td><td>7000</td><td>1500</td></tr><tr><td>&quot;China&quot;</td><td>8000</td><td>2000</td></tr><tr><td>&quot;Japan&quot;</td><td>6000</td><td>1800</td></tr></tbody></table></div>"
            ]
          },
          "metadata": {},
          "execution_count": 40
        }
      ]
    },
    {
      "cell_type": "code",
      "source": [
        "# Exemplo aplicado: metas de entrega\n",
        "delivery_goals = pl.DataFrame({\n",
        "    \"Tipo de Item\": [\"Snacks\", \"Cereal\", \"Office Supplies\"],\n",
        "    \"Dias de Envio Alvo\": [5, 7, 10]\n",
        "})"
      ],
      "metadata": {
        "id": "gku9nK5ybfg7"
      },
      "execution_count": 42,
      "outputs": []
    },
    {
      "cell_type": "code",
      "source": [
        "delivery_goals"
      ],
      "metadata": {
        "colab": {
          "base_uri": "https://localhost:8080/",
          "height": 192
        },
        "id": "lprMnwbXbnxe",
        "outputId": "780623e7-5edf-4013-9a53-e0e68afeafbb"
      },
      "execution_count": 43,
      "outputs": [
        {
          "output_type": "execute_result",
          "data": {
            "text/plain": [
              "shape: (3, 2)\n",
              "┌─────────────────┬────────────────────┐\n",
              "│ Tipo de Item    ┆ Dias de Envio Alvo │\n",
              "│ ---             ┆ ---                │\n",
              "│ str             ┆ i64                │\n",
              "╞═════════════════╪════════════════════╡\n",
              "│ Snacks          ┆ 5                  │\n",
              "│ Cereal          ┆ 7                  │\n",
              "│ Office Supplies ┆ 10                 │\n",
              "└─────────────────┴────────────────────┘"
            ],
            "text/html": [
              "<div><style>\n",
              ".dataframe > thead > tr,\n",
              ".dataframe > tbody > tr {\n",
              "  text-align: right;\n",
              "  white-space: pre-wrap;\n",
              "}\n",
              "</style>\n",
              "<small>shape: (3, 2)</small><table border=\"1\" class=\"dataframe\"><thead><tr><th>Tipo de Item</th><th>Dias de Envio Alvo</th></tr><tr><td>str</td><td>i64</td></tr></thead><tbody><tr><td>&quot;Snacks&quot;</td><td>5</td></tr><tr><td>&quot;Cereal&quot;</td><td>7</td></tr><tr><td>&quot;Office Supplies&quot;</td><td>10</td></tr></tbody></table></div>"
            ]
          },
          "metadata": {},
          "execution_count": 43
        }
      ]
    },
    {
      "cell_type": "code",
      "source": [
        "# Selecionando apenas a coluna \"Dias de envio alvo\"\n",
        "delivery_goals = delivery_goals.select(\"Dias de Envio Alvo\")\n",
        "delivery_goals"
      ],
      "metadata": {
        "colab": {
          "base_uri": "https://localhost:8080/",
          "height": 192
        },
        "id": "gt3WdQjYbx4P",
        "outputId": "dc60ea16-0b82-4d5c-e22e-bb39917cc4d4"
      },
      "execution_count": 44,
      "outputs": [
        {
          "output_type": "execute_result",
          "data": {
            "text/plain": [
              "shape: (3, 1)\n",
              "┌────────────────────┐\n",
              "│ Dias de Envio Alvo │\n",
              "│ ---                │\n",
              "│ i64                │\n",
              "╞════════════════════╡\n",
              "│ 5                  │\n",
              "│ 7                  │\n",
              "│ 10                 │\n",
              "└────────────────────┘"
            ],
            "text/html": [
              "<div><style>\n",
              ".dataframe > thead > tr,\n",
              ".dataframe > tbody > tr {\n",
              "  text-align: right;\n",
              "  white-space: pre-wrap;\n",
              "}\n",
              "</style>\n",
              "<small>shape: (3, 1)</small><table border=\"1\" class=\"dataframe\"><thead><tr><th>Dias de Envio Alvo</th></tr><tr><td>i64</td></tr></thead><tbody><tr><td>5</td></tr><tr><td>7</td></tr><tr><td>10</td></tr></tbody></table></div>"
            ]
          },
          "metadata": {},
          "execution_count": 44
        }
      ]
    },
    {
      "cell_type": "code",
      "source": [
        "# Filtrando os itens desejados do dataset principal\n",
        "filtered_items = df_critical.filter(pl.col(\"Tipo de Item\").is_in([\"Snacks\", \"Cereal\", \"Office Supplies\"]))\n",
        "filtered_items"
      ],
      "metadata": {
        "colab": {
          "base_uri": "https://localhost:8080/",
          "height": 671
        },
        "id": "AWuibfABb4KN",
        "outputId": "cb74bfa2-59c6-450f-9f7a-b8c071708ed0"
      },
      "execution_count": 45,
      "outputs": [
        {
          "output_type": "execute_result",
          "data": {
            "text/plain": [
              "shape: (1_530, 20)\n",
              "┌────────┬──────────────┬──────────┬──────────┬───┬───────────────┬────────┬────────┬─────────┐\n",
              "│ Região ┆ País         ┆ Tipo de  ┆ Canal de ┆ … ┆ Tipo de Venda ┆ Mês do ┆ Ano do ┆ Estação │\n",
              "│ ---    ┆ ---          ┆ Item     ┆ Venda    ┆   ┆ ---           ┆ Pedido ┆ Pedido ┆ ---     │\n",
              "│ str    ┆ str          ┆ ---      ┆ ---      ┆   ┆ str           ┆ ---    ┆ ---    ┆ str     │\n",
              "│        ┆              ┆ str      ┆ str      ┆   ┆               ┆ i8     ┆ i32    ┆         │\n",
              "╞════════╪══════════════╪══════════╪══════════╪═══╪═══════════════╪════════╪════════╪═════════╡\n",
              "│ Asia   ┆ Singapore    ┆ Snacks   ┆ Online   ┆ … ┆ Online        ┆ 12     ┆ 2015   ┆ Winter  │\n",
              "│ Asia   ┆ Thailand     ┆ Snacks   ┆ Online   ┆ … ┆ Online        ┆ 7      ┆ 2017   ┆ Summer  │\n",
              "│ Asia   ┆ Indonesia    ┆ Snacks   ┆ Online   ┆ … ┆ Online        ┆ 1      ┆ 2011   ┆ Winter  │\n",
              "│ Asia   ┆ Laos         ┆ Office   ┆ Online   ┆ … ┆ Online        ┆ 3      ┆ 2013   ┆ Spring  │\n",
              "│        ┆              ┆ Supplies ┆          ┆   ┆               ┆        ┆        ┆         │\n",
              "│ Asia   ┆ Bhutan       ┆ Snacks   ┆ Offline  ┆ … ┆ Offline       ┆ 10     ┆ 2011   ┆ Fall    │\n",
              "│ …      ┆ …            ┆ …        ┆ …        ┆ … ┆ …             ┆ …      ┆ …      ┆ …       │\n",
              "│ Asia   ┆ Kyrgyzstan   ┆ Snacks   ┆ Online   ┆ … ┆ Online        ┆ 4      ┆ 2010   ┆ Spring  │\n",
              "│ Asia   ┆ Japan        ┆ Cereal   ┆ Online   ┆ … ┆ Online        ┆ 3      ┆ 2018   ┆ Spring  │\n",
              "│ Asia   ┆ Myanmar      ┆ Office   ┆ Offline  ┆ … ┆ Online        ┆ 2      ┆ 2012   ┆ Winter  │\n",
              "│        ┆              ┆ Supplies ┆          ┆   ┆               ┆        ┆        ┆         │\n",
              "│ Asia   ┆ Turkmenistan ┆ Snacks   ┆ Offline  ┆ … ┆ Offline       ┆ 9      ┆ 2018   ┆ Fall    │\n",
              "│ Asia   ┆ Indonesia    ┆ Snacks   ┆ Offline  ┆ … ┆ Offline       ┆ 1      ┆ 2010   ┆ Winter  │\n",
              "└────────┴──────────────┴──────────┴──────────┴───┴───────────────┴────────┴────────┴─────────┘"
            ],
            "text/html": [
              "<div><style>\n",
              ".dataframe > thead > tr,\n",
              ".dataframe > tbody > tr {\n",
              "  text-align: right;\n",
              "  white-space: pre-wrap;\n",
              "}\n",
              "</style>\n",
              "<small>shape: (1_530, 20)</small><table border=\"1\" class=\"dataframe\"><thead><tr><th>Região</th><th>País</th><th>Tipo de Item</th><th>Canal de Venda</th><th>Prioridade do Pedido</th><th>Data do Pedido</th><th>ID do Pedido</th><th>Data de Envio</th><th>Unidades Vendidas</th><th>Preço Unitário</th><th>Custo Unitário</th><th>Receita Total</th><th>Custo Total</th><th>Lucro Total</th><th>Tempo de Envio</th><th>Margem de Lucro (%)</th><th>Tipo de Venda</th><th>Mês do Pedido</th><th>Ano do Pedido</th><th>Estação</th></tr><tr><td>str</td><td>str</td><td>str</td><td>str</td><td>str</td><td>date</td><td>i64</td><td>date</td><td>f64</td><td>f64</td><td>f64</td><td>f64</td><td>f64</td><td>f64</td><td>duration[ms]</td><td>f64</td><td>str</td><td>i8</td><td>i32</td><td>str</td></tr></thead><tbody><tr><td>&quot;Asia&quot;</td><td>&quot;Singapore&quot;</td><td>&quot;Snacks&quot;</td><td>&quot;Online&quot;</td><td>&quot;Critical&quot;</td><td>2015-12-08</td><td>609007632</td><td>2016-01-27</td><td>7747.0</td><td>152.58</td><td>97.44</td><td>1.1820e6</td><td>754867.68</td><td>427169.58</td><td>50d</td><td>56.58867</td><td>&quot;Online&quot;</td><td>12</td><td>2015</td><td>&quot;Winter&quot;</td></tr><tr><td>&quot;Asia&quot;</td><td>&quot;Thailand&quot;</td><td>&quot;Snacks&quot;</td><td>&quot;Online&quot;</td><td>&quot;Critical&quot;</td><td>2017-07-29</td><td>251127994</td><td>2017-09-17</td><td>3209.0</td><td>152.58</td><td>97.44</td><td>489629.22</td><td>312684.96</td><td>176944.26</td><td>50d</td><td>56.58867</td><td>&quot;Online&quot;</td><td>7</td><td>2017</td><td>&quot;Summer&quot;</td></tr><tr><td>&quot;Asia&quot;</td><td>&quot;Indonesia&quot;</td><td>&quot;Snacks&quot;</td><td>&quot;Online&quot;</td><td>&quot;Critical&quot;</td><td>2011-01-08</td><td>104704701</td><td>2011-02-27</td><td>3303.0</td><td>152.58</td><td>97.44</td><td>503971.74</td><td>321844.32</td><td>182127.42</td><td>50d</td><td>56.58867</td><td>&quot;Online&quot;</td><td>1</td><td>2011</td><td>&quot;Winter&quot;</td></tr><tr><td>&quot;Asia&quot;</td><td>&quot;Laos&quot;</td><td>&quot;Office Supplies&quot;</td><td>&quot;Online&quot;</td><td>&quot;Critical&quot;</td><td>2013-03-25</td><td>499994933</td><td>2013-05-14</td><td>8467.0</td><td>651.21</td><td>524.96</td><td>5.5138e6</td><td>4.4448e6</td><td>1.0690e6</td><td>50d</td><td>24.049451</td><td>&quot;Online&quot;</td><td>3</td><td>2013</td><td>&quot;Spring&quot;</td></tr><tr><td>&quot;Asia&quot;</td><td>&quot;Bhutan&quot;</td><td>&quot;Snacks&quot;</td><td>&quot;Offline&quot;</td><td>&quot;Critical&quot;</td><td>2011-10-17</td><td>605949056</td><td>2011-12-06</td><td>2646.0</td><td>152.58</td><td>97.44</td><td>403726.68</td><td>257826.24</td><td>145900.44</td><td>50d</td><td>56.58867</td><td>&quot;Offline&quot;</td><td>10</td><td>2011</td><td>&quot;Fall&quot;</td></tr><tr><td>&hellip;</td><td>&hellip;</td><td>&hellip;</td><td>&hellip;</td><td>&hellip;</td><td>&hellip;</td><td>&hellip;</td><td>&hellip;</td><td>&hellip;</td><td>&hellip;</td><td>&hellip;</td><td>&hellip;</td><td>&hellip;</td><td>&hellip;</td><td>&hellip;</td><td>&hellip;</td><td>&hellip;</td><td>&hellip;</td><td>&hellip;</td><td>&hellip;</td></tr><tr><td>&quot;Asia&quot;</td><td>&quot;Kyrgyzstan&quot;</td><td>&quot;Snacks&quot;</td><td>&quot;Online&quot;</td><td>&quot;Critical&quot;</td><td>2010-04-22</td><td>417228400</td><td>2010-04-22</td><td>6010.0</td><td>152.58</td><td>97.44</td><td>917005.8</td><td>585614.4</td><td>331391.4</td><td>0ms</td><td>56.58867</td><td>&quot;Online&quot;</td><td>4</td><td>2010</td><td>&quot;Spring&quot;</td></tr><tr><td>&quot;Asia&quot;</td><td>&quot;Japan&quot;</td><td>&quot;Cereal&quot;</td><td>&quot;Online&quot;</td><td>&quot;Critical&quot;</td><td>2018-03-22</td><td>542945039</td><td>2018-03-22</td><td>8357.0</td><td>205.7</td><td>117.11</td><td>1719034.9</td><td>978688.27</td><td>740346.63</td><td>0ms</td><td>75.646828</td><td>&quot;Online&quot;</td><td>3</td><td>2018</td><td>&quot;Spring&quot;</td></tr><tr><td>&quot;Asia&quot;</td><td>&quot;Myanmar&quot;</td><td>&quot;Office Supplies&quot;</td><td>&quot;Offline&quot;</td><td>&quot;Critical&quot;</td><td>2012-02-11</td><td>563922917</td><td>2012-02-11</td><td>6178.0</td><td>651.21</td><td>524.96</td><td>4.0232e6</td><td>3.2432e6</td><td>779972.5</td><td>0ms</td><td>24.049451</td><td>&quot;Online&quot;</td><td>2</td><td>2012</td><td>&quot;Winter&quot;</td></tr><tr><td>&quot;Asia&quot;</td><td>&quot;Turkmenistan&quot;</td><td>&quot;Snacks&quot;</td><td>&quot;Offline&quot;</td><td>&quot;Critical&quot;</td><td>2018-09-12</td><td>257611644</td><td>2018-09-12</td><td>1865.0</td><td>152.58</td><td>97.44</td><td>284561.7</td><td>181725.6</td><td>102836.1</td><td>0ms</td><td>56.58867</td><td>&quot;Offline&quot;</td><td>9</td><td>2018</td><td>&quot;Fall&quot;</td></tr><tr><td>&quot;Asia&quot;</td><td>&quot;Indonesia&quot;</td><td>&quot;Snacks&quot;</td><td>&quot;Offline&quot;</td><td>&quot;Critical&quot;</td><td>2010-01-11</td><td>151436507</td><td>2010-01-11</td><td>2283.0</td><td>152.58</td><td>97.44</td><td>348340.14</td><td>222455.52</td><td>125884.62</td><td>0ms</td><td>56.58867</td><td>&quot;Offline&quot;</td><td>1</td><td>2010</td><td>&quot;Winter&quot;</td></tr></tbody></table></div>"
            ]
          },
          "metadata": {},
          "execution_count": 45
        }
      ]
    },
    {
      "cell_type": "code",
      "source": [
        "# Concatenando horizontalmente para adicionar os dias de envio ao dataset filtrado\n",
        "combined_data = pl.concat([filtered_items, delivery_goals], how=\"horizontal\")\n",
        "combined_data"
      ],
      "metadata": {
        "colab": {
          "base_uri": "https://localhost:8080/",
          "height": 688
        },
        "id": "CTyBVKdLc06T",
        "outputId": "57fa87a1-8e6f-4e65-ce41-a000dae07070"
      },
      "execution_count": 46,
      "outputs": [
        {
          "output_type": "execute_result",
          "data": {
            "text/plain": [
              "shape: (1_530, 21)\n",
              "┌────────┬──────────────┬──────────┬──────────┬───┬────────┬────────┬─────────┬────────────────────┐\n",
              "│ Região ┆ País         ┆ Tipo de  ┆ Canal de ┆ … ┆ Mês do ┆ Ano do ┆ Estação ┆ Dias de Envio Alvo │\n",
              "│ ---    ┆ ---          ┆ Item     ┆ Venda    ┆   ┆ Pedido ┆ Pedido ┆ ---     ┆ ---                │\n",
              "│ str    ┆ str          ┆ ---      ┆ ---      ┆   ┆ ---    ┆ ---    ┆ str     ┆ i64                │\n",
              "│        ┆              ┆ str      ┆ str      ┆   ┆ i8     ┆ i32    ┆         ┆                    │\n",
              "╞════════╪══════════════╪══════════╪══════════╪═══╪════════╪════════╪═════════╪════════════════════╡\n",
              "│ Asia   ┆ Singapore    ┆ Snacks   ┆ Online   ┆ … ┆ 12     ┆ 2015   ┆ Winter  ┆ 5                  │\n",
              "│ Asia   ┆ Thailand     ┆ Snacks   ┆ Online   ┆ … ┆ 7      ┆ 2017   ┆ Summer  ┆ 7                  │\n",
              "│ Asia   ┆ Indonesia    ┆ Snacks   ┆ Online   ┆ … ┆ 1      ┆ 2011   ┆ Winter  ┆ 10                 │\n",
              "│ Asia   ┆ Laos         ┆ Office   ┆ Online   ┆ … ┆ 3      ┆ 2013   ┆ Spring  ┆ null               │\n",
              "│        ┆              ┆ Supplies ┆          ┆   ┆        ┆        ┆         ┆                    │\n",
              "│ Asia   ┆ Bhutan       ┆ Snacks   ┆ Offline  ┆ … ┆ 10     ┆ 2011   ┆ Fall    ┆ null               │\n",
              "│ …      ┆ …            ┆ …        ┆ …        ┆ … ┆ …      ┆ …      ┆ …       ┆ …                  │\n",
              "│ Asia   ┆ Kyrgyzstan   ┆ Snacks   ┆ Online   ┆ … ┆ 4      ┆ 2010   ┆ Spring  ┆ null               │\n",
              "│ Asia   ┆ Japan        ┆ Cereal   ┆ Online   ┆ … ┆ 3      ┆ 2018   ┆ Spring  ┆ null               │\n",
              "│ Asia   ┆ Myanmar      ┆ Office   ┆ Offline  ┆ … ┆ 2      ┆ 2012   ┆ Winter  ┆ null               │\n",
              "│        ┆              ┆ Supplies ┆          ┆   ┆        ┆        ┆         ┆                    │\n",
              "│ Asia   ┆ Turkmenistan ┆ Snacks   ┆ Offline  ┆ … ┆ 9      ┆ 2018   ┆ Fall    ┆ null               │\n",
              "│ Asia   ┆ Indonesia    ┆ Snacks   ┆ Offline  ┆ … ┆ 1      ┆ 2010   ┆ Winter  ┆ null               │\n",
              "└────────┴──────────────┴──────────┴──────────┴───┴────────┴────────┴─────────┴────────────────────┘"
            ],
            "text/html": [
              "<div><style>\n",
              ".dataframe > thead > tr,\n",
              ".dataframe > tbody > tr {\n",
              "  text-align: right;\n",
              "  white-space: pre-wrap;\n",
              "}\n",
              "</style>\n",
              "<small>shape: (1_530, 21)</small><table border=\"1\" class=\"dataframe\"><thead><tr><th>Região</th><th>País</th><th>Tipo de Item</th><th>Canal de Venda</th><th>Prioridade do Pedido</th><th>Data do Pedido</th><th>ID do Pedido</th><th>Data de Envio</th><th>Unidades Vendidas</th><th>Preço Unitário</th><th>Custo Unitário</th><th>Receita Total</th><th>Custo Total</th><th>Lucro Total</th><th>Tempo de Envio</th><th>Margem de Lucro (%)</th><th>Tipo de Venda</th><th>Mês do Pedido</th><th>Ano do Pedido</th><th>Estação</th><th>Dias de Envio Alvo</th></tr><tr><td>str</td><td>str</td><td>str</td><td>str</td><td>str</td><td>date</td><td>i64</td><td>date</td><td>f64</td><td>f64</td><td>f64</td><td>f64</td><td>f64</td><td>f64</td><td>duration[ms]</td><td>f64</td><td>str</td><td>i8</td><td>i32</td><td>str</td><td>i64</td></tr></thead><tbody><tr><td>&quot;Asia&quot;</td><td>&quot;Singapore&quot;</td><td>&quot;Snacks&quot;</td><td>&quot;Online&quot;</td><td>&quot;Critical&quot;</td><td>2015-12-08</td><td>609007632</td><td>2016-01-27</td><td>7747.0</td><td>152.58</td><td>97.44</td><td>1.1820e6</td><td>754867.68</td><td>427169.58</td><td>50d</td><td>56.58867</td><td>&quot;Online&quot;</td><td>12</td><td>2015</td><td>&quot;Winter&quot;</td><td>5</td></tr><tr><td>&quot;Asia&quot;</td><td>&quot;Thailand&quot;</td><td>&quot;Snacks&quot;</td><td>&quot;Online&quot;</td><td>&quot;Critical&quot;</td><td>2017-07-29</td><td>251127994</td><td>2017-09-17</td><td>3209.0</td><td>152.58</td><td>97.44</td><td>489629.22</td><td>312684.96</td><td>176944.26</td><td>50d</td><td>56.58867</td><td>&quot;Online&quot;</td><td>7</td><td>2017</td><td>&quot;Summer&quot;</td><td>7</td></tr><tr><td>&quot;Asia&quot;</td><td>&quot;Indonesia&quot;</td><td>&quot;Snacks&quot;</td><td>&quot;Online&quot;</td><td>&quot;Critical&quot;</td><td>2011-01-08</td><td>104704701</td><td>2011-02-27</td><td>3303.0</td><td>152.58</td><td>97.44</td><td>503971.74</td><td>321844.32</td><td>182127.42</td><td>50d</td><td>56.58867</td><td>&quot;Online&quot;</td><td>1</td><td>2011</td><td>&quot;Winter&quot;</td><td>10</td></tr><tr><td>&quot;Asia&quot;</td><td>&quot;Laos&quot;</td><td>&quot;Office Supplies&quot;</td><td>&quot;Online&quot;</td><td>&quot;Critical&quot;</td><td>2013-03-25</td><td>499994933</td><td>2013-05-14</td><td>8467.0</td><td>651.21</td><td>524.96</td><td>5.5138e6</td><td>4.4448e6</td><td>1.0690e6</td><td>50d</td><td>24.049451</td><td>&quot;Online&quot;</td><td>3</td><td>2013</td><td>&quot;Spring&quot;</td><td>null</td></tr><tr><td>&quot;Asia&quot;</td><td>&quot;Bhutan&quot;</td><td>&quot;Snacks&quot;</td><td>&quot;Offline&quot;</td><td>&quot;Critical&quot;</td><td>2011-10-17</td><td>605949056</td><td>2011-12-06</td><td>2646.0</td><td>152.58</td><td>97.44</td><td>403726.68</td><td>257826.24</td><td>145900.44</td><td>50d</td><td>56.58867</td><td>&quot;Offline&quot;</td><td>10</td><td>2011</td><td>&quot;Fall&quot;</td><td>null</td></tr><tr><td>&hellip;</td><td>&hellip;</td><td>&hellip;</td><td>&hellip;</td><td>&hellip;</td><td>&hellip;</td><td>&hellip;</td><td>&hellip;</td><td>&hellip;</td><td>&hellip;</td><td>&hellip;</td><td>&hellip;</td><td>&hellip;</td><td>&hellip;</td><td>&hellip;</td><td>&hellip;</td><td>&hellip;</td><td>&hellip;</td><td>&hellip;</td><td>&hellip;</td><td>&hellip;</td></tr><tr><td>&quot;Asia&quot;</td><td>&quot;Kyrgyzstan&quot;</td><td>&quot;Snacks&quot;</td><td>&quot;Online&quot;</td><td>&quot;Critical&quot;</td><td>2010-04-22</td><td>417228400</td><td>2010-04-22</td><td>6010.0</td><td>152.58</td><td>97.44</td><td>917005.8</td><td>585614.4</td><td>331391.4</td><td>0ms</td><td>56.58867</td><td>&quot;Online&quot;</td><td>4</td><td>2010</td><td>&quot;Spring&quot;</td><td>null</td></tr><tr><td>&quot;Asia&quot;</td><td>&quot;Japan&quot;</td><td>&quot;Cereal&quot;</td><td>&quot;Online&quot;</td><td>&quot;Critical&quot;</td><td>2018-03-22</td><td>542945039</td><td>2018-03-22</td><td>8357.0</td><td>205.7</td><td>117.11</td><td>1719034.9</td><td>978688.27</td><td>740346.63</td><td>0ms</td><td>75.646828</td><td>&quot;Online&quot;</td><td>3</td><td>2018</td><td>&quot;Spring&quot;</td><td>null</td></tr><tr><td>&quot;Asia&quot;</td><td>&quot;Myanmar&quot;</td><td>&quot;Office Supplies&quot;</td><td>&quot;Offline&quot;</td><td>&quot;Critical&quot;</td><td>2012-02-11</td><td>563922917</td><td>2012-02-11</td><td>6178.0</td><td>651.21</td><td>524.96</td><td>4.0232e6</td><td>3.2432e6</td><td>779972.5</td><td>0ms</td><td>24.049451</td><td>&quot;Online&quot;</td><td>2</td><td>2012</td><td>&quot;Winter&quot;</td><td>null</td></tr><tr><td>&quot;Asia&quot;</td><td>&quot;Turkmenistan&quot;</td><td>&quot;Snacks&quot;</td><td>&quot;Offline&quot;</td><td>&quot;Critical&quot;</td><td>2018-09-12</td><td>257611644</td><td>2018-09-12</td><td>1865.0</td><td>152.58</td><td>97.44</td><td>284561.7</td><td>181725.6</td><td>102836.1</td><td>0ms</td><td>56.58867</td><td>&quot;Offline&quot;</td><td>9</td><td>2018</td><td>&quot;Fall&quot;</td><td>null</td></tr><tr><td>&quot;Asia&quot;</td><td>&quot;Indonesia&quot;</td><td>&quot;Snacks&quot;</td><td>&quot;Offline&quot;</td><td>&quot;Critical&quot;</td><td>2010-01-11</td><td>151436507</td><td>2010-01-11</td><td>2283.0</td><td>152.58</td><td>97.44</td><td>348340.14</td><td>222455.52</td><td>125884.62</td><td>0ms</td><td>56.58867</td><td>&quot;Offline&quot;</td><td>1</td><td>2010</td><td>&quot;Winter&quot;</td><td>null</td></tr></tbody></table></div>"
            ]
          },
          "metadata": {},
          "execution_count": 46
        }
      ]
    },
    {
      "cell_type": "code",
      "source": [],
      "metadata": {
        "id": "CDmMe0JOdB3P"
      },
      "execution_count": null,
      "outputs": []
    }
  ]
}